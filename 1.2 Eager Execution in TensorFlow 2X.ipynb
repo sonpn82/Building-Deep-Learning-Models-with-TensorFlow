{
    "cells": [
        {
            "cell_type": "markdown",
            "source": [
                "# IBM Developer Skills Network"
            ],
            "metadata": {}
        },
        {
            "cell_type": "markdown",
            "source": [
                "# Eager Execution in TensorFlow 2X"
            ],
            "metadata": {}
        },
        {
            "cell_type": "code",
            "execution_count": 1,
            "source": [
                "import tensorflow as tf\r\n",
                "print(tf.__version__)"
            ],
            "outputs": [
                {
                    "output_type": "stream",
                    "name": "stdout",
                    "text": [
                        "2.3.0\n"
                    ]
                }
            ],
            "metadata": {}
        },
        {
            "cell_type": "markdown",
            "source": [
                "#  Eager Execution"
            ],
            "metadata": {}
        },
        {
            "cell_type": "markdown",
            "source": [
                "TensorFlow's **eager execution** is an imperative programming environment that evaluates operations immediately, without building graphs, operations return concrete values instead of constructing a computational graph to run later. This makes it easy to get started with TensorFlow and debug models.\r\n"
            ],
            "metadata": {}
        },
        {
            "cell_type": "markdown",
            "source": [
                "With **TensorFlow 2.x**, **Eager Execution is enabled by default**. This allows TensorFlow code to be executed and evaluated line by line. Before version 2.x was released, every graph had to be run wihthin a TensorFlow **session**. This only allowed for the entire graph to be run all at once. This made it hard to debug the computation graph.\r\n"
            ],
            "metadata": {}
        },
        {
            "cell_type": "markdown",
            "source": [
                "Eager execution is a flexible machine learning platform for research and experimentation, providing:\r\n",
                "\r\n",
                "*   **An intuitive interface**-Structure your code naturally and use Python data structures. Quickly iterate on small models and   small data.\r\n",
                "\r\n",
                "*   **Easier debugging**- Execute operations directly to inspect code line by line and test changes. Use standard Python debugging tools for immediate error reporting.\r\n",
                "\r\n",
                "*   **Natural control flow**—Use Python control flow instead of graph control flow, simplifying the specification of dynamic models.\r\n"
            ],
            "metadata": {}
        },
        {
            "cell_type": "markdown",
            "source": [
                "As I mentioned above, in **Tensorflow 2.x**, eager execution is enabled by default. To verify that please run the below code.\r\n"
            ],
            "metadata": {}
        },
        {
            "cell_type": "code",
            "execution_count": 2,
            "source": [
                "tf.executing_eagerly()"
            ],
            "outputs": [
                {
                    "output_type": "execute_result",
                    "data": {
                        "text/plain": [
                            "True"
                        ]
                    },
                    "metadata": {},
                    "execution_count": 2
                }
            ],
            "metadata": {}
        },
        {
            "cell_type": "markdown",
            "source": [
                "# Tensorflow operations without Eager Execution mode"
            ],
            "metadata": {}
        },
        {
            "cell_type": "code",
            "execution_count": 4,
            "source": [
                "from tensorflow.python.framework.ops import disable_eager_execution\r\n",
                "disable_eager_execution()"
            ],
            "outputs": [],
            "metadata": {}
        },
        {
            "cell_type": "markdown",
            "source": [
                "#### Note: This function can only be called at the beginning before any Graphs, Ops, or Tensors have been  created."
            ],
            "metadata": {}
        },
        {
            "cell_type": "code",
            "execution_count": 5,
            "source": [
                "tf.executing_eagerly()"
            ],
            "outputs": [
                {
                    "output_type": "execute_result",
                    "data": {
                        "text/plain": [
                            "False"
                        ]
                    },
                    "metadata": {},
                    "execution_count": 5
                }
            ],
            "metadata": {}
        },
        {
            "cell_type": "code",
            "execution_count": 6,
            "source": [
                "import numpy as np\r\n",
                "a = tf.constant(np.array([1.0,2.0,3.0]))\r\n",
                "type(a)"
            ],
            "outputs": [
                {
                    "output_type": "execute_result",
                    "data": {
                        "text/plain": [
                            "tensorflow.python.framework.ops.Tensor"
                        ]
                    },
                    "metadata": {},
                    "execution_count": 6
                }
            ],
            "metadata": {}
        },
        {
            "cell_type": "code",
            "execution_count": 7,
            "source": [
                "# Create another tensor b and apply the dot product\r\n",
                "b = tf.constant(np.array([4.0, 5.0, 6.0]))\r\n",
                "c = tf.tensordot(a, b, 1)\r\n",
                "type(c)"
            ],
            "outputs": [
                {
                    "output_type": "execute_result",
                    "data": {
                        "text/plain": [
                            "tensorflow.python.framework.ops.Tensor"
                        ]
                    },
                    "metadata": {},
                    "execution_count": 7
                }
            ],
            "metadata": {}
        },
        {
            "cell_type": "code",
            "execution_count": 8,
            "source": [
                "print(c)"
            ],
            "outputs": [
                {
                    "output_type": "stream",
                    "name": "stdout",
                    "text": [
                        "Tensor(\"Tensordot:0\", shape=(), dtype=float64)\n"
                    ]
                }
            ],
            "metadata": {}
        },
        {
            "cell_type": "markdown",
            "source": [
                "Note that **c** is a **tensorflow.python.framework.ops.Tensor** as well. So any node of the execution graph resembles a Tensor type. <br> **But so far not a single computation happened**. You need to execute the graph. You can pass any graph or subgraph to the TensorFlow runtime for execution. <br> Each TensorFlow graph runs within a TensorFlow Session, therefore we need to create it first:\r\n"
            ],
            "metadata": {}
        },
        {
            "cell_type": "code",
            "execution_count": 9,
            "source": [
                "session = tf.compat.v1.Session()\r\n",
                "output = session.run(c)\r\n",
                "session.close()\r\n",
                "print(output)"
            ],
            "outputs": [
                {
                    "output_type": "stream",
                    "name": "stdout",
                    "text": [
                        "32.0\n"
                    ]
                }
            ],
            "metadata": {}
        },
        {
            "cell_type": "markdown",
            "source": [
                "# Tensor flow operations with Eager Execution Mode"
            ],
            "metadata": {}
        },
        {
            "cell_type": "markdown",
            "source": [
                "### IMPORTANT! => Please don't forget restart the kernel by clicking on \"Kernel\" -> \"Restart\" so that the changes take effect.\r\n",
                "\r\n",
                "**Enable or Disable Eager execution has to happen on program startup. This is the reason we have to restart the kernel.**\r\n",
                "\r\n",
                "**After you have restarted the kernel, you may continue on to the next step.**\r\n"
            ],
            "metadata": {}
        },
        {
            "cell_type": "code",
            "execution_count": 1,
            "source": [
                "import tensorflow as tf\r\n",
                "import numpy as np"
            ],
            "outputs": [],
            "metadata": {}
        },
        {
            "cell_type": "code",
            "execution_count": 3,
            "source": [
                "from tensorflow.python.framework.ops import enable_eager_execution\r\n",
                "enable_eager_execution()"
            ],
            "outputs": [],
            "metadata": {}
        },
        {
            "cell_type": "markdown",
            "source": [
                "Now you can run TensorFlow operations and the results will return immediately:\r\n"
            ],
            "metadata": {}
        },
        {
            "cell_type": "code",
            "execution_count": 4,
            "source": [
                "x = [[4]]\r\n",
                "m = tf.matmul(x, x)\r\n",
                "print(\"Result, {}\".format(m))"
            ],
            "outputs": [
                {
                    "output_type": "stream",
                    "name": "stdout",
                    "text": [
                        "Result, [[16]]\n"
                    ]
                }
            ],
            "metadata": {}
        },
        {
            "cell_type": "code",
            "execution_count": 5,
            "source": [
                "a = tf.constant(np.array([1.0, 2.0, 3.0]))\r\n",
                "type(a)"
            ],
            "outputs": [
                {
                    "output_type": "execute_result",
                    "data": {
                        "text/plain": [
                            "tensorflow.python.framework.ops.EagerTensor"
                        ]
                    },
                    "metadata": {},
                    "execution_count": 5
                }
            ],
            "metadata": {}
        },
        {
            "cell_type": "markdown",
            "source": [
                "So the very same code created a different type of object. So now **a** is of type **tensorflow.python.framework.ops.EagerTensor**. <br> This is great, because without changing code we obtain a tensor object which allows us to have a look inside, without execting a graph in a session:"
            ],
            "metadata": {}
        },
        {
            "cell_type": "code",
            "execution_count": 6,
            "source": [
                "print(a.numpy())"
            ],
            "outputs": [
                {
                    "output_type": "stream",
                    "name": "stdout",
                    "text": [
                        "[1. 2. 3.]\n"
                    ]
                }
            ],
            "metadata": {}
        },
        {
            "cell_type": "code",
            "execution_count": 7,
            "source": [
                "b = tf.constant(np.array([4.0, 5.0, 6.0]))\r\n",
                "c = tf.tensordot(a, b, 1)\r\n",
                "type(c)"
            ],
            "outputs": [
                {
                    "output_type": "execute_result",
                    "data": {
                        "text/plain": [
                            "tensorflow.python.framework.ops.EagerTensor"
                        ]
                    },
                    "metadata": {},
                    "execution_count": 7
                }
            ],
            "metadata": {}
        },
        {
            "cell_type": "code",
            "execution_count": 8,
            "source": [
                "print(c.numpy())"
            ],
            "outputs": [
                {
                    "output_type": "stream",
                    "name": "stdout",
                    "text": [
                        "32.0\n"
                    ]
                }
            ],
            "metadata": {}
        },
        {
            "cell_type": "markdown",
            "source": [
                "# Dynamic Control Flow"
            ],
            "metadata": {}
        },
        {
            "cell_type": "markdown",
            "source": [
                "A major benefit of eager execution is that all the functionality of the host language is available while your model is executing. So, for example, it is easy to write [fizzbuzz](https://en.wikipedia.org/wiki/Fizz_buzz?utm_medium=Exinfluencer\\&utm_source=Exinfluencer\\&utm_content=000026UJ\\&utm_term=10006555\\&utm_id=NA-SkillsNetwork-Channel-SkillsNetworkCoursesIBMDeveloperSkillsNetworkDL0120ENSkillsNetwork20629446-2021-01-01):\r\n"
            ],
            "metadata": {}
        },
        {
            "cell_type": "code",
            "execution_count": 9,
            "source": [
                "def fizzbuzz(max_num):\r\n",
                "    counter = tf.constant(0)\r\n",
                "    max_num = tf.convert_to_tensor(max_num)\r\n",
                "\r\n",
                "    for num in range(1, max_num.numpy()+1):\r\n",
                "        num = tf.constant(num)\r\n",
                "        if int(num % 3) == 0 and int(num % 5) == 0:\r\n",
                "            print('FizzBuzz')\r\n",
                "        elif int(num % 3) == 0:\r\n",
                "            print('Fizz')\r\n",
                "        elif int(num % 5) == 0:\r\n",
                "            print('Buzz')\r\n",
                "        else:\r\n",
                "            print(num.numpy())\r\n",
                "        counter += 1"
            ],
            "outputs": [],
            "metadata": {}
        },
        {
            "cell_type": "code",
            "execution_count": 10,
            "source": [
                "fizzbuzz(15)"
            ],
            "outputs": [
                {
                    "output_type": "stream",
                    "name": "stdout",
                    "text": [
                        "1\n",
                        "2\n",
                        "Fizz\n",
                        "4\n",
                        "Buzz\n",
                        "Fizz\n",
                        "7\n",
                        "8\n",
                        "Fizz\n",
                        "Buzz\n",
                        "11\n",
                        "Fizz\n",
                        "13\n",
                        "14\n",
                        "FizzBuzz\n"
                    ]
                }
            ],
            "metadata": {}
        },
        {
            "cell_type": "code",
            "execution_count": null,
            "source": [],
            "outputs": [],
            "metadata": {}
        }
    ],
    "metadata": {
        "orig_nbformat": 4,
        "language_info": {
            "name": "python",
            "version": "3.8.8",
            "mimetype": "text/x-python",
            "codemirror_mode": {
                "name": "ipython",
                "version": 3
            },
            "pygments_lexer": "ipython3",
            "nbconvert_exporter": "python",
            "file_extension": ".py"
        },
        "kernelspec": {
            "name": "python3",
            "display_name": "Python 3.8.8 64-bit ('base': conda)"
        },
        "interpreter": {
            "hash": "c0f70214c0dd213f07f54ee5d6e0ea644bdbba35113c9bfe8aaa0d1db03ad5dd"
        }
    },
    "nbformat": 4,
    "nbformat_minor": 2
}