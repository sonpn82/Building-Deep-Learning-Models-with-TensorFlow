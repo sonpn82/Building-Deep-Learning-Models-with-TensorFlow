{
 "cells": [
  {
   "cell_type": "markdown",
   "source": [
    "# IBM Developer Skills Network"
   ],
   "metadata": {}
  },
  {
   "cell_type": "markdown",
   "source": [
    "# Restricted Boltzmann Machines"
   ],
   "metadata": {}
  },
  {
   "cell_type": "markdown",
   "source": [
    "<h3>Introduction</h3>\r\n",
    "<b>Restricted Boltzmann Machine (RBM):</b>  RBMs are shallow neural nets that learn to reconstruct data by themselves in an unsupervised fashion.  \r\n",
    "\r\n",
    "<h4>Why are RBMs important?</h4>\r\n",
    "An RBM are a basic form of autoencoder.  It can automatically extract <b>meaningful</b> features from a given input.\r\n",
    "\r\n",
    "<h4>How does it work?</h4>\r\n",
    "RBM is a 2 layer neural network. Simply, RBM takes the inputs and translates those into a set of binary values that represents them in the hidden layer. Then, these numbers can be translated back to reconstruct the inputs. Through several forward and backward passes, the RBM will be trained, and a trained RBM can reveal which features are the most important ones when detecting patterns.   \r\n",
    "\r\n",
    "<h4>What are the applications of an RBM?</h4>\r\n",
    "RBM is useful for <a href='http://www.cs.utoronto.ca/~hinton/absps/netflixICML.pdf?utm_medium=Exinfluencer&utm_source=Exinfluencer&utm_content=000026UJ&utm_term=10006555&utm_id=NA-SkillsNetwork-Channel-SkillsNetworkCoursesIBMDeveloperSkillsNetworkDL0120ENSkillsNetwork20629446-2021-01-01'>  Collaborative Filtering</a>, dimensionality reduction, classification, regression, feature learning, topic modeling and even <b>Deep Belief Networks</b>.\r\n",
    "\r\n",
    "<h4>Is RBM a generative or Discriminative model?</h4>\r\n",
    "RBM is a generative model. Let me explain it by first, see what is different between discriminative and generative models: \r\n",
    "\r\n",
    "<b>Discriminative:</b> Consider a classification problem where we want to learn to distinguish between Sedan cars (y = 1) and SUV cars (y = 0), based on some features of cars. Given a training set, an algorithm like logistic regression tries to find a straight line, or <i>decision boundary</i>, that separates the suv and sedan.\r\n",
    "\r\n",
    "<b>Generative:</b> looking at cars, we can build a model of what Sedan cars look like. Then, looking at SUVs, we can build a separate model of what SUV cars look like. Finally, to classify a new car, we can match the new car against the Sedan model, and match it against the SUV model, to see whether the new car looks more like the SUV or Sedan.\r\n",
    "\r\n",
    "Generative Models specify a probability distribution over a dataset of input vectors. We can carry out both supervised and unsupervised tasks with generative models:\r\n",
    "\r\n",
    "<ul>\r\n",
    "    <li>In an unsupervised task, we try to form a model for $P(x)$, where $P$ is the probability given $x$ as an input vector.</li>\r\n",
    "    <li>In the supervised task, we first form a model for $P(x|y)$, where $P$ is the probability of $x$ given $y$(the label for $x$). For example, if $y = 0$ indicates that a car is an SUV, and $y = 1$ indicates that a car is a sedan, then $p(x|y = 0)$ models the distribution of SUV features, and $p(x|y = 1)$ models the distribution of sedan features. If we manage to find $P(x|y)$ and $P(y)$, then we can use <b>Bayes rule</b> to estimate $P(y|x)$, because:   \r\n",
    "        $$p(y|x) = \\frac{p(x|y)p(y)}{p(x)}$$</li>\r\n",
    "</ul>\r\n",
    "Now the question is, can we build a generative model, and then use it to create synthetic data by directly sampling from the modeled probability distributions? Lets see. \r\n"
   ],
   "metadata": {}
  },
  {
   "cell_type": "markdown",
   "source": [
    "<a id=\"ref1\"></a>\r\n",
    "\r\n",
    "<h3>Initialization</h3>\r\n",
    "\r\n",
    "First, we have to load the utility file which contains different utility functions that are not connected\r\n",
    "in any way to the networks presented in the tutorials, but rather help in\r\n",
    "processing the outputs into a more understandable way.\r\n"
   ],
   "metadata": {}
  },
  {
   "cell_type": "code",
   "execution_count": 1,
   "source": [
    "import urllib.request\r\n",
    "with urllib.request.urlopen('https://raw.githubusercontent.com/sonpn82/Building-Deep-Learning-Models-with-TensorFlow/master/utils.py') as url:\r\n",
    "    response = url.read()\r\n",
    "target = open('utils.py', 'w')\r\n",
    "target.write(response.decode('utf-8'))\r\n",
    "target.close()\r\n"
   ],
   "outputs": [],
   "metadata": {}
  },
  {
   "cell_type": "code",
   "execution_count": 3,
   "source": [
    "import tensorflow as tf\r\n",
    "from IPython.display import Markdown, display\r\n",
    "\r\n",
    "def printmd(string):\r\n",
    "    display(Markdown('# <span style=\"color:red\">'+string+'</span>'))"
   ],
   "outputs": [],
   "metadata": {}
  },
  {
   "cell_type": "code",
   "execution_count": 4,
   "source": [
    "import numpy as np\r\n",
    "from PIL import Image\r\n",
    "from utils import tile_raster_images\r\n",
    "import matplotlib.pyplot as plt\r\n",
    "%matplotlib inline"
   ],
   "outputs": [],
   "metadata": {}
  },
  {
   "cell_type": "markdown",
   "source": [
    "<a id=\"ref2\"></a>\r\n",
    "\r\n",
    "<h3>RBM layers</h3>\r\n",
    "\r\n",
    "An RBM has two layers. The first layer of the RBM is called the <b>visible</b> (or input layer). Imagine that our toy example, has only vectors with 7 values, so the visible layer must have $V=7$ input nodes.\r\n",
    "The second layer is the <b>hidden</b> layer, which has $H$ neurons in our case. Each hidden node takes on values of either 0 or 1 (i.e., $h_i = 1$ or $h_i$ = 0), with a probability that is a logistic function of the inputs it receives from the other $V$ visible units, called for example, $p(h_i = 1)$. For our toy sample, we'll use 2 nodes in the hidden layer, so $H = 2$.\r\n",
    "\r\n",
    "<center><img src=\"https://ibm.box.com/shared/static/eu26opvcefgls6vnwuo29uwp0nudmokh.png\" alt=\"RBM Model\" style=\"width: 400px;\"></center>\r\n"
   ],
   "metadata": {}
  },
  {
   "cell_type": "markdown",
   "source": [
    "Each node in the first layer also has a <b>bias</b>. We will denote the bias as $v\\_{bias}$, and this single value is shared among the $V$ visible units.\r\n",
    "\r\n",
    "The <b>bias</b> of the second is defined similarly as $h\\_{bias}$, and this single value among the $H$ hidden units.\r\n"
   ],
   "metadata": {}
  },
  {
   "cell_type": "code",
   "execution_count": 5,
   "source": [
    "v_bias = tf.Variable(tf.zeros([7]), tf.float32)\r\n",
    "h_bias = tf.Variable(tf.zeros([2]), tf.float32)"
   ],
   "outputs": [],
   "metadata": {}
  },
  {
   "cell_type": "markdown",
   "source": [
    "We have to define weights among the input layer and hidden layer nodes. In the weight matrix, the number of rows are equal to the input nodes, and the number of columns are equal to the output nodes. We define a tensor $\\mathbf{W}$ of shape = (7,2), where the number of visible neurons = 7, and the number of hidden neurons = 2.\r\n"
   ],
   "metadata": {}
  },
  {
   "cell_type": "code",
   "execution_count": 6,
   "source": [
    "W = tf.constant(np.random.normal(loc=0.0, scale=1.0, size=(7,2)).astype(np.float32))"
   ],
   "outputs": [],
   "metadata": {}
  },
  {
   "cell_type": "markdown",
   "source": [
    "<a id=\"ref3\"></a>\r\n",
    "\r\n",
    "<h3>What RBM can do after training?</h3>\r\n",
    "Think of RBM as a model that has been trained based on images of a dataset of many SUV and sedan cars. Also, imagine that the RBM network has only two hidden nodes, where one node encodes the weight and, and the other encodes the size.  \r\n",
    "In a sense, the different configurations represent different cars, where one is an SUV and the other is Sedan.  In a training process, through many forward and backward passes, the RBM adjust its weights to send a stronger signal to either the SUV node (0, 1) or the sedan node (1, 0) in the hidden layer, given the pixels of images. Now, given an SUV in hidden layer, which distribution of pixels should we expect? RBM can give you 2 things. First, it encodes your images in hidden layer. Second, it gives you the probability of observing a case, given some hidden values.\r\n",
    "\r\n",
    "<h3>The Inference Process</h3>\r\n",
    "\r\n",
    "RBM has two phases:\r\n",
    "\r\n",
    "<ul>\r\n",
    "    <li>Forward Pass</li>  \r\n",
    "    <li>Backward Pass or Reconstruction</li>\r\n",
    "</ul>\r\n",
    "\r\n",
    "<b>Phase 1) Forward pass:</b>\r\n",
    "\r\n",
    "Input one training sample (one image) $\\mathbf{x}$ through all visible nodes, and pass it to all hidden nodes. Processing happens in each node in the hidden layer. This computation begins by making stochastic decisions about whether to transmit that input or not (i.e. to determine the state of each hidden layer).  First, the probability vector is computed using the input feature vector $\\mathbf{x}$, the weight matrix $\\mathbf{W}$, and the bias term $h\\_{bias}$, as\r\n",
    "\r\n",
    "$$p({h_j}|\\mathbf x)= \\sigma( \\sum\\_{i=1}^V W\\_{ij} x_i + h\\_{bias} )$$,\r\n",
    "\r\n",
    "where $\\sigma(z) = (1+e^{-z})^{-1}$ is the logistic function.\r\n",
    "\r\n",
    "So, what does $p({h_j})$ represent? It is the <b>probability distribution</b> of the hidden units. That is, RBM uses inputs $x_i$ to make predictions about hidden node activations. For example, imagine that the hidden node activation values are \\[0.51 0.84] for the first training item. It tells you that the conditional probability for each hidden neuron for Phase 1 is:\r\n",
    "\r\n",
    "$$p(h\\_{1} = 1|\\mathbf{v}) = 0.51$$\r\n",
    "$$p(h\\_{2} = 1|\\mathbf{v}) = 0.84$$\r\n",
    "\r\n",
    "As a result, for each row in the training set, vector of probabilities is generated.  In TensorFlow, this is referred to as a `tensor` with a shape of (1,2).\r\n",
    "\r\n",
    "We then turn unit $j$ with probability $p(h\\_{j}|\\mathbf{v})$, and turn it off with probability $1 - p(h\\_{j}|\\mathbf{v})$ by generating a uniform random number vector $\\mathbf{\\xi}$, and comparing it to the activation probability as\r\n",
    "\r\n",
    "<center>If $\\xi_j>p(h_{j}|\\mathbf{v})$, then $h_j=1$, else $h_j=0$.</center>\r\n",
    "\r\n",
    "Therefore, the conditional probability of a configuration of $\\mathbf{h}$ given $\\mathbf{v}$ (for a training sample) is:\r\n",
    "\r\n",
    "$$p(\\mathbf{h} \\mid \\mathbf{v}) = \\prod\\_{j=1}^H p(h_j \\mid \\mathbf{v})$$\r\n",
    "\r\n",
    "where $H$ is the number of hidden units.\r\n"
   ],
   "metadata": {}
  },
  {
   "cell_type": "markdown",
   "source": [
    "Before we go further, let's look at a toy example for one case out of all input. Assume that we have a trained RBM, and a very simple input vector, such as \\[1.0, 0.0, 0.0, 1.0, 0.0, 0.0, 0.0].\\\r\n",
    "Let's see what the output of forward pass would look like:\r\n"
   ],
   "metadata": {}
  },
  {
   "cell_type": "code",
   "execution_count": 8,
   "source": [
    "X = tf.constant([[1.0, 0.0, 0.0, 1.0, 0.0, 0.0, 0.0]], tf.float32)\r\n",
    "\r\n",
    "v_state = X\r\n",
    "print('input: ', v_state)\r\n",
    "\r\n",
    "h_bias = tf.constant([0.1, 0.1])\r\n",
    "print('hb: ', h_bias)\r\n",
    "print('w:', W)\r\n",
    "\r\n",
    "# Calculate probality of turning the hidden units on\r\n",
    "h_prob = tf.nn.sigmoid(tf.matmul(v_state, W) + h_bias)\r\n",
    "print('p(h|v): ', h_prob)\r\n",
    "\r\n",
    "# Draw sample from the distribution\r\n",
    "h_state = tf.nn.relu(tf.sign(h_prob - tf.random.uniform(tf.shape(h_prob))))\r\n",
    "print (\"h0 states:\", h_state)"
   ],
   "outputs": [
    {
     "output_type": "stream",
     "name": "stdout",
     "text": [
      "input:  tf.Tensor([[1. 0. 0. 1. 0. 0. 0.]], shape=(1, 7), dtype=float32)\n",
      "hb:  tf.Tensor([0.1 0.1], shape=(2,), dtype=float32)\n",
      "w: tf.Tensor(\n",
      "[[ 0.10823549 -0.776719  ]\n",
      " [ 0.7015167   2.2216659 ]\n",
      " [ 1.0961324   0.33881932]\n",
      " [ 0.28804773  0.1641365 ]\n",
      " [-1.0229532   0.7858073 ]\n",
      " [-0.758592   -0.47272536]\n",
      " [-0.4769597  -0.42253393]], shape=(7, 2), dtype=float32)\n",
      "p(h|v):  tf.Tensor([[0.6215855  0.37458837]], shape=(1, 2), dtype=float32)\n",
      "h0 states: tf.Tensor([[1. 0.]], shape=(1, 2), dtype=float32)\n"
     ]
    }
   ],
   "metadata": {}
  },
  {
   "cell_type": "markdown",
   "source": [
    "<b>Phase 2) Backward Pass (Reconstruction):</b>\r\n",
    "The RBM reconstructs data by making several forward and backward passes between the visible and hidden layers.\r\n",
    "\r\n",
    "So, in the second phase (i.e. reconstruction phase), the samples from the hidden layer (i.e. $\\mathbf h$) becomes the input in the backward pass. The same weight matrix and visible layer biases are used to passed to the sigmoid function. The reproduced output is a reconstruction which is an approximation of the original input.\r\n"
   ],
   "metadata": {}
  },
  {
   "cell_type": "code",
   "execution_count": 9,
   "source": [
    "vb = tf.constant([0.1, 0.2, 0.1, 0.1, 0.1, 0.2, 0.1])\r\n",
    "print('b', vb)\r\n",
    "v_prob = tf.nn.sigmoid(tf.matmul(h_state, tf.transpose(W)) + vb)\r\n",
    "print (\"p(vi∣h): \", v_prob)\r\n",
    "v_state = tf.nn.relu(tf.sign(v_prob - tf.random.uniform(tf.shape(v_prob))))\r\n",
    "print (\"v probability states: \", v_state)"
   ],
   "outputs": [
    {
     "output_type": "stream",
     "name": "stdout",
     "text": [
      "b tf.Tensor([0.1 0.2 0.1 0.1 0.1 0.2 0.1], shape=(7,), dtype=float32)\n",
      "p(vi∣h):  tf.Tensor(\n",
      "[[0.55187154 0.71126103 0.7678361  0.5958126  0.28435656 0.3638733\n",
      "  0.4068604 ]], shape=(1, 7), dtype=float32)\n",
      "v probability states:  tf.Tensor([[0. 1. 1. 0. 1. 0. 1.]], shape=(1, 7), dtype=float32)\n"
     ]
    }
   ],
   "metadata": {}
  },
  {
   "cell_type": "markdown",
   "source": [
    "RBM learns a probability distribution over the input, and then, after being trained, the RBM can generate new samples from the learned probability distribution. As you know, <b>probability distribution</b>, is a mathematical function that provides the probabilities of occurrence of different possible outcomes in an experiment.\r\n",
    "\r\n",
    "The (conditional) probability distribution over the visible units v is given by\r\n",
    "\r\n",
    "$$p(\\mathbf{v} \\mid \\mathbf{h}) = \\prod\\_{i=1}^V p(v_i \\mid \\mathbf{h}),$$\r\n",
    "\r\n",
    "where,\r\n",
    "\r\n",
    "$$p(v_i \\mid \\mathbf{h}) = \\sigma\\left(\\sum\\_{j=1}^H W\\_{ji} h_j + v\\_{bias} \\right)$$\r\n",
    "\r\n",
    "so, given current state of hidden units and weights, what is the probability of generating \\[1. 0. 0. 1. 0. 0. 0.] in reconstruction phase, based on the above <b>probability distribution</b> function?\r\n"
   ],
   "metadata": {}
  },
  {
   "cell_type": "code",
   "execution_count": 12,
   "source": [
    "inp = X\r\n",
    "print('input X:', inp.numpy())\r\n",
    "\r\n",
    "print('probality vector:', v_prob[0].numpy())\r\n",
    "v_probability = 1\r\n",
    "\r\n",
    "for elm, p in zip(inp[0], v_prob[0]):\r\n",
    "    if elm == 1:\r\n",
    "        v_probability *= p\r\n",
    "    else:\r\n",
    "        v_probability *= (1-p)\r\n",
    "\r\n",
    "print(\"probability of generating X: \" , v_probability.numpy())"
   ],
   "outputs": [
    {
     "output_type": "stream",
     "name": "stdout",
     "text": [
      "input X: [[1. 0. 0. 1. 0. 0. 0.]]\n",
      "probality vector: [0.55187154 0.71126103 0.7678361  0.5958126  0.28435656 0.3638733\n",
      " 0.4068604 ]\n",
      "probability of generating X:  0.005951755\n"
     ]
    }
   ],
   "metadata": {}
  },
  {
   "cell_type": "markdown",
   "source": [
    "How similar are vectors $\\mathbf{x}$ and $\\mathbf{v}$? Of course, the reconstructed values most likely will not look anything like the input vector, because our network has not been trained yet. Our objective is to train the model in such a way that the input vector and reconstructed vector to be same. Therefore, based on how different the input values look to the ones that we just reconstructed, the weights are adjusted.\r\n"
   ],
   "metadata": {}
  },
  {
   "cell_type": "markdown",
   "source": [
    "# MNIST Dataset"
   ],
   "metadata": {}
  },
  {
   "cell_type": "code",
   "execution_count": 14,
   "source": [
    "mnist = tf.keras.datasets.mnist\r\n",
    "(trX, trY), (teX, teY) = mnist.load_data()\r\n",
    "\r\n",
    "# showing an example of the Flatten class and operation\r\n",
    "from tensorflow.keras.layers import Flatten\r\n",
    "flatten = Flatten(dtype='float32')\r\n",
    "trX = flatten(trX/255.0)\r\n",
    "trY = flatten(trY/255.0)"
   ],
   "outputs": [],
   "metadata": {}
  },
  {
   "cell_type": "markdown",
   "source": [
    "MNIST images have 784 pixels, so the visible layer must have 784 input nodes.  For our case, we'll use 50 nodes in the hidden layer, so i = 50.\r\n"
   ],
   "metadata": {}
  },
  {
   "cell_type": "code",
   "execution_count": 15,
   "source": [
    "vb = tf.Variable(tf.zeros([784]), tf.float32)\r\n",
    "hb = tf.Variable(tf.zeros([50]), tf.float32)"
   ],
   "outputs": [],
   "metadata": {}
  },
  {
   "cell_type": "code",
   "execution_count": 16,
   "source": [
    "W = tf.Variable(tf.zeros([784,50]), tf.float32)"
   ],
   "outputs": [],
   "metadata": {}
  },
  {
   "cell_type": "markdown",
   "source": [
    "Lets define the visible layer:\r\n"
   ],
   "metadata": {}
  },
  {
   "cell_type": "code",
   "execution_count": 17,
   "source": [
    "v0_state = tf.Variable(tf.zeros([784]), tf.float32)\r\n",
    "\r\n",
    "#testing to see if the matrix product works\r\n",
    "tf.matmul( [v0_state], W)"
   ],
   "outputs": [
    {
     "output_type": "execute_result",
     "data": {
      "text/plain": [
       "<tf.Tensor: shape=(1, 50), dtype=float32, numpy=\n",
       "array([[0., 0., 0., 0., 0., 0., 0., 0., 0., 0., 0., 0., 0., 0., 0., 0.,\n",
       "        0., 0., 0., 0., 0., 0., 0., 0., 0., 0., 0., 0., 0., 0., 0., 0.,\n",
       "        0., 0., 0., 0., 0., 0., 0., 0., 0., 0., 0., 0., 0., 0., 0., 0.,\n",
       "        0., 0.]], dtype=float32)>"
      ]
     },
     "metadata": {},
     "execution_count": 17
    }
   ],
   "metadata": {}
  },
  {
   "cell_type": "code",
   "execution_count": 18,
   "source": [
    "#computing the hidden nodes probability vector and checking shape\r\n",
    "h0_prob = tf.nn.sigmoid(tf.matmul([v0_state], W) + hb)  #probabilities of the hidden units\r\n",
    "print(\"h0_state shape: \" , tf.shape(h0_prob))\r\n",
    "\r\n",
    "#defining a function to return only the generated hidden states \r\n",
    "def hidden_layer(v0_state, W, hb):\r\n",
    "    h0_prob = tf.nn.sigmoid(tf.matmul([v0_state], W) + hb)  #probabilities of the hidden units\r\n",
    "    h0_state = tf.nn.relu(tf.sign(h0_prob - tf.random.uniform(tf.shape(h0_prob)))) #sample_h_given_X\r\n",
    "    return h0_state\r\n",
    "\r\n",
    "\r\n",
    "h0_state = hidden_layer(v0_state, W, hb)\r\n",
    "print(\"first 15 hidden states: \", h0_state[0][0:15])"
   ],
   "outputs": [
    {
     "output_type": "stream",
     "name": "stdout",
     "text": [
      "h0_state shape:  tf.Tensor([ 1 50], shape=(2,), dtype=int32)\n",
      "first 15 hidden states:  tf.Tensor([1. 1. 0. 0. 0. 1. 0. 0. 0. 0. 1. 0. 0. 1. 1.], shape=(15,), dtype=float32)\n"
     ]
    }
   ],
   "metadata": {}
  },
  {
   "cell_type": "markdown",
   "source": [
    "Now, we define reconstruction part:\r\n"
   ],
   "metadata": {}
  },
  {
   "cell_type": "code",
   "execution_count": 19,
   "source": [
    "def reconstructed_output(h0_state, W, vb):\r\n",
    "    v1_prob = tf.nn.sigmoid(tf.matmul(h0_state, tf.transpose(W)) + vb) \r\n",
    "    v1_state = tf.nn.relu(tf.sign(v1_prob - tf.random.uniform(tf.shape(v1_prob)))) #sample_v_given_h\r\n",
    "    return v1_state[0]\r\n",
    "\r\n",
    "v1_state = reconstructed_output(h0_state, W, vb)\r\n",
    "print(\"hidden state shape: \", h0_state.shape)\r\n",
    "print(\"v0 state shape:  \", v0_state.shape)\r\n",
    "print(\"v1 state shape:  \", v1_state.shape)"
   ],
   "outputs": [
    {
     "output_type": "stream",
     "name": "stdout",
     "text": [
      "hidden state shape:  (1, 50)\n",
      "v0 state shape:   (784,)\n",
      "v1 state shape:   (784,)\n"
     ]
    }
   ],
   "metadata": {}
  },
  {
   "cell_type": "markdown",
   "source": [
    "<h3>What is the objective function?</h3>\r\n",
    "\r\n",
    "<b>Goal</b>: Maximize the likelihood of our data being drawn from that distribution\r\n",
    "\r\n",
    "<b>Calculate error:</b>\\\r\n",
    "In each epoch, we compute the \"error\" as a sum of the squared difference between step 1 and step n,\r\n",
    "e.g the error shows the difference between the data and its reconstruction.\r\n",
    "\r\n",
    "<b>Note:</b> tf.reduce_mean computes the mean of elements across dimensions of a tensor.\r\n"
   ],
   "metadata": {}
  },
  {
   "cell_type": "code",
   "execution_count": 20,
   "source": [
    "def error(v0_state, v1_state):\r\n",
    "    return tf.reduce_mean(tf.square(v0_state - v1_state))\r\n",
    "\r\n",
    "err = tf.reduce_mean(tf.square(v0_state - v1_state))\r\n",
    "print(\"error\" , err.numpy())"
   ],
   "outputs": [
    {
     "output_type": "stream",
     "name": "stdout",
     "text": [
      "error 0.5\n"
     ]
    }
   ],
   "metadata": {}
  },
  {
   "cell_type": "markdown",
   "source": [
    "\r\n",
    "<h3>Training the Model</h3>\r\n",
    "<b>Warning...</b> The following part is math-heavy, but you can skip it if you just want to run the cells in the next section.\r\n",
    "\r\n",
    "As mentioned, we want to give a high probability to the input data we train on. So, in order to train an RBM, we have to maximize the product of probabilities assigned to all rows $\\mathbf{v}$ (images) in the training set $\\mathbf{V}$ (a matrix, where each row of it is treated as a visible vector $\\mathbf{v}$)\r\n",
    "\r\n",
    "$$\\arg \\max_W \\prod\\_{\\mathbf{v}\\in\\mathbf{V}\\_T} p(\\mathbf{v})$$\r\n",
    "\r\n",
    "which is equivalent to maximizing the expectation of the log probability, given as\r\n",
    "\r\n",
    "$$\\arg\\max_W\\left\\[ \\mathbb{E} \\left(\\prod\\_{\\mathbf v\\in \\mathbf V}\\text{log} \\left(p(\\mathbf v)\\right) \\right) \\right].$$\r\n",
    "\r\n",
    "So, we have to update the weights $W\\_{ij}$  to increase $p(\\mathbf{v})$ for all $\\mathbf{v}$ in our training data during training. So we have to calculate the derivative:\r\n",
    "\r\n",
    "$$\\frac{\\partial \\log p(\\mathbf v)}{\\partial W\\_{ij}}$$\r\n",
    "\r\n",
    "This cannot be easily done by typical <b>gradient descent (SGD)</b>, so we can use another approach, which has 2 steps:\r\n",
    "\r\n",
    "<ol>\r\n",
    "    <li>Gibbs Sampling</li>\r\n",
    "    <li>Contrastive Divergence</li>\r\n",
    "</ol>    \r\n",
    "\r\n",
    "<h3>Gibbs Sampling</h3>   \r\n",
    "\r\n",
    "<h4>Gibbs Sampling Step 1</h4> \r\n",
    "Given an input vector $\\mathbf{v}$, we are using $p(\\mathbf{h}|\\mathbf{v})$ to predict the hidden values $\\mathbf{h}$. \r\n",
    "  $$p({h_j}|\\mathbf v)= \\sigma\\left(\\sum_{i=1}^V W_{ij} v_i + h_{bias} \\right)$$\r\n",
    "The samples are generated from this distribution by generating the uniform random variate vector $\\mathbf{\\xi} \\sim U[0,1]$ of length $H$ and comparing to the computed probabilities as\r\n",
    "\r\n",
    "<center>If $\\xi_j>p(h_{j}|\\mathbf{v})$, then $h_j=1$, else $h_j=0$.</center>\r\n",
    "\r\n",
    "<h4>Gibbs Sampling Step 2</h4> \r\n",
    "Then, knowing the hidden values, we use $p(\\mathbf v| \\mathbf h)$ for reconstructing of new input values v. \r\n",
    "\r\n",
    "$$p({v_i}|\\mathbf h)= \\sigma\\left(\\sum\\_{j=1}^H W^{T}*{ij} h_j + v*{bias} \\right)$$\r\n",
    "\r\n",
    "The samples are generated from this distribution by generating a uniform random variate vector $\\mathbf{\\xi} \\sim U\\[0,1]$ of length $V$ and comparing to the computed probabilities as\r\n",
    "\r\n",
    "<center>If $\\xi_i>p(v_{i}|\\mathbf{h})$, then $v_i=1$, else $v_i=0$.</center>\r\n",
    "\r\n",
    "Let vectors $\\mathbf v_k$ and $\\mathbf h_k$ be for the $k$th iteration.  In general, the $kth$ state is generrated as:\r\n",
    "\r\n",
    "<b>Iteration</b> $k$:\r\n",
    "\r\n",
    "$$\\mathbf v\\_{k-1} \\Rightarrow p(\\mathbf h\\_{k-1}|\\mathbf v\\_{k-1})\\Rightarrow \\mathbf h\\_{k-1}\\Rightarrow p(\\mathbf v\\_{k}|\\mathbf h\\_{k-1})\\Rightarrow \\mathbf v_k$$\r\n",
    "\r\n",
    "<h3>Contrastive Divergence (CD-k)</h3>\r\n",
    "The update of the weight matrix is done during the Contrastive Divergence step. \r\n",
    "\r\n",
    "Vectors v0 and vk are used to calculate the activation probabilities for hidden values h0 and hk. The difference between the outer products of those probabilities with input vectors v0 and vk results in the update matrix:\r\n",
    "\r\n",
    "$$\\Delta \\mathbf W_k =\\mathbf v_k \\otimes \\mathbf h_k - \\mathbf v\\_{k-1} \\otimes \\mathbf h\\_{k-1}$$\r\n",
    "\r\n",
    "Contrastive Divergence is actually matrix of values that is computed and used to adjust values of the $\\mathbf W$ matrix. Changing $\\mathbf W$ incrementally leads to training of the  $\\mathbf W$ values. Then, on each step (epoch), $\\mathbf W$ is updated using the following:\r\n",
    "\r\n",
    "$$\\mathbf W_k = \\mathbf W\\_{k-1} + \\alpha \\* \\Delta \\mathbf W_k$$\r\n",
    "\r\n",
    "Reconstruction steps:\r\n",
    "\r\n",
    "<ul>\r\n",
    "    <li> Get one data point from data set, like <i>x</i>, and pass it through the following steps:</li>\r\n",
    "\r\n",
    "<b>Iteration</b> $k=1$:\r\n",
    "\r\n",
    "Sampling (starting with input image)\r\n",
    "$$\\mathbf x = \\mathbf v\\_0 \\Rightarrow p(\\mathbf h\\_0|\\mathbf v\\_0)\\Rightarrow \\mathbf h\\_0 \\Rightarrow p(\\mathbf v\\_1|\\mathbf h\\_0)\\Rightarrow \\mathbf v\\_1$$\\\r\n",
    "followed by the CD-k step\r\n",
    "$$\\Delta \\mathbf W\\_1 =\\mathbf v\\_1 \\otimes \\mathbf h\\_1 - \\mathbf v\\_{0} \\otimes \\mathbf h\\_{0}$$\\\r\n",
    "$$\\mathbf W\\_1 = \\mathbf W\\_{0} + \\alpha \\* \\Delta \\mathbf W\\_1$$\r\n",
    "\r\n",
    "<li> $\\mathbf v_1$ is the reconstruction of $\\mathbf x$ sent to the next iteration).</li>\r\n",
    "\r\n",
    "<b>Iteration</b> $k=2$:\r\n",
    "\r\n",
    "Sampling (starting with $\\mathbf v\\_1$)\r\n",
    "\r\n",
    "$$\\mathbf v\\_1 \\Rightarrow p(\\mathbf h\\_1|\\mathbf v\\_1)\\Rightarrow \\mathbf h\\_1\\Rightarrow p(\\mathbf v\\_2|\\mathbf h\\_1)\\Rightarrow \\mathbf v\\_2$$\r\n",
    "\r\n",
    "followed by the CD-k step\r\n",
    "$$\\Delta \\mathbf W\\_2 =\\mathbf v\\_2 \\otimes \\mathbf h\\_2 - \\mathbf v\\_{1} \\otimes \\mathbf h\\_{1}$$\\\r\n",
    "$$\\mathbf W\\_2 = \\mathbf W\\_{1} + \\alpha \\* \\Delta \\mathbf W\\_2$$\r\n",
    "\r\n",
    "<li> $\\mathbf v_2$ is the reconstruction of $\\mathbf v_1$ sent to the next iteration).</li>    \r\n",
    "\r\n",
    "<b>Iteration</b> $k=K$:\r\n",
    "\r\n",
    "Sampling (starting with $\\mathbf v\\_{K-1}$)\r\n",
    "\r\n",
    "$$\\mathbf v\\_{K-1} \\Rightarrow p(\\mathbf h\\_{K-1}|\\mathbf v\\_{K-1})\\Rightarrow \\mathbf h\\_{K-1}\\Rightarrow p(\\mathbf v_K|\\mathbf h\\_{K-1})\\Rightarrow \\mathbf v_K$$\r\n",
    "\r\n",
    "followed by the CD-k step\r\n",
    "$$\\Delta \\mathbf W_K =\\mathbf v_K \\otimes \\mathbf h_K - \\mathbf v\\_{K-1} \\otimes \\mathbf h\\_{K-1}$$\\\r\n",
    "$$\\mathbf W_K = \\mathbf W\\_{K-1} + \\alpha \\* \\Delta \\mathbf W_K$$\r\n",
    "\r\n",
    "<b>What is $\\alpha$?</b>\\\r\n",
    "Here, alpha is some small step size, and is also known as the \"learning rate\".\r\n"
   ],
   "metadata": {}
  },
  {
   "cell_type": "markdown",
   "source": [
    "$K$ is adjustable, and good performance can be achieved with $K=1$, so that we just take one set of sampling steps per image.\r\n"
   ],
   "metadata": {}
  },
  {
   "cell_type": "code",
   "execution_count": 21,
   "source": [
    "h1_prob = tf.nn.sigmoid(tf.matmul([v1_state], W) + hb)\r\n",
    "h1_state = tf.nn.relu(tf.sign(h1_prob - tf.random.uniform(tf.shape(h1_prob)))) #sample_h_given_X"
   ],
   "outputs": [],
   "metadata": {}
  },
  {
   "cell_type": "markdown",
   "source": [
    "Lets look at the error of the first run:\r\n"
   ],
   "metadata": {}
  },
  {
   "cell_type": "code",
   "execution_count": 22,
   "source": [
    "print(\"error: \", error(v0_state, v1_state))"
   ],
   "outputs": [
    {
     "output_type": "stream",
     "name": "stdout",
     "text": [
      "error:  tf.Tensor(0.5, shape=(), dtype=float32)\n"
     ]
    }
   ],
   "metadata": {}
  },
  {
   "cell_type": "code",
   "execution_count": 23,
   "source": [
    "#Parameters\r\n",
    "alpha = 0.01\r\n",
    "epochs = 1\r\n",
    "batchsize = 200\r\n",
    "weights = []\r\n",
    "errors = []\r\n",
    "batch_number = 0\r\n",
    "K = 1\r\n",
    "\r\n",
    "#creating datasets\r\n",
    "train_ds = \\\r\n",
    "    tf.data.Dataset.from_tensor_slices((trX, trY)).batch(batchsize)\r\n",
    "\r\n",
    "for epoch in range(epochs):\r\n",
    "    for batch_x, batch_y in train_ds:\r\n",
    "        batch_number += 1\r\n",
    "        for i_sample in range(batchsize):           \r\n",
    "            for k in range(K):\r\n",
    "                v0_state = batch_x[i_sample]\r\n",
    "                h0_state = hidden_layer(v0_state, W, hb)\r\n",
    "                v1_state = reconstructed_output(h0_state, W, vb)\r\n",
    "                h1_state = hidden_layer(v1_state, W, hb)\r\n",
    "\r\n",
    "                delta_W = tf.matmul(tf.transpose([v0_state]), h0_state) - tf.matmul(tf.transpose([v1_state]), h1_state)\r\n",
    "                W = W + alpha * delta_W\r\n",
    "\r\n",
    "                vb = vb + alpha * tf.reduce_mean(v0_state - v1_state, 0)\r\n",
    "                hb = hb + alpha * tf.reduce_mean(h0_state - h1_state, 0) \r\n",
    "\r\n",
    "                v0_state = v1_state\r\n",
    "\r\n",
    "            if i_sample == batchsize-1:\r\n",
    "                err = error(batch_x[i_sample], v1_state)\r\n",
    "                errors.append(err)\r\n",
    "                weights.append(W)\r\n",
    "                print ( 'Epoch: %d' % epoch, \r\n",
    "                       \"batch #: %i \" % batch_number, \"of %i\" % int(60e3/batchsize), \r\n",
    "                       \"sample #: %i\" % i_sample,\r\n",
    "                       'reconstruction error: %f' % err)\r\n",
    "\r\n"
   ],
   "outputs": [
    {
     "output_type": "stream",
     "name": "stdout",
     "text": [
      "Epoch: 0 batch #: 1  of 300 sample #: 199 reconstruction error: 0.188413\n",
      "Epoch: 0 batch #: 2  of 300 sample #: 199 reconstruction error: 0.228389\n",
      "Epoch: 0 batch #: 3  of 300 sample #: 199 reconstruction error: 0.106564\n",
      "Epoch: 0 batch #: 4  of 300 sample #: 199 reconstruction error: 0.128583\n",
      "Epoch: 0 batch #: 5  of 300 sample #: 199 reconstruction error: 0.110897\n",
      "Epoch: 0 batch #: 6  of 300 sample #: 199 reconstruction error: 0.186159\n",
      "Epoch: 0 batch #: 7  of 300 sample #: 199 reconstruction error: 0.096007\n",
      "Epoch: 0 batch #: 8  of 300 sample #: 199 reconstruction error: 0.126001\n",
      "Epoch: 0 batch #: 9  of 300 sample #: 199 reconstruction error: 0.095635\n",
      "Epoch: 0 batch #: 10  of 300 sample #: 199 reconstruction error: 0.169048\n",
      "Epoch: 0 batch #: 11  of 300 sample #: 199 reconstruction error: 0.086799\n",
      "Epoch: 0 batch #: 12  of 300 sample #: 199 reconstruction error: 0.141377\n",
      "Epoch: 0 batch #: 13  of 300 sample #: 199 reconstruction error: 0.060847\n",
      "Epoch: 0 batch #: 14  of 300 sample #: 199 reconstruction error: 0.086561\n",
      "Epoch: 0 batch #: 15  of 300 sample #: 199 reconstruction error: 0.095674\n",
      "Epoch: 0 batch #: 16  of 300 sample #: 199 reconstruction error: 0.105171\n",
      "Epoch: 0 batch #: 17  of 300 sample #: 199 reconstruction error: 0.077764\n",
      "Epoch: 0 batch #: 18  of 300 sample #: 199 reconstruction error: 0.105374\n",
      "Epoch: 0 batch #: 19  of 300 sample #: 199 reconstruction error: 0.135014\n",
      "Epoch: 0 batch #: 20  of 300 sample #: 199 reconstruction error: 0.106278\n",
      "Epoch: 0 batch #: 21  of 300 sample #: 199 reconstruction error: 0.098137\n",
      "Epoch: 0 batch #: 22  of 300 sample #: 199 reconstruction error: 0.085677\n",
      "Epoch: 0 batch #: 23  of 300 sample #: 199 reconstruction error: 0.108449\n",
      "Epoch: 0 batch #: 24  of 300 sample #: 199 reconstruction error: 0.149864\n",
      "Epoch: 0 batch #: 25  of 300 sample #: 199 reconstruction error: 0.072304\n",
      "Epoch: 0 batch #: 26  of 300 sample #: 199 reconstruction error: 0.097841\n",
      "Epoch: 0 batch #: 27  of 300 sample #: 199 reconstruction error: 0.101595\n",
      "Epoch: 0 batch #: 28  of 300 sample #: 199 reconstruction error: 0.099136\n",
      "Epoch: 0 batch #: 29  of 300 sample #: 199 reconstruction error: 0.115732\n",
      "Epoch: 0 batch #: 30  of 300 sample #: 199 reconstruction error: 0.084186\n",
      "Epoch: 0 batch #: 31  of 300 sample #: 199 reconstruction error: 0.092919\n",
      "Epoch: 0 batch #: 32  of 300 sample #: 199 reconstruction error: 0.113201\n",
      "Epoch: 0 batch #: 33  of 300 sample #: 199 reconstruction error: 0.054561\n",
      "Epoch: 0 batch #: 34  of 300 sample #: 199 reconstruction error: 0.073800\n",
      "Epoch: 0 batch #: 35  of 300 sample #: 199 reconstruction error: 0.079267\n",
      "Epoch: 0 batch #: 36  of 300 sample #: 199 reconstruction error: 0.080277\n",
      "Epoch: 0 batch #: 37  of 300 sample #: 199 reconstruction error: 0.061553\n",
      "Epoch: 0 batch #: 38  of 300 sample #: 199 reconstruction error: 0.075160\n",
      "Epoch: 0 batch #: 39  of 300 sample #: 199 reconstruction error: 0.091482\n",
      "Epoch: 0 batch #: 40  of 300 sample #: 199 reconstruction error: 0.097533\n",
      "Epoch: 0 batch #: 41  of 300 sample #: 199 reconstruction error: 0.073626\n",
      "Epoch: 0 batch #: 42  of 300 sample #: 199 reconstruction error: 0.074648\n",
      "Epoch: 0 batch #: 43  of 300 sample #: 199 reconstruction error: 0.121742\n",
      "Epoch: 0 batch #: 44  of 300 sample #: 199 reconstruction error: 0.068174\n",
      "Epoch: 0 batch #: 45  of 300 sample #: 199 reconstruction error: 0.065329\n",
      "Epoch: 0 batch #: 46  of 300 sample #: 199 reconstruction error: 0.032011\n",
      "Epoch: 0 batch #: 47  of 300 sample #: 199 reconstruction error: 0.049249\n",
      "Epoch: 0 batch #: 48  of 300 sample #: 199 reconstruction error: 0.037875\n",
      "Epoch: 0 batch #: 49  of 300 sample #: 199 reconstruction error: 0.120521\n",
      "Epoch: 0 batch #: 50  of 300 sample #: 199 reconstruction error: 0.040699\n",
      "Epoch: 0 batch #: 51  of 300 sample #: 199 reconstruction error: 0.064781\n",
      "Epoch: 0 batch #: 52  of 300 sample #: 199 reconstruction error: 0.039192\n",
      "Epoch: 0 batch #: 53  of 300 sample #: 199 reconstruction error: 0.090056\n",
      "Epoch: 0 batch #: 54  of 300 sample #: 199 reconstruction error: 0.073233\n",
      "Epoch: 0 batch #: 55  of 300 sample #: 199 reconstruction error: 0.107048\n",
      "Epoch: 0 batch #: 56  of 300 sample #: 199 reconstruction error: 0.054860\n",
      "Epoch: 0 batch #: 57  of 300 sample #: 199 reconstruction error: 0.042212\n",
      "Epoch: 0 batch #: 58  of 300 sample #: 199 reconstruction error: 0.068150\n",
      "Epoch: 0 batch #: 59  of 300 sample #: 199 reconstruction error: 0.053870\n",
      "Epoch: 0 batch #: 60  of 300 sample #: 199 reconstruction error: 0.099202\n",
      "Epoch: 0 batch #: 61  of 300 sample #: 199 reconstruction error: 0.058938\n",
      "Epoch: 0 batch #: 62  of 300 sample #: 199 reconstruction error: 0.071350\n",
      "Epoch: 0 batch #: 63  of 300 sample #: 199 reconstruction error: 0.056722\n",
      "Epoch: 0 batch #: 64  of 300 sample #: 199 reconstruction error: 0.079450\n",
      "Epoch: 0 batch #: 65  of 300 sample #: 199 reconstruction error: 0.078792\n",
      "Epoch: 0 batch #: 66  of 300 sample #: 199 reconstruction error: 0.052953\n",
      "Epoch: 0 batch #: 67  of 300 sample #: 199 reconstruction error: 0.053501\n",
      "Epoch: 0 batch #: 68  of 300 sample #: 199 reconstruction error: 0.058947\n",
      "Epoch: 0 batch #: 69  of 300 sample #: 199 reconstruction error: 0.087259\n",
      "Epoch: 0 batch #: 70  of 300 sample #: 199 reconstruction error: 0.088190\n",
      "Epoch: 0 batch #: 71  of 300 sample #: 199 reconstruction error: 0.082508\n",
      "Epoch: 0 batch #: 72  of 300 sample #: 199 reconstruction error: 0.057379\n",
      "Epoch: 0 batch #: 73  of 300 sample #: 199 reconstruction error: 0.087664\n",
      "Epoch: 0 batch #: 74  of 300 sample #: 199 reconstruction error: 0.094609\n",
      "Epoch: 0 batch #: 75  of 300 sample #: 199 reconstruction error: 0.058952\n",
      "Epoch: 0 batch #: 76  of 300 sample #: 199 reconstruction error: 0.075165\n",
      "Epoch: 0 batch #: 77  of 300 sample #: 199 reconstruction error: 0.097743\n",
      "Epoch: 0 batch #: 78  of 300 sample #: 199 reconstruction error: 0.099818\n",
      "Epoch: 0 batch #: 79  of 300 sample #: 199 reconstruction error: 0.116285\n",
      "Epoch: 0 batch #: 80  of 300 sample #: 199 reconstruction error: 0.035432\n",
      "Epoch: 0 batch #: 81  of 300 sample #: 199 reconstruction error: 0.050964\n",
      "Epoch: 0 batch #: 82  of 300 sample #: 199 reconstruction error: 0.045717\n",
      "Epoch: 0 batch #: 83  of 300 sample #: 199 reconstruction error: 0.081677\n",
      "Epoch: 0 batch #: 84  of 300 sample #: 199 reconstruction error: 0.080769\n",
      "Epoch: 0 batch #: 85  of 300 sample #: 199 reconstruction error: 0.050775\n",
      "Epoch: 0 batch #: 86  of 300 sample #: 199 reconstruction error: 0.093242\n",
      "Epoch: 0 batch #: 87  of 300 sample #: 199 reconstruction error: 0.080562\n",
      "Epoch: 0 batch #: 88  of 300 sample #: 199 reconstruction error: 0.023215\n",
      "Epoch: 0 batch #: 89  of 300 sample #: 199 reconstruction error: 0.065436\n",
      "Epoch: 0 batch #: 90  of 300 sample #: 199 reconstruction error: 0.063835\n",
      "Epoch: 0 batch #: 91  of 300 sample #: 199 reconstruction error: 0.058630\n",
      "Epoch: 0 batch #: 92  of 300 sample #: 199 reconstruction error: 0.069040\n",
      "Epoch: 0 batch #: 93  of 300 sample #: 199 reconstruction error: 0.096450\n",
      "Epoch: 0 batch #: 94  of 300 sample #: 199 reconstruction error: 0.107242\n",
      "Epoch: 0 batch #: 95  of 300 sample #: 199 reconstruction error: 0.071408\n",
      "Epoch: 0 batch #: 96  of 300 sample #: 199 reconstruction error: 0.045647\n",
      "Epoch: 0 batch #: 97  of 300 sample #: 199 reconstruction error: 0.089374\n",
      "Epoch: 0 batch #: 98  of 300 sample #: 199 reconstruction error: 0.083632\n",
      "Epoch: 0 batch #: 99  of 300 sample #: 199 reconstruction error: 0.063253\n",
      "Epoch: 0 batch #: 100  of 300 sample #: 199 reconstruction error: 0.096953\n",
      "Epoch: 0 batch #: 101  of 300 sample #: 199 reconstruction error: 0.085627\n",
      "Epoch: 0 batch #: 102  of 300 sample #: 199 reconstruction error: 0.078780\n",
      "Epoch: 0 batch #: 103  of 300 sample #: 199 reconstruction error: 0.081946\n",
      "Epoch: 0 batch #: 104  of 300 sample #: 199 reconstruction error: 0.071218\n",
      "Epoch: 0 batch #: 105  of 300 sample #: 199 reconstruction error: 0.071460\n",
      "Epoch: 0 batch #: 106  of 300 sample #: 199 reconstruction error: 0.118997\n",
      "Epoch: 0 batch #: 107  of 300 sample #: 199 reconstruction error: 0.139048\n",
      "Epoch: 0 batch #: 108  of 300 sample #: 199 reconstruction error: 0.062434\n",
      "Epoch: 0 batch #: 109  of 300 sample #: 199 reconstruction error: 0.111951\n",
      "Epoch: 0 batch #: 110  of 300 sample #: 199 reconstruction error: 0.054175\n",
      "Epoch: 0 batch #: 111  of 300 sample #: 199 reconstruction error: 0.103698\n",
      "Epoch: 0 batch #: 112  of 300 sample #: 199 reconstruction error: 0.050700\n",
      "Epoch: 0 batch #: 113  of 300 sample #: 199 reconstruction error: 0.067946\n",
      "Epoch: 0 batch #: 114  of 300 sample #: 199 reconstruction error: 0.073394\n",
      "Epoch: 0 batch #: 115  of 300 sample #: 199 reconstruction error: 0.063072\n",
      "Epoch: 0 batch #: 116  of 300 sample #: 199 reconstruction error: 0.053151\n",
      "Epoch: 0 batch #: 117  of 300 sample #: 199 reconstruction error: 0.052571\n",
      "Epoch: 0 batch #: 118  of 300 sample #: 199 reconstruction error: 0.080528\n",
      "Epoch: 0 batch #: 119  of 300 sample #: 199 reconstruction error: 0.107882\n",
      "Epoch: 0 batch #: 120  of 300 sample #: 199 reconstruction error: 0.067483\n",
      "Epoch: 0 batch #: 121  of 300 sample #: 199 reconstruction error: 0.051241\n",
      "Epoch: 0 batch #: 122  of 300 sample #: 199 reconstruction error: 0.090828\n",
      "Epoch: 0 batch #: 123  of 300 sample #: 199 reconstruction error: 0.055169\n",
      "Epoch: 0 batch #: 124  of 300 sample #: 199 reconstruction error: 0.077225\n",
      "Epoch: 0 batch #: 125  of 300 sample #: 199 reconstruction error: 0.047482\n",
      "Epoch: 0 batch #: 126  of 300 sample #: 199 reconstruction error: 0.099183\n",
      "Epoch: 0 batch #: 127  of 300 sample #: 199 reconstruction error: 0.099073\n",
      "Epoch: 0 batch #: 128  of 300 sample #: 199 reconstruction error: 0.065946\n",
      "Epoch: 0 batch #: 129  of 300 sample #: 199 reconstruction error: 0.053201\n",
      "Epoch: 0 batch #: 130  of 300 sample #: 199 reconstruction error: 0.092676\n",
      "Epoch: 0 batch #: 131  of 300 sample #: 199 reconstruction error: 0.059286\n",
      "Epoch: 0 batch #: 132  of 300 sample #: 199 reconstruction error: 0.035106\n",
      "Epoch: 0 batch #: 133  of 300 sample #: 199 reconstruction error: 0.065799\n",
      "Epoch: 0 batch #: 134  of 300 sample #: 199 reconstruction error: 0.109363\n",
      "Epoch: 0 batch #: 135  of 300 sample #: 199 reconstruction error: 0.097705\n",
      "Epoch: 0 batch #: 136  of 300 sample #: 199 reconstruction error: 0.091255\n",
      "Epoch: 0 batch #: 137  of 300 sample #: 199 reconstruction error: 0.073047\n",
      "Epoch: 0 batch #: 138  of 300 sample #: 199 reconstruction error: 0.071307\n",
      "Epoch: 0 batch #: 139  of 300 sample #: 199 reconstruction error: 0.126256\n",
      "Epoch: 0 batch #: 140  of 300 sample #: 199 reconstruction error: 0.088221\n",
      "Epoch: 0 batch #: 141  of 300 sample #: 199 reconstruction error: 0.097636\n",
      "Epoch: 0 batch #: 142  of 300 sample #: 199 reconstruction error: 0.057054\n",
      "Epoch: 0 batch #: 143  of 300 sample #: 199 reconstruction error: 0.051204\n",
      "Epoch: 0 batch #: 144  of 300 sample #: 199 reconstruction error: 0.057009\n",
      "Epoch: 0 batch #: 145  of 300 sample #: 199 reconstruction error: 0.097163\n",
      "Epoch: 0 batch #: 146  of 300 sample #: 199 reconstruction error: 0.105075\n",
      "Epoch: 0 batch #: 147  of 300 sample #: 199 reconstruction error: 0.070605\n",
      "Epoch: 0 batch #: 148  of 300 sample #: 199 reconstruction error: 0.081237\n",
      "Epoch: 0 batch #: 149  of 300 sample #: 199 reconstruction error: 0.045363\n",
      "Epoch: 0 batch #: 150  of 300 sample #: 199 reconstruction error: 0.027303\n",
      "Epoch: 0 batch #: 151  of 300 sample #: 199 reconstruction error: 0.096818\n",
      "Epoch: 0 batch #: 152  of 300 sample #: 199 reconstruction error: 0.091908\n",
      "Epoch: 0 batch #: 153  of 300 sample #: 199 reconstruction error: 0.051379\n",
      "Epoch: 0 batch #: 154  of 300 sample #: 199 reconstruction error: 0.075988\n",
      "Epoch: 0 batch #: 155  of 300 sample #: 199 reconstruction error: 0.063763\n",
      "Epoch: 0 batch #: 156  of 300 sample #: 199 reconstruction error: 0.081229\n",
      "Epoch: 0 batch #: 157  of 300 sample #: 199 reconstruction error: 0.080359\n",
      "Epoch: 0 batch #: 158  of 300 sample #: 199 reconstruction error: 0.055223\n",
      "Epoch: 0 batch #: 159  of 300 sample #: 199 reconstruction error: 0.058391\n",
      "Epoch: 0 batch #: 160  of 300 sample #: 199 reconstruction error: 0.075125\n",
      "Epoch: 0 batch #: 161  of 300 sample #: 199 reconstruction error: 0.069990\n",
      "Epoch: 0 batch #: 162  of 300 sample #: 199 reconstruction error: 0.123217\n",
      "Epoch: 0 batch #: 163  of 300 sample #: 199 reconstruction error: 0.046495\n",
      "Epoch: 0 batch #: 164  of 300 sample #: 199 reconstruction error: 0.065290\n",
      "Epoch: 0 batch #: 165  of 300 sample #: 199 reconstruction error: 0.082656\n",
      "Epoch: 0 batch #: 166  of 300 sample #: 199 reconstruction error: 0.072485\n",
      "Epoch: 0 batch #: 167  of 300 sample #: 199 reconstruction error: 0.074189\n",
      "Epoch: 0 batch #: 168  of 300 sample #: 199 reconstruction error: 0.050957\n",
      "Epoch: 0 batch #: 169  of 300 sample #: 199 reconstruction error: 0.036696\n",
      "Epoch: 0 batch #: 170  of 300 sample #: 199 reconstruction error: 0.060059\n",
      "Epoch: 0 batch #: 171  of 300 sample #: 199 reconstruction error: 0.033257\n",
      "Epoch: 0 batch #: 172  of 300 sample #: 199 reconstruction error: 0.054718\n",
      "Epoch: 0 batch #: 173  of 300 sample #: 199 reconstruction error: 0.072369\n",
      "Epoch: 0 batch #: 174  of 300 sample #: 199 reconstruction error: 0.111334\n",
      "Epoch: 0 batch #: 175  of 300 sample #: 199 reconstruction error: 0.076770\n",
      "Epoch: 0 batch #: 176  of 300 sample #: 199 reconstruction error: 0.055715\n",
      "Epoch: 0 batch #: 177  of 300 sample #: 199 reconstruction error: 0.021441\n",
      "Epoch: 0 batch #: 178  of 300 sample #: 199 reconstruction error: 0.114249\n",
      "Epoch: 0 batch #: 179  of 300 sample #: 199 reconstruction error: 0.075074\n",
      "Epoch: 0 batch #: 180  of 300 sample #: 199 reconstruction error: 0.098877\n",
      "Epoch: 0 batch #: 181  of 300 sample #: 199 reconstruction error: 0.094962\n",
      "Epoch: 0 batch #: 182  of 300 sample #: 199 reconstruction error: 0.075926\n",
      "Epoch: 0 batch #: 183  of 300 sample #: 199 reconstruction error: 0.103397\n",
      "Epoch: 0 batch #: 184  of 300 sample #: 199 reconstruction error: 0.062152\n",
      "Epoch: 0 batch #: 185  of 300 sample #: 199 reconstruction error: 0.056952\n",
      "Epoch: 0 batch #: 186  of 300 sample #: 199 reconstruction error: 0.112528\n",
      "Epoch: 0 batch #: 187  of 300 sample #: 199 reconstruction error: 0.051731\n",
      "Epoch: 0 batch #: 188  of 300 sample #: 199 reconstruction error: 0.111345\n",
      "Epoch: 0 batch #: 189  of 300 sample #: 199 reconstruction error: 0.079172\n",
      "Epoch: 0 batch #: 190  of 300 sample #: 199 reconstruction error: 0.062188\n",
      "Epoch: 0 batch #: 191  of 300 sample #: 199 reconstruction error: 0.108074\n",
      "Epoch: 0 batch #: 192  of 300 sample #: 199 reconstruction error: 0.122705\n",
      "Epoch: 0 batch #: 193  of 300 sample #: 199 reconstruction error: 0.088928\n",
      "Epoch: 0 batch #: 194  of 300 sample #: 199 reconstruction error: 0.075658\n",
      "Epoch: 0 batch #: 195  of 300 sample #: 199 reconstruction error: 0.053856\n",
      "Epoch: 0 batch #: 196  of 300 sample #: 199 reconstruction error: 0.067571\n",
      "Epoch: 0 batch #: 197  of 300 sample #: 199 reconstruction error: 0.041444\n",
      "Epoch: 0 batch #: 198  of 300 sample #: 199 reconstruction error: 0.107826\n",
      "Epoch: 0 batch #: 199  of 300 sample #: 199 reconstruction error: 0.088032\n",
      "Epoch: 0 batch #: 200  of 300 sample #: 199 reconstruction error: 0.093788\n",
      "Epoch: 0 batch #: 201  of 300 sample #: 199 reconstruction error: 0.104913\n",
      "Epoch: 0 batch #: 202  of 300 sample #: 199 reconstruction error: 0.031715\n",
      "Epoch: 0 batch #: 203  of 300 sample #: 199 reconstruction error: 0.106388\n",
      "Epoch: 0 batch #: 204  of 300 sample #: 199 reconstruction error: 0.051770\n",
      "Epoch: 0 batch #: 205  of 300 sample #: 199 reconstruction error: 0.015733\n",
      "Epoch: 0 batch #: 206  of 300 sample #: 199 reconstruction error: 0.071005\n",
      "Epoch: 0 batch #: 207  of 300 sample #: 199 reconstruction error: 0.077616\n",
      "Epoch: 0 batch #: 208  of 300 sample #: 199 reconstruction error: 0.061943\n",
      "Epoch: 0 batch #: 209  of 300 sample #: 199 reconstruction error: 0.028720\n",
      "Epoch: 0 batch #: 210  of 300 sample #: 199 reconstruction error: 0.106000\n",
      "Epoch: 0 batch #: 211  of 300 sample #: 199 reconstruction error: 0.105760\n",
      "Epoch: 0 batch #: 212  of 300 sample #: 199 reconstruction error: 0.086468\n",
      "Epoch: 0 batch #: 213  of 300 sample #: 199 reconstruction error: 0.078379\n",
      "Epoch: 0 batch #: 214  of 300 sample #: 199 reconstruction error: 0.119541\n",
      "Epoch: 0 batch #: 215  of 300 sample #: 199 reconstruction error: 0.028397\n",
      "Epoch: 0 batch #: 216  of 300 sample #: 199 reconstruction error: 0.101167\n",
      "Epoch: 0 batch #: 217  of 300 sample #: 199 reconstruction error: 0.086303\n",
      "Epoch: 0 batch #: 218  of 300 sample #: 199 reconstruction error: 0.069267\n",
      "Epoch: 0 batch #: 219  of 300 sample #: 199 reconstruction error: 0.086267\n",
      "Epoch: 0 batch #: 220  of 300 sample #: 199 reconstruction error: 0.055639\n",
      "Epoch: 0 batch #: 221  of 300 sample #: 199 reconstruction error: 0.083501\n",
      "Epoch: 0 batch #: 222  of 300 sample #: 199 reconstruction error: 0.075497\n",
      "Epoch: 0 batch #: 223  of 300 sample #: 199 reconstruction error: 0.066656\n",
      "Epoch: 0 batch #: 224  of 300 sample #: 199 reconstruction error: 0.069333\n",
      "Epoch: 0 batch #: 225  of 300 sample #: 199 reconstruction error: 0.085064\n",
      "Epoch: 0 batch #: 226  of 300 sample #: 199 reconstruction error: 0.122085\n",
      "Epoch: 0 batch #: 227  of 300 sample #: 199 reconstruction error: 0.076181\n",
      "Epoch: 0 batch #: 228  of 300 sample #: 199 reconstruction error: 0.063990\n",
      "Epoch: 0 batch #: 229  of 300 sample #: 199 reconstruction error: 0.071773\n",
      "Epoch: 0 batch #: 230  of 300 sample #: 199 reconstruction error: 0.042782\n",
      "Epoch: 0 batch #: 231  of 300 sample #: 199 reconstruction error: 0.029311\n",
      "Epoch: 0 batch #: 232  of 300 sample #: 199 reconstruction error: 0.065152\n",
      "Epoch: 0 batch #: 233  of 300 sample #: 199 reconstruction error: 0.091468\n",
      "Epoch: 0 batch #: 234  of 300 sample #: 199 reconstruction error: 0.071144\n",
      "Epoch: 0 batch #: 235  of 300 sample #: 199 reconstruction error: 0.071140\n",
      "Epoch: 0 batch #: 236  of 300 sample #: 199 reconstruction error: 0.107629\n",
      "Epoch: 0 batch #: 237  of 300 sample #: 199 reconstruction error: 0.079040\n",
      "Epoch: 0 batch #: 238  of 300 sample #: 199 reconstruction error: 0.098624\n",
      "Epoch: 0 batch #: 239  of 300 sample #: 199 reconstruction error: 0.026350\n",
      "Epoch: 0 batch #: 240  of 300 sample #: 199 reconstruction error: 0.090668\n",
      "Epoch: 0 batch #: 241  of 300 sample #: 199 reconstruction error: 0.070716\n",
      "Epoch: 0 batch #: 242  of 300 sample #: 199 reconstruction error: 0.068354\n",
      "Epoch: 0 batch #: 243  of 300 sample #: 199 reconstruction error: 0.075797\n",
      "Epoch: 0 batch #: 244  of 300 sample #: 199 reconstruction error: 0.070089\n",
      "Epoch: 0 batch #: 245  of 300 sample #: 199 reconstruction error: 0.048232\n",
      "Epoch: 0 batch #: 246  of 300 sample #: 199 reconstruction error: 0.103056\n",
      "Epoch: 0 batch #: 247  of 300 sample #: 199 reconstruction error: 0.039743\n",
      "Epoch: 0 batch #: 248  of 300 sample #: 199 reconstruction error: 0.078726\n",
      "Epoch: 0 batch #: 249  of 300 sample #: 199 reconstruction error: 0.042815\n",
      "Epoch: 0 batch #: 250  of 300 sample #: 199 reconstruction error: 0.092968\n",
      "Epoch: 0 batch #: 251  of 300 sample #: 199 reconstruction error: 0.056835\n",
      "Epoch: 0 batch #: 252  of 300 sample #: 199 reconstruction error: 0.071457\n",
      "Epoch: 0 batch #: 253  of 300 sample #: 199 reconstruction error: 0.050913\n",
      "Epoch: 0 batch #: 254  of 300 sample #: 199 reconstruction error: 0.027877\n",
      "Epoch: 0 batch #: 255  of 300 sample #: 199 reconstruction error: 0.048465\n",
      "Epoch: 0 batch #: 256  of 300 sample #: 199 reconstruction error: 0.085133\n",
      "Epoch: 0 batch #: 257  of 300 sample #: 199 reconstruction error: 0.084781\n",
      "Epoch: 0 batch #: 258  of 300 sample #: 199 reconstruction error: 0.085137\n",
      "Epoch: 0 batch #: 259  of 300 sample #: 199 reconstruction error: 0.078990\n",
      "Epoch: 0 batch #: 260  of 300 sample #: 199 reconstruction error: 0.078210\n",
      "Epoch: 0 batch #: 261  of 300 sample #: 199 reconstruction error: 0.034757\n",
      "Epoch: 0 batch #: 262  of 300 sample #: 199 reconstruction error: 0.060406\n",
      "Epoch: 0 batch #: 263  of 300 sample #: 199 reconstruction error: 0.071574\n",
      "Epoch: 0 batch #: 264  of 300 sample #: 199 reconstruction error: 0.074600\n",
      "Epoch: 0 batch #: 265  of 300 sample #: 199 reconstruction error: 0.067708\n",
      "Epoch: 0 batch #: 266  of 300 sample #: 199 reconstruction error: 0.040145\n",
      "Epoch: 0 batch #: 267  of 300 sample #: 199 reconstruction error: 0.054681\n",
      "Epoch: 0 batch #: 268  of 300 sample #: 199 reconstruction error: 0.024275\n",
      "Epoch: 0 batch #: 269  of 300 sample #: 199 reconstruction error: 0.093545\n",
      "Epoch: 0 batch #: 270  of 300 sample #: 199 reconstruction error: 0.078535\n",
      "Epoch: 0 batch #: 271  of 300 sample #: 199 reconstruction error: 0.054192\n",
      "Epoch: 0 batch #: 272  of 300 sample #: 199 reconstruction error: 0.059500\n",
      "Epoch: 0 batch #: 273  of 300 sample #: 199 reconstruction error: 0.046334\n",
      "Epoch: 0 batch #: 274  of 300 sample #: 199 reconstruction error: 0.059138\n",
      "Epoch: 0 batch #: 275  of 300 sample #: 199 reconstruction error: 0.088616\n",
      "Epoch: 0 batch #: 276  of 300 sample #: 199 reconstruction error: 0.071736\n",
      "Epoch: 0 batch #: 277  of 300 sample #: 199 reconstruction error: 0.077361\n",
      "Epoch: 0 batch #: 278  of 300 sample #: 199 reconstruction error: 0.057004\n",
      "Epoch: 0 batch #: 279  of 300 sample #: 199 reconstruction error: 0.052506\n",
      "Epoch: 0 batch #: 280  of 300 sample #: 199 reconstruction error: 0.090579\n",
      "Epoch: 0 batch #: 281  of 300 sample #: 199 reconstruction error: 0.066126\n",
      "Epoch: 0 batch #: 282  of 300 sample #: 199 reconstruction error: 0.114074\n",
      "Epoch: 0 batch #: 283  of 300 sample #: 199 reconstruction error: 0.053204\n",
      "Epoch: 0 batch #: 284  of 300 sample #: 199 reconstruction error: 0.044990\n",
      "Epoch: 0 batch #: 285  of 300 sample #: 199 reconstruction error: 0.063305\n",
      "Epoch: 0 batch #: 286  of 300 sample #: 199 reconstruction error: 0.087991\n",
      "Epoch: 0 batch #: 287  of 300 sample #: 199 reconstruction error: 0.072840\n",
      "Epoch: 0 batch #: 288  of 300 sample #: 199 reconstruction error: 0.034140\n",
      "Epoch: 0 batch #: 289  of 300 sample #: 199 reconstruction error: 0.079815\n",
      "Epoch: 0 batch #: 290  of 300 sample #: 199 reconstruction error: 0.091561\n",
      "Epoch: 0 batch #: 291  of 300 sample #: 199 reconstruction error: 0.102716\n",
      "Epoch: 0 batch #: 292  of 300 sample #: 199 reconstruction error: 0.064085\n",
      "Epoch: 0 batch #: 293  of 300 sample #: 199 reconstruction error: 0.051868\n",
      "Epoch: 0 batch #: 294  of 300 sample #: 199 reconstruction error: 0.101189\n",
      "Epoch: 0 batch #: 295  of 300 sample #: 199 reconstruction error: 0.076713\n",
      "Epoch: 0 batch #: 296  of 300 sample #: 199 reconstruction error: 0.020041\n",
      "Epoch: 0 batch #: 297  of 300 sample #: 199 reconstruction error: 0.108503\n",
      "Epoch: 0 batch #: 298  of 300 sample #: 199 reconstruction error: 0.050992\n",
      "Epoch: 0 batch #: 299  of 300 sample #: 199 reconstruction error: 0.066417\n",
      "Epoch: 0 batch #: 300  of 300 sample #: 199 reconstruction error: 0.086331\n"
     ]
    }
   ],
   "metadata": {}
  },
  {
   "cell_type": "markdown",
   "source": [
    "Let's take a look at the errors at the end of each batch:\r\n"
   ],
   "metadata": {}
  },
  {
   "cell_type": "code",
   "execution_count": 24,
   "source": [
    "plt.plot(errors)\r\n",
    "plt.xlabel(\"Batch Number\")\r\n",
    "plt.ylabel(\"Error\")\r\n",
    "plt.show()"
   ],
   "outputs": [
    {
     "output_type": "display_data",
     "data": {
      "text/plain": [
       "<Figure size 432x288 with 1 Axes>"
      ],
      "image/png": "[encoded data removed]"
     },
     "metadata": {
      "needs_background": "light"
     }
    }
   ],
   "metadata": {}
  },
  {
   "cell_type": "markdown",
   "source": [
    "What is the final weight matrix $W$ after training?\r\n"
   ],
   "metadata": {}
  },
  {
   "cell_type": "code",
   "execution_count": 25,
   "source": [
    "print(W.numpy()) # a weight matrix of shape (50,784)"
   ],
   "outputs": [
    {
     "output_type": "stream",
     "name": "stdout",
     "text": [
      "[[-0.4999998  -0.46999982 -0.33999994 ... -0.4799998  -0.33999994\n",
      "  -0.20000002]\n",
      " [-0.46999982 -0.4899998  -0.3899999  ... -0.4899998  -0.3899999\n",
      "  -0.24000004]\n",
      " [-0.41999987 -0.4799998  -0.36999992 ... -0.5299998  -0.45999983\n",
      "  -0.19000001]\n",
      " ...\n",
      " [-0.4799998  -0.4799998  -0.34999993 ... -0.5199998  -0.3999999\n",
      "  -0.18      ]\n",
      " [-0.41999987 -0.5099998  -0.34999993 ... -0.5199998  -0.43999985\n",
      "  -0.18      ]\n",
      " [-0.3899999  -0.44999984 -0.29999998 ... -0.57999974 -0.36999992\n",
      "  -0.24000004]]\n"
     ]
    }
   ],
   "metadata": {}
  },
  {
   "cell_type": "markdown",
   "source": [
    "<a id=\"ref5\"></a>\r\n",
    "\r\n",
    "<h3>Learned features</h3> \r\n"
   ],
   "metadata": {}
  },
  {
   "cell_type": "markdown",
   "source": [
    "We can take each hidden unit and visualize the connections between that hidden unit and each element in the input vector. In our case, we have 50 hidden units. Lets visualize those.\r\n"
   ],
   "metadata": {}
  },
  {
   "cell_type": "markdown",
   "source": [
    "Let's plot the current weights: <b>tile_raster_images</b> helps in generating an easy to grasp image from a set of samples or weights. It transforms the <b>uw</b> (with one flattened image per row of size 784), into an array (of size $28\\times28$) in which images are reshaped and laid out like tiles on a floor.\r\n"
   ],
   "metadata": {}
  },
  {
   "cell_type": "code",
   "execution_count": 26,
   "source": [
    "tile_raster_images(X=W.numpy().T, img_shape=(28, 28), tile_shape=(5, 10), tile_spacing=(1, 1))\r\n",
    "import matplotlib.pyplot as plt\r\n",
    "from PIL import Image\r\n",
    "%matplotlib inline\r\n",
    "image = Image.fromarray(tile_raster_images(X=W.numpy().T, img_shape=(28, 28) ,tile_shape=(5, 10), tile_spacing=(1, 1)))\r\n",
    "### Plot image\r\n",
    "plt.rcParams['figure.figsize'] = (18.0, 18.0)\r\n",
    "imgplot = plt.imshow(image)\r\n",
    "imgplot.set_cmap('gray')  "
   ],
   "outputs": [
    {
     "output_type": "display_data",
     "data": {
      "text/plain": [
       "<Figure size 1296x1296 with 1 Axes>"
      ],
      "image/png": "[encoded data removed]"
     },
     "metadata": {
      "needs_background": "light"
     }
    }
   ],
   "metadata": {}
  },
  {
   "cell_type": "markdown",
   "source": [
    "Each tile in the above visualization corresponds to a vector of connections between a hidden unit and visible layer's units.\r\n"
   ],
   "metadata": {}
  },
  {
   "cell_type": "markdown",
   "source": [
    "Let's look at one of the learned weights corresponding to one of hidden units for example. In this particular square, the gray color represents weight = 0, and the whiter it is, the more positive the weights are (closer to 1). Conversely, the darker pixels are, the more negative the weights. The positive pixels will increase the probability of activation in hidden units (after multiplying by input/visible pixels), and negative pixels will decrease the probability of a unit hidden to be 1 (activated). So, why is this important?  So we can see that this specific square (hidden unit) can detect a feature (e.g. a \"/\" shape) and if it exists in the input.\r\n"
   ],
   "metadata": {}
  },
  {
   "cell_type": "code",
   "execution_count": 27,
   "source": [
    "from PIL import Image\r\n",
    "image = Image.fromarray(tile_raster_images(X =W.numpy().T[10:11], img_shape=(28, 28),tile_shape=(1, 1), tile_spacing=(1, 1)))\r\n",
    "### Plot image\r\n",
    "plt.rcParams['figure.figsize'] = (4.0, 4.0)\r\n",
    "imgplot = plt.imshow(image)\r\n",
    "imgplot.set_cmap('gray')  "
   ],
   "outputs": [
    {
     "output_type": "display_data",
     "data": {
      "text/plain": [
       "<Figure size 288x288 with 1 Axes>"
      ],
      "image/png": "[encoded data removed]"
     },
     "metadata": {
      "needs_background": "light"
     }
    }
   ],
   "metadata": {}
  },
  {
   "cell_type": "markdown",
   "source": [
    "Let's look at the reconstruction of an image now. Imagine that we have a destructed image of figure 3. Lets see if our trained network can fix it:\r\n",
    "\r\n",
    "First we plot the image:\r\n"
   ],
   "metadata": {}
  },
  {
   "cell_type": "code",
   "execution_count": 28,
   "source": [
    "img = Image.open('destructed3.jpg')\r\n",
    "img"
   ],
   "outputs": [
    {
     "output_type": "execute_result",
     "data": {
      "text/plain": [
       "<PIL.JpegImagePlugin.JpegImageFile image mode=RGB size=181x181 at 0x357A8100>"
      ],
      "image/png": "[encoded data removed]"
     },
     "metadata": {},
     "execution_count": 28
    }
   ],
   "metadata": {}
  },
  {
   "cell_type": "markdown",
   "source": [
    "Now let's pass this image through the neural net:\r\n"
   ],
   "metadata": {}
  },
  {
   "cell_type": "code",
   "execution_count": 29,
   "source": [
    "# convert the image to a 1d numpy array\r\n",
    "sample_case = np.array(img.convert('I').resize((28,28))).ravel().reshape((1, -1))/255.0\r\n",
    "\r\n",
    "sample_case = tf.cast(sample_case, dtype=tf.float32)"
   ],
   "outputs": [],
   "metadata": {}
  },
  {
   "cell_type": "markdown",
   "source": [
    "Feed the sample case into the network and reconstruct the output:\r\n"
   ],
   "metadata": {}
  },
  {
   "cell_type": "code",
   "execution_count": 30,
   "source": [
    "hh0_p = tf.nn.sigmoid(tf.matmul(sample_case, W) + hb)\r\n",
    "hh0_s = tf.round(hh0_p)\r\n",
    "\r\n",
    "print(\"Probability nodes in hidden layer:\" ,hh0_p)\r\n",
    "print(\"activated nodes in hidden layer:\" ,hh0_s)\r\n",
    "\r\n",
    "# reconstruct\r\n",
    "vv1_p = tf.nn.sigmoid(tf.matmul(hh0_s, tf.transpose(W)) + vb)\r\n",
    "\r\n",
    "print(vv1_p)\r\n",
    "#rec_prob = sess.run(vv1_p, feed_dict={ hh0_s: hh0_s_val, W: prv_w, vb: prv_vb})"
   ],
   "outputs": [
    {
     "output_type": "stream",
     "name": "stdout",
     "text": [
      "Probability nodes in hidden layer: tf.Tensor(\n",
      "[[6.9641203e-01 1.0000000e+00 5.4719536e-09 4.9333630e-07 7.0076858e-05\n",
      "  1.0913673e-01 3.5677174e-13 3.5278076e-09 6.7121291e-01 7.9954932e-12\n",
      "  1.0880701e-12 1.4330285e-09 1.4525354e-03 6.7404473e-01 1.4188597e-15\n",
      "  1.0000000e+00 9.9984908e-01 6.7776224e-10 7.0731517e-08 3.5011470e-03\n",
      "  9.2163987e-17 1.3489389e-01 9.9786258e-01 8.4722592e-07 4.4055879e-03\n",
      "  9.8673159e-01 9.6059060e-01 1.8882641e-08 1.2528752e-11 1.0230659e-12\n",
      "  9.9985540e-01 7.1073252e-01 1.0000000e+00 7.4760370e-05 2.5593966e-02\n",
      "  2.8548539e-03 7.1439172e-18 2.5835574e-02 1.6857359e-10 3.8358641e-01\n",
      "  1.0000000e+00 1.1393826e-13 5.5066489e-06 1.0000000e+00 1.0000000e+00\n",
      "  1.9535794e-06 6.4549255e-11 9.9999702e-01 2.3559302e-02 4.4025910e-07]], shape=(1, 50), dtype=float32)\n",
      "activated nodes in hidden layer: tf.Tensor(\n",
      "[[1. 1. 0. 0. 0. 0. 0. 0. 1. 0. 0. 0. 0. 1. 0. 1. 1. 0. 0. 0. 0. 0. 1. 0.\n",
      "  0. 1. 1. 0. 0. 0. 1. 1. 1. 0. 0. 0. 0. 0. 0. 0. 1. 0. 0. 1. 1. 0. 0. 1.\n",
      "  0. 0.]], shape=(1, 50), dtype=float32)\n",
      "tf.Tensor(\n",
      "[[5.38259745e-04 4.72664833e-04 3.33219767e-04 4.58627939e-04\n",
      "  4.96864319e-04 4.27722931e-04 3.71843576e-04 4.63277102e-04\n",
      "  5.71429729e-04 3.71843576e-04 3.90917063e-04 4.49568033e-04\n",
      "  5.40554523e-04 3.41117382e-04 4.51326370e-04 3.54200602e-04\n",
      "  7.26401806e-04 2.44438648e-04 6.50763512e-04 2.92509794e-04\n",
      "  3.43292952e-04 4.19199467e-04 5.01871109e-04 3.01510096e-04\n",
      "  5.11974096e-04 4.58627939e-04 5.60224056e-04 3.79294157e-04\n",
      "  3.98784876e-04 3.75628471e-04 3.79353762e-04 5.54621220e-04\n",
      "  5.50866127e-04 5.54323196e-04 5.41090965e-04 3.76850367e-04\n",
      "  5.19067049e-04 3.37302685e-04 4.40210104e-04 5.37931919e-04\n",
      "  2.86966562e-04 4.75615263e-04 5.21719456e-04 3.83973122e-04\n",
      "  4.49717045e-04 8.83758068e-04 7.08997250e-04 4.30494547e-04\n",
      "  4.46379185e-04 7.74800777e-04 4.44650650e-04 3.68326902e-04\n",
      "  3.60846519e-04 3.79294157e-04 4.77343798e-04 3.04520130e-04\n",
      "  4.36335802e-04 3.57329845e-04 4.34190035e-04 4.01824713e-04\n",
      "  5.74171543e-04 4.57823277e-04 3.73542309e-04 2.85178423e-04\n",
      "  1.53034925e-04 1.83582306e-04 9.11331153e-05 1.11817622e-04\n",
      "  1.24067068e-04 1.85906887e-04 1.96516514e-04 4.66942787e-04\n",
      "  5.07473946e-04 2.09331512e-04 2.23577023e-04 1.09251327e-04\n",
      "  1.17860021e-04 2.82049179e-04 4.66197729e-04 3.77535820e-04\n",
      "  4.73052263e-04 3.47316265e-04 4.91917133e-04 3.26573849e-04\n",
      "  5.32865524e-04 3.98784876e-04 3.16679478e-04 2.99990177e-04\n",
      "  7.43538141e-04 3.85224819e-04 3.52084637e-04 2.00867653e-04\n",
      "  6.38213460e-05 5.19443129e-05 9.06490095e-05 1.58071518e-04\n",
      "  4.35680151e-04 5.44071198e-04 9.38147306e-04 2.72637606e-03\n",
      "  2.36484408e-03 2.61747837e-03 1.29038095e-03 1.27583742e-03\n",
      "  5.22762537e-04 8.45938921e-04 4.31120396e-04 8.45283270e-04\n",
      "  3.59594822e-04 5.21779060e-04 4.07844782e-04 5.60224056e-04\n",
      "  3.10659409e-04 4.44859266e-04 3.85493040e-04 6.15656376e-04\n",
      "  4.57018614e-04 8.47369432e-04 6.43223524e-04 1.79678202e-04\n",
      "  9.89058608e-05 3.15129757e-04 7.15225935e-04 3.51843238e-03\n",
      "  1.33631527e-02 3.14121842e-02 1.45039499e-01 2.34174430e-01\n",
      "  1.44059747e-01 5.94435632e-02 8.37158859e-02 3.34562361e-02\n",
      "  3.19167972e-02 1.62129998e-02 1.47147477e-02 9.99346375e-03\n",
      "  3.70103121e-03 1.48066878e-03 5.74469566e-04 6.22659922e-04\n",
      "  3.57210636e-04 4.49627638e-04 4.60416079e-04 3.98129225e-04\n",
      "  9.82761383e-04 6.41644001e-04 3.56703997e-04 1.64270401e-04\n",
      "  7.72625208e-04 4.38773632e-03 1.89869404e-02 9.45286751e-02\n",
      "  3.49995375e-01 6.70203984e-01 8.97588253e-01 9.48605359e-01\n",
      "  8.70564580e-01 7.58458495e-01 5.50207078e-01 3.55379015e-01\n",
      "  3.46606135e-01 1.39122337e-01 1.20769292e-01 3.24945748e-02\n",
      "  1.30704939e-02 3.58885527e-03 1.50272250e-03 3.80873680e-04\n",
      "  8.10801983e-04 4.29928303e-04 4.79817390e-04 1.23241544e-03\n",
      "  1.02767348e-03 3.17633152e-04 4.42594290e-04 2.90393829e-04\n",
      "  2.31507421e-03 8.25932622e-03 2.07207859e-01 4.68625665e-01\n",
      "  8.14507961e-01 9.53980923e-01 9.72151101e-01 9.57660854e-01\n",
      "  8.96224856e-01 8.35085690e-01 8.07149410e-01 8.56910050e-01\n",
      "  8.06777298e-01 3.42197239e-01 2.61137992e-01 8.38794112e-02\n",
      "  2.98435390e-02 5.77372313e-03 3.46523523e-03 4.16070223e-04\n",
      "  2.90483236e-04 4.53084707e-04 8.32289457e-04 1.23575330e-03\n",
      "  9.90062952e-04 3.16947699e-04 1.20691933e-04 4.67300415e-04\n",
      "  3.77511978e-03 1.54777110e-01 5.87922037e-01 8.59792471e-01\n",
      "  9.39965963e-01 9.14824128e-01 8.65455151e-01 7.54121304e-01\n",
      "  5.00359952e-01 5.40740490e-01 6.50389552e-01 8.48142028e-01\n",
      "  9.28637862e-01 6.95567966e-01 2.20630616e-01 1.18579924e-01\n",
      "  2.22691596e-02 1.77353621e-03 2.55879760e-03 5.10692596e-04\n",
      "  3.49193811e-04 6.95705414e-04 1.19021535e-03 1.11788511e-03\n",
      "  7.40110874e-04 2.59369612e-04 6.63518906e-04 2.56425142e-03\n",
      "  3.51746976e-02 4.09359217e-01 7.89666653e-01 9.63832617e-01\n",
      "  8.78424823e-01 7.21734822e-01 2.93646038e-01 1.58616662e-01\n",
      "  9.63282883e-02 8.00434649e-02 2.98325062e-01 8.34697962e-01\n",
      "  9.12711978e-01 8.20971191e-01 4.01035905e-01 7.46425390e-02\n",
      "  8.17114115e-03 2.49838829e-03 9.77665186e-04 5.59896231e-04\n",
      "  3.20136547e-04 6.82950020e-04 1.01366639e-03 9.49889421e-04\n",
      "  1.14834309e-03 8.25136900e-04 2.09251046e-03 1.67634785e-02\n",
      "  1.70825154e-01 7.05393434e-01 8.64478290e-01 8.88527274e-01\n",
      "  3.06997299e-01 1.19139910e-01 4.48188782e-02 2.04086602e-02\n",
      "  1.74619555e-02 4.16677892e-02 4.08340216e-01 7.62769938e-01\n",
      "  8.65854859e-01 8.03637445e-01 4.29738104e-01 4.85309362e-02\n",
      "  9.05501842e-03 1.32796168e-03 6.70850277e-04 4.37617302e-04\n",
      "  4.67836857e-04 1.06838346e-03 2.67395377e-03 2.58272886e-03\n",
      "  1.67936087e-03 1.77729130e-03 7.09989667e-03 5.37614822e-02\n",
      "  3.47503722e-01 7.50732541e-01 8.57892871e-01 6.32031322e-01\n",
      "  3.76827419e-02 3.45430374e-02 2.84378231e-02 1.95021629e-02\n",
      "  3.20333540e-02 1.16823465e-01 4.72589403e-01 7.07822323e-01\n",
      "  7.15400577e-01 5.52781999e-01 1.63681835e-01 1.57735348e-02\n",
      "  2.90653110e-03 8.85546207e-04 6.08295202e-04 6.77347183e-04\n",
      "  4.26352024e-04 6.58005476e-04 1.81999803e-03 2.60794163e-03\n",
      "  3.10477614e-03 4.03642654e-03 1.17865503e-02 4.10327315e-02\n",
      "  2.39148021e-01 5.46578765e-01 5.31312466e-01 2.14495331e-01\n",
      "  7.05695748e-02 7.33172297e-02 2.12833583e-01 2.60761380e-01\n",
      "  4.03270900e-01 3.55566919e-01 4.99238431e-01 5.53626359e-01\n",
      "  3.36348653e-01 8.42334628e-02 1.43233836e-02 3.64670157e-03\n",
      "  1.61615014e-03 1.11946464e-03 8.15331936e-04 3.15129757e-04\n",
      "  3.27706337e-04 7.99864531e-04 1.85799599e-03 2.20528245e-03\n",
      "  3.07366252e-03 5.92115521e-03 1.30740404e-02 1.93211436e-02\n",
      "  6.60572648e-02 2.07966894e-01 3.37306917e-01 3.20705861e-01\n",
      "  4.99803126e-01 6.04223311e-01 9.26608384e-01 8.36215019e-01\n",
      "  7.60805428e-01 4.58938301e-01 4.67160165e-01 3.22784215e-01\n",
      "  8.67480338e-02 2.37127244e-02 3.49619985e-03 9.21458006e-04\n",
      "  4.47362661e-04 1.03506446e-03 4.86701727e-04 3.23295593e-04\n",
      "  4.11957502e-04 4.38719988e-04 9.40531492e-04 1.13412738e-03\n",
      "  3.14530730e-03 8.70043039e-03 1.38004720e-02 1.11692548e-02\n",
      "  1.44177675e-02 5.30085862e-02 1.72603607e-01 5.61883867e-01\n",
      "  8.27147126e-01 9.35578704e-01 9.47798312e-01 8.66022766e-01\n",
      "  8.01748395e-01 4.42797452e-01 1.62200421e-01 1.72698319e-01\n",
      "  1.97243989e-02 3.92568111e-03 1.35466456e-03 4.57406044e-04\n",
      "  3.91960144e-04 5.71161509e-04 9.45061445e-04 5.77777624e-04\n",
      "  4.92960215e-04 3.92675400e-04 8.27521086e-04 1.78351998e-03\n",
      "  5.20822406e-03 5.72529435e-03 6.24611974e-03 4.56020236e-03\n",
      "  4.03594971e-03 8.15090537e-03 8.50860476e-02 5.39936960e-01\n",
      "  6.87448621e-01 8.44073772e-01 8.47418249e-01 8.13167572e-01\n",
      "  7.93535233e-01 5.36976874e-01 1.68108255e-01 4.29701507e-02\n",
      "  1.09314322e-02 2.86874175e-03 4.24802303e-04 2.78174877e-04\n",
      "  3.59594822e-04 2.53379345e-04 6.04093075e-04 3.35186720e-04\n",
      "  6.33329153e-04 5.00708818e-04 8.03202391e-04 2.15235353e-03\n",
      "  5.52755594e-03 9.85565782e-03 6.00367785e-03 1.54489279e-03\n",
      "  1.36959553e-03 1.08864903e-03 4.15384769e-03 2.32675076e-02\n",
      "  1.20021075e-01 2.70324528e-01 2.48532832e-01 4.97498959e-01\n",
      "  4.95615721e-01 4.13180709e-01 4.07152295e-01 4.50301766e-02\n",
      "  7.52687454e-03 9.93788242e-04 1.06775761e-03 2.90244818e-04\n",
      "  2.85685062e-04 1.83105469e-04 4.01228666e-04 3.37094069e-04\n",
      "  5.24461269e-04 5.27679920e-04 1.14127994e-03 6.59313798e-03\n",
      "  2.12163031e-02 2.23048031e-02 1.64132416e-02 6.29284978e-03\n",
      "  1.04641914e-03 8.84681940e-04 9.55402851e-04 2.29763985e-03\n",
      "  4.61035967e-03 8.41316581e-03 6.12820387e-02 8.93575549e-02\n",
      "  5.56734741e-01 5.89421630e-01 3.38883698e-01 1.08281910e-01\n",
      "  1.26172900e-02 3.19305062e-03 7.31021166e-04 2.98112631e-04\n",
      "  1.84118748e-04 1.71005726e-04 4.13119793e-04 6.39110804e-04\n",
      "  4.14997339e-04 3.13907862e-04 2.10332870e-03 1.22637749e-02\n",
      "  8.28258991e-02 4.30938601e-02 4.62158024e-02 1.64171755e-02\n",
      "  5.17886877e-03 1.80584192e-03 1.45387650e-03 1.18017197e-03\n",
      "  2.88751721e-03 3.10844183e-03 1.07254088e-02 5.46530783e-02\n",
      "  2.42359370e-01 6.81003571e-01 6.05372965e-01 1.76198006e-01\n",
      "  8.10667872e-03 1.83793902e-03 6.68466091e-04 3.60757113e-04\n",
      "  4.82022762e-04 2.36153603e-04 4.07516956e-04 5.45471907e-04\n",
      "  3.95745039e-04 3.41773033e-04 2.59703398e-03 3.65311503e-02\n",
      "  2.14453816e-01 1.62554085e-01 2.43813396e-01 5.32059371e-02\n",
      "  1.00217760e-02 5.85356355e-03 2.48521566e-03 2.58249044e-03\n",
      "  1.24976039e-03 1.25899911e-03 3.53959203e-03 1.63493156e-02\n",
      "  1.24696255e-01 7.46230006e-01 6.97166741e-01 3.10467958e-01\n",
      "  1.64450109e-02 1.10855699e-03 5.41776419e-04 4.01318073e-04\n",
      "  5.18620014e-04 2.83390284e-04 6.54011965e-04 3.89695168e-04\n",
      "  4.21434641e-04 6.11633062e-04 5.98713756e-03 6.66775703e-02\n",
      "  3.33881468e-01 5.60091197e-01 4.34794009e-01 3.69736612e-01\n",
      "  9.68631804e-02 1.77276134e-02 1.51471198e-02 8.71279836e-03\n",
      "  5.00792265e-03 5.01590967e-03 5.05653024e-03 2.44814456e-02\n",
      "  1.90371275e-01 5.75505972e-01 7.11695194e-01 2.37866938e-01\n",
      "  4.74420190e-03 1.01569295e-03 5.07891178e-04 4.52190638e-04\n",
      "  4.09096479e-04 2.40772963e-04 6.90728426e-04 3.99440527e-04\n",
      "  3.33160162e-04 3.58581543e-04 6.24400377e-03 9.78525877e-02\n",
      "  5.18752992e-01 5.23543417e-01 7.66754746e-01 6.79374158e-01\n",
      "  4.48628336e-01 1.77718729e-01 1.05802834e-01 5.86301684e-02\n",
      "  1.33713782e-02 1.25227273e-02 2.14835107e-02 5.96833229e-02\n",
      "  3.90823841e-01 7.04894245e-01 5.70297539e-01 5.64854443e-02\n",
      "  3.29965353e-03 7.16179609e-04 8.80450010e-04 3.80486250e-04\n",
      "  3.37183475e-04 7.64220953e-04 8.42839479e-04 4.72396612e-04\n",
      "  6.83277845e-04 3.49014997e-04 5.73378801e-03 1.37867510e-01\n",
      "  3.40085745e-01 3.57539833e-01 6.35510802e-01 8.31698656e-01\n",
      "  8.07065845e-01 5.52319705e-01 4.85342443e-01 2.56082118e-01\n",
      "  1.58317864e-01 9.92228091e-02 2.48060465e-01 4.92537439e-01\n",
      "  6.09882712e-01 7.69057393e-01 2.80282736e-01 3.59318852e-02\n",
      "  4.51919436e-03 7.37160444e-04 2.38984823e-04 1.05014443e-03\n",
      "  6.98983669e-04 5.14060259e-04 4.31448221e-04 2.88277864e-04\n",
      "  4.58031893e-04 3.91304493e-04 2.38645077e-03 3.16058695e-02\n",
      "  1.73266917e-01 3.44174504e-01 5.66799998e-01 8.43738437e-01\n",
      "  8.84649277e-01 8.57885778e-01 7.67394543e-01 7.26750255e-01\n",
      "  7.22456872e-01 7.54470706e-01 7.78741598e-01 8.64778399e-01\n",
      "  8.30410063e-01 4.64462817e-01 1.44344896e-01 2.44607627e-02\n",
      "  2.98175216e-03 1.66118145e-03 1.17331743e-03 7.40468502e-04\n",
      "  6.94125891e-04 8.27193260e-04 3.16798687e-04 3.90172005e-04\n",
      "  3.26573849e-04 5.11974096e-04 6.80953264e-04 8.26659799e-03\n",
      "  5.78617156e-02 2.01424241e-01 4.18130547e-01 6.50932670e-01\n",
      "  7.29993641e-01 9.29658294e-01 9.33860302e-01 9.29645836e-01\n",
      "  8.88170004e-01 7.88793504e-01 7.23550797e-01 6.18632257e-01\n",
      "  3.67863417e-01 8.21501315e-02 2.40396857e-02 6.28533959e-03\n",
      "  4.06733155e-03 2.87994742e-03 8.86172056e-04 1.44946575e-03\n",
      "  7.55518675e-04 5.91725111e-04 4.15652990e-04 2.86757946e-04\n",
      "  4.27663326e-04 3.13758850e-04 5.88923693e-04 1.67211890e-03\n",
      "  1.36302412e-02 1.01138085e-01 2.12138027e-01 3.05684566e-01\n",
      "  7.09376395e-01 6.83155417e-01 7.33302236e-01 6.85591638e-01\n",
      "  6.25573993e-01 3.65620375e-01 1.48865610e-01 9.60906744e-02\n",
      "  1.76498592e-02 1.50341988e-02 8.89417529e-03 4.48331237e-03\n",
      "  3.04564834e-03 1.28960609e-03 6.99877739e-04 8.75145197e-04\n",
      "  5.69432974e-04 4.56869602e-04 4.92721796e-04 5.88834286e-04\n",
      "  3.86983156e-04 3.75509262e-04 4.29600477e-04 3.59982252e-04\n",
      "  1.07753277e-03 2.19282508e-03 5.31119108e-03 2.12782323e-02\n",
      "  5.92869520e-02 2.76398063e-02 1.72100067e-02 1.30804181e-02\n",
      "  9.39288735e-03 3.25775146e-03 1.15415454e-03 1.54229999e-03\n",
      "  5.17770648e-03 5.91644645e-03 5.08108735e-03 2.68363953e-03\n",
      "  1.34348869e-03 6.73055649e-04 5.49525023e-04 3.80605459e-04\n",
      "  5.36382198e-04 3.76850367e-04 3.66777182e-04 4.19199467e-04\n",
      "  2.92509794e-04 4.27722931e-04 4.72605228e-04 4.40388918e-04\n",
      "  3.92377377e-04 1.24067068e-03 1.37579441e-03 1.04641914e-03\n",
      "  8.61674547e-04 7.70837069e-04 1.45071745e-03 1.24493241e-03\n",
      "  9.50455666e-04 2.57164240e-04 5.13076782e-04 8.86738300e-04\n",
      "  1.52462721e-03 1.04853511e-03 1.39659643e-03 6.08563423e-04\n",
      "  6.99520111e-04 4.24623489e-04 8.19891691e-04 5.62906265e-04\n",
      "  3.55988741e-04 3.60280275e-04 3.16858292e-04 4.06831503e-04\n",
      "  5.11974096e-04 4.87029552e-04 3.04520130e-04 7.19159842e-04\n",
      "  4.47571278e-04 5.44220209e-04 5.92589378e-04 8.64237547e-04\n",
      "  1.15841627e-03 1.12718344e-03 1.43432617e-03 1.67062879e-03\n",
      "  1.05819106e-03 9.73314047e-04 1.34912133e-03 1.11728907e-03\n",
      "  9.02235508e-04 1.73130631e-03 7.36802816e-04 7.49826431e-04\n",
      "  4.24325466e-04 4.27603722e-04 4.27633524e-04 5.36262989e-04\n",
      "  4.87059355e-04 3.39895487e-04 4.67926264e-04 4.87029552e-04]], shape=(1, 784), dtype=float32)\n"
     ]
    }
   ],
   "metadata": {}
  },
  {
   "cell_type": "markdown",
   "source": [
    "Here we plot the reconstructed image:\r\n"
   ],
   "metadata": {}
  },
  {
   "cell_type": "code",
   "execution_count": 31,
   "source": [
    "img = Image.fromarray(tile_raster_images(X=vv1_p.numpy(), img_shape=(28, 28),tile_shape=(1, 1), tile_spacing=(1, 1)))\r\n",
    "plt.rcParams['figure.figsize'] = (4.0, 4.0)\r\n",
    "imgplot = plt.imshow(img)\r\n",
    "imgplot.set_cmap('gray') "
   ],
   "outputs": [
    {
     "output_type": "display_data",
     "data": {
      "text/plain": [
       "<Figure size 288x288 with 1 Axes>"
      ],
      "image/png": "[encoded data removed]"
     },
     "metadata": {
      "needs_background": "light"
     }
    }
   ],
   "metadata": {}
  },
  {
   "cell_type": "code",
   "execution_count": null,
   "source": [],
   "outputs": [],
   "metadata": {}
  }
 ],
 "metadata": {
  "orig_nbformat": 4,
  "language_info": {
   "name": "python",
   "version": "3.8.8",
   "mimetype": "text/x-python",
   "codemirror_mode": {
    "name": "ipython",
    "version": 3
   },
   "pygments_lexer": "ipython3",
   "nbconvert_exporter": "python",
   "file_extension": ".py"
  },
  "kernelspec": {
   "name": "python3",
   "display_name": "Python 3.8.8 64-bit ('base': conda)"
  },
  "interpreter": {
   "hash": "c0f70214c0dd213f07f54ee5d6e0ea644bdbba35113c9bfe8aaa0d1db03ad5dd"
  }
 },
 "nbformat": 4,
 "nbformat_minor": 2
}