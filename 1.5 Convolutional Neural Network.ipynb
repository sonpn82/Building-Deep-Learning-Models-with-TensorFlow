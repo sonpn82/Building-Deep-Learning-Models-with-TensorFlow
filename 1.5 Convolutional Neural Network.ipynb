{
 "cells": [
  {
   "cell_type": "markdown",
   "source": [
    "# IBM Developer Skills Network"
   ],
   "metadata": {}
  },
  {
   "cell_type": "markdown",
   "source": [
    "# Convolutional Neural Network"
   ],
   "metadata": {}
  },
  {
   "cell_type": "markdown",
   "source": [
    "<a id=\"ref1\"></a>\r\n",
    "\r\n",
    "<h2>What is Deep Learning?</h2>"
   ],
   "metadata": {}
  },
  {
   "cell_type": "markdown",
   "source": [
    "<b>Brief Theory:</b> Deep learning (also known as deep structured learning, hierarchical learning or deep machine learning) is a branch of machine learning based on a set of algorithms that attempt to model high-level abstractions in data by using multiple processing layers, with complex structures or otherwise, composed of multiple non-linear transformations."
   ],
   "metadata": {}
  },
  {
   "cell_type": "markdown",
   "source": [
    "<img src=\"https://ibm.box.com/shared/static/gcbbrh440604cj2nksu3f44be87b8ank.png\" alt=\"HTML5 Icon\" style=\"width: 600px; height: 450px;\">\r\n",
    "<div style=\"text-align: center\">It's time for deep learning. Our brain doesn't work with only one or three layers. Why it would be different with machines?. </div>\r\n"
   ],
   "metadata": {}
  },
  {
   "cell_type": "markdown",
   "source": [
    "<b>In Practice, defining the term \"Deep\":</b> in this context, deep means that we are studying a Neural Network which has several hidden layers (more than one), no matter what type (convolutional, pooling, normalization, fully-connected etc). The most interesting part is that some papers noticed that Deep Neural Networks with the right architectures/hyper-parameters achieve better results than shallow Neural Networks with the same computational power (e.g. number of neurons or connections)."
   ],
   "metadata": {}
  },
  {
   "cell_type": "markdown",
   "source": [
    "<b>In Practice, defining \"Learning\":</b> In the context of supervised learning, digits recognition in our case, the learning part consists of a target/feature which is to be predicted using a given set of observations with the already known final prediction (label). In our case, the target will be the digit (0, 1, 2, 3, 4, 5, 6, 7, 8, 9) and the observations are the intensity and relative position of the pixels. After some training, it is possible to generate a \"function\" that map inputs (digit image) to desired outputs(type of digit). The only problem is how well this map operation occurs. While trying to generate this \"function\", the training process continues until the model achieves a desired level of accuracy on the training data."
   ],
   "metadata": {}
  },
  {
   "cell_type": "code",
   "execution_count": 2,
   "source": [
    "import tensorflow as tf\r\n",
    "from IPython.display import Markdown, display"
   ],
   "outputs": [],
   "metadata": {}
  },
  {
   "cell_type": "code",
   "execution_count": 3,
   "source": [
    "print(tf.__version__)"
   ],
   "outputs": [
    {
     "output_type": "stream",
     "name": "stdout",
     "text": [
      "2.3.0\n"
     ]
    }
   ],
   "metadata": {}
  },
  {
   "cell_type": "code",
   "execution_count": 4,
   "source": [
    "def printmd(string):\r\n",
    "    display(Markdown('# <span style=\"color:red\">'+string+'</span>'))"
   ],
   "outputs": [],
   "metadata": {}
  },
  {
   "cell_type": "markdown",
   "source": [
    "# 1st part: Classify MNIST using a simple model"
   ],
   "metadata": {}
  },
  {
   "cell_type": "markdown",
   "source": [
    "According to LeCun's website, the MNIST is a: \"database of handwritten digits that has a training set of 60,000 examples, and a test set of 10,000 examples. It is a subset of a larger set available from NIST. The digits have been size-normalized and centered in a fixed-size image\"."
   ],
   "metadata": {}
  },
  {
   "cell_type": "markdown",
   "source": [
    "<h3>Import the MNIST dataset using TensorFlow built-in feature</h3>\r\n"
   ],
   "metadata": {}
  },
  {
   "cell_type": "markdown",
   "source": [
    "It's very important to notice that MNIST is a high optimized data-set and it does not contain images. You will need to build your own code if you want to see the real digits. Another important side note is the effort that the authors invested on this data-set with normalization and centering operations."
   ],
   "metadata": {}
  },
  {
   "cell_type": "code",
   "execution_count": 5,
   "source": [
    "mnist = tf.keras.datasets.mnist\r\n",
    "(x_train, y_train), (x_test, y_test) = mnist.load_data()"
   ],
   "outputs": [],
   "metadata": {}
  },
  {
   "cell_type": "code",
   "execution_count": 6,
   "source": [
    "# Normalize data from 0-255 to 0-1\r\n",
    "x_train, x_test = x_train/255.0, x_test/255.0"
   ],
   "outputs": [],
   "metadata": {}
  },
  {
   "cell_type": "code",
   "execution_count": 7,
   "source": [
    "print(y_train[0:5])"
   ],
   "outputs": [
    {
     "output_type": "stream",
     "name": "stdout",
     "text": [
      "[5 0 4 1 9]\n"
     ]
    }
   ],
   "metadata": {}
  },
  {
   "cell_type": "code",
   "execution_count": 8,
   "source": [
    "type(y_train[0])"
   ],
   "outputs": [
    {
     "output_type": "execute_result",
     "data": {
      "text/plain": [
       "numpy.uint8"
      ]
     },
     "metadata": {},
     "execution_count": 8
    }
   ],
   "metadata": {}
  },
  {
   "cell_type": "markdown",
   "source": [
    "The current label scheme simply identifies the category to which each data point belongs (each handwritten digit is assigned a category equal to the number value).  We need to convert this into a one-hot encoded vector.  In contrast to Binary representation, the labels will be presented in a way that to represent a number N, the $N^{th}$ bit is 1 while the the other bits are 0. For example, five and zero in a binary code would be:"
   ],
   "metadata": {}
  },
  {
   "cell_type": "markdown",
   "source": [
    "Using a different notation, the same digits using one-hot vector representation can be show as:\r\n"
   ],
   "metadata": {}
  },
  {
   "cell_type": "markdown",
   "source": [
    "<pre>\r\n",
    "Number representation:    0\r\n",
    "One-hot encoding:        [5]   [4]    [3]    [2]    [1]   [0]  \r\n",
    "Array/vector:             0     0      0      0      0     1   \r\n",
    "\r\n",
    "Number representation:    5\r\n",
    "One-hot encoding:        [5]   [4]    [3]    [2]    [1]    [0]  \r\n",
    "Array/vector:             1     0      0      0      0      0   \r\n",
    "</pre>"
   ],
   "metadata": {}
  },
  {
   "cell_type": "code",
   "execution_count": 9,
   "source": [
    "# make label one hot\r\n",
    "y_train = tf.one_hot(y_train, 10)\r\n",
    "y_test = tf.one_hot(y_test, 10)\r\n",
    "\r\n",
    "print('one hot encoded labels')\r\n",
    "print(y_train[0:5])"
   ],
   "outputs": [
    {
     "output_type": "stream",
     "name": "stdout",
     "text": [
      "one hot encoded labels\n",
      "tf.Tensor(\n",
      "[[0. 0. 0. 0. 0. 1. 0. 0. 0. 0.]\n",
      " [1. 0. 0. 0. 0. 0. 0. 0. 0. 0.]\n",
      " [0. 0. 0. 0. 1. 0. 0. 0. 0. 0.]\n",
      " [0. 1. 0. 0. 0. 0. 0. 0. 0. 0.]\n",
      " [0. 0. 0. 0. 0. 0. 0. 0. 0. 1.]], shape=(5, 10), dtype=float32)\n"
     ]
    }
   ],
   "metadata": {}
  },
  {
   "cell_type": "markdown",
   "source": [
    "## Understanding the imported data"
   ],
   "metadata": {}
  },
  {
   "cell_type": "markdown",
   "source": [
    "The imported data can be divided as follows:\r\n",
    "\r\n",
    "*   Training >>  Use the given dataset with inputs and related outputs for training of NN. In our case, if you give an image that you know that represents a \"nine\", this set will tell the neural network that we expect a \"nine\" as the output.\\\r\n",
    "    \\- 60,000 data points\r\n",
    "    \\- x_train for inputs\r\n",
    "    \\- y_train for outputs/labels\r\n",
    "\r\n",
    "*   Test >> The model does not have access to this information prior to the testing phase. It is used to evaluate the performance and accuracy of the model against \"real life situations\". No further optimization beyond this point.\\\r\n",
    "    \\- 10,000 data points\r\n",
    "    \\- x_test for inputs\r\n",
    "    \\- y_test for outputs/labels\r\n",
    "\r\n",
    "*   Validation data is not used in this example.\r\n"
   ],
   "metadata": {}
  },
  {
   "cell_type": "code",
   "execution_count": 10,
   "source": [
    "print(\"number of training examples:\" , x_train.shape[0])\r\n",
    "print(\"number of test examples:\" , x_test.shape[0])"
   ],
   "outputs": [
    {
     "output_type": "stream",
     "name": "stdout",
     "text": [
      "number of training examples: 60000\n",
      "number of test examples: 10000\n"
     ]
    }
   ],
   "metadata": {}
  },
  {
   "cell_type": "code",
   "execution_count": 11,
   "source": [
    "x_train.shape"
   ],
   "outputs": [
    {
     "output_type": "execute_result",
     "data": {
      "text/plain": [
       "(60000, 28, 28)"
      ]
     },
     "metadata": {},
     "execution_count": 11
    }
   ],
   "metadata": {}
  },
  {
   "cell_type": "markdown",
   "source": [
    "The new Dataset API in TensorFlow 2.X allows you to define batch sizes as part of the dataset.  It also has improved I/O characteristics, and is the recommended way of loading data.  This allows you to iterate through  subsets (batches) of the data during training.  This is a common practice that improves performance by computing gradients over smaller batches.  We will see this in action during the training step.\r\n",
    "\r\n",
    "Additionally, you can shuffle the dataset if you believe that there is a skewed distribution of data in the original dataset that may result in batches with different distributions.  We aren't shuffling data here."
   ],
   "metadata": {}
  },
  {
   "cell_type": "code",
   "execution_count": 12,
   "source": [
    "# using mini-batches of size 50 for each iteration\r\n",
    "train_ds = tf.data.Dataset.from_tensor_slices((x_train, y_train)).batch(50)\r\n",
    "test_ds = tf.data.Dataset.from_tensor_slices((x_test, y_test)).batch(50)"
   ],
   "outputs": [],
   "metadata": {}
  },
  {
   "cell_type": "markdown",
   "source": [
    "# Converting a 2D image to a 1D vector"
   ],
   "metadata": {}
  },
  {
   "cell_type": "markdown",
   "source": [
    "MNIST images are black and white thumbnail square images with 28x28 pixels.  Each pixel is assigned an intensity (originally on a scale of 0 to 255).  To make the input useful to us, we need these to be arranged in a 1D vector using a consistent strategy, as is shown in the figure below.  We can use `Flatten` to accomplish this task."
   ],
   "metadata": {}
  },
  {
   "cell_type": "code",
   "execution_count": 13,
   "source": [
    "from tensorflow.keras.layers import Flatten\r\n",
    "flatten = Flatten(dtype='float32')\r\n",
    "\r\n",
    "# original data shape\r\n",
    "print(x_train.shape)\r\n",
    "\r\n",
    "# flatten shape\r\n",
    "print(flatten(x_train).shape)"
   ],
   "outputs": [
    {
     "output_type": "stream",
     "name": "stdout",
     "text": [
      "(60000, 28, 28)\n",
      "(60000, 784)\n"
     ]
    }
   ],
   "metadata": {}
  },
  {
   "cell_type": "markdown",
   "source": [
    "# Assigning bias and weight to null tensors"
   ],
   "metadata": {}
  },
  {
   "cell_type": "markdown",
   "source": [
    "Now we are going to create the weights and biases, for this purpose they will be used as arrays filled with zeros. The values that we choose here can be critical, but we'll cover a better way on the second part, instead of this type of initialization.\r\n",
    "Since these values will be adjusted during the optimization process, we define them using  `tf.Variable`.\r\n",
    "\r\n",
    "NOTE:  `tf.Variable` creates adjustable variables that are in the global namespace, so any function that references these variables need not pass the varibles.  But they are globals, so exercise caution when naming!\r\n"
   ],
   "metadata": {}
  },
  {
   "cell_type": "code",
   "execution_count": 14,
   "source": [
    "# weight tensor\r\n",
    "W = tf.Variable(tf.zeros([784, 10], tf.float32))\r\n",
    "\r\n",
    "# Bias tensor\r\n",
    "b = tf.Variable(tf.zeros([10], tf.float32))"
   ],
   "outputs": [],
   "metadata": {}
  },
  {
   "cell_type": "markdown",
   "source": [
    "# Adding weight and bias to input"
   ],
   "metadata": {}
  },
  {
   "cell_type": "markdown",
   "source": [
    "The only difference for our next operation to the picture below is that we are using the mathematical convention for what is being executed in the illustration. The tf.matmul operation performs a matrix multiplication between x (inputs) and W (weights) and after the code add biases."
   ],
   "metadata": {}
  },
  {
   "cell_type": "markdown",
   "source": [
    "<img src=\"https://ibm.box.com/shared/static/88ksiymk1xkb10rgk0jwr3jw814jbfxo.png\" alt=\"HTML5 Icon\" style=\"width:350px\"> \r\n",
    "<div style=\"text-align:center\">Illustration showing how weights and biases are added to neurons/nodes. </div>\r\n"
   ],
   "metadata": {}
  },
  {
   "cell_type": "code",
   "execution_count": 15,
   "source": [
    "def forward(x):\r\n",
    "    return tf.matmul(x, W) + b"
   ],
   "outputs": [],
   "metadata": {}
  },
  {
   "cell_type": "markdown",
   "source": [
    "# Softmax Regression"
   ],
   "metadata": {}
  },
  {
   "cell_type": "markdown",
   "source": [
    "Softmax is an activation function that is normally used in classification problems. It generates the probabilities for the output. For example, our model will not be 100% sure that one digit is the number nine, instead, the answer will be a distribution of probabilities where, if the model is right, the nine number will have a larger probability than the other other digits.\r\n",
    "\r\n",
    "For comparison, below is the one-hot vector for a nine digit label:"
   ],
   "metadata": {}
  },
  {
   "cell_type": "markdown",
   "source": [
    "0 --> 0  \r\n",
    "1 --> 0 <br>\r\n",
    "2 --> 0 <br>\r\n",
    "3 --> 0 <br>\r\n",
    "4 --> 0 <br>\r\n",
    "5 --> 0 <br>\r\n",
    "6 --> 0 <br>\r\n",
    "7 --> 0 <br>\r\n",
    "8 --> 0 <br>\r\n",
    "9 --> 1 <br>"
   ],
   "metadata": {}
  },
  {
   "cell_type": "markdown",
   "source": [
    "A machine does not have all this certainty, so we want to know what is the best guess, but we also want to understand how sure it was and what was the second better option. Below is an example of a hypothetical distribution for a nine digit:"
   ],
   "metadata": {}
  },
  {
   "cell_type": "markdown",
   "source": [
    "0 -->0.01  \r\n",
    "1 -->0.02  <br>\r\n",
    "2 -->0.03  <br>\r\n",
    "3 -->0.02  <br>\r\n",
    "4 -->0.12  <br>\r\n",
    "5 -->0.01  <br>\r\n",
    "6 -->0.03  <br>\r\n",
    "7 -->0.06  <br>\r\n",
    "8 -->0.1   <br>\r\n",
    "9 -->0.6   <br>"
   ],
   "metadata": {}
  },
  {
   "cell_type": "markdown",
   "source": [
    "Softmax is simply an exponential of each value of a vector that is also normalized.  The formula is:\r\n",
    "\r\n",
    "$$\\sigma(z_i) = \\frac{e^{z_i}}{\\sum{e^{z_i}}}$$"
   ],
   "metadata": {}
  },
  {
   "cell_type": "code",
   "execution_count": 16,
   "source": [
    "# a sample of softmax calculation\r\n",
    "vector = [10, 0.2, 8]\r\n",
    "softmax = tf.nn.softmax(vector)\r\n",
    "print('softmax calculation')\r\n",
    "print(softmax.numpy())\r\n",
    "print('verifying normalization')\r\n",
    "print(tf.reduce_sum(softmax))\r\n",
    "print('finding vector with largest value (label assigment')\r\n",
    "print('category', tf.argmax(softmax).numpy())"
   ],
   "outputs": [
    {
     "output_type": "stream",
     "name": "stdout",
     "text": [
      "softmax calculation\n",
      "[8.8075405e-01 4.8839214e-05 1.1919710e-01]\n",
      "verifying normalization\n",
      "tf.Tensor(1.0, shape=(), dtype=float32)\n",
      "finding vector with largest value (label assigment\n",
      "category 0\n"
     ]
    }
   ],
   "metadata": {}
  },
  {
   "cell_type": "code",
   "execution_count": 17,
   "source": [
    "# Define the output layer\r\n",
    "def activate(x):\r\n",
    "    return tf.nn.softmax(forward(x))"
   ],
   "outputs": [],
   "metadata": {}
  },
  {
   "cell_type": "code",
   "execution_count": 18,
   "source": [
    "# Define the output layer\r\n",
    "def model(x):\r\n",
    "    x = flatten(x)\r\n",
    "    return activate(x)"
   ],
   "outputs": [],
   "metadata": {}
  },
  {
   "cell_type": "markdown",
   "source": [
    "# Cost function"
   ],
   "metadata": {}
  },
  {
   "cell_type": "markdown",
   "source": [
    "It is a function that is used to minimize the difference between the right answers (labels) and estimated outputs by our Network. Here we use the cross entropy function, which is a popular cost function used for categorical models.  The function is defined in terms of probabilities, which is why we must used normalized vectors.  It is given as:\r\n",
    "\r\n",
    "$$ CrossEntropy = \\sum{y\\_{Label}\\cdot \\log(y\\_{Prediction})}$$\r\n"
   ],
   "metadata": {}
  },
  {
   "cell_type": "code",
   "execution_count": 19,
   "source": [
    "def cross_entropy(y_label, y_pred):\r\n",
    "    return (-tf.reduce_sum(y_label * tf.math.log(y_pred + 1.e-10)))\r\n",
    "    # addition of 1e-10 to prevent errors in zero calculations\r\n",
    "\r\n",
    "# current loss function for unoptimized model\r\n",
    "cross_entropy(y_train, model(x_train)).numpy()"
   ],
   "outputs": [
    {
     "output_type": "execute_result",
     "data": {
      "text/plain": [
       "138155.11"
      ]
     },
     "metadata": {},
     "execution_count": 19
    }
   ],
   "metadata": {}
  },
  {
   "cell_type": "markdown",
   "source": [
    "## tf.reduce_sum (input_tensor, axis=None, keepdims=False, name=None)\r\n",
    "Reduces input_tensor along the dimensions given in axis. Unless keepdims is true, the rank of the tensor is reduced by 1 for each of the entries in axis, which must be unique. If keepdims is true, the reduced dimensions are retained with length 1.\r\n",
    "\r\n",
    "If axis is None, all dimensions are reduced, and a tensor with a single element is returned."
   ],
   "metadata": {}
  },
  {
   "cell_type": "markdown",
   "source": [
    "# Type of optimization: Gradient Descent"
   ],
   "metadata": {}
  },
  {
   "cell_type": "markdown",
   "source": [
    "This is the part where you configure the optimizer for your Neural Network. There are several optimizers available, in our case we will use Gradient Descent because it is a well established optimizer."
   ],
   "metadata": {}
  },
  {
   "cell_type": "code",
   "execution_count": 20,
   "source": [
    "optimizer = tf.keras.optimizers.SGD(learning_rate=0.25)"
   ],
   "outputs": [],
   "metadata": {}
  },
  {
   "cell_type": "markdown",
   "source": [
    "Now we define the training step.  This step uses `GradientTape` to automatically compute deriviatives of the functions we have manually created and applies them using the `SGD` optimizer."
   ],
   "metadata": {}
  },
  {
   "cell_type": "code",
   "execution_count": 21,
   "source": [
    "def train_step(x, y):\r\n",
    "    with tf.GradientTape() as tape:\r\n",
    "        # compute loss function\r\n",
    "        current_loss = cross_entropy(y, model(x))\r\n",
    "\r\n",
    "        # compute gradient of loss for variable W and b\r\n",
    "        grads = tape.gradient(current_loss, [W,b])\r\n",
    "\r\n",
    "        # Apply SGD step to variables W and b\r\n",
    "        optimizer.apply_gradients(zip(grads, [W,b]))\r\n",
    "    \r\n",
    "    return current_loss.numpy()"
   ],
   "outputs": [],
   "metadata": {}
  },
  {
   "cell_type": "markdown",
   "source": [
    "# Training batches"
   ],
   "metadata": {}
  },
  {
   "cell_type": "markdown",
   "source": [
    "Train using minibatch Gradient Descent.\r\n",
    "\r\n",
    "In practice, Batch Gradient Descent is not often used because is too computationally expensive. The good part about this method is that you have the true gradient, but with the expensive computing task of using the whole dataset in one time. Due to this problem, Neural Networks usually use minibatch to train.\r\n",
    "\r\n",
    "We have already divided our full dataset into batches of 50 each using the Datasets API.  Now we can iterate through each of those batches to compute a gradient.  Once we iterate through all of the batches in the dataset, we complete an **epoch**, or a full traversal of the dataset.\r\n"
   ],
   "metadata": {}
  },
  {
   "cell_type": "code",
   "execution_count": 22,
   "source": [
    "# zeroing out weights in case you want to run this cell multiple times\r\n",
    "# Weight tensor\r\n",
    "W = tf.Variable(tf.zeros([784, 10], tf.float32))\r\n",
    "# Bias tensor\r\n",
    "b = tf.Variable(tf.zeros([10], tf.float32))\r\n",
    "\r\n",
    "loss_value = []\r\n",
    "accuracies = []\r\n",
    "epochs = 10\r\n",
    "\r\n",
    "for i in range(epochs):\r\n",
    "    j=0\r\n",
    "    # each batch has 50 item\r\n",
    "    for x_train_batch, y_train_batch in train_ds:\r\n",
    "        j+=1\r\n",
    "        current_loss = train_step(x_train_batch, y_train_batch)\r\n",
    "        if j % 500 == 0: \r\n",
    "            print('epoch ', str(i), 'batch', str(j), 'loss:', str(current_loss))\r\n",
    "    \r\n",
    "    # loss function\r\n",
    "    current_loss = cross_entropy(y_train, model(x_train)).numpy()\r\n",
    "    loss_value.append(current_loss)\r\n",
    "    correct_prediction = tf.equal(tf.argmax(model(x_train), axis=1),\r\n",
    "                                  tf.argmax(y_train, axis=1))\r\n",
    "    # accuracy\r\n",
    "    accuracy = tf.reduce_mean(tf.cast(correct_prediction, tf.float32)).numpy()\r\n",
    "    accuracies.append(accuracy)\r\n",
    "    print(\"end of epoch \", str(i), \"loss\", str(current_loss), \"accuracy\", str(accuracy) ) "
   ],
   "outputs": [
    {
     "output_type": "stream",
     "name": "stdout",
     "text": [
      "epoch  0 batch 500 loss: 176.88257\n",
      "epoch  0 batch 1000 loss: 214.80328\n",
      "end of epoch  0 loss 221839.72 accuracy 0.8149167\n",
      "epoch  1 batch 500 loss: 206.1276\n",
      "epoch  1 batch 1000 loss: 145.16835\n",
      "end of epoch  1 loss 216982.14 accuracy 0.8226333\n",
      "epoch  2 batch 500 loss: 169.53117\n",
      "epoch  2 batch 1000 loss: 196.36026\n",
      "end of epoch  2 loss 213829.14 accuracy 0.8272167\n",
      "epoch  3 batch 500 loss: 172.28514\n",
      "epoch  3 batch 1000 loss: 173.96254\n",
      "end of epoch  3 loss 210430.05 accuracy 0.83066666\n",
      "epoch  4 batch 500 loss: 161.20569\n",
      "epoch  4 batch 1000 loss: 182.20525\n",
      "end of epoch  4 loss 206470.03 accuracy 0.83503336\n",
      "epoch  5 batch 500 loss: 190.57175\n",
      "epoch  5 batch 1000 loss: 171.30872\n",
      "end of epoch  5 loss 208921.98 accuracy 0.83255\n",
      "epoch  6 batch 500 loss: 238.12854\n",
      "epoch  6 batch 1000 loss: 199.50337\n",
      "end of epoch  6 loss 206631.19 accuracy 0.8344167\n",
      "epoch  7 batch 500 loss: 201.32297\n",
      "epoch  7 batch 1000 loss: 186.5648\n",
      "end of epoch  7 loss 203951.27 accuracy 0.83835\n",
      "epoch  8 batch 500 loss: 186.96683\n",
      "epoch  8 batch 1000 loss: 181.08652\n",
      "end of epoch  8 loss 222987.03 accuracy 0.8211667\n",
      "epoch  9 batch 500 loss: 169.32657\n",
      "epoch  9 batch 1000 loss: 178.05876\n",
      "end of epoch  9 loss 201374.84 accuracy 0.84003335\n"
     ]
    }
   ],
   "metadata": {}
  },
  {
   "cell_type": "markdown",
   "source": [
    "# Test and Plots"
   ],
   "metadata": {}
  },
  {
   "cell_type": "markdown",
   "source": [
    "It is common to run intermittent diagnostics (such as accuracy and loss over entire dataset) during training.  Here we compute a summary statistic on the test dataset as well.  Fitness metrics for the training data should closely match those of the test data.  If the test metrics are distinctly less favorable, this can be a sign of overfitting.\r\n"
   ],
   "metadata": {}
  },
  {
   "cell_type": "code",
   "execution_count": 23,
   "source": [
    "correct_prediction_train = tf.equal(tf.argmax(model(x_train), axis=1), tf.argmax(y_train, axis=1))\r\n",
    "accuracy_train = tf.reduce_mean(tf.cast(correct_prediction_train, tf.float32)).numpy()\r\n",
    "\r\n",
    "correct_prediction_test = tf.equal(tf.argmax(model(x_test), axis=1), tf.argmax(y_test, axis=1))\r\n",
    "accuracy_test = tf.reduce_mean(tf.cast(correct_prediction_test, tf.float32)).numpy()\r\n",
    "\r\n",
    "print(\"training accuracy\", accuracy_train)\r\n",
    "print(\"test accuracy\", accuracy_test)"
   ],
   "outputs": [
    {
     "output_type": "stream",
     "name": "stdout",
     "text": [
      "training accuracy 0.84003335\n",
      "test accuracy 0.8326\n"
     ]
    }
   ],
   "metadata": {}
  },
  {
   "cell_type": "code",
   "execution_count": 25,
   "source": [
    "import matplotlib.pyplot as plt\r\n",
    "%matplotlib inline\r\n",
    "plt.rcParams['figure.figsize'] = (10, 6)\r\n",
    "#print(loss_values)\r\n",
    "plt.plot(loss_value,'-ro')\r\n",
    "plt.title(\"loss per epoch\")\r\n",
    "plt.xlabel(\"epoch\")\r\n",
    "plt.ylabel(\"loss\")"
   ],
   "outputs": [
    {
     "output_type": "execute_result",
     "data": {
      "text/plain": [
       "Text(0, 0.5, 'loss')"
      ]
     },
     "metadata": {},
     "execution_count": 25
    },
    {
     "output_type": "display_data",
     "data": {
      "text/plain": [
       "<Figure size 720x432 with 1 Axes>"
      ],
      "image/png": "[encoded data removed]"
     },
     "metadata": {
      "needs_background": "light"
     }
    }
   ],
   "metadata": {}
  },
  {
   "cell_type": "code",
   "execution_count": 26,
   "source": [
    "plt.plot(accuracies,'-ro')\r\n",
    "plt.title(\"accuracy per epoch\")\r\n",
    "plt.xlabel(\"epoch\")\r\n",
    "plt.ylabel(\"accuracy\")"
   ],
   "outputs": [
    {
     "output_type": "execute_result",
     "data": {
      "text/plain": [
       "Text(0, 0.5, 'accuracy')"
      ]
     },
     "metadata": {},
     "execution_count": 26
    },
    {
     "output_type": "display_data",
     "data": {
      "text/plain": [
       "<Figure size 720x432 with 1 Axes>"
      ],
      "image/png": "[encoded data removed]"
     },
     "metadata": {
      "needs_background": "light"
     }
    }
   ],
   "metadata": {}
  },
  {
   "cell_type": "markdown",
   "source": [
    "# Evaluating the final result"
   ],
   "metadata": {}
  },
  {
   "cell_type": "markdown",
   "source": [
    "84% accuracy is not bad considering the simplicity of the model, but >90% accuracy has been achieved in the past."
   ],
   "metadata": {}
  },
  {
   "cell_type": "markdown",
   "source": [
    "# How to improve our model?"
   ],
   "metadata": {}
  },
  {
   "cell_type": "markdown",
   "source": [
    "<h4>Several options as follow:</h4>\r\n",
    "<ul>\r\n",
    "    <li>Regularization of Neural Networks using DropConnect</li>\r\n",
    "    <li>Multi-column Deep Neural Networks for Image Classification</li> \r\n",
    "    <li>APAC: Augmented Pattern Classification with Neural Networks</li>\r\n",
    "    <li>Simple Deep Neural Network with Dropout</li>\r\n",
    "</ul>\r\n",
    "<h4>In the next part we are going to explore the option:</h4>\r\n",
    "<ul>\r\n",
    "    <li>Simple Deep Neural Network with Dropout (more than 1 hidden layer)</li>\r\n",
    "</ul> \r\n"
   ],
   "metadata": {}
  },
  {
   "cell_type": "markdown",
   "source": [
    "# 2nd Part: Deep learning applied on MNIST"
   ],
   "metadata": {}
  },
  {
   "cell_type": "markdown",
   "source": [
    "In the first part, we learned how to use a simple ANN to classify MNIST. Now we are going to expand our knowledge using a Deep Neural Network.\r\n",
    "\r\n",
    "Architecture of our network is:\r\n",
    "\r\n",
    "*   (Input) -> \\[batch_size, 28, 28, 1]  >> Apply 32 filter of \\[5x5]\r\n",
    "*   (Convolutional layer 1)  -> \\[batch_size, 28, 28, 32]\r\n",
    "*   (ReLU 1)  -> \\[?, 28, 28, 32]\r\n",
    "*   (Max pooling 1) -> \\[?, 14, 14, 32]\r\n",
    "*   (Convolutional layer 2)  -> \\[?, 14, 14, 64]\r\n",
    "*   (ReLU 2)  -> \\[?, 14, 14, 64]\r\n",
    "*   (Max pooling 2)  -> \\[?, 7, 7, 64]\r\n",
    "*   \\[fully connected layer 3] -> \\[1x1024]\r\n",
    "*   \\[ReLU 3]  -> \\[1x1024]\r\n",
    "*   \\[Drop out]  -> \\[1x1024]\r\n",
    "*   \\[fully connected layer 4] -> \\[1x10]\r\n",
    "\r\n",
    "The next cells will explore this new architecture.\r\n"
   ],
   "metadata": {}
  },
  {
   "cell_type": "markdown",
   "source": [
    "## Initial parameters"
   ],
   "metadata": {}
  },
  {
   "cell_type": "code",
   "execution_count": 27,
   "source": [
    "width = 28\r\n",
    "height = 28  # height and width of image pixel\r\n",
    "flat = width * height\r\n",
    "class_output = 10  # number from 0 to 9"
   ],
   "outputs": [],
   "metadata": {}
  },
  {
   "cell_type": "markdown",
   "source": [
    "## Converting images ofthe data set to tensors"
   ],
   "metadata": {}
  },
  {
   "cell_type": "markdown",
   "source": [
    "The input image is 28 pixels by 28 pixels, 1 channel (grayscale). In this case, the first dimension is the batch number of the image, and can be of any size (so we set it to -1). The second and third dimensions are width and height, and the last one is the image channels."
   ],
   "metadata": {}
  },
  {
   "cell_type": "code",
   "execution_count": 28,
   "source": [
    "x_image_train = tf.reshape(x_train, [-1, 28, 28, 1])\r\n",
    "x_image_train = tf.cast(x_image_train, 'float32')\r\n",
    "\r\n",
    "x_image_test = tf.reshape(x_test, [-1, 28, 28, 1])\r\n",
    "x_image_test = tf.cast(x_image_test, 'float32')\r\n",
    "\r\n",
    "# Create new dataset with reshape inputs\r\n",
    "train_ds2 = tf.data.Dataset.from_tensor_slices((x_image_train, y_train)).batch(50)\r\n",
    "test_ds2 = tf.data.Dataset.from_tensor_slices((x_image_test, y_test)).batch(50)"
   ],
   "outputs": [],
   "metadata": {}
  },
  {
   "cell_type": "markdown",
   "source": [
    "## Convolutional Layer 1"
   ],
   "metadata": {}
  },
  {
   "cell_type": "markdown",
   "source": [
    "<h4>Defining kernel weight and bias</h4>\r\n",
    "We define a kernel here. The Size of the filter/kernel is 5x5;  Input channels is 1 (grayscale);  and we need 32 different feature maps (here, 32 feature maps means 32 different filters are applied on each image. So, the output of convolution layer would be 28x28x32). In this step, we create a filter / kernel tensor of shape <code>[filter_height, filter_width, in_channels, out_channels]</code>"
   ],
   "metadata": {}
  },
  {
   "cell_type": "code",
   "execution_count": 29,
   "source": [
    "W_conv1 = tf.Variable(tf.random.truncated_normal([5, 5, 1, 32], stddev=0.1, seed=0))\r\n",
    "b_conv1 = tf.Variable(tf.constant(0.1, shape=[32])) # 32 bias for 32 outputs"
   ],
   "outputs": [],
   "metadata": {}
  },
  {
   "cell_type": "markdown",
   "source": [
    "<img src=\"https://ibm.box.com/shared/static/vn26neef1nnv2oxn5cb3uueowcawhkgb.png\" style=\"width: 800px; height: 400px;\" alt=\"HTML5 Icon\" >\r\n",
    "\r\n",
    "</h4>Convolve with weight tensor and add biases.</h4>\r\n",
    "\r\n",
    "To create convolutional layer, we use <b>tf.nn.conv2d</b>. It computes a 2-D convolution given 4-D input and filter tensors.\r\n",
    "\r\n",
    "Inputs:\r\n",
    "\r\n",
    "*   tensor of shape \\[batch, in_height, in_width, in_channels]. x of shape \\[batch_size,28 ,28, 1]\r\n",
    "\r\n",
    "*   a filter / kernel tensor of shape \\[filter_height, filter_width, in_channels, out_channels]. W is of size \\[5, 5, 1, 32]\r\n",
    "\r\n",
    "*   stride which is  \\[1, 1, 1, 1]. The convolutional layer, slides the \"kernel window\" across the input tensor. As the input tensor has 4 dimensions:  \\[batch, height, width, channels], then the convolution operates on a 2D window on the height and width dimensions. **strides** determines how much the window shifts by in each of the dimensions. As the first and last dimensions are related to batch and channels, we set the stride to 1. But for second and third dimension, we could set other values, e.g. \\[1, 2, 2, 1]\r\n",
    "\r\n",
    "Process:\r\n",
    "\r\n",
    "*   Change the filter to a 2-D matrix with shape \\[5\\*5\\*1,32]\r\n",
    "*   Extracts image patches from the input tensor to form a *virtual* tensor of shape `[batch, 28, 28, 5*5*1]`.\r\n",
    "*   For each batch, right-multiplies the filter matrix and the image vector.\r\n",
    "\r\n",
    "Output:\r\n",
    "\r\n",
    "*   A `Tensor` (a 2-D convolution) of size tf.Tensor 'add\\_7:0' shape=(?, 28, 28, 32)- Notice: the output of the first convolution layer is 32 \\[28x28] images. Here 32 is considered as volume/depth of the output image."
   ],
   "metadata": {}
  },
  {
   "cell_type": "code",
   "execution_count": 30,
   "source": [
    "def convolve1(x):\r\n",
    "    return (tf.nn.conv2d(x, W_conv1, strides=[1, 1, 1, 1], padding='SAME') + b_conv1)"
   ],
   "outputs": [],
   "metadata": {}
  },
  {
   "cell_type": "markdown",
   "source": [
    "<img src=\"https://ibm.box.com/shared/static/iizf4ui4b2hh9wn86pplqxu27ykpqci9.png\" style=\"width: 800px; height: 400px;\" alt=\"HTML5 Icon\" >\r\n"
   ],
   "metadata": {}
  },
  {
   "cell_type": "markdown",
   "source": [
    "# Apply the ReLU activation function"
   ],
   "metadata": {}
  },
  {
   "cell_type": "markdown",
   "source": [
    "In this step, we just go through all outputs convolution layer, <b>convolve1</b>, and wherever a negative number occurs, we swap it out for a 0. It is called ReLU activation Function.<br> Let f(x) is a ReLU activation function $f(x) = max(0,x)$."
   ],
   "metadata": {}
  },
  {
   "cell_type": "code",
   "execution_count": 31,
   "source": [
    "def h_conv1(x): return (tf.nn.relu(convolve1(x)))"
   ],
   "outputs": [],
   "metadata": {}
  },
  {
   "cell_type": "markdown",
   "source": [
    "## Apply the max pooling"
   ],
   "metadata": {}
  },
  {
   "cell_type": "markdown",
   "source": [
    "<b>max pooling</b> is a form of non-linear down-sampling. It partitions the input image into a set of rectangles and, and then find the maximum value for that region.\r\n",
    "\r\n",
    "Lets use <b>tf.nn.max_pool</b> function to perform max pooling. <b>Kernel size:</b> 2x2 (if the window is a 2x2 matrix, it would result in one output pixel)\\ <b>Strides:</b> dictates the sliding behaviour of the kernel. In this case it will move 2 pixels everytime, thus not overlapping. The input is a matrix of size 28x28x32, and the output would be a matrix of size 14x14x32.\r\n",
    "\r\n",
    "<img src=\"https://ibm.box.com/shared/static/kmaja90mn3aud9mro9cn8pbbg1h5pejy.png\" alt=\"HTML5 Icon\" style=\"width: 800px; height: 400px;\"> \r\n"
   ],
   "metadata": {}
  },
  {
   "cell_type": "code",
   "execution_count": 32,
   "source": [
    "def conv1(x):\r\n",
    "    return tf.nn.max_pool(h_conv1(x), ksize=[1, 2, 2, 1], strides=[1, 2, 2, 1], padding='SAME')"
   ],
   "outputs": [],
   "metadata": {}
  },
  {
   "cell_type": "markdown",
   "source": [
    "## Convolution layer 2"
   ],
   "metadata": {}
  },
  {
   "cell_type": "markdown",
   "source": [
    "<h4>Weights and Biases of kernels</h4>"
   ],
   "metadata": {}
  },
  {
   "cell_type": "markdown",
   "source": [
    "We apply the convolution again in this layer. Lets look at the second layer kernel:\r\n",
    "\r\n",
    "*   Filter/kernel: 5x5 (25 pixels)\r\n",
    "*   Input channels: 32 (from the 1st Conv layer, we had 32 feature maps)\r\n",
    "*   64 output feature maps\r\n",
    "\r\n",
    "<b>Notice:</b> here, the input image is \\[14x14x32], the filter is \\[5x5x32], we use 64 filters of size \\[5x5x32], and the output of the convolutional layer would be 64 convolved image, \\[14x14x64].\r\n",
    "\r\n",
    "<b>Notice:</b> the convolution result of applying a filter of size \\[5x5x32] on image of size \\[14x14x32] is an image of size \\[14x14x1], that is, the convolution is functioning on volume.\r\n"
   ],
   "metadata": {}
  },
  {
   "cell_type": "code",
   "execution_count": 33,
   "source": [
    "W_conv2 = tf.Variable(tf.random.truncated_normal([5, 5, 32, 64], stddev=0.1, seed=1))\r\n",
    "b_conv2 = tf.Variable(tf.constant(0.1, shape=[64]))  # 64 bias for 64 inputs"
   ],
   "outputs": [],
   "metadata": {}
  },
  {
   "cell_type": "markdown",
   "source": [
    "## Convolve image with weight and tensor and add bias"
   ],
   "metadata": {}
  },
  {
   "cell_type": "code",
   "execution_count": 34,
   "source": [
    "def convolve2(x):\r\n",
    "    return (tf.nn.conv2d(conv1(x), W_conv2, strides=[1, 1, 1, 1], padding='SAME') + b_conv2)"
   ],
   "outputs": [],
   "metadata": {}
  },
  {
   "cell_type": "markdown",
   "source": [
    "## Apply the ReLU activation function"
   ],
   "metadata": {}
  },
  {
   "cell_type": "code",
   "execution_count": 35,
   "source": [
    "def h_conv2(x): return tf.nn.relu(convolve2(x))"
   ],
   "outputs": [],
   "metadata": {}
  },
  {
   "cell_type": "markdown",
   "source": [
    "## Apply the max pooling"
   ],
   "metadata": {}
  },
  {
   "cell_type": "code",
   "execution_count": 36,
   "source": [
    "def conv2(x):\r\n",
    "    return (tf.nn.max_pool(h_conv2(x), ksize=[1, 2, 2, 1], strides=[1, 2, 2, 1], padding='SAME'))"
   ],
   "outputs": [],
   "metadata": {}
  },
  {
   "cell_type": "markdown",
   "source": [
    "Second layer completed. So, what is the output of the second layer, layer2?\r\n",
    "\r\n",
    "*   it is 64 matrix of \\[7x7]"
   ],
   "metadata": {}
  },
  {
   "cell_type": "markdown",
   "source": [
    "## Fully connected Layer"
   ],
   "metadata": {}
  },
  {
   "cell_type": "markdown",
   "source": [
    "You need a fully connected layer to use the Softmax and create the probabilities in the end. Fully connected layers take the high-level filtered images from previous layer, that is all 64 matrices, and convert them to a flat array.\r\n",
    "\r\n",
    "So, each matrix \\[7x7] will be converted to a matrix of \\[49x1], and then all of the 64 matrix will be connected, which make an array of size \\[3136x1]. We will connect it into another layer of size \\[1024x1]. So, the weight between these 2 layers will be \\[3136x1024]\r\n",
    "\r\n",
    "<img src=\"https://ibm.box.com/shared/static/pr9mnirmlrzm2bitf1d4jj389hyvv7ey.png\" alt=\"HTML5 Icon\" style=\"width: 800px; height: 400px;\"> "
   ],
   "metadata": {}
  },
  {
   "cell_type": "markdown",
   "source": [
    "## Flattening 2nd layer"
   ],
   "metadata": {}
  },
  {
   "cell_type": "code",
   "execution_count": 37,
   "source": [
    "def layer2_matrix(x): return tf.reshape(conv2(x), [-1, 7*7*64])"
   ],
   "outputs": [],
   "metadata": {}
  },
  {
   "cell_type": "markdown",
   "source": [
    "## Weights and Biases between layer 2 and 3"
   ],
   "metadata": {}
  },
  {
   "cell_type": "code",
   "execution_count": 38,
   "source": [
    "W_fc1 = tf.Variable(tf.random.truncated_normal([7*7*64, 1024], stddev=0.1, seed=2))\r\n",
    "b_fc1 = tf.Variable(tf.constant(0.1, shape=[1024]))  # 1024 biases for 1024 output"
   ],
   "outputs": [],
   "metadata": {}
  },
  {
   "cell_type": "markdown",
   "source": [
    "## Matrix multiplication (apply weight and bias)"
   ],
   "metadata": {}
  },
  {
   "cell_type": "code",
   "execution_count": 39,
   "source": [
    "def fc1(x): return tf.matmul(layer2_matrix(x), W_fc1) + b_fc1"
   ],
   "outputs": [],
   "metadata": {}
  },
  {
   "cell_type": "markdown",
   "source": [
    "## Apply the ReLU activation Function"
   ],
   "metadata": {}
  },
  {
   "cell_type": "code",
   "execution_count": 40,
   "source": [
    "def h_fc1(x): return tf.nn.relu(fc1(x))"
   ],
   "outputs": [],
   "metadata": {}
  },
  {
   "cell_type": "markdown",
   "source": [
    "## Dropout layer, optional phase for reducing overfitting"
   ],
   "metadata": {}
  },
  {
   "cell_type": "markdown",
   "source": [
    "It is a phase where the network \"forget\" some features. At each training step in a mini-batch, some units get switched off randomly so that it will not interact with the network. That is, it weights cannot be updated, nor affect the learning of the other network nodes.  This can be very useful for very large neural networks to prevent overfitting."
   ],
   "metadata": {}
  },
  {
   "cell_type": "code",
   "execution_count": 41,
   "source": [
    "keep_prob = 0.5\r\n",
    "def layer_drop(x): return tf.nn.dropout(h_fc1(x), keep_prob)"
   ],
   "outputs": [],
   "metadata": {}
  },
  {
   "cell_type": "markdown",
   "source": [
    "## Readout layer (Softmax layer)"
   ],
   "metadata": {}
  },
  {
   "cell_type": "markdown",
   "source": [
    "## Weight and bias"
   ],
   "metadata": {}
  },
  {
   "cell_type": "markdown",
   "source": [
    "In last layer, CNN takes the high-level filtered images and translate them into votes using softmax.\r\n",
    "Input channels: 1024 (neurons from the 3rd Layer); 10 output features"
   ],
   "metadata": {}
  },
  {
   "cell_type": "code",
   "execution_count": 42,
   "source": [
    "W_fc2 = tf.Variable(tf.random.truncated_normal([1024, 10], stddev=0.1, seed=2))  # 1024 neurons\r\n",
    "b_fc2 = tf.Variable(tf.constant(0.1, shape=[10]))  # 10 possibilities for number 0->9"
   ],
   "outputs": [],
   "metadata": {}
  },
  {
   "cell_type": "markdown",
   "source": [
    "## Applying weight and bias"
   ],
   "metadata": {}
  },
  {
   "cell_type": "code",
   "execution_count": 43,
   "source": [
    "def fc(x): return tf.matmul(layer_drop(x), W_fc2) + b_fc2"
   ],
   "outputs": [],
   "metadata": {}
  },
  {
   "cell_type": "markdown",
   "source": [
    "## Apply the softmax function"
   ],
   "metadata": {}
  },
  {
   "cell_type": "code",
   "execution_count": 44,
   "source": [
    "def y_CNN(x): return tf.nn.softmax(fc(x))"
   ],
   "outputs": [],
   "metadata": {}
  },
  {
   "cell_type": "markdown",
   "source": [
    "<a id=\"ref7\"></a>\r\n",
    "\r\n",
    "<h2>Summary of the Deep Convolutional Neural Network</h2>"
   ],
   "metadata": {}
  },
  {
   "cell_type": "markdown",
   "source": [
    "#### 0) Input - MNIST dataset\r\n",
    "\r\n",
    "#### 1) Convolutional and Max-Pooling\r\n",
    "\r\n",
    "#### 2) Convolutional and Max-Pooling\r\n",
    "\r\n",
    "#### 3) Fully Connected Layer\r\n",
    "\r\n",
    "#### 4) Processing - Dropout\r\n",
    "\r\n",
    "#### 5) Readout layer - Fully Connected\r\n",
    "\r\n",
    "#### 6) Outputs - Classified digits"
   ],
   "metadata": {}
  },
  {
   "cell_type": "markdown",
   "source": [
    "# Define function and train the model"
   ],
   "metadata": {}
  },
  {
   "cell_type": "markdown",
   "source": [
    "## Define the loss function"
   ],
   "metadata": {}
  },
  {
   "cell_type": "markdown",
   "source": [
    "We need to compare our output, layer4 tensor, with ground truth for all mini_batch. we can use <b>cross entropy>/b> to see how bad our CNN is working - to measure the error at a softmax layer.\r\n",
    "\r\n",
    "The following code shows an toy sample of cross-entropy for a mini-batch of size 2 which its items have been classified. You can run it (first change the cell type to <b>code</b> in the toolbar) to see how cross entropy changes."
   ],
   "metadata": {}
  },
  {
   "cell_type": "code",
   "execution_count": 45,
   "source": [
    "import numpy as np\r\n",
    "layer4_test =[[0.9, 0.1, 0.1],[0.9, 0.1, 0.1]]\r\n",
    "y_test=[[1.0, 0.0, 0.0],[1.0, 0.0, 0.0]]\r\n",
    "np.mean( -np.sum(y_test * np.log(layer4_test),1))"
   ],
   "outputs": [
    {
     "output_type": "execute_result",
     "data": {
      "text/plain": [
       "0.10536051565782628"
      ]
     },
     "metadata": {},
     "execution_count": 45
    }
   ],
   "metadata": {}
  },
  {
   "cell_type": "markdown",
   "source": [
    "<b>reduce_sum</b> computes the sum of elements of <b>(y\\_ \\* tf.log(layer4)</b> across second dimension of the tensor, and <b>reduce_mean</b> computes the mean of all elements in the tensor..\r\n",
    "\r\n",
    "$$ CrossEntropy = \\sum{y\\_{Label}\\cdot \\log(y\\_{Prediction})}$$\r\n"
   ],
   "metadata": {}
  },
  {
   "cell_type": "code",
   "execution_count": 46,
   "source": [
    "def cross_entropy(y_label, y_pred):\r\n",
    "    return (-tf.reduce_sum(y_label * tf.math.log(y_pred + 1.e-10)))"
   ],
   "outputs": [],
   "metadata": {}
  },
  {
   "cell_type": "markdown",
   "source": [
    "## Define the optimizer"
   ],
   "metadata": {}
  },
  {
   "cell_type": "markdown",
   "source": [
    "It is obvious that we want minimize the error of our network which is calculated by cross_entropy metric. To solve the problem, we have to compute gradients for the loss (which is minimizing the cross-entropy) and apply gradients to variables. It will be done by an optimizer: GradientDescent or Adagrad."
   ],
   "metadata": {}
  },
  {
   "cell_type": "code",
   "execution_count": 47,
   "source": [
    "optimizer = tf.keras.optimizers.Adam(1e-4)"
   ],
   "outputs": [],
   "metadata": {}
  },
  {
   "cell_type": "code",
   "execution_count": 48,
   "source": [
    "variables = [W_conv1, b_conv1, W_conv2, b_conv2, W_fc1, b_fc1, W_fc2, b_fc2,]\r\n",
    "\r\n",
    "def train_step(x, y):\r\n",
    "    with tf.GradientTape() as tape:\r\n",
    "        current_loss = cross_entropy(y, y_CNN(x))\r\n",
    "        grads = tape.gradient(current_loss, variables)\r\n",
    "        optimizer.apply_gradients(zip(grads, variables))\r\n",
    "\r\n",
    "        return current_loss.numpy()"
   ],
   "outputs": [],
   "metadata": {}
  },
  {
   "cell_type": "markdown",
   "source": [
    "## Define prediction"
   ],
   "metadata": {}
  },
  {
   "cell_type": "code",
   "execution_count": 50,
   "source": [
    "correct_prediction = tf.equal(tf.argmax(y_CNN(x_image_train), axis=1), tf.argmax(y_train, axis=1))"
   ],
   "outputs": [],
   "metadata": {}
  },
  {
   "cell_type": "markdown",
   "source": [
    "## Define accuracy"
   ],
   "metadata": {}
  },
  {
   "cell_type": "code",
   "execution_count": 51,
   "source": [
    "accuracy = tf.reduce_mean(tf.cast(correct_prediction, 'float32'))"
   ],
   "outputs": [],
   "metadata": {}
  },
  {
   "cell_type": "markdown",
   "source": [
    "# Run session and train"
   ],
   "metadata": {}
  },
  {
   "cell_type": "code",
   "execution_count": 52,
   "source": [
    "loss_values = []\r\n",
    "accuracies = []\r\n",
    "epochs = 10\r\n",
    "\r\n",
    "for i in range(epochs):\r\n",
    "    j=0\r\n",
    "\r\n",
    "    for x_train_batch, y_train_batch in train_ds2:\r\n",
    "        j+=1\r\n",
    "        current_loss = train_step(x_train_batch, y_train_batch)\r\n",
    "        if j % 50 == 0:\r\n",
    "            correct_prediction = tf.equal(tf.argmax(y_CNN(x_train_batch), axis=1),\r\n",
    "                                  tf.argmax(y_train_batch, axis=1))\r\n",
    "            #  accuracy\r\n",
    "            accuracy = tf.reduce_mean(tf.cast(correct_prediction, tf.float32)).numpy()\r\n",
    "            print(\"epoch \", str(i), \"batch\", str(j), \"loss:\", str(current_loss),\r\n",
    "                  \"accuracy\", str(accuracy)) \r\n",
    "    \r\n",
    "    current_loss = cross_entropy( y_train, y_CNN( x_image_train )).numpy()\r\n",
    "    loss_values.append(current_loss)\r\n",
    "    correct_prediction = tf.equal(tf.argmax(y_CNN(x_image_train), axis=1),\r\n",
    "                                  tf.argmax(y_train, axis=1))\r\n",
    "    #  accuracy\r\n",
    "    accuracy = tf.reduce_mean(tf.cast(correct_prediction, tf.float32)).numpy()\r\n",
    "    accuracies.append(accuracy)\r\n",
    "    print(\"end of epoch \", str(i), \"loss\", str(current_loss), \"accuracy\", str(accuracy))  "
   ],
   "outputs": [
    {
     "output_type": "stream",
     "name": "stdout",
     "text": [
      "epoch  0 batch 50 loss: 107.115395 accuracy 0.46\n",
      "epoch  0 batch 100 loss: 52.42914 accuracy 0.6\n",
      "epoch  0 batch 150 loss: 35.0821 accuracy 0.72\n",
      "epoch  0 batch 200 loss: 17.083889 accuracy 0.86\n",
      "epoch  0 batch 250 loss: 35.564476 accuracy 0.82\n",
      "epoch  0 batch 300 loss: 21.157684 accuracy 0.9\n",
      "epoch  0 batch 350 loss: 25.186386 accuracy 0.8\n",
      "epoch  0 batch 400 loss: 13.198561 accuracy 0.9\n",
      "epoch  0 batch 450 loss: 21.947456 accuracy 0.86\n",
      "epoch  0 batch 500 loss: 15.291687 accuracy 0.9\n",
      "epoch  0 batch 550 loss: 16.40176 accuracy 0.9\n",
      "epoch  0 batch 600 loss: 21.532248 accuracy 0.9\n",
      "epoch  0 batch 650 loss: 15.331669 accuracy 0.86\n",
      "epoch  0 batch 700 loss: 8.032148 accuracy 0.98\n",
      "epoch  0 batch 750 loss: 29.274931 accuracy 0.9\n",
      "epoch  0 batch 800 loss: 10.127683 accuracy 0.94\n",
      "epoch  0 batch 850 loss: 11.811855 accuracy 0.92\n",
      "epoch  0 batch 900 loss: 10.010102 accuracy 0.92\n",
      "epoch  0 batch 950 loss: 16.574203 accuracy 0.88\n",
      "epoch  0 batch 1000 loss: 13.436437 accuracy 0.92\n",
      "epoch  0 batch 1050 loss: 4.0884376 accuracy 0.96\n",
      "epoch  0 batch 1100 loss: 9.533427 accuracy 0.96\n",
      "epoch  0 batch 1150 loss: 9.371935 accuracy 1.0\n",
      "epoch  0 batch 1200 loss: 1.9324228 accuracy 0.98\n",
      "end of epoch  0 loss 11669.332 accuracy 0.93911666\n",
      "epoch  1 batch 50 loss: 3.0386295 accuracy 0.96\n",
      "epoch  1 batch 100 loss: 10.038189 accuracy 0.92\n",
      "epoch  1 batch 150 loss: 4.207324 accuracy 0.98\n",
      "epoch  1 batch 200 loss: 1.9239035 accuracy 1.0\n",
      "epoch  1 batch 250 loss: 4.516064 accuracy 0.96\n",
      "epoch  1 batch 300 loss: 5.420754 accuracy 0.98\n",
      "epoch  1 batch 350 loss: 8.185645 accuracy 0.92\n",
      "epoch  1 batch 400 loss: 6.155546 accuracy 0.94\n",
      "epoch  1 batch 450 loss: 8.342373 accuracy 0.96\n",
      "epoch  1 batch 500 loss: 4.024202 accuracy 0.96\n",
      "epoch  1 batch 550 loss: 8.938344 accuracy 0.96\n",
      "epoch  1 batch 600 loss: 4.763077 accuracy 1.0\n",
      "epoch  1 batch 650 loss: 8.263955 accuracy 0.92\n",
      "epoch  1 batch 700 loss: 4.89783 accuracy 0.98\n",
      "epoch  1 batch 750 loss: 17.192438 accuracy 0.92\n",
      "epoch  1 batch 800 loss: 7.094905 accuracy 0.98\n",
      "epoch  1 batch 850 loss: 4.0064416 accuracy 0.94\n",
      "epoch  1 batch 900 loss: 6.8108273 accuracy 0.96\n",
      "epoch  1 batch 950 loss: 8.581879 accuracy 0.94\n",
      "epoch  1 batch 1000 loss: 8.275942 accuracy 0.96\n",
      "epoch  1 batch 1050 loss: 1.3426409 accuracy 0.98\n",
      "epoch  1 batch 1100 loss: 10.762373 accuracy 0.92\n",
      "epoch  1 batch 1150 loss: 8.579519 accuracy 0.92\n",
      "epoch  1 batch 1200 loss: 3.2054422 accuracy 1.0\n",
      "end of epoch  1 loss 6905.736 accuracy 0.96395\n",
      "epoch  2 batch 50 loss: 3.0582967 accuracy 1.0\n",
      "epoch  2 batch 100 loss: 4.985917 accuracy 0.96\n",
      "epoch  2 batch 150 loss: 5.067343 accuracy 0.98\n",
      "epoch  2 batch 200 loss: 1.8957335 accuracy 0.96\n",
      "epoch  2 batch 250 loss: 1.5767833 accuracy 0.98\n",
      "epoch  2 batch 300 loss: 4.0995097 accuracy 0.96\n",
      "epoch  2 batch 350 loss: 8.484768 accuracy 0.96\n",
      "epoch  2 batch 400 loss: 1.2409623 accuracy 0.98\n",
      "epoch  2 batch 450 loss: 4.8959417 accuracy 0.98\n",
      "epoch  2 batch 500 loss: 1.3207597 accuracy 0.98\n",
      "epoch  2 batch 550 loss: 5.727874 accuracy 0.96\n",
      "epoch  2 batch 600 loss: 5.22288 accuracy 0.96\n",
      "epoch  2 batch 650 loss: 14.179315 accuracy 0.98\n",
      "epoch  2 batch 700 loss: 3.2018528 accuracy 0.98\n",
      "epoch  2 batch 750 loss: 11.111359 accuracy 0.94\n",
      "epoch  2 batch 800 loss: 1.6156002 accuracy 0.98\n",
      "epoch  2 batch 850 loss: 6.4560723 accuracy 0.96\n",
      "epoch  2 batch 900 loss: 7.136262 accuracy 0.96\n",
      "epoch  2 batch 950 loss: 4.438872 accuracy 0.9\n",
      "epoch  2 batch 1000 loss: 6.031452 accuracy 0.98\n",
      "epoch  2 batch 1050 loss: 2.348507 accuracy 1.0\n",
      "epoch  2 batch 1100 loss: 3.4308639 accuracy 0.96\n",
      "epoch  2 batch 1150 loss: 11.4324665 accuracy 0.96\n",
      "epoch  2 batch 1200 loss: 0.3098203 accuracy 1.0\n",
      "end of epoch  2 loss 5055.8965 accuracy 0.9738\n",
      "epoch  3 batch 50 loss: 1.244012 accuracy 1.0\n",
      "epoch  3 batch 100 loss: 6.6963077 accuracy 0.94\n",
      "epoch  3 batch 150 loss: 3.0760803 accuracy 0.96\n",
      "epoch  3 batch 200 loss: 0.6020106 accuracy 1.0\n",
      "epoch  3 batch 250 loss: 2.3210561 accuracy 1.0\n",
      "epoch  3 batch 300 loss: 2.414565 accuracy 0.98\n",
      "epoch  3 batch 350 loss: 3.018454 accuracy 0.96\n",
      "epoch  3 batch 400 loss: 2.9249854 accuracy 1.0\n",
      "epoch  3 batch 450 loss: 3.4129107 accuracy 1.0\n",
      "epoch  3 batch 500 loss: 0.36143327 accuracy 1.0\n",
      "epoch  3 batch 550 loss: 2.4483652 accuracy 0.98\n",
      "epoch  3 batch 600 loss: 3.415399 accuracy 1.0\n",
      "epoch  3 batch 650 loss: 12.295858 accuracy 0.96\n",
      "epoch  3 batch 700 loss: 0.6229742 accuracy 0.96\n",
      "epoch  3 batch 750 loss: 12.631228 accuracy 0.96\n",
      "epoch  3 batch 800 loss: 2.29206 accuracy 1.0\n",
      "epoch  3 batch 850 loss: 3.9076118 accuracy 1.0\n",
      "epoch  3 batch 900 loss: 3.9468472 accuracy 0.98\n",
      "epoch  3 batch 950 loss: 6.005978 accuracy 0.92\n",
      "epoch  3 batch 1000 loss: 2.1656084 accuracy 0.96\n",
      "epoch  3 batch 1050 loss: 2.6446824 accuracy 1.0\n",
      "epoch  3 batch 1100 loss: 1.841995 accuracy 1.0\n",
      "epoch  3 batch 1150 loss: 4.716581 accuracy 0.98\n",
      "epoch  3 batch 1200 loss: 0.398089 accuracy 1.0\n",
      "end of epoch  3 loss 3658.006 accuracy 0.98001665\n",
      "epoch  4 batch 50 loss: 0.7705944 accuracy 1.0\n",
      "epoch  4 batch 100 loss: 6.9017053 accuracy 0.96\n",
      "epoch  4 batch 150 loss: 3.6497586 accuracy 0.98\n",
      "epoch  4 batch 200 loss: 1.0455343 accuracy 1.0\n",
      "epoch  4 batch 250 loss: 1.3054805 accuracy 1.0\n",
      "epoch  4 batch 300 loss: 1.9327393 accuracy 1.0\n",
      "epoch  4 batch 350 loss: 6.0277443 accuracy 0.96\n",
      "epoch  4 batch 400 loss: 0.39770678 accuracy 1.0\n",
      "epoch  4 batch 450 loss: 0.33517247 accuracy 0.98\n",
      "epoch  4 batch 500 loss: 0.18101363 accuracy 1.0\n",
      "epoch  4 batch 550 loss: 0.6231259 accuracy 0.96\n",
      "epoch  4 batch 600 loss: 2.1745434 accuracy 1.0\n",
      "epoch  4 batch 650 loss: 3.4033198 accuracy 1.0\n",
      "epoch  4 batch 700 loss: 2.0068707 accuracy 0.98\n",
      "epoch  4 batch 750 loss: 9.670212 accuracy 0.94\n",
      "epoch  4 batch 800 loss: 1.7950392 accuracy 1.0\n",
      "epoch  4 batch 850 loss: 2.3313792 accuracy 0.98\n",
      "epoch  4 batch 900 loss: 1.4799259 accuracy 0.98\n",
      "epoch  4 batch 950 loss: 8.689702 accuracy 0.94\n",
      "epoch  4 batch 1000 loss: 3.2255871 accuracy 0.94\n",
      "epoch  4 batch 1050 loss: 1.2353107 accuracy 1.0\n",
      "epoch  4 batch 1100 loss: 2.8745732 accuracy 1.0\n",
      "epoch  4 batch 1150 loss: 6.788949 accuracy 0.98\n",
      "epoch  4 batch 1200 loss: 0.9538078 accuracy 1.0\n",
      "end of epoch  4 loss 3045.524 accuracy 0.98415\n",
      "epoch  5 batch 50 loss: 0.1203718 accuracy 1.0\n",
      "epoch  5 batch 100 loss: 1.7174782 accuracy 0.96\n",
      "epoch  5 batch 150 loss: 2.690211 accuracy 0.98\n",
      "epoch  5 batch 200 loss: 0.8505783 accuracy 1.0\n",
      "epoch  5 batch 250 loss: 0.58105737 accuracy 1.0\n",
      "epoch  5 batch 300 loss: 1.8305773 accuracy 0.98\n",
      "epoch  5 batch 350 loss: 3.1981204 accuracy 0.98\n",
      "epoch  5 batch 400 loss: 0.44360352 accuracy 1.0\n",
      "epoch  5 batch 450 loss: 0.5881256 accuracy 1.0\n",
      "epoch  5 batch 500 loss: 1.4474797 accuracy 1.0\n",
      "epoch  5 batch 550 loss: 1.2690756 accuracy 1.0\n",
      "epoch  5 batch 600 loss: 0.8989507 accuracy 1.0\n",
      "epoch  5 batch 650 loss: 3.1709704 accuracy 0.98\n",
      "epoch  5 batch 700 loss: 0.1761655 accuracy 0.98\n",
      "epoch  5 batch 750 loss: 3.4186254 accuracy 0.98\n",
      "epoch  5 batch 800 loss: 0.3462426 accuracy 1.0\n",
      "epoch  5 batch 850 loss: 1.4572103 accuracy 1.0\n",
      "epoch  5 batch 900 loss: 2.2273033 accuracy 1.0\n",
      "epoch  5 batch 950 loss: 5.558072 accuracy 0.98\n",
      "epoch  5 batch 1000 loss: 0.4000107 accuracy 0.98\n",
      "epoch  5 batch 1050 loss: 0.22367698 accuracy 1.0\n",
      "epoch  5 batch 1100 loss: 2.4764857 accuracy 0.98\n",
      "epoch  5 batch 1150 loss: 1.1960374 accuracy 0.96\n",
      "epoch  5 batch 1200 loss: 0.1555143 accuracy 1.0\n",
      "end of epoch  5 loss 2418.0466 accuracy 0.98723334\n",
      "epoch  6 batch 50 loss: 0.12257477 accuracy 0.98\n",
      "epoch  6 batch 100 loss: 6.5269814 accuracy 0.98\n",
      "epoch  6 batch 150 loss: 3.6813998 accuracy 0.98\n",
      "epoch  6 batch 200 loss: 0.10271206 accuracy 1.0\n",
      "epoch  6 batch 250 loss: 0.63816476 accuracy 1.0\n",
      "epoch  6 batch 300 loss: 0.86970294 accuracy 1.0\n",
      "epoch  6 batch 350 loss: 0.80556226 accuracy 1.0\n",
      "epoch  6 batch 400 loss: 0.1593139 accuracy 1.0\n",
      "epoch  6 batch 450 loss: 0.9949742 accuracy 1.0\n",
      "epoch  6 batch 500 loss: 0.15515047 accuracy 1.0\n",
      "epoch  6 batch 550 loss: 0.6544621 accuracy 1.0\n",
      "epoch  6 batch 600 loss: 1.6244243 accuracy 1.0\n",
      "epoch  6 batch 650 loss: 4.9077873 accuracy 1.0\n",
      "epoch  6 batch 700 loss: 0.51976293 accuracy 1.0\n",
      "epoch  6 batch 750 loss: 1.6186671 accuracy 0.94\n",
      "epoch  6 batch 800 loss: 0.5013804 accuracy 1.0\n",
      "epoch  6 batch 850 loss: 0.28323284 accuracy 0.98\n",
      "epoch  6 batch 900 loss: 1.9292432 accuracy 0.98\n",
      "epoch  6 batch 950 loss: 2.0001183 accuracy 0.96\n",
      "epoch  6 batch 1000 loss: 3.0975883 accuracy 0.98\n",
      "epoch  6 batch 1050 loss: 0.49908978 accuracy 1.0\n",
      "epoch  6 batch 1100 loss: 3.209774 accuracy 1.0\n",
      "epoch  6 batch 1150 loss: 5.973688 accuracy 0.96\n",
      "epoch  6 batch 1200 loss: 0.11641149 accuracy 1.0\n",
      "end of epoch  6 loss 1927.2786 accuracy 0.9895167\n",
      "epoch  7 batch 50 loss: 0.02117049 accuracy 1.0\n",
      "epoch  7 batch 100 loss: 1.5802883 accuracy 0.98\n",
      "epoch  7 batch 150 loss: 0.45003438 accuracy 0.98\n",
      "epoch  7 batch 200 loss: 0.07706249 accuracy 1.0\n",
      "epoch  7 batch 250 loss: 0.4291935 accuracy 1.0\n",
      "epoch  7 batch 300 loss: 1.4021249 accuracy 0.98\n",
      "epoch  7 batch 350 loss: 0.85252655 accuracy 1.0\n",
      "epoch  7 batch 400 loss: 0.103916384 accuracy 0.98\n",
      "epoch  7 batch 450 loss: 0.18567441 accuracy 1.0\n",
      "epoch  7 batch 500 loss: 0.22354242 accuracy 1.0\n",
      "epoch  7 batch 550 loss: 0.48323283 accuracy 1.0\n",
      "epoch  7 batch 600 loss: 2.1530468 accuracy 0.98\n",
      "epoch  7 batch 650 loss: 0.9260471 accuracy 1.0\n",
      "epoch  7 batch 700 loss: 0.5422827 accuracy 1.0\n",
      "epoch  7 batch 750 loss: 2.2747476 accuracy 0.98\n",
      "epoch  7 batch 800 loss: 0.0856801 accuracy 1.0\n",
      "epoch  7 batch 850 loss: 0.20274864 accuracy 0.98\n",
      "epoch  7 batch 900 loss: 0.21593732 accuracy 1.0\n",
      "epoch  7 batch 950 loss: 2.8902287 accuracy 1.0\n",
      "epoch  7 batch 1000 loss: 0.9225885 accuracy 0.98\n",
      "epoch  7 batch 1050 loss: 0.2675051 accuracy 1.0\n",
      "epoch  7 batch 1100 loss: 4.352637 accuracy 1.0\n",
      "epoch  7 batch 1150 loss: 6.3209715 accuracy 1.0\n",
      "epoch  7 batch 1200 loss: 0.07163182 accuracy 1.0\n",
      "end of epoch  7 loss 1638.5287 accuracy 0.99078333\n",
      "epoch  8 batch 50 loss: 0.70733106 accuracy 1.0\n",
      "epoch  8 batch 100 loss: 2.846933 accuracy 1.0\n",
      "epoch  8 batch 150 loss: 1.8432442 accuracy 0.98\n",
      "epoch  8 batch 200 loss: 0.058358878 accuracy 1.0\n",
      "epoch  8 batch 250 loss: 0.166224 accuracy 1.0\n",
      "epoch  8 batch 300 loss: 0.35481995 accuracy 1.0\n",
      "epoch  8 batch 350 loss: 1.2090671 accuracy 0.98\n",
      "epoch  8 batch 400 loss: 0.35457057 accuracy 1.0\n",
      "epoch  8 batch 450 loss: 0.22266407 accuracy 1.0\n",
      "epoch  8 batch 500 loss: 0.20661426 accuracy 1.0\n",
      "epoch  8 batch 550 loss: 0.7115239 accuracy 1.0\n",
      "epoch  8 batch 600 loss: 0.81995815 accuracy 1.0\n",
      "epoch  8 batch 650 loss: 2.007469 accuracy 0.98\n",
      "epoch  8 batch 700 loss: 0.07823739 accuracy 1.0\n",
      "epoch  8 batch 750 loss: 1.4467233 accuracy 0.96\n",
      "epoch  8 batch 800 loss: 0.23960826 accuracy 1.0\n",
      "epoch  8 batch 850 loss: 0.46762186 accuracy 0.96\n",
      "epoch  8 batch 900 loss: 1.0585517 accuracy 0.98\n",
      "epoch  8 batch 950 loss: 2.92736 accuracy 0.98\n",
      "epoch  8 batch 1000 loss: 3.501297 accuracy 1.0\n",
      "epoch  8 batch 1050 loss: 0.25444147 accuracy 1.0\n",
      "epoch  8 batch 1100 loss: 0.91715026 accuracy 1.0\n",
      "epoch  8 batch 1150 loss: 1.1946546 accuracy 0.98\n",
      "epoch  8 batch 1200 loss: 0.016020201 accuracy 1.0\n",
      "end of epoch  8 loss 1304.1072 accuracy 0.9932333\n",
      "epoch  9 batch 50 loss: 0.029509507 accuracy 1.0\n",
      "epoch  9 batch 100 loss: 0.24616289 accuracy 1.0\n",
      "epoch  9 batch 150 loss: 1.125783 accuracy 1.0\n",
      "epoch  9 batch 200 loss: 0.031100702 accuracy 1.0\n",
      "epoch  9 batch 250 loss: 0.50746053 accuracy 1.0\n",
      "epoch  9 batch 300 loss: 0.5905863 accuracy 1.0\n",
      "epoch  9 batch 350 loss: 0.6499803 accuracy 1.0\n",
      "epoch  9 batch 400 loss: 0.0609857 accuracy 1.0\n",
      "epoch  9 batch 450 loss: 0.3771944 accuracy 1.0\n",
      "epoch  9 batch 500 loss: 0.77794975 accuracy 1.0\n",
      "epoch  9 batch 550 loss: 0.2037583 accuracy 1.0\n",
      "epoch  9 batch 600 loss: 0.5688153 accuracy 1.0\n",
      "epoch  9 batch 650 loss: 0.4687611 accuracy 1.0\n",
      "epoch  9 batch 700 loss: 0.113055184 accuracy 1.0\n",
      "epoch  9 batch 750 loss: 1.7803332 accuracy 1.0\n",
      "epoch  9 batch 800 loss: 0.36622292 accuracy 1.0\n",
      "epoch  9 batch 850 loss: 0.31006423 accuracy 1.0\n",
      "epoch  9 batch 900 loss: 1.1581987 accuracy 1.0\n",
      "epoch  9 batch 950 loss: 4.1086864 accuracy 1.0\n",
      "epoch  9 batch 1000 loss: 2.5663514 accuracy 1.0\n",
      "epoch  9 batch 1050 loss: 0.19228528 accuracy 1.0\n",
      "epoch  9 batch 1100 loss: 1.4217824 accuracy 0.98\n",
      "epoch  9 batch 1150 loss: 0.6543691 accuracy 0.98\n",
      "epoch  9 batch 1200 loss: 0.02511048 accuracy 1.0\n",
      "end of epoch  9 loss 1142.6349 accuracy 0.99383336\n"
     ]
    }
   ],
   "metadata": {}
  },
  {
   "cell_type": "markdown",
   "source": [
    "# Evaluate the model"
   ],
   "metadata": {}
  },
  {
   "cell_type": "code",
   "execution_count": 53,
   "source": [
    "j=0\r\n",
    "acccuracies=[]\r\n",
    "# evaluate accuracy by batch and average...reporting every 100th batch\r\n",
    "for x_train_batch, y_train_batch in train_ds2:\r\n",
    "        j+=1\r\n",
    "        correct_prediction = tf.equal(tf.argmax(y_CNN(x_train_batch), axis=1),\r\n",
    "                                  tf.argmax(y_train_batch, axis=1))\r\n",
    "        accuracy = tf.reduce_mean(tf.cast(correct_prediction, tf.float32)).numpy()\r\n",
    "        #accuracies.append(accuracy)\r\n",
    "        if j%100==0:\r\n",
    "            print(\"batch\", str(j), \"accuracy\", str(accuracy) ) \r\n",
    "import numpy as np\r\n",
    "print(\"accuracy of entire set\", str(np.mean(accuracies)))        "
   ],
   "outputs": [
    {
     "output_type": "stream",
     "name": "stdout",
     "text": [
      "batch 100 accuracy 1.0\n",
      "batch 200 accuracy 1.0\n",
      "batch 300 accuracy 1.0\n",
      "batch 400 accuracy 1.0\n",
      "batch 500 accuracy 1.0\n",
      "batch 600 accuracy 0.98\n",
      "batch 700 accuracy 1.0\n",
      "batch 800 accuracy 1.0\n",
      "batch 900 accuracy 1.0\n",
      "batch 1000 accuracy 1.0\n",
      "batch 1100 accuracy 1.0\n",
      "batch 1200 accuracy 1.0\n",
      "accuracy of entire set 0.97956336\n"
     ]
    }
   ],
   "metadata": {}
  },
  {
   "cell_type": "markdown",
   "source": [
    "# Visualization"
   ],
   "metadata": {}
  },
  {
   "cell_type": "code",
   "execution_count": 54,
   "source": [
    "import utils\r\n",
    "import imp\r\n",
    "imp.reload(utils)\r\n",
    "from utils import tile_raster_images\r\n",
    "import matplotlib.pyplot as plt\r\n",
    "from PIL import Image\r\n",
    "%matplotlib inline\r\n",
    "image = Image.fromarray(tile_raster_images(kernels.numpy(), img_shape=(5, 5) ,tile_shape=(4, 8), tile_spacing=(1, 1)))\r\n",
    "### Plot image\r\n",
    "plt.rcParams['figure.figsize'] = (18.0, 18.0)\r\n",
    "imgplot = plt.imshow(image)\r\n",
    "imgplot.set_cmap('gray')  "
   ],
   "outputs": [
    {
     "output_type": "error",
     "ename": "NameError",
     "evalue": "name 'kernels' is not defined",
     "traceback": [
      "\u001b[1;31m---------------------------------------------------------------------------\u001b[0m",
      "\u001b[1;31mNameError\u001b[0m                                 Traceback (most recent call last)",
      "\u001b[1;32m<ipython-input-54-d9262f9eec00>\u001b[0m in \u001b[0;36m<module>\u001b[1;34m\u001b[0m\n\u001b[0;32m      6\u001b[0m \u001b[1;32mfrom\u001b[0m \u001b[0mPIL\u001b[0m \u001b[1;32mimport\u001b[0m \u001b[0mImage\u001b[0m\u001b[1;33m\u001b[0m\u001b[1;33m\u001b[0m\u001b[0m\n\u001b[0;32m      7\u001b[0m \u001b[0mget_ipython\u001b[0m\u001b[1;33m(\u001b[0m\u001b[1;33m)\u001b[0m\u001b[1;33m.\u001b[0m\u001b[0mrun_line_magic\u001b[0m\u001b[1;33m(\u001b[0m\u001b[1;34m'matplotlib'\u001b[0m\u001b[1;33m,\u001b[0m \u001b[1;34m'inline'\u001b[0m\u001b[1;33m)\u001b[0m\u001b[1;33m\u001b[0m\u001b[1;33m\u001b[0m\u001b[0m\n\u001b[1;32m----> 8\u001b[1;33m \u001b[0mimage\u001b[0m \u001b[1;33m=\u001b[0m \u001b[0mImage\u001b[0m\u001b[1;33m.\u001b[0m\u001b[0mfromarray\u001b[0m\u001b[1;33m(\u001b[0m\u001b[0mtile_raster_images\u001b[0m\u001b[1;33m(\u001b[0m\u001b[0mkernels\u001b[0m\u001b[1;33m.\u001b[0m\u001b[0mnumpy\u001b[0m\u001b[1;33m(\u001b[0m\u001b[1;33m)\u001b[0m\u001b[1;33m,\u001b[0m \u001b[0mimg_shape\u001b[0m\u001b[1;33m=\u001b[0m\u001b[1;33m(\u001b[0m\u001b[1;36m5\u001b[0m\u001b[1;33m,\u001b[0m \u001b[1;36m5\u001b[0m\u001b[1;33m)\u001b[0m \u001b[1;33m,\u001b[0m\u001b[0mtile_shape\u001b[0m\u001b[1;33m=\u001b[0m\u001b[1;33m(\u001b[0m\u001b[1;36m4\u001b[0m\u001b[1;33m,\u001b[0m \u001b[1;36m8\u001b[0m\u001b[1;33m)\u001b[0m\u001b[1;33m,\u001b[0m \u001b[0mtile_spacing\u001b[0m\u001b[1;33m=\u001b[0m\u001b[1;33m(\u001b[0m\u001b[1;36m1\u001b[0m\u001b[1;33m,\u001b[0m \u001b[1;36m1\u001b[0m\u001b[1;33m)\u001b[0m\u001b[1;33m)\u001b[0m\u001b[1;33m)\u001b[0m\u001b[1;33m\u001b[0m\u001b[1;33m\u001b[0m\u001b[0m\n\u001b[0m\u001b[0;32m      9\u001b[0m \u001b[1;31m### Plot image\u001b[0m\u001b[1;33m\u001b[0m\u001b[1;33m\u001b[0m\u001b[1;33m\u001b[0m\u001b[0m\n\u001b[0;32m     10\u001b[0m \u001b[0mplt\u001b[0m\u001b[1;33m.\u001b[0m\u001b[0mrcParams\u001b[0m\u001b[1;33m[\u001b[0m\u001b[1;34m'figure.figsize'\u001b[0m\u001b[1;33m]\u001b[0m \u001b[1;33m=\u001b[0m \u001b[1;33m(\u001b[0m\u001b[1;36m18.0\u001b[0m\u001b[1;33m,\u001b[0m \u001b[1;36m18.0\u001b[0m\u001b[1;33m)\u001b[0m\u001b[1;33m\u001b[0m\u001b[1;33m\u001b[0m\u001b[0m\n",
      "\u001b[1;31mNameError\u001b[0m: name 'kernels' is not defined"
     ]
    }
   ],
   "metadata": {}
  },
  {
   "cell_type": "markdown",
   "source": [
    "Do you want to see the output of an image passing through first convolution layer?\r\n"
   ],
   "metadata": {}
  },
  {
   "cell_type": "code",
   "execution_count": 55,
   "source": [
    "import numpy as np\r\n",
    "plt.rcParams['figure.figsize'] = (5.0, 5.0)\r\n",
    "sampleimage = [x_image_train[0]]\r\n",
    "plt.imshow(np.reshape(sampleimage,[28,28]), cmap=\"gray\")"
   ],
   "outputs": [
    {
     "output_type": "execute_result",
     "data": {
      "text/plain": [
       "<matplotlib.image.AxesImage at 0x5d6dd8b0>"
      ]
     },
     "metadata": {},
     "execution_count": 55
    },
    {
     "output_type": "display_data",
     "data": {
      "text/plain": [
       "<Figure size 360x360 with 1 Axes>"
      ],
      "image/png": "[encoded data removed]"
     },
     "metadata": {
      "needs_background": "light"
     }
    }
   ],
   "metadata": {}
  },
  {
   "cell_type": "code",
   "execution_count": 56,
   "source": [
    "keep_prob=1.0\r\n",
    "ActivatedUnits = convolve1(sampleimage)\r\n",
    "                           \r\n",
    "filters = ActivatedUnits.shape[3]\r\n",
    "plt.figure(1, figsize=(20,20))\r\n",
    "n_columns = 6\r\n",
    "n_rows = np.math.ceil(filters / n_columns) + 1\r\n",
    "for i in range(filters):\r\n",
    "    plt.subplot(n_rows, n_columns, i+1)\r\n",
    "    plt.title('Filter ' + str(i))\r\n",
    "    plt.imshow(ActivatedUnits[0,:,:,i], interpolation=\"nearest\", cmap=\"gray\")"
   ],
   "outputs": [
    {
     "output_type": "error",
     "ename": "UnboundLocalError",
     "evalue": "local variable 'ndims' referenced before assignment",
     "traceback": [
      "\u001b[1;31m---------------------------------------------------------------------------\u001b[0m",
      "\u001b[1;31mUnboundLocalError\u001b[0m                         Traceback (most recent call last)",
      "\u001b[1;32m<ipython-input-56-4dbf2910bdbb>\u001b[0m in \u001b[0;36m<module>\u001b[1;34m\u001b[0m\n\u001b[0;32m      1\u001b[0m \u001b[0mkeep_prob\u001b[0m\u001b[1;33m=\u001b[0m\u001b[1;36m1.0\u001b[0m\u001b[1;33m\u001b[0m\u001b[1;33m\u001b[0m\u001b[0m\n\u001b[1;32m----> 2\u001b[1;33m \u001b[0mActivatedUnits\u001b[0m \u001b[1;33m=\u001b[0m \u001b[0mconvolve1\u001b[0m\u001b[1;33m(\u001b[0m\u001b[0msampleimage\u001b[0m\u001b[1;33m)\u001b[0m\u001b[1;33m\u001b[0m\u001b[1;33m\u001b[0m\u001b[0m\n\u001b[0m\u001b[0;32m      3\u001b[0m \u001b[1;33m\u001b[0m\u001b[0m\n\u001b[0;32m      4\u001b[0m \u001b[0mfilters\u001b[0m \u001b[1;33m=\u001b[0m \u001b[0mActivatedUnits\u001b[0m\u001b[1;33m.\u001b[0m\u001b[0mshape\u001b[0m\u001b[1;33m[\u001b[0m\u001b[1;36m3\u001b[0m\u001b[1;33m]\u001b[0m\u001b[1;33m\u001b[0m\u001b[1;33m\u001b[0m\u001b[0m\n\u001b[0;32m      5\u001b[0m \u001b[0mplt\u001b[0m\u001b[1;33m.\u001b[0m\u001b[0mfigure\u001b[0m\u001b[1;33m(\u001b[0m\u001b[1;36m1\u001b[0m\u001b[1;33m,\u001b[0m \u001b[0mfigsize\u001b[0m\u001b[1;33m=\u001b[0m\u001b[1;33m(\u001b[0m\u001b[1;36m20\u001b[0m\u001b[1;33m,\u001b[0m\u001b[1;36m20\u001b[0m\u001b[1;33m)\u001b[0m\u001b[1;33m)\u001b[0m\u001b[1;33m\u001b[0m\u001b[1;33m\u001b[0m\u001b[0m\n",
      "\u001b[1;32m<ipython-input-30-92fa9cef0e01>\u001b[0m in \u001b[0;36mconvolve1\u001b[1;34m(x)\u001b[0m\n\u001b[0;32m      1\u001b[0m \u001b[1;32mdef\u001b[0m \u001b[0mconvolve1\u001b[0m\u001b[1;33m(\u001b[0m\u001b[0mx\u001b[0m\u001b[1;33m)\u001b[0m\u001b[1;33m:\u001b[0m\u001b[1;33m\u001b[0m\u001b[1;33m\u001b[0m\u001b[0m\n\u001b[1;32m----> 2\u001b[1;33m     \u001b[1;32mreturn\u001b[0m \u001b[1;33m(\u001b[0m\u001b[0mtf\u001b[0m\u001b[1;33m.\u001b[0m\u001b[0mnn\u001b[0m\u001b[1;33m.\u001b[0m\u001b[0mconv2d\u001b[0m\u001b[1;33m(\u001b[0m\u001b[0mx\u001b[0m\u001b[1;33m,\u001b[0m \u001b[0mW_conv1\u001b[0m\u001b[1;33m,\u001b[0m \u001b[0mstrides\u001b[0m\u001b[1;33m=\u001b[0m\u001b[1;33m[\u001b[0m\u001b[1;36m1\u001b[0m\u001b[1;33m,\u001b[0m \u001b[1;36m1\u001b[0m\u001b[1;33m,\u001b[0m \u001b[1;36m1\u001b[0m\u001b[1;33m,\u001b[0m \u001b[1;36m1\u001b[0m\u001b[1;33m]\u001b[0m\u001b[1;33m,\u001b[0m \u001b[0mpadding\u001b[0m\u001b[1;33m=\u001b[0m\u001b[1;34m'SAME'\u001b[0m\u001b[1;33m)\u001b[0m \u001b[1;33m+\u001b[0m \u001b[0mb_conv1\u001b[0m\u001b[1;33m)\u001b[0m\u001b[1;33m\u001b[0m\u001b[1;33m\u001b[0m\u001b[0m\n\u001b[0m",
      "\u001b[1;32m~\\anaconda3\\lib\\site-packages\\tensorflow\\python\\util\\dispatch.py\u001b[0m in \u001b[0;36mwrapper\u001b[1;34m(*args, **kwargs)\u001b[0m\n\u001b[0;32m    199\u001b[0m     \u001b[1;34m\"\"\"Call target, and fall back on dispatchers if there is a TypeError.\"\"\"\u001b[0m\u001b[1;33m\u001b[0m\u001b[1;33m\u001b[0m\u001b[0m\n\u001b[0;32m    200\u001b[0m     \u001b[1;32mtry\u001b[0m\u001b[1;33m:\u001b[0m\u001b[1;33m\u001b[0m\u001b[1;33m\u001b[0m\u001b[0m\n\u001b[1;32m--> 201\u001b[1;33m       \u001b[1;32mreturn\u001b[0m \u001b[0mtarget\u001b[0m\u001b[1;33m(\u001b[0m\u001b[1;33m*\u001b[0m\u001b[0margs\u001b[0m\u001b[1;33m,\u001b[0m \u001b[1;33m**\u001b[0m\u001b[0mkwargs\u001b[0m\u001b[1;33m)\u001b[0m\u001b[1;33m\u001b[0m\u001b[1;33m\u001b[0m\u001b[0m\n\u001b[0m\u001b[0;32m    202\u001b[0m     \u001b[1;32mexcept\u001b[0m \u001b[1;33m(\u001b[0m\u001b[0mTypeError\u001b[0m\u001b[1;33m,\u001b[0m \u001b[0mValueError\u001b[0m\u001b[1;33m)\u001b[0m\u001b[1;33m:\u001b[0m\u001b[1;33m\u001b[0m\u001b[1;33m\u001b[0m\u001b[0m\n\u001b[0;32m    203\u001b[0m       \u001b[1;31m# Note: convert_to_eager_tensor currently raises a ValueError, not a\u001b[0m\u001b[1;33m\u001b[0m\u001b[1;33m\u001b[0m\u001b[1;33m\u001b[0m\u001b[0m\n",
      "\u001b[1;32m~\\anaconda3\\lib\\site-packages\\tensorflow\\python\\ops\\nn_ops.py\u001b[0m in \u001b[0;36mconv2d_v2\u001b[1;34m(input, filters, strides, padding, data_format, dilations, name)\u001b[0m\n\u001b[0;32m   2157\u001b[0m   \"\"\"\n\u001b[0;32m   2158\u001b[0m   \u001b[1;31m# pylint: enable=line-too-long\u001b[0m\u001b[1;33m\u001b[0m\u001b[1;33m\u001b[0m\u001b[1;33m\u001b[0m\u001b[0m\n\u001b[1;32m-> 2159\u001b[1;33m   return conv2d(input,  # pylint: disable=redefined-builtin\n\u001b[0m\u001b[0;32m   2160\u001b[0m                 \u001b[0mfilters\u001b[0m\u001b[1;33m,\u001b[0m\u001b[1;33m\u001b[0m\u001b[1;33m\u001b[0m\u001b[0m\n\u001b[0;32m   2161\u001b[0m                 \u001b[0mstrides\u001b[0m\u001b[1;33m,\u001b[0m\u001b[1;33m\u001b[0m\u001b[1;33m\u001b[0m\u001b[0m\n",
      "\u001b[1;32m~\\anaconda3\\lib\\site-packages\\tensorflow\\python\\util\\dispatch.py\u001b[0m in \u001b[0;36mwrapper\u001b[1;34m(*args, **kwargs)\u001b[0m\n\u001b[0;32m    199\u001b[0m     \u001b[1;34m\"\"\"Call target, and fall back on dispatchers if there is a TypeError.\"\"\"\u001b[0m\u001b[1;33m\u001b[0m\u001b[1;33m\u001b[0m\u001b[0m\n\u001b[0;32m    200\u001b[0m     \u001b[1;32mtry\u001b[0m\u001b[1;33m:\u001b[0m\u001b[1;33m\u001b[0m\u001b[1;33m\u001b[0m\u001b[0m\n\u001b[1;32m--> 201\u001b[1;33m       \u001b[1;32mreturn\u001b[0m \u001b[0mtarget\u001b[0m\u001b[1;33m(\u001b[0m\u001b[1;33m*\u001b[0m\u001b[0margs\u001b[0m\u001b[1;33m,\u001b[0m \u001b[1;33m**\u001b[0m\u001b[0mkwargs\u001b[0m\u001b[1;33m)\u001b[0m\u001b[1;33m\u001b[0m\u001b[1;33m\u001b[0m\u001b[0m\n\u001b[0m\u001b[0;32m    202\u001b[0m     \u001b[1;32mexcept\u001b[0m \u001b[1;33m(\u001b[0m\u001b[0mTypeError\u001b[0m\u001b[1;33m,\u001b[0m \u001b[0mValueError\u001b[0m\u001b[1;33m)\u001b[0m\u001b[1;33m:\u001b[0m\u001b[1;33m\u001b[0m\u001b[1;33m\u001b[0m\u001b[0m\n\u001b[0;32m    203\u001b[0m       \u001b[1;31m# Note: convert_to_eager_tensor currently raises a ValueError, not a\u001b[0m\u001b[1;33m\u001b[0m\u001b[1;33m\u001b[0m\u001b[1;33m\u001b[0m\u001b[0m\n",
      "\u001b[1;32m~\\anaconda3\\lib\\site-packages\\tensorflow\\python\\ops\\nn_ops.py\u001b[0m in \u001b[0;36mconv2d\u001b[1;34m(input, filter, strides, padding, use_cudnn_on_gpu, data_format, dilations, name, filters)\u001b[0m\n\u001b[0;32m   2260\u001b[0m     \u001b[0mndims\u001b[0m \u001b[1;33m=\u001b[0m \u001b[0mgetattr\u001b[0m\u001b[1;33m(\u001b[0m\u001b[0mshape\u001b[0m\u001b[1;33m,\u001b[0m \u001b[1;34m\"ndims\"\u001b[0m\u001b[1;33m,\u001b[0m \u001b[1;33m-\u001b[0m\u001b[1;36m1\u001b[0m\u001b[1;33m)\u001b[0m\u001b[1;33m\u001b[0m\u001b[1;33m\u001b[0m\u001b[0m\n\u001b[0;32m   2261\u001b[0m     \u001b[1;32mif\u001b[0m \u001b[0mndims\u001b[0m \u001b[1;33m==\u001b[0m \u001b[1;33m-\u001b[0m\u001b[1;36m1\u001b[0m\u001b[1;33m:\u001b[0m \u001b[0mndims\u001b[0m \u001b[1;33m=\u001b[0m \u001b[0mlen\u001b[0m\u001b[1;33m(\u001b[0m\u001b[0mshape\u001b[0m\u001b[1;33m)\u001b[0m\u001b[1;33m\u001b[0m\u001b[1;33m\u001b[0m\u001b[0m\n\u001b[1;32m-> 2262\u001b[1;33m   \u001b[1;32mif\u001b[0m \u001b[0mndims\u001b[0m \u001b[1;32min\u001b[0m \u001b[1;33m(\u001b[0m\u001b[1;36m4\u001b[0m\u001b[1;33m,\u001b[0m \u001b[1;36m3\u001b[0m\u001b[1;33m,\u001b[0m \u001b[1;36m2\u001b[0m\u001b[1;33m,\u001b[0m \u001b[1;36m1\u001b[0m\u001b[1;33m,\u001b[0m \u001b[1;36m0\u001b[0m\u001b[1;33m,\u001b[0m \u001b[1;32mNone\u001b[0m\u001b[1;33m)\u001b[0m\u001b[1;33m:\u001b[0m\u001b[1;33m\u001b[0m\u001b[1;33m\u001b[0m\u001b[0m\n\u001b[0m\u001b[0;32m   2263\u001b[0m     \u001b[1;31m# We avoid calling squeeze_batch_dims to reduce extra python function\u001b[0m\u001b[1;33m\u001b[0m\u001b[1;33m\u001b[0m\u001b[1;33m\u001b[0m\u001b[0m\n\u001b[0;32m   2264\u001b[0m     \u001b[1;31m# call slowdown in eager mode.  This branch doesn't require reshapes.\u001b[0m\u001b[1;33m\u001b[0m\u001b[1;33m\u001b[0m\u001b[1;33m\u001b[0m\u001b[0m\n",
      "\u001b[1;31mUnboundLocalError\u001b[0m: local variable 'ndims' referenced before assignment"
     ]
    }
   ],
   "metadata": {}
  },
  {
   "cell_type": "markdown",
   "source": [
    "What about second convolution layer?\r\n"
   ],
   "metadata": {}
  },
  {
   "cell_type": "code",
   "execution_count": 57,
   "source": [
    "ActivatedUnits = convolve2(sampleimage)\r\n",
    "filters = ActivatedUnits.shape[3]\r\n",
    "plt.figure(1, figsize=(20,20))\r\n",
    "n_columns = 8\r\n",
    "n_rows = np.math.ceil(filters / n_columns) + 1\r\n",
    "for i in range(filters):\r\n",
    "    plt.subplot(n_rows, n_columns, i+1)\r\n",
    "    plt.title('Filter ' + str(i))\r\n",
    "    plt.imshow(ActivatedUnits[0,:,:,i], interpolation=\"nearest\", cmap=\"gray\")"
   ],
   "outputs": [
    {
     "output_type": "error",
     "ename": "UnboundLocalError",
     "evalue": "local variable 'ndims' referenced before assignment",
     "traceback": [
      "\u001b[1;31m---------------------------------------------------------------------------\u001b[0m",
      "\u001b[1;31mUnboundLocalError\u001b[0m                         Traceback (most recent call last)",
      "\u001b[1;32m<ipython-input-57-b1012ed3d86f>\u001b[0m in \u001b[0;36m<module>\u001b[1;34m\u001b[0m\n\u001b[1;32m----> 1\u001b[1;33m \u001b[0mActivatedUnits\u001b[0m \u001b[1;33m=\u001b[0m \u001b[0mconvolve2\u001b[0m\u001b[1;33m(\u001b[0m\u001b[0msampleimage\u001b[0m\u001b[1;33m)\u001b[0m\u001b[1;33m\u001b[0m\u001b[1;33m\u001b[0m\u001b[0m\n\u001b[0m\u001b[0;32m      2\u001b[0m \u001b[0mfilters\u001b[0m \u001b[1;33m=\u001b[0m \u001b[0mActivatedUnits\u001b[0m\u001b[1;33m.\u001b[0m\u001b[0mshape\u001b[0m\u001b[1;33m[\u001b[0m\u001b[1;36m3\u001b[0m\u001b[1;33m]\u001b[0m\u001b[1;33m\u001b[0m\u001b[1;33m\u001b[0m\u001b[0m\n\u001b[0;32m      3\u001b[0m \u001b[0mplt\u001b[0m\u001b[1;33m.\u001b[0m\u001b[0mfigure\u001b[0m\u001b[1;33m(\u001b[0m\u001b[1;36m1\u001b[0m\u001b[1;33m,\u001b[0m \u001b[0mfigsize\u001b[0m\u001b[1;33m=\u001b[0m\u001b[1;33m(\u001b[0m\u001b[1;36m20\u001b[0m\u001b[1;33m,\u001b[0m\u001b[1;36m20\u001b[0m\u001b[1;33m)\u001b[0m\u001b[1;33m)\u001b[0m\u001b[1;33m\u001b[0m\u001b[1;33m\u001b[0m\u001b[0m\n\u001b[0;32m      4\u001b[0m \u001b[0mn_columns\u001b[0m \u001b[1;33m=\u001b[0m \u001b[1;36m8\u001b[0m\u001b[1;33m\u001b[0m\u001b[1;33m\u001b[0m\u001b[0m\n\u001b[0;32m      5\u001b[0m \u001b[0mn_rows\u001b[0m \u001b[1;33m=\u001b[0m \u001b[0mnp\u001b[0m\u001b[1;33m.\u001b[0m\u001b[0mmath\u001b[0m\u001b[1;33m.\u001b[0m\u001b[0mceil\u001b[0m\u001b[1;33m(\u001b[0m\u001b[0mfilters\u001b[0m \u001b[1;33m/\u001b[0m \u001b[0mn_columns\u001b[0m\u001b[1;33m)\u001b[0m \u001b[1;33m+\u001b[0m \u001b[1;36m1\u001b[0m\u001b[1;33m\u001b[0m\u001b[1;33m\u001b[0m\u001b[0m\n",
      "\u001b[1;32m<ipython-input-34-1d42ea81003c>\u001b[0m in \u001b[0;36mconvolve2\u001b[1;34m(x)\u001b[0m\n\u001b[0;32m      1\u001b[0m \u001b[1;32mdef\u001b[0m \u001b[0mconvolve2\u001b[0m\u001b[1;33m(\u001b[0m\u001b[0mx\u001b[0m\u001b[1;33m)\u001b[0m\u001b[1;33m:\u001b[0m\u001b[1;33m\u001b[0m\u001b[1;33m\u001b[0m\u001b[0m\n\u001b[1;32m----> 2\u001b[1;33m     \u001b[1;32mreturn\u001b[0m \u001b[1;33m(\u001b[0m\u001b[0mtf\u001b[0m\u001b[1;33m.\u001b[0m\u001b[0mnn\u001b[0m\u001b[1;33m.\u001b[0m\u001b[0mconv2d\u001b[0m\u001b[1;33m(\u001b[0m\u001b[0mconv1\u001b[0m\u001b[1;33m(\u001b[0m\u001b[0mx\u001b[0m\u001b[1;33m)\u001b[0m\u001b[1;33m,\u001b[0m \u001b[0mW_conv2\u001b[0m\u001b[1;33m,\u001b[0m \u001b[0mstrides\u001b[0m\u001b[1;33m=\u001b[0m\u001b[1;33m[\u001b[0m\u001b[1;36m1\u001b[0m\u001b[1;33m,\u001b[0m \u001b[1;36m1\u001b[0m\u001b[1;33m,\u001b[0m \u001b[1;36m1\u001b[0m\u001b[1;33m,\u001b[0m \u001b[1;36m1\u001b[0m\u001b[1;33m]\u001b[0m\u001b[1;33m,\u001b[0m \u001b[0mpadding\u001b[0m\u001b[1;33m=\u001b[0m\u001b[1;34m'SAME'\u001b[0m\u001b[1;33m)\u001b[0m \u001b[1;33m+\u001b[0m \u001b[0mb_conv2\u001b[0m\u001b[1;33m)\u001b[0m\u001b[1;33m\u001b[0m\u001b[1;33m\u001b[0m\u001b[0m\n\u001b[0m",
      "\u001b[1;32m<ipython-input-32-671c8f5ef52e>\u001b[0m in \u001b[0;36mconv1\u001b[1;34m(x)\u001b[0m\n\u001b[0;32m      1\u001b[0m \u001b[1;32mdef\u001b[0m \u001b[0mconv1\u001b[0m\u001b[1;33m(\u001b[0m\u001b[0mx\u001b[0m\u001b[1;33m)\u001b[0m\u001b[1;33m:\u001b[0m\u001b[1;33m\u001b[0m\u001b[1;33m\u001b[0m\u001b[0m\n\u001b[1;32m----> 2\u001b[1;33m     \u001b[1;32mreturn\u001b[0m \u001b[0mtf\u001b[0m\u001b[1;33m.\u001b[0m\u001b[0mnn\u001b[0m\u001b[1;33m.\u001b[0m\u001b[0mmax_pool\u001b[0m\u001b[1;33m(\u001b[0m\u001b[0mh_conv1\u001b[0m\u001b[1;33m(\u001b[0m\u001b[0mx\u001b[0m\u001b[1;33m)\u001b[0m\u001b[1;33m,\u001b[0m \u001b[0mksize\u001b[0m\u001b[1;33m=\u001b[0m\u001b[1;33m[\u001b[0m\u001b[1;36m1\u001b[0m\u001b[1;33m,\u001b[0m \u001b[1;36m2\u001b[0m\u001b[1;33m,\u001b[0m \u001b[1;36m2\u001b[0m\u001b[1;33m,\u001b[0m \u001b[1;36m1\u001b[0m\u001b[1;33m]\u001b[0m\u001b[1;33m,\u001b[0m \u001b[0mstrides\u001b[0m\u001b[1;33m=\u001b[0m\u001b[1;33m[\u001b[0m\u001b[1;36m1\u001b[0m\u001b[1;33m,\u001b[0m \u001b[1;36m2\u001b[0m\u001b[1;33m,\u001b[0m \u001b[1;36m2\u001b[0m\u001b[1;33m,\u001b[0m \u001b[1;36m1\u001b[0m\u001b[1;33m]\u001b[0m\u001b[1;33m,\u001b[0m \u001b[0mpadding\u001b[0m\u001b[1;33m=\u001b[0m\u001b[1;34m'SAME'\u001b[0m\u001b[1;33m)\u001b[0m\u001b[1;33m\u001b[0m\u001b[1;33m\u001b[0m\u001b[0m\n\u001b[0m",
      "\u001b[1;32m<ipython-input-31-e7208f412c40>\u001b[0m in \u001b[0;36mh_conv1\u001b[1;34m(x)\u001b[0m\n\u001b[1;32m----> 1\u001b[1;33m \u001b[1;32mdef\u001b[0m \u001b[0mh_conv1\u001b[0m\u001b[1;33m(\u001b[0m\u001b[0mx\u001b[0m\u001b[1;33m)\u001b[0m\u001b[1;33m:\u001b[0m \u001b[1;32mreturn\u001b[0m \u001b[1;33m(\u001b[0m\u001b[0mtf\u001b[0m\u001b[1;33m.\u001b[0m\u001b[0mnn\u001b[0m\u001b[1;33m.\u001b[0m\u001b[0mrelu\u001b[0m\u001b[1;33m(\u001b[0m\u001b[0mconvolve1\u001b[0m\u001b[1;33m(\u001b[0m\u001b[0mx\u001b[0m\u001b[1;33m)\u001b[0m\u001b[1;33m)\u001b[0m\u001b[1;33m)\u001b[0m\u001b[1;33m\u001b[0m\u001b[1;33m\u001b[0m\u001b[0m\n\u001b[0m",
      "\u001b[1;32m<ipython-input-30-92fa9cef0e01>\u001b[0m in \u001b[0;36mconvolve1\u001b[1;34m(x)\u001b[0m\n\u001b[0;32m      1\u001b[0m \u001b[1;32mdef\u001b[0m \u001b[0mconvolve1\u001b[0m\u001b[1;33m(\u001b[0m\u001b[0mx\u001b[0m\u001b[1;33m)\u001b[0m\u001b[1;33m:\u001b[0m\u001b[1;33m\u001b[0m\u001b[1;33m\u001b[0m\u001b[0m\n\u001b[1;32m----> 2\u001b[1;33m     \u001b[1;32mreturn\u001b[0m \u001b[1;33m(\u001b[0m\u001b[0mtf\u001b[0m\u001b[1;33m.\u001b[0m\u001b[0mnn\u001b[0m\u001b[1;33m.\u001b[0m\u001b[0mconv2d\u001b[0m\u001b[1;33m(\u001b[0m\u001b[0mx\u001b[0m\u001b[1;33m,\u001b[0m \u001b[0mW_conv1\u001b[0m\u001b[1;33m,\u001b[0m \u001b[0mstrides\u001b[0m\u001b[1;33m=\u001b[0m\u001b[1;33m[\u001b[0m\u001b[1;36m1\u001b[0m\u001b[1;33m,\u001b[0m \u001b[1;36m1\u001b[0m\u001b[1;33m,\u001b[0m \u001b[1;36m1\u001b[0m\u001b[1;33m,\u001b[0m \u001b[1;36m1\u001b[0m\u001b[1;33m]\u001b[0m\u001b[1;33m,\u001b[0m \u001b[0mpadding\u001b[0m\u001b[1;33m=\u001b[0m\u001b[1;34m'SAME'\u001b[0m\u001b[1;33m)\u001b[0m \u001b[1;33m+\u001b[0m \u001b[0mb_conv1\u001b[0m\u001b[1;33m)\u001b[0m\u001b[1;33m\u001b[0m\u001b[1;33m\u001b[0m\u001b[0m\n\u001b[0m",
      "\u001b[1;32m~\\anaconda3\\lib\\site-packages\\tensorflow\\python\\util\\dispatch.py\u001b[0m in \u001b[0;36mwrapper\u001b[1;34m(*args, **kwargs)\u001b[0m\n\u001b[0;32m    199\u001b[0m     \u001b[1;34m\"\"\"Call target, and fall back on dispatchers if there is a TypeError.\"\"\"\u001b[0m\u001b[1;33m\u001b[0m\u001b[1;33m\u001b[0m\u001b[0m\n\u001b[0;32m    200\u001b[0m     \u001b[1;32mtry\u001b[0m\u001b[1;33m:\u001b[0m\u001b[1;33m\u001b[0m\u001b[1;33m\u001b[0m\u001b[0m\n\u001b[1;32m--> 201\u001b[1;33m       \u001b[1;32mreturn\u001b[0m \u001b[0mtarget\u001b[0m\u001b[1;33m(\u001b[0m\u001b[1;33m*\u001b[0m\u001b[0margs\u001b[0m\u001b[1;33m,\u001b[0m \u001b[1;33m**\u001b[0m\u001b[0mkwargs\u001b[0m\u001b[1;33m)\u001b[0m\u001b[1;33m\u001b[0m\u001b[1;33m\u001b[0m\u001b[0m\n\u001b[0m\u001b[0;32m    202\u001b[0m     \u001b[1;32mexcept\u001b[0m \u001b[1;33m(\u001b[0m\u001b[0mTypeError\u001b[0m\u001b[1;33m,\u001b[0m \u001b[0mValueError\u001b[0m\u001b[1;33m)\u001b[0m\u001b[1;33m:\u001b[0m\u001b[1;33m\u001b[0m\u001b[1;33m\u001b[0m\u001b[0m\n\u001b[0;32m    203\u001b[0m       \u001b[1;31m# Note: convert_to_eager_tensor currently raises a ValueError, not a\u001b[0m\u001b[1;33m\u001b[0m\u001b[1;33m\u001b[0m\u001b[1;33m\u001b[0m\u001b[0m\n",
      "\u001b[1;32m~\\anaconda3\\lib\\site-packages\\tensorflow\\python\\ops\\nn_ops.py\u001b[0m in \u001b[0;36mconv2d_v2\u001b[1;34m(input, filters, strides, padding, data_format, dilations, name)\u001b[0m\n\u001b[0;32m   2157\u001b[0m   \"\"\"\n\u001b[0;32m   2158\u001b[0m   \u001b[1;31m# pylint: enable=line-too-long\u001b[0m\u001b[1;33m\u001b[0m\u001b[1;33m\u001b[0m\u001b[1;33m\u001b[0m\u001b[0m\n\u001b[1;32m-> 2159\u001b[1;33m   return conv2d(input,  # pylint: disable=redefined-builtin\n\u001b[0m\u001b[0;32m   2160\u001b[0m                 \u001b[0mfilters\u001b[0m\u001b[1;33m,\u001b[0m\u001b[1;33m\u001b[0m\u001b[1;33m\u001b[0m\u001b[0m\n\u001b[0;32m   2161\u001b[0m                 \u001b[0mstrides\u001b[0m\u001b[1;33m,\u001b[0m\u001b[1;33m\u001b[0m\u001b[1;33m\u001b[0m\u001b[0m\n",
      "\u001b[1;32m~\\anaconda3\\lib\\site-packages\\tensorflow\\python\\util\\dispatch.py\u001b[0m in \u001b[0;36mwrapper\u001b[1;34m(*args, **kwargs)\u001b[0m\n\u001b[0;32m    199\u001b[0m     \u001b[1;34m\"\"\"Call target, and fall back on dispatchers if there is a TypeError.\"\"\"\u001b[0m\u001b[1;33m\u001b[0m\u001b[1;33m\u001b[0m\u001b[0m\n\u001b[0;32m    200\u001b[0m     \u001b[1;32mtry\u001b[0m\u001b[1;33m:\u001b[0m\u001b[1;33m\u001b[0m\u001b[1;33m\u001b[0m\u001b[0m\n\u001b[1;32m--> 201\u001b[1;33m       \u001b[1;32mreturn\u001b[0m \u001b[0mtarget\u001b[0m\u001b[1;33m(\u001b[0m\u001b[1;33m*\u001b[0m\u001b[0margs\u001b[0m\u001b[1;33m,\u001b[0m \u001b[1;33m**\u001b[0m\u001b[0mkwargs\u001b[0m\u001b[1;33m)\u001b[0m\u001b[1;33m\u001b[0m\u001b[1;33m\u001b[0m\u001b[0m\n\u001b[0m\u001b[0;32m    202\u001b[0m     \u001b[1;32mexcept\u001b[0m \u001b[1;33m(\u001b[0m\u001b[0mTypeError\u001b[0m\u001b[1;33m,\u001b[0m \u001b[0mValueError\u001b[0m\u001b[1;33m)\u001b[0m\u001b[1;33m:\u001b[0m\u001b[1;33m\u001b[0m\u001b[1;33m\u001b[0m\u001b[0m\n\u001b[0;32m    203\u001b[0m       \u001b[1;31m# Note: convert_to_eager_tensor currently raises a ValueError, not a\u001b[0m\u001b[1;33m\u001b[0m\u001b[1;33m\u001b[0m\u001b[1;33m\u001b[0m\u001b[0m\n",
      "\u001b[1;32m~\\anaconda3\\lib\\site-packages\\tensorflow\\python\\ops\\nn_ops.py\u001b[0m in \u001b[0;36mconv2d\u001b[1;34m(input, filter, strides, padding, use_cudnn_on_gpu, data_format, dilations, name, filters)\u001b[0m\n\u001b[0;32m   2260\u001b[0m     \u001b[0mndims\u001b[0m \u001b[1;33m=\u001b[0m \u001b[0mgetattr\u001b[0m\u001b[1;33m(\u001b[0m\u001b[0mshape\u001b[0m\u001b[1;33m,\u001b[0m \u001b[1;34m\"ndims\"\u001b[0m\u001b[1;33m,\u001b[0m \u001b[1;33m-\u001b[0m\u001b[1;36m1\u001b[0m\u001b[1;33m)\u001b[0m\u001b[1;33m\u001b[0m\u001b[1;33m\u001b[0m\u001b[0m\n\u001b[0;32m   2261\u001b[0m     \u001b[1;32mif\u001b[0m \u001b[0mndims\u001b[0m \u001b[1;33m==\u001b[0m \u001b[1;33m-\u001b[0m\u001b[1;36m1\u001b[0m\u001b[1;33m:\u001b[0m \u001b[0mndims\u001b[0m \u001b[1;33m=\u001b[0m \u001b[0mlen\u001b[0m\u001b[1;33m(\u001b[0m\u001b[0mshape\u001b[0m\u001b[1;33m)\u001b[0m\u001b[1;33m\u001b[0m\u001b[1;33m\u001b[0m\u001b[0m\n\u001b[1;32m-> 2262\u001b[1;33m   \u001b[1;32mif\u001b[0m \u001b[0mndims\u001b[0m \u001b[1;32min\u001b[0m \u001b[1;33m(\u001b[0m\u001b[1;36m4\u001b[0m\u001b[1;33m,\u001b[0m \u001b[1;36m3\u001b[0m\u001b[1;33m,\u001b[0m \u001b[1;36m2\u001b[0m\u001b[1;33m,\u001b[0m \u001b[1;36m1\u001b[0m\u001b[1;33m,\u001b[0m \u001b[1;36m0\u001b[0m\u001b[1;33m,\u001b[0m \u001b[1;32mNone\u001b[0m\u001b[1;33m)\u001b[0m\u001b[1;33m:\u001b[0m\u001b[1;33m\u001b[0m\u001b[1;33m\u001b[0m\u001b[0m\n\u001b[0m\u001b[0;32m   2263\u001b[0m     \u001b[1;31m# We avoid calling squeeze_batch_dims to reduce extra python function\u001b[0m\u001b[1;33m\u001b[0m\u001b[1;33m\u001b[0m\u001b[1;33m\u001b[0m\u001b[0m\n\u001b[0;32m   2264\u001b[0m     \u001b[1;31m# call slowdown in eager mode.  This branch doesn't require reshapes.\u001b[0m\u001b[1;33m\u001b[0m\u001b[1;33m\u001b[0m\u001b[1;33m\u001b[0m\u001b[0m\n",
      "\u001b[1;31mUnboundLocalError\u001b[0m: local variable 'ndims' referenced before assignment"
     ]
    }
   ],
   "metadata": {}
  },
  {
   "cell_type": "code",
   "execution_count": null,
   "source": [],
   "outputs": [],
   "metadata": {}
  }
 ],
 "metadata": {
  "orig_nbformat": 4,
  "language_info": {
   "name": "python",
   "version": "3.8.8",
   "mimetype": "text/x-python",
   "codemirror_mode": {
    "name": "ipython",
    "version": 3
   },
   "pygments_lexer": "ipython3",
   "nbconvert_exporter": "python",
   "file_extension": ".py"
  },
  "kernelspec": {
   "name": "python3",
   "display_name": "Python 3.8.8 64-bit ('base': conda)"
  },
  "interpreter": {
   "hash": "c0f70214c0dd213f07f54ee5d6e0ea644bdbba35113c9bfe8aaa0d1db03ad5dd"
  }
 },
 "nbformat": 4,
 "nbformat_minor": 2
}