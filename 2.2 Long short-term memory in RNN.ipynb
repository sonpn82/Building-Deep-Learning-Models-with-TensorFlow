{
 "cells": [
  {
   "cell_type": "markdown",
   "source": [
    "# IBM Developer Skills Network"
   ],
   "metadata": {}
  },
  {
   "cell_type": "markdown",
   "source": [
    "# Long short-term memory in RNN for language modeling"
   ],
   "metadata": {}
  },
  {
   "cell_type": "markdown",
   "source": [
    "<a id=\"language_modelling\"></a>\r\n",
    "\r\n",
    "<h2>What exactly is Language Modelling?</h2>\r\n",
    "Language Modelling, to put it simply, <b>is the task of assigning probabilities to sequences of words</b>. This means that, given a context of one or a sequence of words in the language the model was trained on, the model should provide the next most probable words or sequence of words that follows from the given sequence of words the sentence. Language Modelling is one of the most important tasks in Natural Language Processing.\r\n",
    "\r\n",
    "<img src=\"https://ibm.box.com/shared/static/1d1i5gub6wljby2vani2vzxp0xsph702.png\" width=\"1080\">\r\n",
    "<center><i>Example of a sentence being predicted</i></center>\r\n",
    "<br><br>\r\n",
    "In this example, one can see the predictions for the next word of a sentence, given the context \"This is an\". As you can see, this boils down to a sequential data analysis task -- you are given a word or a sequence of words (the input data), and, given the context (the state), you need to find out what is the next word (the prediction). This kind of analysis is very important for language-related tasks such as <b>Speech Recognition, Machine Translation, Image Captioning, Text Correction</b> and many other very relevant problems. \r\n",
    "\r\n",
    "<img src=\"https://ibm.box.com/shared/static/az39idf9ipfdpc5ugifpgxnydelhyf3i.png\" width=\"1080\">\r\n",
    "<center><i>The above example is a schema of an RNN in execution</i></center>\r\n",
    "<br><br>\r\n",
    "As the above image shows, Recurrent Network models fit this problem like a glove. Alongside LSTM and its capacity to maintain the model's state for over one thousand time steps, we have all the tools we need to undertake this problem. The goal for this notebook is to create a model that can reach <b>low levels of perplexity</b> on our desired dataset.\r\n",
    "\r\n",
    "For Language Modelling problems, <b>perplexity</b> is the way to gauge efficiency. Perplexity is simply a measure of how well a probabilistic model is able to predict its sample. A higher-level way to explain this would be saying that <b>low perplexity means a higher degree of trust in the predictions the model makes</b>. Therefore, the lower perplexity is, the better."
   ],
   "metadata": {}
  },
  {
   "cell_type": "markdown",
   "source": [
    "<a id=\"treebank_dataset\"></a>\r\n",
    "\r\n",
    "<h2>The Penn Treebank dataset</h2>\r\n",
    "Historically, datasets big enough for Natural Language Processing are hard to come by. This is in part due to the necessity of the sentences to be broken down and tagged with a certain degree of correctness -- or else the models trained on it won't be able to be correct at all. This means that we need a <b>large amount of data, annotated by or at least corrected by humans</b>. This is, of course, not an easy task at all.\r\n",
    "\r\n",
    "The Penn Treebank, or PTB for short, is a dataset maintained by the University of Pennsylvania. It is <i>huge</i> -- there are over <b>four million and eight hundred thousand</b> annotated words in it, all corrected by humans. It is composed of many different sources, from abstracts of Department of Energy papers to texts from the Library of America. Since it is verifiably correct and of such a huge size, the Penn Treebank is commonly used as a benchmark dataset for Language Modelling.\r\n",
    "\r\n",
    "The dataset is divided in different kinds of annotations, such as Piece-of-Speech, Syntactic and Semantic skeletons. For this example, we will simply use a sample of clean, non-annotated words (with the exception of one tag --<code>\\<unk></code>\r\n",
    ", which is used for rare words such as uncommon proper nouns) for our model. This means that we just want to predict what the next words would be, not what they mean in context or their classes on a given sentence.\r\n",
    "\r\n",
    "<center>Example of text from the dataset we are going to use, <b>ptb.train</b></center>\r\n",
    "<br><br>\r\n",
    "\r\n",
    "<div class=\"alert alert-block alert-info\" style=\"margin-top: 20px\">\r\n",
    "    <center>the percentage of lung cancer deaths among the workers at the west <code>&lt;unk&gt;</code> mass. paper factory appears to be the highest for any asbestos workers studied in western industrialized countries he said \r\n",
    " the plant which is owned by <code>&lt;unk&gt;</code> & <code>&lt;unk&gt;</code> co. was under contract with <code>&lt;unk&gt;</code> to make the cigarette filters \r\n",
    " the finding probably will support those who argue that the U.S. should regulate the class of asbestos including <code>&lt;unk&gt;</code> more <code>&lt;unk&gt;</code> than the common kind of asbestos <code>&lt;unk&gt;</code> found in most schools and other buildings dr. <code>&lt;unk&gt;</code> said</center>\r\n",
    "</div>"
   ],
   "metadata": {}
  },
  {
   "cell_type": "markdown",
   "source": [
    "<a id=\"word_embedding\"></a>\r\n",
    "\r\n",
    "<h2>Word Embeddings</h2><br/>\r\n",
    "\r\n",
    "For better processing, in this example, we will make use of <a href=\"https://www.tensorflow.org/tutorials/word2vec/?utm_medium=Exinfluencer&utm_source=Exinfluencer&utm_content=000026UJ&utm_term=10006555&utm_id=NA-SkillsNetwork-Channel-SkillsNetworkCoursesIBMDeveloperSkillsNetworkDL0120ENSkillsNetwork20629446-2021-01-01\"><b>word embeddings</b></a>, which is <b>a way of representing sentence structures or words as n-dimensional vectors (where n is a reasonably high number, such as 200 or 500) of real numbers</b>. Basically, we will assign each word a randomly-initialized vector, and input those into the network to be processed. After a number of iterations, these vectors are expected to assume values that help the network to correctly predict what it needs to -- in our case, the probable next word in the sentence. This is shown to be a very effective task in Natural Language Processing, and is a commonplace practice. <br><br> <font size=\"4\"><strong>\r\n",
    "\r\n",
    "Word Embedding tends to group up similarly used words <i>reasonably</i> close together in the vectorial space. For example, if we use T-SNE (a dimensional reduction visualization algorithm) to flatten the dimensions of our vectors into a 2-dimensional space and plot these words in a 2-dimensional space, we might see something like this:\r\n",
    "\r\n",
    "<img src=\"https://ibm.box.com/shared/static/bqhc5dg879gcoabzhxra1w8rkg3od1cu.png\" width=\"800\">\r\n",
    "<center><i>T-SNE Mockup with clusters marked for easier visualization</i></center>\r\n",
    "<br><br>\r\n",
    "As you can see, words that are frequently used together, in place of each other, or in the same places as them tend to be grouped together -- being closer together the higher they are correlated. For example, \"None\" is pretty semantically close to \"Zero\", while a phrase that uses \"Italy\", you could probably also fit \"Germany\" in it, with little damage to the sentence structure. The vectorial \"closeness\" for similar words like this is a great indicator of a well-built model.\r\n",
    "\r\n",
    "<hr>"
   ],
   "metadata": {}
  },
  {
   "cell_type": "markdown",
   "source": [
    "We need to import the necessary modules for our code. We need <b><code>numpy</code></b> and <b><code>tensorflow</code></b>, obviously. Additionally, we can import directly the <b><code>tensorflow\\.models.rnn</code></b> model, which includes the function for building RNNs, and <b><code>tensorflow\\.models.rnn.ptb.reader</code></b> which is the helper module for getting the input data from the dataset we just downloaded.\r\n",
    "\r\n",
    "If you want to learn more take a look at <https://github.com/tensorflow/models/blob/master/tutorials/rnn/ptb/reader.py>\r\n"
   ],
   "metadata": {}
  },
  {
   "cell_type": "code",
   "execution_count": 1,
   "source": [
    "import time\r\n",
    "import numpy as np\r\n",
    "import tensorflow as tf\r\n",
    "print(tf.__version__)"
   ],
   "outputs": [
    {
     "output_type": "stream",
     "name": "stdout",
     "text": [
      "2.3.0\n"
     ]
    }
   ],
   "metadata": {}
  },
  {
   "cell_type": "code",
   "execution_count": 2,
   "source": [
    "import sys\r\n",
    "sys.path.insert(0, 'G:/Google Drive/My learning courses/Building Deep Learning Models with TensorFlow/data/ptb')"
   ],
   "outputs": [],
   "metadata": {}
  },
  {
   "cell_type": "code",
   "execution_count": 3,
   "source": [
    "import reader"
   ],
   "outputs": [],
   "metadata": {}
  },
  {
   "cell_type": "markdown",
   "source": [
    "# Building the LSTM model for language Modeling"
   ],
   "metadata": {}
  },
  {
   "cell_type": "code",
   "execution_count": null,
   "source": [
    "# data source file\r\n",
    "# http://www.fit.vutbr.cz/~imikolov/rnnlm/simple-examples.tgz "
   ],
   "outputs": [],
   "metadata": {}
  },
  {
   "cell_type": "markdown",
   "source": [
    "## Hyper parameters"
   ],
   "metadata": {}
  },
  {
   "cell_type": "code",
   "execution_count": 6,
   "source": [
    "# initial weight scale\r\n",
    "init_scale = 0.1\r\n",
    "# initial learning rate\r\n",
    "learning_rate = 1.0\r\n",
    "# Maximum permissible norm for the gradient (For gradient clipping -- another measure against Exploding Gradients)\r\n",
    "max_grad_norm = 5\r\n",
    "# number of layers in model\r\n",
    "num_layers = 2\r\n",
    "# The total number of recurrence steps, also known as the number of layers when our RNN is \"unfolded\"\r\n",
    "num_steps = 20\r\n",
    "# The number of processing units (neurons) in the hidden layers\r\n",
    "hidden_size_l1 = 256\r\n",
    "hidden_size_l2 = 128\r\n",
    "# The maximum number of epochs trained with the initial learning rate\r\n",
    "max_epoch_decay_lr = 4\r\n",
    "# The total number of epochs in training\r\n",
    "max_epoch = 15\r\n",
    "# The probability for keeping data in the Dropout Layer (This is an optimization, but is outside our scope for this notebook!)\r\n",
    "# At 1, we ignore the Dropout Layer wrapping.\r\n",
    "keep_prob = 1\r\n",
    "# The decay for the learning rate\r\n",
    "decay = 0.5\r\n",
    "# The size for each batch of data\r\n",
    "batch_size = 30\r\n",
    "# the size of our vocabulary\r\n",
    "vocab_size = 10000\r\n",
    "embeding_vector_size = 200\r\n",
    "# Training flag to separate training from testing\r\n",
    "is_training = 1\r\n",
    "# data directory for the dataset\r\n",
    "data_dir = 'data/simple-examples/data/'"
   ],
   "outputs": [],
   "metadata": {}
  },
  {
   "cell_type": "markdown",
   "source": [
    "Some clarifications for LSTM architecture based on the arguments:\r\n",
    "\r\n",
    "Network structure:\r\n",
    "\r\n",
    "<ul>\r\n",
    "    <li>In this network, the number of LSTM cells are 2. To give the model more expressive power, we can add multiple layers of LSTMs to process the data. The output of the first layer will become the input of the second and so on.\r\n",
    "    </li>\r\n",
    "    <li>The recurrence steps is 20, that is, when our RNN is \"Unfolded\", the recurrence step is 20.</li>   \r\n",
    "    <li>the structure is like:\r\n",
    "        <ul>\r\n",
    "            <li>200 input units -> [200x200] Weight -> 200 Hidden units (first layer) -> [200x200] Weight matrix  -> 200 Hidden units (second layer) ->  [200] weight Matrix -> 200 unit output</li>\r\n",
    "        </ul>\r\n",
    "    </li>\r\n",
    "</ul>\r\n",
    "<br>\r\n",
    "\r\n",
    "Input layer:\r\n",
    "\r\n",
    "<ul>\r\n",
    "    <li>The network has 200 input units.</li>\r\n",
    "    <li>Suppose each word is represented by an embedding vector of dimensionality e=200. The input layer of each cell will have 200 linear units. These e=200 linear units are connected to each of the h=200 LSTM units in the hidden layer (assuming there is only one hidden layer, though our case has 2 layers).\r\n",
    "    </li>\r\n",
    "    <li>The input shape is [batch_size, num_steps], that is [30x20]. It will turn into [30x20x200] after embedding, and then 20x[30x200]\r\n",
    "    </li>\r\n",
    "</ul>\r\n",
    "<br>\r\n",
    "\r\n",
    "Hidden layer:\r\n",
    "\r\n",
    "<ul>\r\n",
    "    <li>Each LSTM has 200 hidden units which is equivalent to the dimensionality of the embedding words and output.</li>\r\n",
    "</ul>\r\n",
    "<br>"
   ],
   "metadata": {}
  },
  {
   "cell_type": "markdown",
   "source": [
    "There is a lot to be done and a ton of information to process at the same time, so go over this code slowly. It may seem complex at first, but if you try to apply what you just learned about language modelling to the code you see, you should be able to understand it.\r\n",
    "\r\n",
    "This code is adapted from the <a href=\"https://github.com/tensorflow/models?utm_medium=Exinfluencer&utm_source=Exinfluencer&utm_content=000026UJ&utm_term=10006555&utm_id=NA-SkillsNetwork-Channel-SkillsNetworkCoursesIBMDeveloperSkillsNetworkDL0120ENSkillsNetwork20629446-2021-01-01\">PTBModel</a> example bundled with the TensorFlow source code.\r\n",
    "\r\n",
    "<h3>Training data</h3>\r\n",
    "The story starts from data:\r\n",
    "<ul>\r\n",
    "    <li>Train data is a list of words, of size 929589, represented by numbers, e.g. [9971, 9972, 9974, 9975,...]</li>\r\n",
    "    <li>We read data as mini-batch of size b=30. Assume the size of each sentence is 20 words (num_steps = 20). Then it will take $floor(\\frac{N}{b \\times h})+1=1548$ iterations for the learner to go through all sentences once. Where N is the size of the list of words, b is batch size, and h is size of each sentence. So, the number of iterators is 1548\r\n",
    "    </li>\r\n",
    "    <li>Each batch data is read from train dataset of size 600, and shape of [30x20]</li>\r\n",
    "</ul>"
   ],
   "metadata": {}
  },
  {
   "cell_type": "code",
   "execution_count": 7,
   "source": [
    "# Reads the data and separates it into training data, validation data and testing data\r\n",
    "raw_data = reader.ptb_raw_data(data_dir)\r\n",
    "train_data, valid_data, test_data, vocab, word_to_id = raw_data"
   ],
   "outputs": [],
   "metadata": {}
  },
  {
   "cell_type": "code",
   "execution_count": 8,
   "source": [
    "len(train_data)"
   ],
   "outputs": [
    {
     "output_type": "execute_result",
     "data": {
      "text/plain": [
       "929589"
      ]
     },
     "metadata": {},
     "execution_count": 8
    }
   ],
   "metadata": {}
  },
  {
   "cell_type": "code",
   "execution_count": 9,
   "source": [
    "def id_to_word(id_list):\r\n",
    "    line = []\r\n",
    "    for w in id_list:\r\n",
    "        for word, wid in word_to_id.items():\r\n",
    "            if wid == w:\r\n",
    "                line.append(word)\r\n",
    "        \r\n",
    "    return line\r\n",
    "\r\n",
    "print(id_to_word(train_data[0:100]))"
   ],
   "outputs": [
    {
     "output_type": "stream",
     "name": "stdout",
     "text": [
      "['aer', 'banknote', 'berlitz', 'calloway', 'centrust', 'cluett', 'fromstein', 'gitano', 'guterman', 'hydro-quebec', 'ipo', 'kia', 'memotec', 'mlx', 'nahb', 'punts', 'rake', 'regatta', 'rubens', 'sim', 'snack-food', 'ssangyong', 'swapo', 'wachter', '<eos>', 'pierre', '<unk>', 'N', 'years', 'old', 'will', 'join', 'the', 'board', 'as', 'a', 'nonexecutive', 'director', 'nov.', 'N', '<eos>', 'mr.', '<unk>', 'is', 'chairman', 'of', '<unk>', 'n.v.', 'the', 'dutch', 'publishing', 'group', '<eos>', 'rudolph', '<unk>', 'N', 'years', 'old', 'and', 'former', 'chairman', 'of', 'consolidated', 'gold', 'fields', 'plc', 'was', 'named', 'a', 'nonexecutive', 'director', 'of', 'this', 'british', 'industrial', 'conglomerate', '<eos>', 'a', 'form', 'of', 'asbestos', 'once', 'used', 'to', 'make', 'kent', 'cigarette', 'filters', 'has', 'caused', 'a', 'high', 'percentage', 'of', 'cancer', 'deaths', 'among', 'a', 'group', 'of']\n"
     ]
    }
   ],
   "metadata": {}
  },
  {
   "cell_type": "markdown",
   "source": [
    "Lets just read one mini-batch now and feed our network:\r\n"
   ],
   "metadata": {}
  },
  {
   "cell_type": "code",
   "execution_count": 10,
   "source": [
    "itera = reader.ptb_iterator(train_data, batch_size, num_steps)\r\n",
    "first_touple = itera.__next__()\r\n",
    "_input_data = first_touple[0]\r\n",
    "_targets = first_touple[1]"
   ],
   "outputs": [],
   "metadata": {}
  },
  {
   "cell_type": "code",
   "execution_count": 11,
   "source": [
    "_input_data.shape"
   ],
   "outputs": [
    {
     "output_type": "execute_result",
     "data": {
      "text/plain": [
       "(30, 20)"
      ]
     },
     "metadata": {},
     "execution_count": 11
    }
   ],
   "metadata": {}
  },
  {
   "cell_type": "code",
   "execution_count": 12,
   "source": [
    "_targets.shape"
   ],
   "outputs": [
    {
     "output_type": "execute_result",
     "data": {
      "text/plain": [
       "(30, 20)"
      ]
     },
     "metadata": {},
     "execution_count": 12
    }
   ],
   "metadata": {}
  },
  {
   "cell_type": "markdown",
   "source": [
    "Lets look at 3 sentences of our input x:"
   ],
   "metadata": {}
  },
  {
   "cell_type": "code",
   "execution_count": 13,
   "source": [
    "_input_data[0:3]"
   ],
   "outputs": [
    {
     "output_type": "execute_result",
     "data": {
      "text/plain": [
       "array([[9970, 9971, 9972, 9974, 9975, 9976, 9980, 9981, 9982, 9983, 9984,\n",
       "        9986, 9987, 9988, 9989, 9991, 9992, 9993, 9994, 9995],\n",
       "       [2654,    6,  334, 2886,    4,    1,  233,  711,  834,   11,  130,\n",
       "         123,    7,  514,    2,   63,   10,  514,    8,  605],\n",
       "       [   0, 1071,    4,    0,  185,   24,  368,   20,   31, 3109,  954,\n",
       "          12,    3,   21,    2, 2915,    2,   12,    3,   21]])"
      ]
     },
     "metadata": {},
     "execution_count": 13
    }
   ],
   "metadata": {}
  },
  {
   "cell_type": "code",
   "execution_count": 14,
   "source": [
    "print(id_to_word(_input_data[0,:]))"
   ],
   "outputs": [
    {
     "output_type": "stream",
     "name": "stdout",
     "text": [
      "['aer', 'banknote', 'berlitz', 'calloway', 'centrust', 'cluett', 'fromstein', 'gitano', 'guterman', 'hydro-quebec', 'ipo', 'kia', 'memotec', 'mlx', 'nahb', 'punts', 'rake', 'regatta', 'rubens', 'sim']\n"
     ]
    }
   ],
   "metadata": {}
  },
  {
   "cell_type": "markdown",
   "source": [
    "<h3>Embeddings</h3>\r\n",
    "We have to convert the words in our dataset to vectors of numbers. The traditional approach is to use one-hot encoding method that is usually used for converting categorical values to numerical values. However, One-hot encoded vectors are high-dimensional, sparse and in a big dataset, computationally inefficient. So, we use word2vec approach. It is, in fact, a layer in our LSTM network, where the word IDs will be represented as a dense representation before feeding to the LSTM. \r\n",
    "\r\n",
    "The embedded vectors also get updated during the training process of the deep neural network.\r\n",
    "We create the embeddings for our input data. <b>embedding_vocab</b> is matrix of \\[10000x200] for all 10000 unique words."
   ],
   "metadata": {}
  },
  {
   "cell_type": "markdown",
   "source": [
    "<b>embedding_lookup()</b> finds the embedded values for our batch of 30x20 words. It  goes to each row of <code>input_data</code>, and for each word in the row/sentence, finds the correspond vector in <code>embedding_dic<code>. <br>\r\n",
    "It creates a \\[30x20x200] tensor, so, the first element of <b>inputs</b> (the first sentence), is a matrix of 20x200, which each row of it, is vector representing a word in the sentence.\r\n"
   ],
   "metadata": {}
  },
  {
   "cell_type": "code",
   "execution_count": 15,
   "source": [
    "embedding_layer = tf.keras.layers.Embedding(vocab_size, \r\n",
    "                                            embeding_vector_size,\r\n",
    "                                            batch_input_shape=(batch_size, num_steps),\r\n",
    "                                            trainable=True,name=\"embedding_vocab\")                                  "
   ],
   "outputs": [],
   "metadata": {}
  },
  {
   "cell_type": "code",
   "execution_count": 16,
   "source": [
    "# Define where to get the data for our embeddings from\r\n",
    "inputs = embedding_layer(_input_data)\r\n",
    "inputs"
   ],
   "outputs": [
    {
     "output_type": "execute_result",
     "data": {
      "text/plain": [
       "<tf.Tensor: shape=(30, 20, 200), dtype=float32, numpy=\n",
       "array([[[-4.9137056e-02,  1.8777478e-02, -3.6913227e-02, ...,\n",
       "          1.9667160e-02,  8.4553249e-03, -3.7688423e-02],\n",
       "        [-3.3282995e-02, -1.6821824e-02, -2.7668942e-02, ...,\n",
       "          2.9118434e-03, -4.0627234e-03,  4.8960719e-02],\n",
       "        [-3.0993773e-02,  6.2788017e-03, -7.4289925e-03, ...,\n",
       "         -7.6216236e-03,  3.2822005e-03,  1.5959632e-02],\n",
       "        ...,\n",
       "        [-1.7862320e-02, -9.1356039e-03, -4.0644348e-02, ...,\n",
       "         -3.3646822e-03, -1.4557727e-03,  4.2036425e-02],\n",
       "        [-4.1359972e-02,  2.3119736e-02,  3.0206926e-03, ...,\n",
       "         -3.0699968e-03, -4.7694873e-02,  2.1572534e-02],\n",
       "        [ 1.2960102e-02, -1.1052825e-02, -3.1306863e-02, ...,\n",
       "         -1.3282932e-02,  9.4322935e-03,  4.1511681e-02]],\n",
       "\n",
       "       [[-2.3052549e-02,  1.0255445e-02, -1.4926098e-02, ...,\n",
       "         -6.0045943e-03, -4.1688133e-02,  2.5959622e-02],\n",
       "        [-2.7869655e-02, -2.9658962e-02, -4.2539861e-02, ...,\n",
       "         -3.2344151e-02,  3.5834778e-02, -2.8672135e-02],\n",
       "        [-4.0019643e-02, -1.7223429e-02, -3.9439537e-02, ...,\n",
       "          3.1158105e-03, -2.4816239e-02,  1.8323269e-02],\n",
       "        ...,\n",
       "        [-3.2305457e-02,  4.9564950e-03,  1.0795284e-02, ...,\n",
       "         -2.9651975e-02,  4.2630460e-02,  6.9261901e-03],\n",
       "        [-1.4433973e-03, -4.3618131e-02, -4.1109551e-02, ...,\n",
       "         -3.7926327e-02,  4.3956507e-02, -3.8513530e-02],\n",
       "        [ 2.7682353e-02,  2.8912317e-02, -1.6824938e-02, ...,\n",
       "          1.3682496e-02, -2.9014183e-02, -3.1735137e-02]],\n",
       "\n",
       "       [[ 1.9931737e-02, -2.9454518e-02, -4.5501702e-03, ...,\n",
       "          2.1064643e-02,  3.4795929e-02, -4.8001062e-02],\n",
       "        [-2.8707398e-02, -4.3844692e-03, -2.1522129e-02, ...,\n",
       "         -2.0452011e-02, -8.3409771e-03,  8.5228905e-03],\n",
       "        [-4.9380649e-02, -2.8298771e-02,  3.1845000e-02, ...,\n",
       "         -2.6322329e-02,  3.0628648e-02,  9.0091340e-03],\n",
       "        ...,\n",
       "        [ 1.8635932e-02,  3.7502419e-02,  2.1676753e-02, ...,\n",
       "         -3.7129451e-02,  2.4825368e-02,  4.9699966e-02],\n",
       "        [-4.9730089e-02,  4.1744959e-02, -2.2794951e-02, ...,\n",
       "         -1.2382485e-02,  1.7351296e-02,  3.4831557e-02],\n",
       "        [-3.6563527e-02,  8.4966309e-03, -1.7475914e-02, ...,\n",
       "          1.7428171e-02, -1.6843565e-03, -2.1028077e-02]],\n",
       "\n",
       "       ...,\n",
       "\n",
       "       [[ 5.0854571e-03,  1.8111240e-02,  4.0604021e-02, ...,\n",
       "          1.3180997e-02, -2.5602305e-02, -3.0591929e-02],\n",
       "        [-1.8434513e-02,  1.1726506e-03,  4.8441958e-02, ...,\n",
       "         -4.0981054e-02,  2.9640902e-02,  4.1128937e-02],\n",
       "        [-1.0504317e-02,  3.8850117e-02,  1.5467476e-02, ...,\n",
       "         -4.1510593e-02, -5.4634437e-03, -1.9924641e-02],\n",
       "        ...,\n",
       "        [-3.6930226e-02,  4.5257244e-02, -4.1849017e-02, ...,\n",
       "         -4.6133827e-02, -1.4050521e-02,  4.8279528e-02],\n",
       "        [ 4.4164907e-02,  4.5157220e-02,  3.9100040e-02, ...,\n",
       "         -2.5662793e-02, -1.2145828e-02, -3.5116397e-02],\n",
       "        [ 1.9578602e-02,  3.8630459e-02,  4.4202928e-02, ...,\n",
       "         -3.3330172e-05,  8.7496638e-03, -1.1513971e-02]],\n",
       "\n",
       "       [[ 4.0529121e-02, -2.7776493e-02,  3.7491832e-02, ...,\n",
       "         -2.4700273e-02, -2.2730088e-02, -1.7173231e-02],\n",
       "        [ 1.1441957e-02,  2.0584706e-02,  8.0486052e-03, ...,\n",
       "         -8.6886398e-03, -4.6881594e-02, -4.3186605e-02],\n",
       "        [-4.9380649e-02, -2.8298771e-02,  3.1845000e-02, ...,\n",
       "         -2.6322329e-02,  3.0628648e-02,  9.0091340e-03],\n",
       "        ...,\n",
       "        [ 1.3741974e-02, -3.7808012e-02,  4.0747989e-02, ...,\n",
       "         -2.9320909e-02,  2.6750948e-02, -3.5498787e-02],\n",
       "        [-2.7869655e-02, -2.9658962e-02, -4.2539861e-02, ...,\n",
       "         -3.2344151e-02,  3.5834778e-02, -2.8672135e-02],\n",
       "        [ 4.1006673e-02, -3.3417895e-02,  6.7543872e-03, ...,\n",
       "         -6.9156513e-03, -1.4168955e-02,  4.1344237e-02]],\n",
       "\n",
       "       [[-1.1700176e-02, -3.8451005e-02, -9.6709840e-03, ...,\n",
       "         -4.4010069e-02,  3.6094379e-02,  4.6277013e-02],\n",
       "        [-1.9791877e-02, -3.5574246e-02,  8.7298453e-05, ...,\n",
       "         -1.6040493e-02,  2.2364642e-02,  4.3553840e-02],\n",
       "        [ 8.7194219e-03, -3.5543919e-02,  2.9262416e-03, ...,\n",
       "         -5.8094375e-03, -2.6918352e-02, -2.9451406e-02],\n",
       "        ...,\n",
       "        [ 4.6938840e-02, -3.7865687e-02, -4.3984428e-03, ...,\n",
       "         -2.0437265e-02,  4.3737516e-03, -3.4398615e-02],\n",
       "        [-2.4703909e-02, -4.2939879e-02, -2.6996994e-02, ...,\n",
       "         -4.5443811e-02,  1.1303268e-02, -3.6559522e-02],\n",
       "        [-1.0193825e-02,  6.7624077e-03,  1.1518966e-02, ...,\n",
       "          3.1142402e-02,  1.6013827e-02,  2.5107432e-02]]], dtype=float32)>"
      ]
     },
     "metadata": {},
     "execution_count": 16
    }
   ],
   "metadata": {}
  },
  {
   "cell_type": "markdown",
   "source": [
    "# Constructing Recurrent Neural Network"
   ],
   "metadata": {}
  },
  {
   "cell_type": "markdown",
   "source": [
    "In this step, we create the stacked LSTM using <b>tf.keras.layers.StackedRNNCells</b>, which is a 2 layer LSTM network:\r\n"
   ],
   "metadata": {}
  },
  {
   "cell_type": "code",
   "execution_count": 17,
   "source": [
    "lstm_cell_l1 = tf.keras.layers.LSTMCell(hidden_size_l1)\r\n",
    "lstm_cell_l2 = tf.keras.layers.LSTMCell(hidden_size_l2)"
   ],
   "outputs": [],
   "metadata": {}
  },
  {
   "cell_type": "code",
   "execution_count": 18,
   "source": [
    "stacked_lstm = tf.keras.layers.StackedRNNCells([lstm_cell_l1, lstm_cell_l2])"
   ],
   "outputs": [],
   "metadata": {}
  },
  {
   "cell_type": "markdown",
   "source": [
    "The input should be a Tensor of shape: \\[batch_size, max_time, embedding_vector_size], in our case it would be (30, 20, 200)\r\n"
   ],
   "metadata": {}
  },
  {
   "cell_type": "code",
   "execution_count": 19,
   "source": [
    "layer = tf.keras.layers.RNN(stacked_lstm, \r\n",
    "                            [batch_size, num_steps],\r\n",
    "                            return_state=False,\r\n",
    "                            stateful=True,\r\n",
    "                            trainable=True)                        "
   ],
   "outputs": [],
   "metadata": {}
  },
  {
   "cell_type": "markdown",
   "source": [
    "Also, we initialize the states of the nework:\r\n",
    "\r\n",
    "<h4>_initial_state</h4>\r\n",
    "\r\n",
    "For each LSTM, there are 2 state matrices, c_state and m_state.  c_state and m_state represent \"Memory State\" and \"Cell State\". Each hidden layer, has a vector of size 30, which keeps the states. so, for 200 hidden units in each LSTM, we have a matrix of size \\[30x200]"
   ],
   "metadata": {}
  },
  {
   "cell_type": "code",
   "execution_count": 20,
   "source": [
    "init_state = tf.Variable(tf.zeros([batch_size, embeding_vector_size]), trainable=False)"
   ],
   "outputs": [],
   "metadata": {}
  },
  {
   "cell_type": "code",
   "execution_count": 21,
   "source": [
    "layer.initial_state = init_state"
   ],
   "outputs": [],
   "metadata": {}
  },
  {
   "cell_type": "code",
   "execution_count": 22,
   "source": [
    "layer.initial_state"
   ],
   "outputs": [
    {
     "output_type": "execute_result",
     "data": {
      "text/plain": [
       "<tf.Variable 'Variable:0' shape=(30, 200) dtype=float32, numpy=\n",
       "array([[0., 0., 0., ..., 0., 0., 0.],\n",
       "       [0., 0., 0., ..., 0., 0., 0.],\n",
       "       [0., 0., 0., ..., 0., 0., 0.],\n",
       "       ...,\n",
       "       [0., 0., 0., ..., 0., 0., 0.],\n",
       "       [0., 0., 0., ..., 0., 0., 0.],\n",
       "       [0., 0., 0., ..., 0., 0., 0.]], dtype=float32)>"
      ]
     },
     "metadata": {},
     "execution_count": 22
    }
   ],
   "metadata": {}
  },
  {
   "cell_type": "markdown",
   "source": [
    "so, lets look at the outputs. The output of the stackedLSTM comes from 128 hidden_layer, and in each time step(=20), one of them get activated. we use the linear activation to map the 128 hidden layer to a \\[30X20 matrix]"
   ],
   "metadata": {}
  },
  {
   "cell_type": "code",
   "execution_count": 23,
   "source": [
    "outputs = layer(inputs)"
   ],
   "outputs": [],
   "metadata": {}
  },
  {
   "cell_type": "code",
   "execution_count": 24,
   "source": [
    "outputs"
   ],
   "outputs": [
    {
     "output_type": "execute_result",
     "data": {
      "text/plain": [
       "<tf.Tensor: shape=(30, 20, 128), dtype=float32, numpy=\n",
       "array([[[-1.9734839e-03,  1.2062625e-03,  1.0742216e-03, ...,\n",
       "          2.3005425e-03,  1.2232426e-03, -5.3291576e-04],\n",
       "        [-2.9973635e-03,  3.9102626e-03, -7.5239391e-04, ...,\n",
       "          4.0363623e-03,  2.7067710e-03, -1.2758434e-03],\n",
       "        [-2.8832271e-03,  5.2068792e-03, -1.5169213e-03, ...,\n",
       "          4.4344342e-03,  3.6913010e-03, -1.9038805e-03],\n",
       "        ...,\n",
       "        [-2.6147638e-03,  4.2373445e-03, -2.4586662e-03, ...,\n",
       "          3.9972421e-03, -7.0712704e-05,  3.6794404e-03],\n",
       "        [-1.4702071e-03,  4.4479491e-03, -2.5923972e-03, ...,\n",
       "          4.9374038e-03, -1.1578345e-04,  3.4882706e-03],\n",
       "        [ 8.7832205e-04,  4.6055010e-03, -2.1575706e-03, ...,\n",
       "          4.0897625e-03, -2.8138375e-04,  2.7624583e-03]],\n",
       "\n",
       "       [[-1.6032370e-04, -1.9462215e-04,  1.1219928e-03, ...,\n",
       "          1.1451787e-03, -6.4601935e-04, -6.3797284e-04],\n",
       "        [-1.3625690e-03,  1.2040679e-04,  1.2591780e-03, ...,\n",
       "          2.8071655e-03, -1.2859590e-03, -7.7140657e-04],\n",
       "        [-3.4401454e-03, -1.0234752e-05,  3.2964828e-03, ...,\n",
       "          4.6660681e-03, -2.3754644e-03, -1.9193758e-03],\n",
       "        ...,\n",
       "        [-4.2645340e-03, -4.3806904e-03, -3.2265307e-03, ...,\n",
       "          7.6885843e-03, -7.0519801e-03,  7.5478684e-03],\n",
       "        [-2.7549530e-03, -3.3289497e-03, -3.6881461e-03, ...,\n",
       "          7.9876930e-03, -6.3020778e-03,  5.6505618e-03],\n",
       "        [-1.8910029e-03, -2.4742447e-03, -4.2764614e-03, ...,\n",
       "          8.8991215e-03, -6.0975919e-03,  5.0508943e-03]],\n",
       "\n",
       "       [[ 7.5978633e-06,  1.4259806e-03, -1.0345043e-03, ...,\n",
       "         -2.5919158e-04, -1.4033737e-03, -7.9309271e-04],\n",
       "        [-2.5839731e-03,  8.0773368e-04, -1.5319409e-03, ...,\n",
       "          5.4184900e-05, -1.1380328e-03, -2.3891425e-03],\n",
       "        [-3.3116289e-03, -3.1610916e-04, -1.6764046e-03, ...,\n",
       "          4.2200086e-04, -2.0426998e-03, -1.9464062e-03],\n",
       "        ...,\n",
       "        [-6.8123112e-03,  2.6603116e-04, -3.4354432e-03, ...,\n",
       "          3.1031722e-03, -8.2763983e-03,  4.3447241e-03],\n",
       "        [-6.4770039e-03, -8.2998385e-04, -4.9455734e-03, ...,\n",
       "          3.5741825e-03, -7.5255819e-03,  4.4047423e-03],\n",
       "        [-7.5296001e-03, -1.5755513e-03, -4.2127115e-03, ...,\n",
       "          4.9298471e-03, -6.3436087e-03,  5.0889542e-03]],\n",
       "\n",
       "       ...,\n",
       "\n",
       "       [[-3.2889834e-04,  1.0530734e-03,  9.5262256e-04, ...,\n",
       "          1.4832117e-04, -2.3614104e-04, -1.6574546e-04],\n",
       "        [-5.7854166e-04,  2.3656890e-03,  2.5505922e-03, ...,\n",
       "          4.3999098e-04, -6.2057073e-04,  1.2370653e-03],\n",
       "        [-3.0922686e-04,  2.6611912e-03,  3.4161583e-03, ...,\n",
       "          1.5772021e-04, -1.9884051e-03,  1.1256534e-03],\n",
       "        ...,\n",
       "        [-2.5374603e-03, -1.3852447e-03, -1.4472997e-03, ...,\n",
       "          1.9435022e-03,  3.8702448e-03,  3.6305045e-03],\n",
       "        [-4.1625435e-03,  4.3595713e-04, -1.9413054e-03, ...,\n",
       "          2.7815506e-03,  3.1982686e-03,  3.9210860e-03],\n",
       "        [-4.5977789e-03,  1.0672996e-03, -4.0263901e-03, ...,\n",
       "          2.6951754e-03,  3.7174951e-03,  4.1204602e-03]],\n",
       "\n",
       "       [[ 4.3568289e-05,  7.3065626e-04,  7.3110167e-04, ...,\n",
       "         -1.1966166e-04, -4.6699040e-04, -5.2994915e-04],\n",
       "        [-9.7669894e-05, -7.9614103e-05,  5.1435654e-04, ...,\n",
       "          1.7799083e-04, -6.0343725e-04, -1.4912689e-03],\n",
       "        [ 7.0161169e-04, -7.9758005e-04,  2.1770321e-04, ...,\n",
       "          7.6428510e-04, -2.0418351e-03, -7.6174166e-04],\n",
       "        ...,\n",
       "        [ 3.9117387e-03, -4.5362678e-03, -6.1149616e-04, ...,\n",
       "          3.5023571e-03, -4.1898922e-03,  3.0662687e-03],\n",
       "        [ 3.1332804e-03, -3.8697668e-03, -3.6234740e-04, ...,\n",
       "          4.3929997e-03, -5.4314616e-03,  3.8595730e-03],\n",
       "        [ 3.7676683e-03, -1.9518713e-03,  1.0426677e-03, ...,\n",
       "          4.9740300e-03, -6.7710760e-03,  3.2527708e-03]],\n",
       "\n",
       "       [[-5.1750260e-04, -5.9301377e-04,  9.1430766e-04, ...,\n",
       "         -1.3445299e-03, -5.7927263e-04,  9.1735920e-04],\n",
       "        [ 6.7242089e-04, -2.2629597e-03,  1.5414605e-03, ...,\n",
       "         -1.8665014e-03,  9.0671959e-04,  1.2772232e-03],\n",
       "        [ 1.1157051e-03, -2.7524082e-03,  1.4292634e-03, ...,\n",
       "         -1.1724203e-03,  6.4772525e-04,  1.7356249e-03],\n",
       "        ...,\n",
       "        [-3.5948004e-03,  1.5192939e-03, -3.0972073e-03, ...,\n",
       "          2.1987949e-03, -6.8354461e-04,  2.4532280e-03],\n",
       "        [-2.7254310e-03,  7.4108894e-04, -3.0811729e-03, ...,\n",
       "          3.8691028e-03, -6.8180094e-04,  3.4497080e-03],\n",
       "        [-1.2180239e-03,  1.4710698e-04, -2.4294774e-03, ...,\n",
       "          5.4986831e-03, -3.9140556e-05,  5.0699208e-03]]], dtype=float32)>"
      ]
     },
     "metadata": {},
     "execution_count": 24
    }
   ],
   "metadata": {}
  },
  {
   "cell_type": "markdown",
   "source": [
    "# Dense Layer"
   ],
   "metadata": {}
  },
  {
   "cell_type": "markdown",
   "source": [
    "We now create densely-connected neural network layer that would reshape the outputs tensor from  [30 x 20 x 128] to [30 x 20 x 10000].\r\n"
   ],
   "metadata": {}
  },
  {
   "cell_type": "code",
   "execution_count": 25,
   "source": [
    "dense = tf.keras.layers.Dense(vocab_size)"
   ],
   "outputs": [],
   "metadata": {}
  },
  {
   "cell_type": "code",
   "execution_count": 26,
   "source": [
    "logits_outputs = dense(outputs)"
   ],
   "outputs": [],
   "metadata": {}
  },
  {
   "cell_type": "code",
   "execution_count": 27,
   "source": [
    "print(\"shape of the output from dense layer: \", logits_outputs.shape) #(batch_size, sequence_length, vocab_size)"
   ],
   "outputs": [
    {
     "output_type": "stream",
     "name": "stdout",
     "text": [
      "shape of the output from dense layer:  (30, 20, 10000)\n"
     ]
    }
   ],
   "metadata": {}
  },
  {
   "cell_type": "markdown",
   "source": [
    "# Activation layer"
   ],
   "metadata": {}
  },
  {
   "cell_type": "markdown",
   "source": [
    "A softmax activation layers is also then applied to derive the probability of the output being in any of the multiclass(10000 in this case) possibilities."
   ],
   "metadata": {}
  },
  {
   "cell_type": "code",
   "execution_count": 28,
   "source": [
    "activation = tf.keras.layers.Activation('softmax')"
   ],
   "outputs": [],
   "metadata": {}
  },
  {
   "cell_type": "code",
   "execution_count": 29,
   "source": [
    "output_words_prob = activation(logits_outputs)"
   ],
   "outputs": [],
   "metadata": {}
  },
  {
   "cell_type": "markdown",
   "source": [
    "print(\"shape of the output from the activation layer: \", output_words_prob.shape) #(batch_size, sequence_length, vocab_size)"
   ],
   "metadata": {}
  },
  {
   "cell_type": "markdown",
   "source": [
    "Lets look at the probability of observing words for t=0 to t=20:\r\n"
   ],
   "metadata": {}
  },
  {
   "cell_type": "code",
   "execution_count": 30,
   "source": [
    "print(\"The probability of observing words in t=0 to t=20\", output_words_prob[0,0:num_steps])"
   ],
   "outputs": [
    {
     "output_type": "stream",
     "name": "stdout",
     "text": [
      "The probability of observing words in t=0 to t=20 tf.Tensor(\n",
      "[[1.00005156e-04 1.00014848e-04 9.99845142e-05 ... 9.99795084e-05\n",
      "  9.99891054e-05 9.99836120e-05]\n",
      " [1.00014346e-04 9.99973345e-05 9.99732511e-05 ... 9.99499971e-05\n",
      "  1.00000871e-04 9.99705444e-05]\n",
      " [1.00034362e-04 9.99930271e-05 9.99667245e-05 ... 9.99347103e-05\n",
      "  1.00029079e-04 1.00004152e-04]\n",
      " ...\n",
      " [1.00071666e-04 9.99250115e-05 9.99584809e-05 ... 1.00010926e-04\n",
      "  1.00038473e-04 1.00032681e-04]\n",
      " [1.00054829e-04 9.99442927e-05 9.99547192e-05 ... 9.99894255e-05\n",
      "  1.00035053e-04 1.00020181e-04]\n",
      " [1.00044897e-04 9.99502954e-05 9.99659096e-05 ... 9.99536205e-05\n",
      "  1.00044665e-04 1.00012112e-04]], shape=(20, 10000), dtype=float32)\n"
     ]
    }
   ],
   "metadata": {}
  },
  {
   "cell_type": "markdown",
   "source": [
    "# Prediction"
   ],
   "metadata": {}
  },
  {
   "cell_type": "code",
   "execution_count": 31,
   "source": [
    "np.argmax(output_words_prob[0, 0:num_steps], axis=1)"
   ],
   "outputs": [
    {
     "output_type": "execute_result",
     "data": {
      "text/plain": [
       "array([6970, 2683, 6086, 6086, 2760, 1855, 5103, 5103, 5103, 6179, 6179,\n",
       "       6179, 6179, 6179, 1313, 1313, 1313, 9086, 9086, 6298], dtype=int64)"
      ]
     },
     "metadata": {},
     "execution_count": 31
    }
   ],
   "metadata": {}
  },
  {
   "cell_type": "markdown",
   "source": [
    "So, what is the ground truth for the first word of first sentence? You can get it from target tensor, if you want to find the embedding vector:"
   ],
   "metadata": {}
  },
  {
   "cell_type": "code",
   "execution_count": 32,
   "source": [
    "_targets[0]"
   ],
   "outputs": [
    {
     "output_type": "execute_result",
     "data": {
      "text/plain": [
       "array([9971, 9972, 9974, 9975, 9976, 9980, 9981, 9982, 9983, 9984, 9986,\n",
       "       9987, 9988, 9989, 9991, 9992, 9993, 9994, 9995, 9996])"
      ]
     },
     "metadata": {},
     "execution_count": 32
    }
   ],
   "metadata": {}
  },
  {
   "cell_type": "code",
   "execution_count": null,
   "source": [],
   "outputs": [],
   "metadata": {}
  },
  {
   "cell_type": "markdown",
   "source": [
    "# Objective function"
   ],
   "metadata": {}
  },
  {
   "cell_type": "markdown",
   "source": [
    "How similar the predicted words are to the target words?\r\n",
    "\r\n",
    "Now we have to define our objective function, to calculate the similarity of predicted values to ground truth, and then, penalize the model with the error. Our objective is to minimize loss function, that is, to minimize the average negative log probability of the target words:\r\n",
    "\r\n",
    "$$\\text{loss} = -\\frac{1}{N}\\sum\\_{i=1}^{N} \\ln p\\_{\\text{target}\\_i}$$\r\n",
    "\r\n",
    "This function is already implemented and available in TensorFlow through *tf.keras.losses.sparse_categorical_crossentropy*. It calculates the categorical cross-entropy loss for <b>logits</b> and the <b>target</b> sequence.\r\n",
    "\r\n",
    "The arguments of this function are:\r\n",
    "\r\n",
    "<ul>\r\n",
    "    <li>logits: List of 2D Tensors of shape [batch_size x num_decoder_symbols].</li>  \r\n",
    "    <li>targets: List of 1D batch-sized int32 Tensors of the same length as logits.</li>   \r\n",
    "</ul>\r\n"
   ],
   "metadata": {}
  },
  {
   "cell_type": "code",
   "execution_count": 33,
   "source": [
    "def crossentropy(y_true, y_pred):\r\n",
    "    return tf.keras.losses.sparse_categorical_crossentropy(y_true, y_pred)"
   ],
   "outputs": [],
   "metadata": {}
  },
  {
   "cell_type": "code",
   "execution_count": 34,
   "source": [
    "loss = crossentropy(_targets, output_words_prob)"
   ],
   "outputs": [],
   "metadata": {}
  },
  {
   "cell_type": "code",
   "execution_count": 35,
   "source": [
    "# 1st 10 values of losses\r\n",
    "loss[0,:10]"
   ],
   "outputs": [
    {
     "output_type": "execute_result",
     "data": {
      "text/plain": [
       "<tf.Tensor: shape=(10,), dtype=float32, numpy=\n",
       "array([9.210213, 9.210423, 9.210902, 9.209682, 9.209731, 9.210162,\n",
       "       9.21006 , 9.209985, 9.209789, 9.210582], dtype=float32)>"
      ]
     },
     "metadata": {},
     "execution_count": 35
    }
   ],
   "metadata": {}
  },
  {
   "cell_type": "code",
   "execution_count": 36,
   "source": [
    "# cost a average value of loss\r\n",
    "cost = tf.reduce_sum(loss/batch_size)\r\n",
    "cost"
   ],
   "outputs": [
    {
     "output_type": "execute_result",
     "data": {
      "text/plain": [
       "<tf.Tensor: shape=(), dtype=float32, numpy=184.20628>"
      ]
     },
     "metadata": {},
     "execution_count": 36
    }
   ],
   "metadata": {}
  },
  {
   "cell_type": "markdown",
   "source": [
    "<h3>Training</h3>\r\n",
    "\r\n",
    "To do training for our network, we have to take the following steps:\r\n",
    "\r\n",
    "<ol>\r\n",
    "    <li>Define the optimizer.</li>\r\n",
    "    <li>Assemble layers to build model.</li>\r\n",
    "    <li>Calculate the gradients based on the loss function.</li>\r\n",
    "    <li>Apply the optimizer to the variables/gradients tuple.</li>\r\n",
    "</ol>\r\n"
   ],
   "metadata": {}
  },
  {
   "cell_type": "markdown",
   "source": [
    "## 1. Define optimizer"
   ],
   "metadata": {}
  },
  {
   "cell_type": "code",
   "execution_count": 37,
   "source": [
    "lr = tf.Variable(0.0, trainable=False)\r\n",
    "optimizer = tf.keras.optimizers.SGD(lr=lr, clipnorm=max_grad_norm)"
   ],
   "outputs": [],
   "metadata": {}
  },
  {
   "cell_type": "markdown",
   "source": [
    "## 2. Assemble layers to build model"
   ],
   "metadata": {}
  },
  {
   "cell_type": "code",
   "execution_count": 38,
   "source": [
    "model = tf.keras.Sequential()\r\n",
    "model.add(embedding_layer)\r\n",
    "model.add(layer)\r\n",
    "model.add(dense)\r\n",
    "model.add(activation)\r\n",
    "model.compile(loss=crossentropy, optimizer=optimizer)\r\n",
    "model.summary()"
   ],
   "outputs": [
    {
     "output_type": "stream",
     "name": "stdout",
     "text": [
      "Model: \"sequential\"\n",
      "_________________________________________________________________\n",
      "Layer (type)                 Output Shape              Param #   \n",
      "=================================================================\n",
      "embedding_vocab (Embedding)  (30, 20, 200)             2000000   \n",
      "_________________________________________________________________\n",
      "rnn (RNN)                    (30, 20, 128)             671088    \n",
      "_________________________________________________________________\n",
      "dense (Dense)                (30, 20, 10000)           1290000   \n",
      "_________________________________________________________________\n",
      "activation (Activation)      (30, 20, 10000)           0         \n",
      "=================================================================\n",
      "Total params: 3,961,088\n",
      "Trainable params: 3,955,088\n",
      "Non-trainable params: 6,000\n",
      "_________________________________________________________________\n"
     ]
    }
   ],
   "metadata": {}
  },
  {
   "cell_type": "markdown",
   "source": [
    "## 3. Trainable parameters"
   ],
   "metadata": {}
  },
  {
   "cell_type": "markdown",
   "source": [
    "Defining a variable, if you passed <i>trainable=True</i>, the variable constructor automatically adds new variables to the graph collection <b>GraphKeys.TRAINABLE_VARIABLES</b>. Now, using <i>tf.trainable_variables()</i> you can get all variables created with <b>trainable=True</b>."
   ],
   "metadata": {}
  },
  {
   "cell_type": "code",
   "execution_count": 39,
   "source": [
    "# Get all trainables parameters\r\n",
    "tvars = model.trainable_variables"
   ],
   "outputs": [],
   "metadata": {}
  },
  {
   "cell_type": "code",
   "execution_count": 40,
   "source": [
    "[v.name for v in tvars]"
   ],
   "outputs": [
    {
     "output_type": "execute_result",
     "data": {
      "text/plain": [
       "['embedding_vocab/embeddings:0',\n",
       " 'rnn/stacked_rnn_cells/lstm_cell/kernel:0',\n",
       " 'rnn/stacked_rnn_cells/lstm_cell/recurrent_kernel:0',\n",
       " 'rnn/stacked_rnn_cells/lstm_cell/bias:0',\n",
       " 'rnn/stacked_rnn_cells/lstm_cell_1/kernel:0',\n",
       " 'rnn/stacked_rnn_cells/lstm_cell_1/recurrent_kernel:0',\n",
       " 'rnn/stacked_rnn_cells/lstm_cell_1/bias:0',\n",
       " 'dense/kernel:0',\n",
       " 'dense/bias:0']"
      ]
     },
     "metadata": {},
     "execution_count": 40
    }
   ],
   "metadata": {}
  },
  {
   "cell_type": "markdown",
   "source": [
    "## 4. Calculate the gradient based on the loss function"
   ],
   "metadata": {}
  },
  {
   "cell_type": "markdown",
   "source": [
    "**Gradient**: The gradient of a function is the slope of its derivative (line), or in other words, the rate of change of a function. It's a vector (a direction to move) that points in the direction of greatest increase of the function, and calculated by the <b>derivative</b> operation."
   ],
   "metadata": {}
  },
  {
   "cell_type": "markdown",
   "source": [
    "First lets recall the gradient function using an toy example:\r\n",
    "$$ z = \\left(2x^2 + 3xy\\right)$$"
   ],
   "metadata": {}
  },
  {
   "cell_type": "code",
   "execution_count": 41,
   "source": [
    "x = tf.constant(1.0)\r\n",
    "y =  tf.constant(2.0)\r\n",
    "with tf.GradientTape(persistent=True) as g:\r\n",
    "    g.watch(x)\r\n",
    "    g.watch(y)\r\n",
    "    func_test = 2 * x * x + 3 * x * y"
   ],
   "outputs": [],
   "metadata": {}
  },
  {
   "cell_type": "markdown",
   "source": [
    "The <b>tf.gradients()</b> function allows you to compute the symbolic gradient of one tensor with respect to one or more other tensors—including variables. <b>tf.gradients(func, xs)</b> constructs symbolic partial derivatives of sum of <b>func</b> w\\.r.t. <i>x</i> in <b>xs</b>.\r\n",
    "\r\n",
    "Now, lets look at the derivitive w\\.r.t. <b>var_x</b>:\r\n",
    "$$ \\frac{\\partial :}{\\partial \\:x}\\left(2x^2 + 3xy\\right) = 4x + 3y $$"
   ],
   "metadata": {}
  },
  {
   "cell_type": "code",
   "execution_count": 42,
   "source": [
    "var_grad = g.gradient(func_test, x)\r\n",
    "print(var_grad)"
   ],
   "outputs": [
    {
     "output_type": "stream",
     "name": "stdout",
     "text": [
      "tf.Tensor(10.0, shape=(), dtype=float32)\n"
     ]
    }
   ],
   "metadata": {}
  },
  {
   "cell_type": "code",
   "execution_count": 43,
   "source": [
    "var_grad = g.gradient(func_test, y) # Will compute to 3.0\r\n",
    "print(var_grad)"
   ],
   "outputs": [
    {
     "output_type": "stream",
     "name": "stdout",
     "text": [
      "tf.Tensor(3.0, shape=(), dtype=float32)\n"
     ]
    }
   ],
   "metadata": {}
  },
  {
   "cell_type": "code",
   "execution_count": 44,
   "source": [
    "with tf.GradientTape() as tape:\r\n",
    "    # Forward pass\r\n",
    "    output_words_prob = model(_input_data)\r\n",
    "    # Loss value for this batch\r\n",
    "    loss = crossentropy(_targets, output_words_prob)\r\n",
    "    cost = tf.reduce_sum(loss, axis=0) / batch_size"
   ],
   "outputs": [],
   "metadata": {}
  },
  {
   "cell_type": "code",
   "execution_count": 45,
   "source": [
    "# Get gradients of loss with the parameters\r\n",
    "grad_t_list = tape.gradient(cost, tvars)"
   ],
   "outputs": [],
   "metadata": {}
  },
  {
   "cell_type": "code",
   "execution_count": 47,
   "source": [
    "print(grad_t_list[0])"
   ],
   "outputs": [
    {
     "output_type": "stream",
     "name": "stdout",
     "text": [
      "IndexedSlices(indices=tf.Tensor(\n",
      "[9970 9971 9972 9974 9975 9976 9980 9981 9982 9983 9984 9986 9987 9988\n",
      " 9989 9991 9992 9993 9994 9995 2654    6  334 2886    4    1  233  711\n",
      "  834   11  130  123    7  514    2   63   10  514    8  605    0 1071\n",
      "    4    0  185   24  368   20   31 3109  954   12    3   21    2 2915\n",
      "    2   12    3   21    3   71    4   27  246   60   11  215    4    1\n",
      " 1846    9    3   71  546    2 6505  162    6  104   93   25    6  261\n",
      "  681  251    0  278 3246   13  200    1    8  105 3360    1    4    0\n",
      "  536    4   20    6  954   12    3   21   78   14  977  726    0   37\n",
      "   42   34    5  437  116  206  927    2   18  296    7  201   76    4\n",
      "  182  560 3836   17  974  975    6  942    4  156   77 1570  288  644\n",
      "   23 1238  899    5   25  201    4    0  434  642   55  201    4    0\n",
      " 2423    2    1    1    1  483  379  706    9  413 8219   96   15    0\n",
      " 2185 1758    1    1   37   13  834    5  852  222    7 1785    2  179\n",
      "  940  117   38   59  677   14    1   10 1016  309   13 1077 6360   16\n",
      "   23 4490    9  355 3572    4 3015 1347  536   13    6 3949    5  438\n",
      " 9643    2   64   87   32  358 3672 4103 1082   11   71  178    3    8\n",
      "    3    2    0 1008  234   30 6400   10    0   98    9    1  338   13\n",
      "    5   25 1473   88   19 2578 6591    8  629  563    8  223  184  127\n",
      "   18    6  828    1    2    0  324  158    1    1    2   18    0 1844\n",
      "    4   73   39 2694    6 1709    2    7    0 6509 1116   27    1    1\n",
      " 1055    5   25 8582   10  353  645   24    6  287    2 1006    0 8861\n",
      " 2369   44    7    0    1  180   36  501    5    6 1969    0   98   89\n",
      " 2254    0  312 1641    4 1063    8  713    0  264  820    2   32 2599\n",
      "  762 1875   26 1402   45  516    2 2937   16 3355 2062  251    0  529\n",
      "   24 1625  122   18  677  127    2   19   23 7800 3592   14   64   87\n",
      "   32  350    0 3968    2   38   26  114   38   26   25   45  769    2\n",
      "   23 2634 1096 1175   19    6    1  154   23 1890   30    6    1    1\n",
      "    2  198 7736  391    5 5173  838    2  840    9 8716  537 4132 2915\n",
      "    9    1    1   10 1268  175   32  184    3   21    4    1  308  458\n",
      "   11   41   14 5718  102  824    1    2   14   59   50   12    3   21\n",
      "    8    1   22   73   10  863   11  898  653  270    8  500  273 1559\n",
      "    2   14 3019    5  585   84  483  762   87  108 1119    0    1   67\n",
      "    0 3296   26  591  174  127    2  108   26 9821   11    6 3885  582\n",
      "   81   17 1834    2 1256   98  162  582  441  125   22 1652  172    4\n",
      "    3    3    8  206   44   23    1    0 1704    4    1    2   22  373\n",
      "   38  275    1 8017    2 2785 3659 4359   80  634 1896    8   13 9468\n",
      "   17  752 4622    2   29 2221    0  446 3552    4    0 2495  431  134\n",
      "  284  152   48    7 1741  193    8  446  165  301 6521 5122   15   12\n",
      "    3   21    4   10  161  783    8   79   47 4447 1431    4 6967 2121\n",
      "   24  452   18   43    3   48 1076   12    3   21   69   40    2 1323\n",
      "   31 3374    4 2108    1  134    8 6967 1825 3306   14   13 3581    5\n",
      " 2424 1583 6495    5    6 1136   59 2070 2433   28  517   20   23 4306\n",
      "    6   40  195    2 9398  400 4908  673 1572  400    1 1173], shape=(600,), dtype=int32), values=tf.Tensor(\n",
      "[[ 1.68487182e-04 -9.35992284e-05 -1.22585216e-05 ...  9.29804810e-05\n",
      "   1.03620172e-04 -3.97740041e-06]\n",
      " [ 1.76041591e-04 -1.08348708e-04 -5.88817511e-06 ...  8.79332583e-05\n",
      "   1.08331129e-04 -3.81389145e-06]\n",
      " [ 1.72445609e-04 -9.43813429e-05  4.22435050e-07 ...  9.00426530e-05\n",
      "   1.13379967e-04 -7.57518501e-06]\n",
      " ...\n",
      " [ 6.52791186e-06  8.73686895e-06  2.45217179e-05 ...  1.56157466e-06\n",
      "   4.04047605e-05  2.07929170e-05]\n",
      " [ 8.03091461e-06  1.31123588e-05  2.58239743e-06 ...  7.24622123e-06\n",
      "   3.76726348e-05  1.94707318e-05]\n",
      " [ 8.11826249e-06  1.22509455e-05  1.22316305e-06 ...  1.14984341e-05\n",
      "   2.19661542e-05  5.73214766e-06]], shape=(600, 200), dtype=float32), dense_shape=tf.Tensor([10000   200], shape=(2,), dtype=int32))\n"
     ]
    }
   ],
   "metadata": {}
  },
  {
   "cell_type": "markdown",
   "source": [
    "now, we have a list of tensors, t-list. We can use it to find clipped tensors. <b>clip_by_global_norm</b> clips values of multiple tensors by the ratio of the sum of their norms.\r\n",
    "\r\n",
    "<b>clip_by_global_norm</b> get <i>t-list</i> as input and returns 2 things:\r\n",
    "\r\n",
    "<ul>\r\n",
    "    <li>a list of clipped tensors, so called <i>list_clipped</i></li> \r\n",
    "    <li>the global norm (global_norm) of all tensors in t_list</li> \r\n",
    "</ul>\r\n"
   ],
   "metadata": {}
  },
  {
   "cell_type": "code",
   "execution_count": 50,
   "source": [
    "# define the gradient clipping threshold\r\n",
    "grads, _ = tf.clip_by_global_norm(grad_t_list, max_grad_norm)\r\n",
    "grads[1]"
   ],
   "outputs": [
    {
     "output_type": "execute_result",
     "data": {
      "text/plain": [
       "<tf.Tensor: shape=(200, 1024), dtype=float32, numpy=\n",
       "array([[ 2.2543196e-07,  6.8046484e-07,  1.6646533e-07, ...,\n",
       "        -4.8608416e-07,  7.0475863e-08, -1.0642000e-06],\n",
       "       [-9.8070757e-08,  2.6930968e-07, -2.5278615e-07, ...,\n",
       "        -2.9163294e-07, -2.1874058e-08, -7.0386045e-07],\n",
       "       [ 7.1161014e-07, -3.6459028e-08,  1.9264365e-07, ...,\n",
       "        -2.5742187e-07, -1.7866209e-07,  2.1103287e-07],\n",
       "       ...,\n",
       "       [ 2.9839717e-07,  6.6508716e-07,  3.1229368e-07, ...,\n",
       "         1.6184237e-07,  1.6464455e-07, -3.6590029e-07],\n",
       "       [ 4.7415378e-07,  1.5711742e-06, -5.8572638e-08, ...,\n",
       "         8.0207627e-08, -8.4898247e-08,  2.6870643e-07],\n",
       "       [ 2.2503616e-07, -5.3138541e-07,  3.9376945e-07, ...,\n",
       "        -1.2028498e-07, -2.1003255e-07,  2.6719181e-07]], dtype=float32)>"
      ]
     },
     "metadata": {},
     "execution_count": 50
    }
   ],
   "metadata": {}
  },
  {
   "cell_type": "markdown",
   "source": [
    "## 5. Apply the optimizer to the variables/ gradients tuple"
   ],
   "metadata": {}
  },
  {
   "cell_type": "code",
   "execution_count": 51,
   "source": [
    "# Create the training TensorFlow Operation through our optimizer\r\n",
    "train_op = optimizer.apply_gradients(zip(grads, tvars))"
   ],
   "outputs": [],
   "metadata": {}
  },
  {
   "cell_type": "markdown",
   "source": [
    "<a id=\"ltsm\"></a>\r\n",
    "\r\n",
    "<h2>LSTM</h2>\r\n"
   ],
   "metadata": {}
  },
  {
   "cell_type": "markdown",
   "source": [
    "We learned how the model is build step by step. Now, let's then create a Class that represents our model. This class needs a few things:\r\n",
    "\r\n",
    "<ul>\r\n",
    "    <li>We have to create the model in accordance with our defined hyperparameters</li>\r\n",
    "    <li>We have to create the LSTM cell structure and connect them with our RNN structure</li>\r\n",
    "    <li>We have to create the word embeddings and point them to the input data</li>\r\n",
    "    <li>We have to create the input structure for our RNN</li>\r\n",
    "    <li>We need to create a logistic structure to return the probability of our words</li>\r\n",
    "    <li>We need to create the loss and cost functions for our optimizer to work, and then create the optimizer</li>\r\n",
    "    <li>And finally, we need to create a training operation that can be run to actually train our model</li>\r\n",
    "</ul>"
   ],
   "metadata": {}
  },
  {
   "cell_type": "code",
   "execution_count": 52,
   "source": [
    "class PTBModel(object):\r\n",
    "\r\n",
    "\r\n",
    "    def __init__(self):\r\n",
    "    \r\n",
    "        # Setting parameters for ease of use #\r\n",
    "        #     \r\n",
    "        self.batch_size = batch_size\r\n",
    "        self.num_steps = num_steps\r\n",
    "        self.hidden_size_l1 = hidden_size_l1\r\n",
    "        self.hidden_size_l2 = hidden_size_l2\r\n",
    "        self.vocab_size = vocab_size\r\n",
    "        self.embeding_vector_size = embeding_vector_size\r\n",
    "        # Create a variable for the learning rate\r\n",
    "        self._lr = 1.0\r\n",
    "        \r\n",
    "        # Initializing the model using keras Sequential API  #\r\n",
    "        \r\n",
    "        self._model = tf.keras.models.Sequential()\r\n",
    "           \r\n",
    "        # Creating the word embeddings layer and adding it to the sequence #\r\n",
    "     \r\n",
    "        with tf.device(\"/cpu:0\"):\r\n",
    "            # Create the embeddings for our input data. Size is hidden size.\r\n",
    "            self._embedding_layer = tf.keras.layers.Embedding(self.vocab_size, \r\n",
    "                                                              self.embeding_vector_size,\r\n",
    "                                                              batch_input_shape=(self.batch_size, self.num_steps),\r\n",
    "                                                              trainable=True,\r\n",
    "                                                              name=\"embedding_vocab\")  #[10000x200]\r\n",
    "            self._model.add(self._embedding_layer)            \r\n",
    "\r\n",
    "  \r\n",
    "        # Creating the LSTM cell structure and connect it with the RNN structure #\r\n",
    " \r\n",
    "        # Create the LSTM Cells. \r\n",
    "        # This creates only the structure for the LSTM and has to be associated with a RNN unit still.\r\n",
    "        # The argument  of LSTMCell is size of hidden layer, that is, the number of hidden units of the LSTM (inside A). \r\n",
    "        # LSTM cell processes one word at a time and computes probabilities of the possible continuations of the sentence.\r\n",
    "        lstm_cell_l1 = tf.keras.layers.LSTMCell(hidden_size_l1)\r\n",
    "        lstm_cell_l2 = tf.keras.layers.LSTMCell(hidden_size_l2)       \r\n",
    "\r\n",
    "        \r\n",
    "        # By taking in the LSTM cells as parameters, the StackedRNNCells function junctions the LSTM units to the RNN units.\r\n",
    "        # RNN cell composed sequentially of stacked simple cells.\r\n",
    "        stacked_lstm = tf.keras.layers.StackedRNNCells([lstm_cell_l1, lstm_cell_l2])\r\n",
    "        \r\n",
    "     \r\n",
    "        # Creating the input structure for our RNN #\r\n",
    "       \r\n",
    "        # Input structure is 20x[30x200]\r\n",
    "        # Considering each word is represended by a 200 dimentional vector, and we have 30 batchs, we create 30 word-vectors of size [30xx2000]\r\n",
    "        # The input structure is fed from the embeddings, which are filled in by the input data\r\n",
    "        # Feeding a batch of b sentences to a RNN:\r\n",
    "        # In step 1,  first word of each of the b sentences (in a batch) is input in parallel.  \r\n",
    "        # In step 2,  second word of each of the b sentences is input in parallel. \r\n",
    "        # The parallelism is only for efficiency.  \r\n",
    "        # Each sentence in a batch is handled in parallel, but the network sees one word of a sentence at a time and does the computations accordingly. \r\n",
    "        # All the computations involving the words of all sentences in a batch at a given time step are done in parallel. \r\n",
    " \r\n",
    "        # Instantiating our RNN model and setting stateful to True to feed forward the state to the next layer #     \r\n",
    "        \r\n",
    "        self._RNNlayer  =  tf.keras.layers.RNN(stacked_lstm,\r\n",
    "                                              [batch_size, num_steps],\r\n",
    "                                              return_state=False,\r\n",
    "                                              stateful=True,\r\n",
    "                                              trainable=True)\r\n",
    "        \r\n",
    "        # Define the initial state, i.e., the model state for the very first data point\r\n",
    "        # It initialize the state of the LSTM memory. The memory state of the network is initialized with a vector of zeros and gets updated after reading each word.\r\n",
    "        self._initial_state = tf.Variable(tf.zeros([batch_size,embeding_vector_size]),trainable=False)\r\n",
    "        self._RNNlayer.inital_state = self._initial_state\r\n",
    "    \r\n",
    "\r\n",
    "        # Adding RNN layer to keras sequential API #\r\n",
    "   \r\n",
    "        self._model.add(self._RNNlayer)\r\n",
    "        \r\n",
    "        #self._model.add(tf.keras.layers.LSTM(hidden_size_l1,return_sequences=True,stateful=True))\r\n",
    "        #self._model.add(tf.keras.layers.LSTM(hidden_size_l2,return_sequences=True))                \r\n",
    "     \r\n",
    "        # Instantiating a Dense layer that connects the output to the vocab_size  and adding layer to model#\r\n",
    "      \r\n",
    "        self._dense = tf.keras.layers.Dense(self.vocab_size)\r\n",
    "        self._model.add(self._dense)         \r\n",
    "    \r\n",
    "        # Adding softmax activation layer and deriving probability to each class and adding layer to model #\r\n",
    "    \r\n",
    "        self._activation = tf.keras.layers.Activation('softmax')\r\n",
    "        self._model.add(self._activation)\r\n",
    "    \r\n",
    "        # Instantiating the stochastic gradient decent optimizer #\r\n",
    "     \r\n",
    "        self._optimizer = tf.keras.optimizers.SGD(lr=self._lr, clipnorm=max_grad_norm)\r\n",
    "                    \r\n",
    "        # Compiling and summarizing the model stacked using the keras sequential API #\r\n",
    " \r\n",
    "        self._model.compile(loss=self.crossentropy, optimizer=self._optimizer)\r\n",
    "        self._model.summary()\r\n",
    "\r\n",
    "\r\n",
    "    def crossentropy(self,y_true, y_pred):\r\n",
    "        return tf.keras.losses.sparse_categorical_crossentropy(y_true, y_pred)\r\n",
    "\r\n",
    "    def train_batch(self,_input_data,_targets):\r\n",
    "\r\n",
    "        # Creating the Training Operation for our Model #\r\n",
    "     \r\n",
    "        # Create a variable for the learning rate\r\n",
    "        self._lr = tf.Variable(0.0, trainable=False)\r\n",
    "        # Get all TensorFlow variables marked as \"trainable\" (i.e. all of them except _lr, which we just created)\r\n",
    "        tvars = self._model.trainable_variables\r\n",
    "        # Define the gradient clipping threshold\r\n",
    "        with tf.GradientTape() as tape:\r\n",
    "            # Forward pass.\r\n",
    "            output_words_prob = self._model(_input_data)\r\n",
    "            # Loss value for this batch.\r\n",
    "            loss  = self.crossentropy(_targets, output_words_prob)\r\n",
    "            # average across batch and reduce sum\r\n",
    "            cost = tf.reduce_sum(loss/ self.batch_size)\r\n",
    "        # Get gradients of loss wrt the trainable variables.\r\n",
    "        grad_t_list = tape.gradient(cost, tvars)\r\n",
    "        # Define the gradient clipping threshold\r\n",
    "        grads, _ = tf.clip_by_global_norm(grad_t_list, max_grad_norm)\r\n",
    "        # Create the training TensorFlow Operation through our optimizer\r\n",
    "        train_op = self._optimizer.apply_gradients(zip(grads, tvars))\r\n",
    "        return cost\r\n",
    "        \r\n",
    "    def test_batch(self,_input_data,_targets):\r\n",
    "     \r\n",
    "        # Creating the Testing Operation for our Model #\r\n",
    "     \r\n",
    "        output_words_prob = self._model(_input_data)\r\n",
    "        loss  = self.crossentropy(_targets, output_words_prob)\r\n",
    "        # average across batch and reduce sum\r\n",
    "        cost = tf.reduce_sum(loss/ self.batch_size)\r\n",
    "\r\n",
    "        return cost\r\n",
    "    @classmethod\r\n",
    "    def instance(cls) : \r\n",
    "        return PTBModel()"
   ],
   "outputs": [],
   "metadata": {}
  },
  {
   "cell_type": "markdown",
   "source": [
    "With that, the actual structure of our Recurrent Neural Network with Long Short-Term Memory is finished. What remains for us to do is to actually create the methods to run through time -- that is, the <code>run_epoch</code> method to be run at each epoch and a <code>main</code> script which ties all of this together.\r\n",
    "\r\n",
    "What our <code>run_epoch</code> method should do is take our input data and feed it to the relevant operations. This will return at the very least the current result for the cost function."
   ],
   "metadata": {}
  },
  {
   "cell_type": "code",
   "execution_count": 53,
   "source": [
    "# run_one_epoch takes as parameters  the model instance, the data to be fed, training or testing mode and verbose info #\r\n",
    "\r\n",
    "def run_one_epoch(m, data,is_training=True,verbose=False):\r\n",
    "\r\n",
    "    #Define the epoch size based on the length of the data, batch size and the number of steps\r\n",
    "    epoch_size = ((len(data) // m.batch_size) - 1) // m.num_steps\r\n",
    "    start_time = time.time()\r\n",
    "    costs = 0.\r\n",
    "    iters = 0\r\n",
    "    \r\n",
    "    m._model.reset_states()\r\n",
    "    \r\n",
    "    #For each step and data point\r\n",
    "    for step, (x, y) in enumerate(reader.ptb_iterator(data, m.batch_size, m.num_steps)):\r\n",
    "        \r\n",
    "        #Evaluate and return cost, state by running cost, final_state and the function passed as parameter\r\n",
    "        #y = tf.keras.utils.to_categorical(y, num_classes=vocab_size)\r\n",
    "        if is_training : \r\n",
    "            loss=  m.train_batch(x, y)\r\n",
    "        else :\r\n",
    "            loss = m.test_batch(x, y)\r\n",
    "                                   \r\n",
    "        #Add returned cost to costs (which keeps track of the total costs for this epoch)\r\n",
    "        costs += loss\r\n",
    "        \r\n",
    "        #Add number of steps to iteration counter\r\n",
    "        iters += m.num_steps\r\n",
    "\r\n",
    "        if verbose and step % (epoch_size // 10) == 10:\r\n",
    "            print(\"Itr %d of %d, perplexity: %.3f speed: %.0f wps\" % (step , epoch_size, np.exp(costs / iters), iters * m.batch_size / (time.time() - start_time)))\r\n",
    "        \r\n",
    "\r\n",
    "    # Returns the Perplexity rating for us to keep track of how the model is evolving\r\n",
    "    return np.exp(costs / iters)"
   ],
   "outputs": [],
   "metadata": {}
  },
  {
   "cell_type": "code",
   "execution_count": 54,
   "source": [
    "# Reads the data and separates it into training data, validation data and testing data\r\n",
    "raw_data = reader.ptb_raw_data(data_dir)\r\n",
    "train_data, valid_data, test_data, _, _ = raw_data"
   ],
   "outputs": [],
   "metadata": {}
  },
  {
   "cell_type": "code",
   "execution_count": 55,
   "source": [
    "# Instantiates the PTBModel class\r\n",
    "m=PTBModel.instance()   \r\n",
    "K = tf.keras.backend \r\n",
    "\r\n",
    "for i in range(max_epoch):\r\n",
    "    # Define the decay for this epoch\r\n",
    "    lr_decay = decay ** max(i - max_epoch_decay_lr, 0.0)\r\n",
    "    dcr = learning_rate * lr_decay\r\n",
    "    m._lr = dcr\r\n",
    "    K.set_value(m._model.optimizer.learning_rate,m._lr)\r\n",
    "    print(\"Epoch %d : Learning rate: %.3f\" % (i + 1, m._model.optimizer.learning_rate))\r\n",
    "    # Run the loop for this epoch in the training mode\r\n",
    "    train_perplexity = run_one_epoch(m, train_data,is_training=True,verbose=True)\r\n",
    "    print(\"Epoch %d : Train Perplexity: %.3f\" % (i + 1, train_perplexity))\r\n",
    "        \r\n",
    "    # Run the loop for this epoch in the validation mode\r\n",
    "    valid_perplexity = run_one_epoch(m, valid_data,is_training=False,verbose=False)\r\n",
    "    print(\"Epoch %d : Valid Perplexity: %.3f\" % (i + 1, valid_perplexity))\r\n",
    "    \r\n",
    "# Run the loop in the testing mode to see how effective was our training\r\n",
    "test_perplexity = run_one_epoch(m, test_data,is_training=False,verbose=False)\r\n",
    "print(\"Test Perplexity: %.3f\" % test_perplexity)"
   ],
   "outputs": [
    {
     "output_type": "stream",
     "name": "stdout",
     "text": [
      "Model: \"sequential_1\"\n",
      "_________________________________________________________________\n",
      "Layer (type)                 Output Shape              Param #   \n",
      "=================================================================\n",
      "embedding_vocab (Embedding)  (30, 20, 200)             2000000   \n",
      "_________________________________________________________________\n",
      "rnn_1 (RNN)                  (30, 20, 128)             671088    \n",
      "_________________________________________________________________\n",
      "dense_1 (Dense)              (30, 20, 10000)           1290000   \n",
      "_________________________________________________________________\n",
      "activation_1 (Activation)    (30, 20, 10000)           0         \n",
      "=================================================================\n",
      "Total params: 3,961,088\n",
      "Trainable params: 3,955,088\n",
      "Non-trainable params: 6,000\n",
      "_________________________________________________________________\n",
      "Epoch 1 : Learning rate: 1.000\n",
      "Itr 10 of 1549, perplexity: 5519.082 speed: 804 wps\n",
      "Itr 164 of 1549, perplexity: 1089.362 speed: 824 wps\n",
      "Itr 318 of 1549, perplexity: 837.922 speed: 824 wps\n",
      "Itr 472 of 1549, perplexity: 688.189 speed: 823 wps\n",
      "Itr 626 of 1549, perplexity: 583.667 speed: 823 wps\n",
      "Itr 780 of 1549, perplexity: 518.072 speed: 822 wps\n",
      "Itr 934 of 1549, perplexity: 468.003 speed: 822 wps\n",
      "Itr 1088 of 1549, perplexity: 431.066 speed: 822 wps\n",
      "Itr 1242 of 1549, perplexity: 402.614 speed: 822 wps\n",
      "Itr 1396 of 1549, perplexity: 376.085 speed: 822 wps\n",
      "Epoch 1 : Train Perplexity: 355.068\n",
      "Epoch 1 : Valid Perplexity: 215.227\n",
      "Epoch 2 : Learning rate: 1.000\n",
      "Itr 10 of 1549, perplexity: 243.861 speed: 830 wps\n",
      "Itr 164 of 1549, perplexity: 213.503 speed: 817 wps\n",
      "Itr 318 of 1549, perplexity: 204.613 speed: 818 wps\n",
      "Itr 472 of 1549, perplexity: 196.252 speed: 819 wps\n",
      "Itr 626 of 1549, perplexity: 187.120 speed: 815 wps\n",
      "Itr 780 of 1549, perplexity: 183.329 speed: 817 wps\n",
      "Itr 934 of 1549, perplexity: 179.221 speed: 818 wps\n",
      "Itr 1088 of 1549, perplexity: 175.888 speed: 819 wps\n",
      "Itr 1242 of 1549, perplexity: 173.491 speed: 819 wps\n",
      "Itr 1396 of 1549, perplexity: 169.375 speed: 820 wps\n",
      "Epoch 2 : Train Perplexity: 166.538\n",
      "Epoch 2 : Valid Perplexity: 164.664\n",
      "Epoch 3 : Learning rate: 1.000\n",
      "Itr 10 of 1549, perplexity: 164.249 speed: 788 wps\n",
      "Itr 164 of 1549, perplexity: 148.591 speed: 815 wps\n",
      "Itr 318 of 1549, perplexity: 145.057 speed: 815 wps\n",
      "Itr 472 of 1549, perplexity: 140.622 speed: 816 wps\n",
      "Itr 626 of 1549, perplexity: 135.460 speed: 819 wps\n",
      "Itr 780 of 1549, perplexity: 134.113 speed: 817 wps\n",
      "Itr 934 of 1549, perplexity: 132.391 speed: 812 wps\n",
      "Itr 1088 of 1549, perplexity: 130.941 speed: 814 wps\n",
      "Itr 1242 of 1549, perplexity: 130.077 speed: 814 wps\n",
      "Itr 1396 of 1549, perplexity: 127.749 speed: 814 wps\n",
      "Epoch 3 : Train Perplexity: 126.478\n",
      "Epoch 3 : Valid Perplexity: 146.575\n",
      "Epoch 4 : Learning rate: 1.000\n",
      "Itr 10 of 1549, perplexity: 132.526 speed: 783 wps\n",
      "Itr 164 of 1549, perplexity: 121.011 speed: 822 wps\n",
      "Itr 318 of 1549, perplexity: 119.005 speed: 816 wps\n",
      "Itr 472 of 1549, perplexity: 115.658 speed: 814 wps\n",
      "Itr 626 of 1549, perplexity: 111.832 speed: 814 wps\n",
      "Itr 780 of 1549, perplexity: 111.203 speed: 815 wps\n",
      "Itr 934 of 1549, perplexity: 110.120 speed: 815 wps\n",
      "Itr 1088 of 1549, perplexity: 109.254 speed: 815 wps\n",
      "Itr 1242 of 1549, perplexity: 108.844 speed: 814 wps\n",
      "Itr 1396 of 1549, perplexity: 107.210 speed: 815 wps\n",
      "Epoch 4 : Train Perplexity: 106.447\n",
      "Epoch 4 : Valid Perplexity: 136.944\n",
      "Epoch 5 : Learning rate: 1.000\n",
      "Itr 10 of 1549, perplexity: 114.629 speed: 783 wps\n",
      "Itr 164 of 1549, perplexity: 104.895 speed: 820 wps\n",
      "Itr 318 of 1549, perplexity: 103.422 speed: 822 wps\n",
      "Itr 472 of 1549, perplexity: 100.750 speed: 822 wps\n",
      "Itr 626 of 1549, perplexity: 97.577 speed: 817 wps\n",
      "Itr 780 of 1549, perplexity: 97.347 speed: 818 wps\n",
      "Itr 934 of 1549, perplexity: 96.629 speed: 819 wps\n",
      "Itr 1088 of 1549, perplexity: 96.052 speed: 817 wps\n",
      "Itr 1242 of 1549, perplexity: 95.870 speed: 816 wps\n",
      "Itr 1396 of 1549, perplexity: 94.566 speed: 816 wps\n",
      "Epoch 5 : Train Perplexity: 94.034\n",
      "Epoch 5 : Valid Perplexity: 134.256\n",
      "Epoch 6 : Learning rate: 0.500\n",
      "Itr 10 of 1549, perplexity: 101.369 speed: 849 wps\n",
      "Itr 164 of 1549, perplexity: 91.290 speed: 817 wps\n",
      "Itr 318 of 1549, perplexity: 88.825 speed: 813 wps\n",
      "Itr 472 of 1549, perplexity: 85.548 speed: 807 wps\n",
      "Itr 626 of 1549, perplexity: 82.018 speed: 809 wps\n",
      "Itr 780 of 1549, perplexity: 81.164 speed: 806 wps\n",
      "Itr 934 of 1549, perplexity: 79.985 speed: 808 wps\n",
      "Itr 1088 of 1549, perplexity: 78.928 speed: 809 wps\n",
      "Itr 1242 of 1549, perplexity: 78.187 speed: 806 wps\n",
      "Itr 1396 of 1549, perplexity: 76.521 speed: 807 wps\n",
      "Epoch 6 : Train Perplexity: 75.554\n",
      "Epoch 6 : Valid Perplexity: 124.155\n",
      "Epoch 7 : Learning rate: 0.250\n",
      "Itr 10 of 1549, perplexity: 85.074 speed: 782 wps\n",
      "Itr 164 of 1549, perplexity: 78.474 speed: 790 wps\n",
      "Itr 318 of 1549, perplexity: 76.549 speed: 803 wps\n",
      "Itr 472 of 1549, perplexity: 73.670 speed: 806 wps\n",
      "Itr 626 of 1549, perplexity: 70.564 speed: 808 wps\n",
      "Itr 780 of 1549, perplexity: 69.793 speed: 809 wps\n",
      "Itr 934 of 1549, perplexity: 68.706 speed: 810 wps\n",
      "Itr 1088 of 1549, perplexity: 67.670 speed: 811 wps\n",
      "Itr 1242 of 1549, perplexity: 66.880 speed: 812 wps\n",
      "Itr 1396 of 1549, perplexity: 65.283 speed: 812 wps\n",
      "Epoch 7 : Train Perplexity: 64.296\n",
      "Epoch 7 : Valid Perplexity: 121.366\n",
      "Epoch 8 : Learning rate: 0.125\n",
      "Itr 10 of 1549, perplexity: 75.582 speed: 845 wps\n",
      "Itr 164 of 1549, perplexity: 71.291 speed: 826 wps\n",
      "Itr 318 of 1549, perplexity: 69.630 speed: 824 wps\n",
      "Itr 472 of 1549, perplexity: 67.066 speed: 824 wps\n",
      "Itr 626 of 1549, perplexity: 64.195 speed: 825 wps\n",
      "Itr 780 of 1549, perplexity: 63.503 speed: 825 wps\n",
      "Itr 934 of 1549, perplexity: 62.492 speed: 824 wps\n",
      "Itr 1088 of 1549, perplexity: 61.518 speed: 825 wps\n",
      "Itr 1242 of 1549, perplexity: 60.735 speed: 825 wps\n",
      "Itr 1396 of 1549, perplexity: 59.222 speed: 825 wps\n",
      "Epoch 8 : Train Perplexity: 58.264\n",
      "Epoch 8 : Valid Perplexity: 120.949\n",
      "Epoch 9 : Learning rate: 0.062\n",
      "Itr 10 of 1549, perplexity: 71.058 speed: 821 wps\n",
      "Itr 164 of 1549, perplexity: 67.524 speed: 812 wps\n",
      "Itr 318 of 1549, perplexity: 65.999 speed: 811 wps\n",
      "Itr 472 of 1549, perplexity: 63.610 speed: 812 wps\n",
      "Itr 626 of 1549, perplexity: 60.850 speed: 813 wps\n",
      "Itr 780 of 1549, perplexity: 60.207 speed: 814 wps\n",
      "Itr 934 of 1549, perplexity: 59.249 speed: 814 wps\n",
      "Itr 1088 of 1549, perplexity: 58.317 speed: 814 wps\n",
      "Itr 1242 of 1549, perplexity: 57.546 speed: 814 wps\n",
      "Itr 1396 of 1549, perplexity: 56.078 speed: 813 wps\n",
      "Epoch 9 : Train Perplexity: 55.142\n",
      "Epoch 9 : Valid Perplexity: 120.839\n",
      "Epoch 10 : Learning rate: 0.031\n",
      "Itr 10 of 1549, perplexity: 69.044 speed: 830 wps\n",
      "Itr 164 of 1549, perplexity: 65.537 speed: 811 wps\n",
      "Itr 318 of 1549, perplexity: 64.096 speed: 811 wps\n",
      "Itr 472 of 1549, perplexity: 61.808 speed: 811 wps\n",
      "Itr 626 of 1549, perplexity: 59.107 speed: 811 wps\n",
      "Itr 780 of 1549, perplexity: 58.489 speed: 811 wps\n",
      "Itr 934 of 1549, perplexity: 57.556 speed: 811 wps\n",
      "Itr 1088 of 1549, perplexity: 56.640 speed: 811 wps\n",
      "Itr 1242 of 1549, perplexity: 55.872 speed: 812 wps\n",
      "Itr 1396 of 1549, perplexity: 54.426 speed: 812 wps\n",
      "Epoch 10 : Train Perplexity: 53.499\n",
      "Epoch 10 : Valid Perplexity: 120.805\n",
      "Epoch 11 : Learning rate: 0.016\n",
      "Itr 10 of 1549, perplexity: 67.944 speed: 781 wps\n",
      "Itr 164 of 1549, perplexity: 64.418 speed: 814 wps\n",
      "Itr 318 of 1549, perplexity: 63.034 speed: 815 wps\n",
      "Itr 472 of 1549, perplexity: 60.807 speed: 815 wps\n",
      "Itr 626 of 1549, perplexity: 58.150 speed: 815 wps\n",
      "Itr 780 of 1549, perplexity: 57.552 speed: 814 wps\n",
      "Itr 934 of 1549, perplexity: 56.639 speed: 813 wps\n",
      "Itr 1088 of 1549, perplexity: 55.731 speed: 813 wps\n",
      "Itr 1242 of 1549, perplexity: 54.963 speed: 814 wps\n",
      "Itr 1396 of 1549, perplexity: 53.531 speed: 813 wps\n",
      "Epoch 11 : Train Perplexity: 52.608\n",
      "Epoch 11 : Valid Perplexity: 120.669\n",
      "Epoch 12 : Learning rate: 0.008\n",
      "Itr 10 of 1549, perplexity: 67.323 speed: 821 wps\n",
      "Itr 164 of 1549, perplexity: 63.783 speed: 814 wps\n",
      "Itr 318 of 1549, perplexity: 62.432 speed: 813 wps\n",
      "Itr 472 of 1549, perplexity: 60.239 speed: 812 wps\n",
      "Itr 626 of 1549, perplexity: 57.610 speed: 812 wps\n",
      "Itr 780 of 1549, perplexity: 57.023 speed: 812 wps\n",
      "Itr 934 of 1549, perplexity: 56.126 speed: 813 wps\n",
      "Itr 1088 of 1549, perplexity: 55.224 speed: 813 wps\n",
      "Itr 1242 of 1549, perplexity: 54.459 speed: 814 wps\n",
      "Itr 1396 of 1549, perplexity: 53.038 speed: 814 wps\n",
      "Epoch 12 : Train Perplexity: 52.117\n",
      "Epoch 12 : Valid Perplexity: 120.436\n",
      "Epoch 13 : Learning rate: 0.004\n",
      "Itr 10 of 1549, perplexity: 66.957 speed: 785 wps\n",
      "Itr 164 of 1549, perplexity: 63.420 speed: 821 wps\n",
      "Itr 318 of 1549, perplexity: 62.090 speed: 823 wps\n",
      "Itr 472 of 1549, perplexity: 59.919 speed: 824 wps\n",
      "Itr 626 of 1549, perplexity: 57.308 speed: 823 wps\n",
      "Itr 780 of 1549, perplexity: 56.726 speed: 822 wps\n",
      "Itr 934 of 1549, perplexity: 55.839 speed: 822 wps\n",
      "Itr 1088 of 1549, perplexity: 54.942 speed: 822 wps\n",
      "Itr 1242 of 1549, perplexity: 54.178 speed: 822 wps\n",
      "Itr 1396 of 1549, perplexity: 52.765 speed: 822 wps\n",
      "Epoch 13 : Train Perplexity: 51.847\n",
      "Epoch 13 : Valid Perplexity: 120.216\n",
      "Epoch 14 : Learning rate: 0.002\n",
      "Itr 10 of 1549, perplexity: 66.748 speed: 830 wps\n",
      "Itr 164 of 1549, perplexity: 63.219 speed: 811 wps\n",
      "Itr 318 of 1549, perplexity: 61.900 speed: 812 wps\n",
      "Itr 472 of 1549, perplexity: 59.742 speed: 812 wps\n",
      "Itr 626 of 1549, perplexity: 57.142 speed: 813 wps\n",
      "Itr 780 of 1549, perplexity: 56.564 speed: 813 wps\n",
      "Itr 934 of 1549, perplexity: 55.683 speed: 813 wps\n",
      "Itr 1088 of 1549, perplexity: 54.789 speed: 814 wps\n",
      "Itr 1242 of 1549, perplexity: 54.026 speed: 813 wps\n",
      "Itr 1396 of 1549, perplexity: 52.618 speed: 813 wps\n",
      "Epoch 14 : Train Perplexity: 51.701\n",
      "Epoch 14 : Valid Perplexity: 120.076\n",
      "Epoch 15 : Learning rate: 0.001\n",
      "Itr 10 of 1549, perplexity: 66.639 speed: 825 wps\n",
      "Itr 164 of 1549, perplexity: 63.112 speed: 812 wps\n",
      "Itr 318 of 1549, perplexity: 61.798 speed: 813 wps\n",
      "Itr 472 of 1549, perplexity: 59.648 speed: 814 wps\n",
      "Itr 626 of 1549, perplexity: 57.053 speed: 814 wps\n",
      "Itr 780 of 1549, perplexity: 56.479 speed: 814 wps\n",
      "Itr 934 of 1549, perplexity: 55.600 speed: 814 wps\n",
      "Itr 1088 of 1549, perplexity: 54.708 speed: 814 wps\n",
      "Itr 1242 of 1549, perplexity: 53.947 speed: 814 wps\n",
      "Itr 1396 of 1549, perplexity: 52.540 speed: 814 wps\n",
      "Epoch 15 : Train Perplexity: 51.626\n",
      "Epoch 15 : Valid Perplexity: 120.003\n",
      "Test Perplexity: 115.661\n"
     ]
    }
   ],
   "metadata": {}
  },
  {
   "cell_type": "markdown",
   "source": [
    "As you can see, the model's perplexity rating drops very quickly after a few iterations. As was elaborated before, <b>lower Perplexity means that the model is more certain about its prediction</b>. As such, we can be sure that this model is performing well!\r\n"
   ],
   "metadata": {}
  },
  {
   "cell_type": "markdown",
   "source": [
    "This is the end of the <b>Applying Recurrent Neural Networks to Text Processing</b> notebook. Hopefully you now have a better understanding of Recurrent Neural Networks and how to implement one utilizing TensorFlow. Thank you for reading this notebook, and good luck on your studies.\r\n"
   ],
   "metadata": {}
  }
 ],
 "metadata": {
  "orig_nbformat": 4,
  "language_info": {
   "name": "python",
   "version": "3.8.8",
   "mimetype": "text/x-python",
   "codemirror_mode": {
    "name": "ipython",
    "version": 3
   },
   "pygments_lexer": "ipython3",
   "nbconvert_exporter": "python",
   "file_extension": ".py"
  },
  "kernelspec": {
   "name": "python3",
   "display_name": "Python 3.8.8 64-bit ('base': conda)"
  },
  "interpreter": {
   "hash": "c0f70214c0dd213f07f54ee5d6e0ea644bdbba35113c9bfe8aaa0d1db03ad5dd"
  }
 },
 "nbformat": 4,
 "nbformat_minor": 2
}