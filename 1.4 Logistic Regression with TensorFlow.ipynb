{
 "cells": [
  {
   "cell_type": "markdown",
   "source": [
    "# IBM Developer Skills Network"
   ],
   "metadata": {}
  },
  {
   "cell_type": "markdown",
   "source": [
    "# Logistic Regression with TensorFlow"
   ],
   "metadata": {}
  },
  {
   "cell_type": "markdown",
   "source": [
    "<a id=\"ref1\"></a>\r\n",
    "\r\n",
    "<h2>What is different between Linear and Logistic Regression?</h2>\r\n",
    "\r\n",
    "While Linear Regression is suited for estimating continuous values (e.g. estimating house price), it is not the best tool for predicting the class in which an observed data point belongs. In order to provide estimate for classification, we need some sort of guidance on what would be the <b>most probable class</b> for that data point. For this, we use <b>Logistic Regression</b>.\r\n",
    "\r\n",
    "<div class=\"alert alert-success alertsuccess\" style=\"margin-top: 20px\">\r\n",
    "<font size=\"3\"><strong>Recall linear regression:</strong></font>\r\n",
    "<br>\r\n",
    "<br>\r\n",
    "Linear regression finds a function that relates a continuous dependent variable, <i>y</i>, to some predictors (independent variables <i>x1</i>, <i>x2</i>, etc.). Simple linear regression assumes a function of the form:\r\n",
    "<br><br>\r\n",
    "$$\r\n",
    "y = w0 + w1 \\times x1 + w2 \\times x2 + \\cdots\r\n",
    "$$\r\n",
    "<br>\r\n",
    "and finds the values of <i>w0</i>, <i>w1</i>, <i>w2</i>, etc. The term <i>w0</i> is the \"intercept\" or \"constant term\" (it's shown as <i>b</i> in the formula below):\r\n",
    "<br><br>\r\n",
    "$$\r\n",
    "Y = W X + b\r\n",
    "$$\r\n",
    "<p></p>\r\n",
    "\r\n",
    "</div>\r\n",
    "\r\n",
    "Logistic Regression is a variation of Linear Regression, useful when the observed dependent variable, <i>y</i>, is categorical. It produces a formula that predicts the probability of the class label as a function of the independent variables.\r\n",
    "\r\n",
    "Despite the name logistic <i>regression</i>, it is actually a <b>probabilistic classification</b> model. Logistic regression fits a special s-shaped curve by taking the linear regression and transforming the numeric estimate into a probability with the following function:\r\n",
    "\r\n",
    "$$\r\n",
    "ProbabilityOfaClass = \\theta(y) = \\frac{e^y}{1 + e^y} = exp(y) / (1 + exp(y)) = p\r\n",
    "$$\r\n",
    "\r\n",
    "which produces p-values between 0 (as y approaches minus infinity $-\\infty$) and 1 (as y approaches plus infinity $+\\infty$). This now becomes a special kind of non-linear regression.\r\n",
    "\r\n",
    "In this equation, <i>y</i> is the regression result (the sum of the variables weighted by the coefficients), <code>exp</code> is the exponential function and $\\theta(y)$ is the <a href=\"http://en.wikipedia.org/wiki/Logistic_function?utm_medium=Exinfluencer&utm_source=Exinfluencer&utm_content=000026UJ&utm_term=10006555&utm_id=NA-SkillsNetwork-Channel-SkillsNetworkCoursesIBMDeveloperSkillsNetworkDL0120ENSkillsNetwork20629446-2021-01-01\">logistic function</a>, also called logistic curve. It is a common \"S\" shape (sigmoid curve), and was first developed for modeling population growth.\r\n",
    "\r\n",
    "You might also have seen this function before, in another configuration:\r\n",
    "\r\n",
    "$$\r\n",
    "ProbabilityOfaClass = \\theta(y) = \\frac{1}{1+e^{-y}}\r\n",
    "$$\r\n",
    "\r\n",
    "So, briefly, Logistic Regression passes the input through the logistic/sigmoid function but then treats the result as a probability:\r\n",
    "\r\n",
    "<img src=\"https://ibm.box.com/shared/static/kgv9alcghmjcv97op4d6onkyxevk23b1.png\" width=\"400\" align=\"center\">\r\n"
   ],
   "metadata": {}
  },
  {
   "cell_type": "markdown",
   "source": [
    "# Utilizing Logistic Regression in TensorFlow"
   ],
   "metadata": {}
  },
  {
   "cell_type": "code",
   "execution_count": 2,
   "source": [
    "import tensorflow as tf\r\n",
    "import pandas as pd\r\n",
    "import numpy as np\r\n",
    "import time\r\n",
    "from sklearn.datasets import load_iris\r\n",
    "from sklearn.model_selection import train_test_split\r\n",
    "import matplotlib.pyplot as plt"
   ],
   "outputs": [],
   "metadata": {}
  },
  {
   "cell_type": "code",
   "execution_count": 3,
   "source": [
    "print(tf.__version__)"
   ],
   "outputs": [
    {
     "output_type": "stream",
     "name": "stdout",
     "text": [
      "2.3.0\n"
     ]
    }
   ],
   "metadata": {}
  },
  {
   "cell_type": "markdown",
   "source": [
    "## Understanding the Data"
   ],
   "metadata": {}
  },
  {
   "cell_type": "markdown",
   "source": [
    "<h4><code>Iris Dataset</code>:</h4>\r\n",
    "This dataset was introduced by British Statistician and Biologist Ronald Fisher, it consists of 50 samples from each of three species of Iris (Iris setosa, Iris virginica and Iris versicolor). In total it has 150 records under five attributes - petal length, petal width, sepal length, sepal width and species. <a href=\"https://archive.ics.uci.edu/ml/datasets/iris?utm_medium=Exinfluencer&utm_source=Exinfluencer&utm_content=000026UJ&utm_term=10006555&utm_id=NA-SkillsNetwork-Channel-SkillsNetworkCoursesIBMDeveloperSkillsNetworkDL0120ENSkillsNetwork20629446-2021-01-01\">Dataset source</a>\r\n",
    "\r\n",
    "Attributes\r\n",
    "Independent Variable\r\n",
    "\r\n",
    "<ul>\r\n",
    "    <li>petal length</li>\r\n",
    "    <li>petal width</li>\r\n",
    "    <li>sepal length</li>\r\n",
    "    <li>sepal width</li>\r\n",
    "</ul>\r\n",
    "Dependent Variable\r\n",
    "<ul>    \r\n",
    "    <li>Species\r\n",
    "        <ul>\r\n",
    "            <li>Iris setosa</li>\r\n",
    "            <li>Iris virginica</li>\r\n",
    "            <li>Iris versicolor</li>\r\n",
    "        </ul>\r\n",
    "    </li>\r\n",
    "</ul>\r\n",
    "<br>"
   ],
   "metadata": {}
  },
  {
   "cell_type": "code",
   "execution_count": 4,
   "source": [
    "iris = load_iris()\r\n",
    "iris_X, iris_y = iris.data[:-1,:], iris.target[:-1]\r\n",
    "iris_y = pd.get_dummies(iris_y).values\r\n",
    "trainX, testX, trainY, testY = train_test_split(iris_X, iris_y, test_size=0.33, random_state=42)"
   ],
   "outputs": [],
   "metadata": {}
  },
  {
   "cell_type": "code",
   "execution_count": 6,
   "source": [
    "trainX.shape"
   ],
   "outputs": [
    {
     "output_type": "execute_result",
     "data": {
      "text/plain": [
       "(99, 4)"
      ]
     },
     "metadata": {},
     "execution_count": 6
    }
   ],
   "metadata": {}
  },
  {
   "cell_type": "code",
   "execution_count": 7,
   "source": [
    "trainY.shape"
   ],
   "outputs": [
    {
     "output_type": "execute_result",
     "data": {
      "text/plain": [
       "(99, 3)"
      ]
     },
     "metadata": {},
     "execution_count": 7
    }
   ],
   "metadata": {}
  },
  {
   "cell_type": "markdown",
   "source": [
    "Now we define x and y. These variables will hold our iris data (both the features and label matrices) We also need to give them shapes which correspond to the shape of our data.\r\n"
   ],
   "metadata": {}
  },
  {
   "cell_type": "code",
   "execution_count": 5,
   "source": [
    "# numFeatures is the number of features in our input data.\r\n",
    "# In the iris dataset, this number is '4'.\r\n",
    "numFeatures = trainX.shape[1]\r\n",
    "print('numFeatures is : ', numFeatures )\r\n",
    "\r\n",
    "# numLabels is the number of classes our data points can be in.\r\n",
    "# In the iris dataset, this number is '3'.\r\n",
    "numLabels = trainY.shape[1]\r\n",
    "print('numLabels is : ', numLabels )"
   ],
   "outputs": [
    {
     "output_type": "stream",
     "name": "stdout",
     "text": [
      "numFeatures is :  4\n",
      "numLabels is :  3\n"
     ]
    }
   ],
   "metadata": {}
  },
  {
   "cell_type": "code",
   "execution_count": 8,
   "source": [
    "# convert to tensor\r\n",
    "trainX = tf.constant(trainX, dtype='float32')\r\n",
    "trainY = tf.constant(trainY, dtype='float32')\r\n",
    "testX = tf.constant(testX, dtype='float32')\r\n",
    "testY = tf.constant(testY, dtype='float32')"
   ],
   "outputs": [],
   "metadata": {}
  },
  {
   "cell_type": "markdown",
   "source": [
    "## Set model weight and bias"
   ],
   "metadata": {}
  },
  {
   "cell_type": "markdown",
   "source": [
    "Much like Linear Regression, we need a shared variable weight matrix for Logistic Regression. We initialize both <code>W</code> and <code>b</code> as tensors full of zeros. Since we are going to learn <code>W</code> and <code>b</code>, their initial value does not matter too much. These variables are the objects which define the structure of our regression model, and we can save them after they have been trained so we can reuse them later.\r\n",
    "\r\n",
    "We define two TensorFlow variables as our parameters. These variables will hold the weights and biases of our logistic regression and they will be continually updated during training.\r\n",
    "\r\n",
    "Notice that <code>W</code> has a shape of \\[4, 3] because we want to multiply the 4-dimensional input vectors by it to produce 3-dimensional vectors of evidence for the difference classes. <code>b</code> has a shape of \\[3] so we can add it to the output. TensorFlow variables need to be initialized with values, e.g. with zeros.\r\n"
   ],
   "metadata": {}
  },
  {
   "cell_type": "code",
   "execution_count": 9,
   "source": [
    "W = tf.Variable(tf.zeros([4, 3])) # 4 dimensional input and 3 classes\r\n",
    "b = tf.Variable(tf.zeros([3])) # 3 dimensional output "
   ],
   "outputs": [],
   "metadata": {}
  },
  {
   "cell_type": "code",
   "execution_count": 10,
   "source": [
    "# Randomly sample from a normal distribution with standard deviation .01\r\n",
    "weights = tf.Variable(tf.random.normal([numFeatures, numLabels],\r\n",
    "                                        mean=0.0,\r\n",
    "                                        stddev=0.01,\r\n",
    "                                        name='weights'), dtype='float32')\r\n",
    "bias = tf.Variable(tf.random.normal([1, numLabels],\r\n",
    "                                        mean=0.0,\r\n",
    "                                        stddev=0.01,\r\n",
    "                                        name='bias'))"
   ],
   "outputs": [],
   "metadata": {}
  },
  {
   "cell_type": "markdown",
   "source": [
    "## Logistic regression model"
   ],
   "metadata": {}
  },
  {
   "cell_type": "markdown",
   "source": [
    "We now define our operations in order to properly run the Logistic Regression. Logistic regression is typically thought of as a single equation:\r\n",
    "\r\n",
    "$$\r\n",
    "ŷ =sigmoid(WX+b)\r\n",
    "$$\r\n",
    "\r\n",
    "However, for the sake of clarity, we can have it broken into its three main components:\r\n",
    "\r\n",
    "*   a weight times features matrix multiplication operation,\r\n",
    "*   a summation of the weighted features and a bias term,\r\n",
    "*   and finally the application of a sigmoid function.\r\n",
    "\r\n",
    "As such, you will find these components defined as three separate operations below.\r\n"
   ],
   "metadata": {}
  },
  {
   "cell_type": "code",
   "execution_count": 11,
   "source": [
    "# Three-component breakdown of the Logistic Regression equation.\r\n",
    "# Note that these feed into each other.\r\n",
    "def logistic_regression(x):\r\n",
    "    apply_weights_OP = tf.matmul(x, weights, name='apply_weights')\r\n",
    "    add_bias_OP = tf.add(apply_weights_OP, bias, name='add_bias')\r\n",
    "    activation_OP = tf.nn.sigmoid(add_bias_OP, name='activation')\r\n",
    "    return activation_OP"
   ],
   "outputs": [],
   "metadata": {}
  },
  {
   "cell_type": "markdown",
   "source": [
    "As we have seen before, the function we are going to use is the <i>logistic function</i> $(\\frac{1}{1+e^{-Wx}})$, which is fed the input data after applying weights and bias. In TensorFlow, this function is implemented as the <code>nn.sigmoid</code> function. Effectively, this fits the weighted input with bias into a 0-100 percent curve, which is the probability function we want."
   ],
   "metadata": {}
  },
  {
   "cell_type": "markdown",
   "source": [
    "## Training"
   ],
   "metadata": {}
  },
  {
   "cell_type": "markdown",
   "source": [
    "The learning algorithm is how we search for the best weight vector (${\\\\\\bf w}$). This search is an optimization problem looking for the hypothesis that optimizes an error/cost measure.\r\n",
    "\r\n",
    "<b>What tells us that our model is bad?</b>\\\r\n",
    "The Cost or Loss of the model, so what we want is to minimize that.\r\n",
    "\r\n",
    "<h3>Cost function</h3>\r\n",
    "Before defining our cost function, we need to define how long we are going to train and how should we define the learning rate.\r\n"
   ],
   "metadata": {}
  },
  {
   "cell_type": "code",
   "execution_count": 12,
   "source": [
    "# Number of Epochs in our training\r\n",
    "numEpochs = 700\r\n",
    "\r\n",
    "# Defining our learning rate iteration (decay)\r\n",
    "learningRate = tf.keras.optimizers.schedules.ExponentialDecay(initial_learning_rate=0.0008,\r\n",
    "                                                              decay_steps=trainX.shape[0],\r\n",
    "                                                              decay_rate=0.95,\r\n",
    "                                                              staircase=True)"
   ],
   "outputs": [],
   "metadata": {}
  },
  {
   "cell_type": "markdown",
   "source": [
    "<b>What is the cost function in our model?</b>\\\r\n",
    "The cost function we are going to utilize is the Squared Mean Error loss function.\r\n",
    "\r\n",
    "<b>How to minimize the cost function?</b>\\\r\n",
    "We can't use <b>least-squares linear regression</b> here, so we will use <a href=\"http://en.wikipedia.org/wiki/Gradient_descent?utm_medium=Exinfluencer&utm_source=Exinfluencer&utm_content=000026UJ&utm_term=10006555&utm_id=NA-SkillsNetwork-Channel-SkillsNetworkCoursesIBMDeveloperSkillsNetworkDL0120ENSkillsNetwork20629446-2021-01-01\">gradient descent</a> instead. Specifically, we will use batch gradient descent which calculates the gradient from all data points in the data set."
   ],
   "metadata": {}
  },
  {
   "cell_type": "code",
   "execution_count": 13,
   "source": [
    "# Defining our cost function - Squared Mean Error\r\n",
    "loss_object = tf.keras.losses.MeanSquaredLogarithmicError()\r\n",
    "optimizer = tf.keras.optimizers.SGD(learningRate)"
   ],
   "outputs": [],
   "metadata": {}
  },
  {
   "cell_type": "markdown",
   "source": [
    "We also want some additional operations to keep track of our model's efficiency over time. We can do this like so:\r\n"
   ],
   "metadata": {}
  },
  {
   "cell_type": "code",
   "execution_count": 14,
   "source": [
    "# Accuracy metric\r\n",
    "def accuracy(y_pred, y_true):\r\n",
    "    # Predicted class is the index of the highest score in prediction vector (i.e. argmax)\r\n",
    "    correct_prediction = tf.equal(tf.argmax(y_pred,1), tf.argmax(y_true, 1))\r\n",
    "    return tf.reduce_mean(tf.cast(correct_prediction, tf.float32))"
   ],
   "outputs": [],
   "metadata": {}
  },
  {
   "cell_type": "markdown",
   "source": [
    "B = tf.constant([[2, 20, 30, 3, 6], \r\n",
    "                 [3, 11, 16, 1, 8], \r\n",
    "                 [14, 45, 23, 5, 27]])  <br>\r\n",
    "\r\n",
    "tf.math.argmax(B, 0)  ==> result = [2, 2, 0, 2, 2]  = row index of max number by columns  <br>\r\n",
    "tf.math.argmax(B, 1)  ==> result = [2, 2, 1]  = col index of max number by rows"
   ],
   "metadata": {}
  },
  {
   "cell_type": "markdown",
   "source": [
    "We first wrap computation inside a GradientTape for automatic differentiation. Then we compute gradients and update W and b.\r\n"
   ],
   "metadata": {}
  },
  {
   "cell_type": "code",
   "execution_count": 15,
   "source": [
    "# Optimization process\r\n",
    "def run_optimization(x, y):\r\n",
    "    with tf.GradientTape() as g:\r\n",
    "        pred = logistic_regression(x)\r\n",
    "        loss = loss_object(pred, y)\r\n",
    "    \r\n",
    "    gradients = g.gradient(loss, [weights, bias])\r\n",
    "    optimizer.apply_gradients(zip(gradients, [weights, bias]))"
   ],
   "outputs": [],
   "metadata": {}
  },
  {
   "cell_type": "markdown",
   "source": [
    "Now we move on to actually running our operations. We will start with the operations involved in the prediction phase (i.e. the logistic regression itself).\r\n"
   ],
   "metadata": {}
  },
  {
   "cell_type": "code",
   "execution_count": 18,
   "source": [
    "# Initial reporting variables\r\n",
    "display_step = 10\r\n",
    "epoch_values = []\r\n",
    "accuracy_values = []\r\n",
    "loss_values = []\r\n",
    "loss = 0\r\n",
    "diff = 1\r\n",
    "numEpochs = 3000\r\n",
    "\r\n",
    "# Training epochs\r\n",
    "for i in range(numEpochs):\r\n",
    "    if i>1 and diff < 0.0001:\r\n",
    "        print(\"change in loss %g; convergence.\"%diff)\r\n",
    "        break\r\n",
    "    else:\r\n",
    "        # Run training step\r\n",
    "        run_optimization(trainX, trainY)\r\n",
    "\r\n",
    "        # report occasional stats\r\n",
    "        if i % display_step == 0:\r\n",
    "            # Add epoch to epoch_values\r\n",
    "            epoch_values.append(i)\r\n",
    "\r\n",
    "            # prediction\r\n",
    "            pred = logistic_regression(testX)\r\n",
    "\r\n",
    "            # loss\r\n",
    "            newLoss = loss_object(pred, testY)\r\n",
    "\r\n",
    "            # Add loss to live graphing variable\r\n",
    "            loss_values.append(newLoss)\r\n",
    "\r\n",
    "            # Generate accuracy stats on test data\r\n",
    "            acc = accuracy(pred, testY)\r\n",
    "            accuracy_values.append(acc)\r\n",
    "\r\n",
    "            # Reassign values for variables\r\n",
    "            dif = abs(newLoss - loss)\r\n",
    "            loss = newLoss\r\n",
    "\r\n",
    "            #generate print statements\r\n",
    "            print(\"step %d, training accuracy %g, loss %g, change in loss %g\"%(i, acc, newLoss, diff))\r\n",
    "\r\n",
    "# How well do we perform on held-out test data?\r\n",
    "print(\"final accuracy on test set: %s\" %acc.numpy())\r\n"
   ],
   "outputs": [
    {
     "output_type": "stream",
     "name": "stdout",
     "text": [
      "step 0, training accuracy 0.32, loss 0.114197, change in loss 1\n",
      "step 10, training accuracy 0.32, loss 0.114064, change in loss 1\n",
      "step 20, training accuracy 0.32, loss 0.113933, change in loss 1\n",
      "step 30, training accuracy 0.32, loss 0.113803, change in loss 1\n",
      "step 40, training accuracy 0.32, loss 0.113675, change in loss 1\n",
      "step 50, training accuracy 0.32, loss 0.113549, change in loss 1\n",
      "step 60, training accuracy 0.32, loss 0.113424, change in loss 1\n",
      "step 70, training accuracy 0.32, loss 0.1133, change in loss 1\n",
      "step 80, training accuracy 0.32, loss 0.113178, change in loss 1\n",
      "step 90, training accuracy 0.32, loss 0.113058, change in loss 1\n",
      "step 100, training accuracy 0.32, loss 0.112944, change in loss 1\n",
      "step 110, training accuracy 0.32, loss 0.112832, change in loss 1\n",
      "step 120, training accuracy 0.32, loss 0.112722, change in loss 1\n",
      "step 130, training accuracy 0.32, loss 0.112613, change in loss 1\n",
      "step 140, training accuracy 0.32, loss 0.112505, change in loss 1\n",
      "step 150, training accuracy 0.32, loss 0.112398, change in loss 1\n",
      "step 160, training accuracy 0.32, loss 0.112292, change in loss 1\n",
      "step 170, training accuracy 0.32, loss 0.112188, change in loss 1\n",
      "step 180, training accuracy 0.32, loss 0.112085, change in loss 1\n",
      "step 190, training accuracy 0.32, loss 0.111983, change in loss 1\n",
      "step 200, training accuracy 0.32, loss 0.111887, change in loss 1\n",
      "step 210, training accuracy 0.32, loss 0.111792, change in loss 1\n",
      "step 220, training accuracy 0.32, loss 0.111698, change in loss 1\n",
      "step 230, training accuracy 0.32, loss 0.111605, change in loss 1\n",
      "step 240, training accuracy 0.32, loss 0.111513, change in loss 1\n",
      "step 250, training accuracy 0.32, loss 0.111422, change in loss 1\n",
      "step 260, training accuracy 0.32, loss 0.111332, change in loss 1\n",
      "step 270, training accuracy 0.32, loss 0.111243, change in loss 1\n",
      "step 280, training accuracy 0.32, loss 0.111155, change in loss 1\n",
      "step 290, training accuracy 0.32, loss 0.111068, change in loss 1\n",
      "step 300, training accuracy 0.32, loss 0.110986, change in loss 1\n",
      "step 310, training accuracy 0.32, loss 0.110904, change in loss 1\n",
      "step 320, training accuracy 0.32, loss 0.110824, change in loss 1\n",
      "step 330, training accuracy 0.32, loss 0.110744, change in loss 1\n",
      "step 340, training accuracy 0.32, loss 0.110665, change in loss 1\n",
      "step 350, training accuracy 0.32, loss 0.110587, change in loss 1\n",
      "step 360, training accuracy 0.32, loss 0.11051, change in loss 1\n",
      "step 370, training accuracy 0.32, loss 0.110433, change in loss 1\n",
      "step 380, training accuracy 0.32, loss 0.110357, change in loss 1\n",
      "step 390, training accuracy 0.32, loss 0.110283, change in loss 1\n",
      "step 400, training accuracy 0.32, loss 0.110212, change in loss 1\n",
      "step 410, training accuracy 0.32, loss 0.110142, change in loss 1\n",
      "step 420, training accuracy 0.32, loss 0.110072, change in loss 1\n",
      "step 430, training accuracy 0.32, loss 0.110003, change in loss 1\n",
      "step 440, training accuracy 0.32, loss 0.109935, change in loss 1\n",
      "step 450, training accuracy 0.32, loss 0.109867, change in loss 1\n",
      "step 460, training accuracy 0.32, loss 0.1098, change in loss 1\n",
      "step 470, training accuracy 0.32, loss 0.109733, change in loss 1\n",
      "step 480, training accuracy 0.32, loss 0.109667, change in loss 1\n",
      "step 490, training accuracy 0.32, loss 0.109603, change in loss 1\n",
      "step 500, training accuracy 0.32, loss 0.109541, change in loss 1\n",
      "step 510, training accuracy 0.32, loss 0.10948, change in loss 1\n",
      "step 520, training accuracy 0.32, loss 0.10942, change in loss 1\n",
      "step 530, training accuracy 0.32, loss 0.10936, change in loss 1\n",
      "step 540, training accuracy 0.32, loss 0.1093, change in loss 1\n",
      "step 550, training accuracy 0.32, loss 0.109241, change in loss 1\n",
      "step 560, training accuracy 0.32, loss 0.109182, change in loss 1\n",
      "step 570, training accuracy 0.32, loss 0.109124, change in loss 1\n",
      "step 580, training accuracy 0.32, loss 0.109066, change in loss 1\n",
      "step 590, training accuracy 0.32, loss 0.10901, change in loss 1\n",
      "step 600, training accuracy 0.32, loss 0.108956, change in loss 1\n",
      "step 610, training accuracy 0.32, loss 0.108903, change in loss 1\n",
      "step 620, training accuracy 0.32, loss 0.10885, change in loss 1\n",
      "step 630, training accuracy 0.32, loss 0.108797, change in loss 1\n",
      "step 640, training accuracy 0.32, loss 0.108744, change in loss 1\n",
      "step 650, training accuracy 0.32, loss 0.108692, change in loss 1\n",
      "step 660, training accuracy 0.32, loss 0.108641, change in loss 1\n",
      "step 670, training accuracy 0.32, loss 0.10859, change in loss 1\n",
      "step 680, training accuracy 0.32, loss 0.108539, change in loss 1\n",
      "step 690, training accuracy 0.32, loss 0.10849, change in loss 1\n",
      "step 700, training accuracy 0.32, loss 0.108442, change in loss 1\n",
      "step 710, training accuracy 0.32, loss 0.108395, change in loss 1\n",
      "step 720, training accuracy 0.32, loss 0.108348, change in loss 1\n",
      "step 730, training accuracy 0.32, loss 0.108301, change in loss 1\n",
      "step 740, training accuracy 0.32, loss 0.108255, change in loss 1\n",
      "step 750, training accuracy 0.32, loss 0.108209, change in loss 1\n",
      "step 760, training accuracy 0.32, loss 0.108163, change in loss 1\n",
      "step 770, training accuracy 0.32, loss 0.108118, change in loss 1\n",
      "step 780, training accuracy 0.32, loss 0.108073, change in loss 1\n",
      "step 790, training accuracy 0.32, loss 0.10803, change in loss 1\n",
      "step 800, training accuracy 0.32, loss 0.107987, change in loss 1\n",
      "step 810, training accuracy 0.32, loss 0.107946, change in loss 1\n",
      "step 820, training accuracy 0.32, loss 0.107904, change in loss 1\n",
      "step 830, training accuracy 0.32, loss 0.107862, change in loss 1\n",
      "step 840, training accuracy 0.32, loss 0.107821, change in loss 1\n",
      "step 850, training accuracy 0.32, loss 0.10778, change in loss 1\n",
      "step 860, training accuracy 0.32, loss 0.10774, change in loss 1\n",
      "step 870, training accuracy 0.32, loss 0.107699, change in loss 1\n",
      "step 880, training accuracy 0.32, loss 0.107659, change in loss 1\n",
      "step 890, training accuracy 0.32, loss 0.107621, change in loss 1\n",
      "step 900, training accuracy 0.32, loss 0.107583, change in loss 1\n",
      "step 910, training accuracy 0.32, loss 0.107546, change in loss 1\n",
      "step 920, training accuracy 0.32, loss 0.107508, change in loss 1\n",
      "step 930, training accuracy 0.32, loss 0.107471, change in loss 1\n",
      "step 940, training accuracy 0.32, loss 0.107435, change in loss 1\n",
      "step 950, training accuracy 0.32, loss 0.107398, change in loss 1\n",
      "step 960, training accuracy 0.32, loss 0.107362, change in loss 1\n",
      "step 970, training accuracy 0.32, loss 0.107325, change in loss 1\n",
      "step 980, training accuracy 0.32, loss 0.107289, change in loss 1\n",
      "step 990, training accuracy 0.32, loss 0.107255, change in loss 1\n",
      "step 1000, training accuracy 0.32, loss 0.107221, change in loss 1\n",
      "step 1010, training accuracy 0.32, loss 0.107188, change in loss 1\n",
      "step 1020, training accuracy 0.32, loss 0.107154, change in loss 1\n",
      "step 1030, training accuracy 0.32, loss 0.107121, change in loss 1\n",
      "step 1040, training accuracy 0.32, loss 0.107088, change in loss 1\n",
      "step 1050, training accuracy 0.32, loss 0.107055, change in loss 1\n",
      "step 1060, training accuracy 0.32, loss 0.107022, change in loss 1\n",
      "step 1070, training accuracy 0.32, loss 0.10699, change in loss 1\n",
      "step 1080, training accuracy 0.32, loss 0.106957, change in loss 1\n",
      "step 1090, training accuracy 0.32, loss 0.106927, change in loss 1\n",
      "step 1100, training accuracy 0.32, loss 0.106896, change in loss 1\n",
      "step 1110, training accuracy 0.32, loss 0.106866, change in loss 1\n",
      "step 1120, training accuracy 0.32, loss 0.106836, change in loss 1\n",
      "step 1130, training accuracy 0.32, loss 0.106806, change in loss 1\n",
      "step 1140, training accuracy 0.32, loss 0.106776, change in loss 1\n",
      "step 1150, training accuracy 0.32, loss 0.106746, change in loss 1\n",
      "step 1160, training accuracy 0.32, loss 0.106717, change in loss 1\n",
      "step 1170, training accuracy 0.32, loss 0.106687, change in loss 1\n",
      "step 1180, training accuracy 0.32, loss 0.106658, change in loss 1\n",
      "step 1190, training accuracy 0.32, loss 0.10663, change in loss 1\n",
      "step 1200, training accuracy 0.32, loss 0.106603, change in loss 1\n",
      "step 1210, training accuracy 0.32, loss 0.106575, change in loss 1\n",
      "step 1220, training accuracy 0.32, loss 0.106548, change in loss 1\n",
      "step 1230, training accuracy 0.32, loss 0.106521, change in loss 1\n",
      "step 1240, training accuracy 0.32, loss 0.106494, change in loss 1\n",
      "step 1250, training accuracy 0.32, loss 0.106467, change in loss 1\n",
      "step 1260, training accuracy 0.32, loss 0.10644, change in loss 1\n",
      "step 1270, training accuracy 0.32, loss 0.106413, change in loss 1\n",
      "step 1280, training accuracy 0.32, loss 0.106387, change in loss 1\n",
      "step 1290, training accuracy 0.32, loss 0.106361, change in loss 1\n",
      "step 1300, training accuracy 0.32, loss 0.106336, change in loss 1\n",
      "step 1310, training accuracy 0.32, loss 0.106312, change in loss 1\n",
      "step 1320, training accuracy 0.32, loss 0.106287, change in loss 1\n",
      "step 1330, training accuracy 0.32, loss 0.106262, change in loss 1\n",
      "step 1340, training accuracy 0.32, loss 0.106237, change in loss 1\n",
      "step 1350, training accuracy 0.32, loss 0.106213, change in loss 1\n",
      "step 1360, training accuracy 0.32, loss 0.106188, change in loss 1\n",
      "step 1370, training accuracy 0.32, loss 0.106164, change in loss 1\n",
      "step 1380, training accuracy 0.32, loss 0.10614, change in loss 1\n",
      "step 1390, training accuracy 0.32, loss 0.106117, change in loss 1\n",
      "step 1400, training accuracy 0.32, loss 0.106094, change in loss 1\n",
      "step 1410, training accuracy 0.32, loss 0.106071, change in loss 1\n",
      "step 1420, training accuracy 0.32, loss 0.106049, change in loss 1\n",
      "step 1430, training accuracy 0.32, loss 0.106026, change in loss 1\n",
      "step 1440, training accuracy 0.32, loss 0.106004, change in loss 1\n",
      "step 1450, training accuracy 0.32, loss 0.105981, change in loss 1\n",
      "step 1460, training accuracy 0.32, loss 0.105959, change in loss 1\n",
      "step 1470, training accuracy 0.32, loss 0.105937, change in loss 1\n",
      "step 1480, training accuracy 0.32, loss 0.105915, change in loss 1\n",
      "step 1490, training accuracy 0.32, loss 0.105894, change in loss 1\n",
      "step 1500, training accuracy 0.32, loss 0.105873, change in loss 1\n",
      "step 1510, training accuracy 0.32, loss 0.105852, change in loss 1\n",
      "step 1520, training accuracy 0.32, loss 0.105832, change in loss 1\n",
      "step 1530, training accuracy 0.32, loss 0.105811, change in loss 1\n",
      "step 1540, training accuracy 0.32, loss 0.10579, change in loss 1\n",
      "step 1550, training accuracy 0.32, loss 0.10577, change in loss 1\n",
      "step 1560, training accuracy 0.32, loss 0.105749, change in loss 1\n",
      "step 1570, training accuracy 0.32, loss 0.105729, change in loss 1\n",
      "step 1580, training accuracy 0.32, loss 0.105709, change in loss 1\n",
      "step 1590, training accuracy 0.32, loss 0.10569, change in loss 1\n",
      "step 1600, training accuracy 0.32, loss 0.105671, change in loss 1\n",
      "step 1610, training accuracy 0.32, loss 0.105651, change in loss 1\n",
      "step 1620, training accuracy 0.32, loss 0.105632, change in loss 1\n",
      "step 1630, training accuracy 0.32, loss 0.105613, change in loss 1\n",
      "step 1640, training accuracy 0.32, loss 0.105594, change in loss 1\n",
      "step 1650, training accuracy 0.32, loss 0.105576, change in loss 1\n",
      "step 1660, training accuracy 0.32, loss 0.105557, change in loss 1\n",
      "step 1670, training accuracy 0.32, loss 0.105538, change in loss 1\n",
      "step 1680, training accuracy 0.32, loss 0.10552, change in loss 1\n",
      "step 1690, training accuracy 0.32, loss 0.105502, change in loss 1\n",
      "step 1700, training accuracy 0.32, loss 0.105484, change in loss 1\n",
      "step 1710, training accuracy 0.32, loss 0.105467, change in loss 1\n",
      "step 1720, training accuracy 0.32, loss 0.105449, change in loss 1\n",
      "step 1730, training accuracy 0.32, loss 0.105432, change in loss 1\n",
      "step 1740, training accuracy 0.32, loss 0.105414, change in loss 1\n",
      "step 1750, training accuracy 0.32, loss 0.105397, change in loss 1\n",
      "step 1760, training accuracy 0.32, loss 0.10538, change in loss 1\n",
      "step 1770, training accuracy 0.32, loss 0.105362, change in loss 1\n",
      "step 1780, training accuracy 0.32, loss 0.105346, change in loss 1\n",
      "step 1790, training accuracy 0.32, loss 0.105329, change in loss 1\n",
      "step 1800, training accuracy 0.32, loss 0.105313, change in loss 1\n",
      "step 1810, training accuracy 0.32, loss 0.105297, change in loss 1\n",
      "step 1820, training accuracy 0.32, loss 0.105281, change in loss 1\n",
      "step 1830, training accuracy 0.32, loss 0.105265, change in loss 1\n",
      "step 1840, training accuracy 0.32, loss 0.105248, change in loss 1\n",
      "step 1850, training accuracy 0.32, loss 0.105232, change in loss 1\n",
      "step 1860, training accuracy 0.32, loss 0.105216, change in loss 1\n",
      "step 1870, training accuracy 0.32, loss 0.1052, change in loss 1\n",
      "step 1880, training accuracy 0.32, loss 0.105185, change in loss 1\n",
      "step 1890, training accuracy 0.32, loss 0.10517, change in loss 1\n",
      "step 1900, training accuracy 0.32, loss 0.105155, change in loss 1\n",
      "step 1910, training accuracy 0.32, loss 0.10514, change in loss 1\n",
      "step 1920, training accuracy 0.32, loss 0.105125, change in loss 1\n",
      "step 1930, training accuracy 0.32, loss 0.10511, change in loss 1\n",
      "step 1940, training accuracy 0.32, loss 0.105095, change in loss 1\n",
      "step 1950, training accuracy 0.32, loss 0.10508, change in loss 1\n",
      "step 1960, training accuracy 0.32, loss 0.105065, change in loss 1\n",
      "step 1970, training accuracy 0.32, loss 0.105051, change in loss 1\n",
      "step 1980, training accuracy 0.32, loss 0.105037, change in loss 1\n",
      "step 1990, training accuracy 0.32, loss 0.105023, change in loss 1\n",
      "step 2000, training accuracy 0.32, loss 0.105009, change in loss 1\n",
      "step 2010, training accuracy 0.32, loss 0.104995, change in loss 1\n",
      "step 2020, training accuracy 0.32, loss 0.104981, change in loss 1\n",
      "step 2030, training accuracy 0.32, loss 0.104967, change in loss 1\n",
      "step 2040, training accuracy 0.32, loss 0.104953, change in loss 1\n",
      "step 2050, training accuracy 0.32, loss 0.104939, change in loss 1\n",
      "step 2060, training accuracy 0.32, loss 0.104926, change in loss 1\n",
      "step 2070, training accuracy 0.32, loss 0.104912, change in loss 1\n",
      "step 2080, training accuracy 0.32, loss 0.104899, change in loss 1\n",
      "step 2090, training accuracy 0.32, loss 0.104886, change in loss 1\n",
      "step 2100, training accuracy 0.32, loss 0.104873, change in loss 1\n",
      "step 2110, training accuracy 0.32, loss 0.10486, change in loss 1\n",
      "step 2120, training accuracy 0.32, loss 0.104847, change in loss 1\n",
      "step 2130, training accuracy 0.32, loss 0.104834, change in loss 1\n",
      "step 2140, training accuracy 0.32, loss 0.104821, change in loss 1\n",
      "step 2150, training accuracy 0.32, loss 0.104809, change in loss 1\n",
      "step 2160, training accuracy 0.32, loss 0.104796, change in loss 1\n",
      "step 2170, training accuracy 0.32, loss 0.104783, change in loss 1\n",
      "step 2180, training accuracy 0.32, loss 0.104771, change in loss 1\n",
      "step 2190, training accuracy 0.32, loss 0.104759, change in loss 1\n",
      "step 2200, training accuracy 0.32, loss 0.104747, change in loss 1\n",
      "step 2210, training accuracy 0.32, loss 0.104735, change in loss 1\n",
      "step 2220, training accuracy 0.32, loss 0.104723, change in loss 1\n",
      "step 2230, training accuracy 0.32, loss 0.104711, change in loss 1\n",
      "step 2240, training accuracy 0.32, loss 0.104699, change in loss 1\n",
      "step 2250, training accuracy 0.32, loss 0.104687, change in loss 1\n",
      "step 2260, training accuracy 0.32, loss 0.104675, change in loss 1\n",
      "step 2270, training accuracy 0.32, loss 0.104664, change in loss 1\n",
      "step 2280, training accuracy 0.32, loss 0.104652, change in loss 1\n",
      "step 2290, training accuracy 0.32, loss 0.104641, change in loss 1\n",
      "step 2300, training accuracy 0.32, loss 0.10463, change in loss 1\n",
      "step 2310, training accuracy 0.32, loss 0.104619, change in loss 1\n",
      "step 2320, training accuracy 0.32, loss 0.104608, change in loss 1\n",
      "step 2330, training accuracy 0.32, loss 0.104596, change in loss 1\n",
      "step 2340, training accuracy 0.32, loss 0.104585, change in loss 1\n",
      "step 2350, training accuracy 0.32, loss 0.104574, change in loss 1\n",
      "step 2360, training accuracy 0.32, loss 0.104563, change in loss 1\n",
      "step 2370, training accuracy 0.32, loss 0.104552, change in loss 1\n",
      "step 2380, training accuracy 0.32, loss 0.104542, change in loss 1\n",
      "step 2390, training accuracy 0.32, loss 0.104531, change in loss 1\n",
      "step 2400, training accuracy 0.32, loss 0.104521, change in loss 1\n",
      "step 2410, training accuracy 0.32, loss 0.10451, change in loss 1\n",
      "step 2420, training accuracy 0.32, loss 0.1045, change in loss 1\n",
      "step 2430, training accuracy 0.32, loss 0.104489, change in loss 1\n",
      "step 2440, training accuracy 0.32, loss 0.104479, change in loss 1\n",
      "step 2450, training accuracy 0.32, loss 0.104469, change in loss 1\n",
      "step 2460, training accuracy 0.32, loss 0.104458, change in loss 1\n",
      "step 2470, training accuracy 0.32, loss 0.104448, change in loss 1\n",
      "step 2480, training accuracy 0.32, loss 0.104438, change in loss 1\n",
      "step 2490, training accuracy 0.32, loss 0.104429, change in loss 1\n",
      "step 2500, training accuracy 0.32, loss 0.104419, change in loss 1\n",
      "step 2510, training accuracy 0.32, loss 0.104409, change in loss 1\n",
      "step 2520, training accuracy 0.32, loss 0.104399, change in loss 1\n",
      "step 2530, training accuracy 0.32, loss 0.10439, change in loss 1\n",
      "step 2540, training accuracy 0.32, loss 0.10438, change in loss 1\n",
      "step 2550, training accuracy 0.32, loss 0.10437, change in loss 1\n",
      "step 2560, training accuracy 0.32, loss 0.104361, change in loss 1\n",
      "step 2570, training accuracy 0.32, loss 0.104351, change in loss 1\n",
      "step 2580, training accuracy 0.32, loss 0.104342, change in loss 1\n",
      "step 2590, training accuracy 0.32, loss 0.104333, change in loss 1\n",
      "step 2600, training accuracy 0.32, loss 0.104324, change in loss 1\n",
      "step 2610, training accuracy 0.32, loss 0.104315, change in loss 1\n",
      "step 2620, training accuracy 0.32, loss 0.104306, change in loss 1\n",
      "step 2630, training accuracy 0.32, loss 0.104297, change in loss 1\n",
      "step 2640, training accuracy 0.32, loss 0.104288, change in loss 1\n",
      "step 2650, training accuracy 0.32, loss 0.104278, change in loss 1\n",
      "step 2660, training accuracy 0.32, loss 0.104269, change in loss 1\n",
      "step 2670, training accuracy 0.32, loss 0.104261, change in loss 1\n",
      "step 2680, training accuracy 0.32, loss 0.104252, change in loss 1\n",
      "step 2690, training accuracy 0.32, loss 0.104244, change in loss 1\n",
      "step 2700, training accuracy 0.32, loss 0.104235, change in loss 1\n",
      "step 2710, training accuracy 0.32, loss 0.104226, change in loss 1\n",
      "step 2720, training accuracy 0.32, loss 0.104218, change in loss 1\n",
      "step 2730, training accuracy 0.32, loss 0.104209, change in loss 1\n",
      "step 2740, training accuracy 0.32, loss 0.104201, change in loss 1\n",
      "step 2750, training accuracy 0.32, loss 0.104192, change in loss 1\n",
      "step 2760, training accuracy 0.32, loss 0.104184, change in loss 1\n",
      "step 2770, training accuracy 0.32, loss 0.104176, change in loss 1\n",
      "step 2780, training accuracy 0.32, loss 0.104168, change in loss 1\n",
      "step 2790, training accuracy 0.32, loss 0.10416, change in loss 1\n",
      "step 2800, training accuracy 0.32, loss 0.104152, change in loss 1\n",
      "step 2810, training accuracy 0.32, loss 0.104144, change in loss 1\n",
      "step 2820, training accuracy 0.32, loss 0.104136, change in loss 1\n",
      "step 2830, training accuracy 0.32, loss 0.104128, change in loss 1\n",
      "step 2840, training accuracy 0.32, loss 0.10412, change in loss 1\n",
      "step 2850, training accuracy 0.32, loss 0.104112, change in loss 1\n",
      "step 2860, training accuracy 0.32, loss 0.104104, change in loss 1\n",
      "step 2870, training accuracy 0.32, loss 0.104096, change in loss 1\n",
      "step 2880, training accuracy 0.32, loss 0.104089, change in loss 1\n",
      "step 2890, training accuracy 0.32, loss 0.104081, change in loss 1\n",
      "step 2900, training accuracy 0.32, loss 0.104074, change in loss 1\n",
      "step 2910, training accuracy 0.32, loss 0.104066, change in loss 1\n",
      "step 2920, training accuracy 0.32, loss 0.104059, change in loss 1\n",
      "step 2930, training accuracy 0.32, loss 0.104051, change in loss 1\n",
      "step 2940, training accuracy 0.32, loss 0.104044, change in loss 1\n",
      "step 2950, training accuracy 0.32, loss 0.104036, change in loss 1\n",
      "step 2960, training accuracy 0.32, loss 0.104029, change in loss 1\n",
      "step 2970, training accuracy 0.32, loss 0.104022, change in loss 1\n",
      "step 2980, training accuracy 0.32, loss 0.104015, change in loss 1\n",
      "step 2990, training accuracy 0.32, loss 0.104008, change in loss 1\n",
      "final accuracy on test set: 0.32\n"
     ]
    }
   ],
   "metadata": {}
  },
  {
   "cell_type": "code",
   "execution_count": 19,
   "source": [
    "# Plot the loss\r\n",
    "%matplotlib inline\r\n",
    "import numpy as np\r\n",
    "import matplotlib.pyplot as plt\r\n",
    "\r\n",
    "plt.xlabel('Epoch')\r\n",
    "plt.ylabel('Loss')\r\n",
    "plt.plot(loss_values)\r\n",
    "plt.show()"
   ],
   "outputs": [
    {
     "output_type": "display_data",
     "data": {
      "text/plain": [
       "<Figure size 432x288 with 1 Axes>"
      ],
      "image/png": "[encoded data removed]"
     },
     "metadata": {
      "needs_background": "light"
     }
    }
   ],
   "metadata": {}
  },
  {
   "cell_type": "code",
   "execution_count": null,
   "source": [],
   "outputs": [],
   "metadata": {}
  }
 ],
 "metadata": {
  "orig_nbformat": 4,
  "language_info": {
   "name": "python",
   "version": "3.8.8",
   "mimetype": "text/x-python",
   "codemirror_mode": {
    "name": "ipython",
    "version": 3
   },
   "pygments_lexer": "ipython3",
   "nbconvert_exporter": "python",
   "file_extension": ".py"
  },
  "kernelspec": {
   "name": "python3",
   "display_name": "Python 3.8.8 64-bit ('base': conda)"
  },
  "interpreter": {
   "hash": "c0f70214c0dd213f07f54ee5d6e0ea644bdbba35113c9bfe8aaa0d1db03ad5dd"
  }
 },
 "nbformat": 4,
 "nbformat_minor": 2
}