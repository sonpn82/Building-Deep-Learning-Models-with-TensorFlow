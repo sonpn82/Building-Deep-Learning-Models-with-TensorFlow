{
    "cells": [
        {
            "cell_type": "markdown",
            "source": [
                "# IBM Developer Skills Network"
            ],
            "metadata": {}
        },
        {
            "cell_type": "markdown",
            "source": [
                "# TensorFlow Hello World"
            ],
            "metadata": {}
        },
        {
            "cell_type": "markdown",
            "source": [
                "# How does TensorFlow work?"
            ],
            "metadata": {}
        },
        {
            "cell_type": "markdown",
            "source": [
                "TensorFlow defines computations as Graphs, and these are made with operations (also know as “ops”). So, when we work with TensorFlow, it is the same as defining a series of operations in a Graph.\r\n",
                "\r\n",
                "For example, the image below represents a graph in TensorFlow. *W*, *x* and *b* are tensors over the edges of this graph. *MatMul* is an operation over the tensors *W* and *b*, after that *Add* is called and add the result of the previous operator with *b*. The resultant tensors of each operation cross the next one until the end where it's possible to get the wanted result.\r\n"
            ],
            "metadata": {}
        },
        {
            "cell_type": "markdown",
            "source": [
                "<img src='https://ibm.box.com/shared/static/a94cgezzwbkrq02jzfjjljrcaozu5s2q.png'>"
            ],
            "metadata": {}
        },
        {
            "cell_type": "markdown",
            "source": [
                "With TensorFlow 2.x, **Eager Execution** is enabled by default. This allows TensorFlow code to be executed and evaluated line by line. Before version 2.x was released, every graph had to be run wihthin a TensorFlow session. This only allowed for the entire graph to be run all at once. This would make debugging the computation graph each time more difficult.\r\n"
            ],
            "metadata": {}
        },
        {
            "cell_type": "code",
            "execution_count": 1,
            "source": [
                "# install tensor flow\r\n",
                "# !pip install grpcio==1.24.3\r\n",
                "# !pip install tensorflow==2.2.0\r\n",
                "\r\n",
                "import tensorflow as tf\r\n",
                "print(tf.__version__)"
            ],
            "outputs": [
                {
                    "output_type": "stream",
                    "name": "stdout",
                    "text": [
                        "2.3.0\n"
                    ]
                }
            ],
            "metadata": {}
        },
        {
            "cell_type": "markdown",
            "source": [
                "# tf.function and AutoGraph"
            ],
            "metadata": {}
        },
        {
            "cell_type": "markdown",
            "source": [
                "Now we call the TensorFlow functions that construct new <b>tf.Operation</b> and <b>tf.Tensor</b> objects. As mentioned, each <b>tf.Operation</b> is a <b>node</b> and each <b>tf.Tensor</b> is an edge in the graph.\r\n",
                "\r\n",
                "Lets add 2 constants to our graph. For example, calling tf.constant(\\[2], name = 'constant_a') adds a single <b>tf.Operation</b> to the default graph. This operation produces the value 2, and returns a <b>tf.Tensor</b> that represents the value of the constant.\\ <b>Notice:</b> tf.constant(\\[2], name=\"constant_a\") creates a new tf.Operation named \"constant_a\" and returns a tf.Tensor named \"constant_a:0\"."
            ],
            "metadata": {}
        },
        {
            "cell_type": "code",
            "execution_count": 3,
            "source": [
                "a = tf.constant([2], name = 'constant_a')\r\n",
                "b = tf.constant([3], name = 'constant_b')"
            ],
            "outputs": [],
            "metadata": {}
        },
        {
            "cell_type": "code",
            "execution_count": 4,
            "source": [
                "a"
            ],
            "outputs": [
                {
                    "output_type": "execute_result",
                    "data": {
                        "text/plain": [
                            "<tf.Tensor: shape=(1,), dtype=int32, numpy=array([2])>"
                        ]
                    },
                    "metadata": {},
                    "execution_count": 4
                }
            ],
            "metadata": {}
        },
        {
            "cell_type": "code",
            "execution_count": 5,
            "source": [
                "tf.print(a.numpy()[0])"
            ],
            "outputs": [
                {
                    "output_type": "stream",
                    "name": "stdout",
                    "text": [
                        "2\n"
                    ]
                }
            ],
            "metadata": {}
        },
        {
            "cell_type": "markdown",
            "source": [
                "Annotating the python functions with **tf.function** uses TensorFlow Autograph to create a TensorFlow static execution graph for the function.   tf.function annotation tells TensorFlow Autograph to transform function *add* into TensorFlow control flow, which then defines the TensorFlow static execution graph."
            ],
            "metadata": {}
        },
        {
            "cell_type": "code",
            "execution_count": 6,
            "source": [
                "@tf.function\r\n",
                "def add(a, b):\r\n",
                "    c = tf.add(a, b)\r\n",
                "    # c = a + b is also a way to do above code\r\n",
                "    print(c)\r\n",
                "    return c"
            ],
            "outputs": [],
            "metadata": {}
        },
        {
            "cell_type": "code",
            "execution_count": 7,
            "source": [
                "result = add(a, b)\r\n",
                "tf.print(result[0])"
            ],
            "outputs": [
                {
                    "output_type": "stream",
                    "name": "stdout",
                    "text": [
                        "Tensor(\"Add:0\", shape=(1,), dtype=int32)\n",
                        "5\n"
                    ]
                }
            ],
            "metadata": {}
        },
        {
            "cell_type": "code",
            "execution_count": 8,
            "source": [
                "type(result[0])"
            ],
            "outputs": [
                {
                    "output_type": "execute_result",
                    "data": {
                        "text/plain": [
                            "tensorflow.python.framework.ops.EagerTensor"
                        ]
                    },
                    "metadata": {},
                    "execution_count": 8
                }
            ],
            "metadata": {}
        },
        {
            "cell_type": "markdown",
            "source": [
                "Even this silly example of adding 2 constants to reach a simple result defines the basis of TensorFlow. <br> Define your operations (In this case our constants and *tf.add*), define a Python function named *add* and decorate it with using the *tf.function* annotator.\r\n"
            ],
            "metadata": {}
        },
        {
            "cell_type": "markdown",
            "source": [
                "# What is the meaning of Tensor?"
            ],
            "metadata": {}
        },
        {
            "cell_type": "markdown",
            "source": [
                "<div class=\"alert alert-success alertsuccess\" style=\"margin-top: 20px\">\r\n",
                "<font size = 3><strong>In TensorFlow all data is passed between operations in a computation graph, and these are passed in the form of Tensors, hence the name of TensorFlow.</strong></font>\r\n",
                "<br>\r\n",
                "<br>\r\n",
                "    The word <b>tensor</b> from new latin means \"that which stretches\". It is a mathematical object that is named \"tensor\" because an early application of tensors was the study of materials stretching under tension. The contemporary meaning of tensors can be taken as multidimensional arrays. \r\n",
                "\r\n",
                "</div>\r\n",
                "\r\n",
                "That's great, but... what are these multidimensional arrays?\r\n",
                "\r\n",
                "Going back a little bit to physics to understand the concept of dimensions:<br> <img src=\"https://ibm.box.com/shared/static/ymn0hl3hf8s3xb4k15v22y5vmuodnue1.svg\"/>\r\n",
                "\r\n",
                "<div style=\"text-align:center\"><a href=\"https://en.wikipedia.org/wiki/Dimension?utm_medium=Exinfluencer&utm_source=Exinfluencer&utm_content=000026UJ&utm_term=10006555&utm_id=NA-SkillsNetwork-Channel-SkillsNetworkCoursesIBMDeveloperSkillsNetworkDL0120ENSkillsNetwork20629446-2021-01-01\">Image Source</a></div>\r\n",
                "<br>\r\n",
                "\r\n",
                "The zero dimension can be seen as a point, a single object or a single item.\r\n",
                "\r\n",
                "The first dimension can be seen as a line, a one-dimensional array can be seen as numbers along this line, or as points along the line. One dimension can contain infinite zero dimension/points elements.\r\n",
                "\r\n",
                "The second dimension can be seen as a surface, a two-dimensional array can be seen as an infinite series of lines along an infinite line.\r\n",
                "\r\n",
                "The third dimension can be seen as volume, a three-dimensional array can be seen as an infinite series of surfaces along an infinite line.\r\n",
                "\r\n",
                "The Fourth dimension can be seen as the hyperspace or spacetime, a volume varying through time, or an infinite series of volumes along an infinite line. And so forth on..."
            ],
            "metadata": {}
        },
        {
            "cell_type": "markdown",
            "source": [
                "Summarizing:<br><br>\r\n",
                "\r\n",
                "<table style=\"width:100%\">\r\n",
                "  <tr>\r\n",
                "    <td><b>Dimension</b></td>\r\n",
                "    <td><b>Physical Representation</b></td> \r\n",
                "    <td><b>Mathematical Object</b></td>\r\n",
                "    <td><b>In Code</b></td>\r\n",
                "  </tr>\r\n",
                "\r\n",
                "  <tr>\r\n",
                "    <td>Zero </td>\r\n",
                "    <td>Point</td> \r\n",
                "    <td>Scalar (Single Number)</td>\r\n",
                "    <td>[ 1 ]</td>\r\n",
                "  </tr>\r\n",
                "\r\n",
                "  <tr>\r\n",
                "    <td>One</td>\r\n",
                "    <td>Line</td> \r\n",
                "    <td>Vector (Series of Numbers) </td>\r\n",
                "    <td>[ 1,2,3,4,... ]</td>\r\n",
                "  </tr>\r\n",
                "\r\n",
                "   <tr>\r\n",
                "    <td>Two</td>\r\n",
                "    <td>Surface</td> \r\n",
                "    <td>Matrix (Table of Numbers)</td>\r\n",
                "       <td>[ [1,2,3,4,...], [1,2,3,4,...], [1,2,3,4,...],... ]</td>\r\n",
                "  </tr>\r\n",
                "\r\n",
                "   <tr>\r\n",
                "    <td>Three</td>\r\n",
                "    <td>Volume</td> \r\n",
                "    <td>Tensor (Cube of Numbers)</td>\r\n",
                "    <td>[ [[1,2,...], [1,2,...], [1,2,...],...], [[1,2,...], [1,2,...], [1,2,...],...], [[1,2,...], [1,2,...], [1,2,...] ,...]... ]</td>\r\n",
                "  </tr>\r\n",
                "\r\n",
                "</table>"
            ],
            "metadata": {}
        },
        {
            "cell_type": "markdown",
            "source": [
                "# Defining multidimensional arrays using TensorFlow"
            ],
            "metadata": {}
        },
        {
            "cell_type": "code",
            "execution_count": 9,
            "source": [
                "Scalar = tf.constant(2)\r\n",
                "Vector = tf.constant([5, 6, 2])\r\n",
                "Matrix = tf.constant([[1,2,3], [2,3,4], [3,4,5]])\r\n",
                "Tensor = tf.constant([ [[1,2,3],[2,3,4],[3,4,5]] , [[4,5,6],[5,6,7],[6,7,8]] , [[7,8,9],[8,9,10],[9,10,11]] ])\r\n",
                "\r\n",
                "print (\"Scalar (1 entry):\\n %s \\n\" % Scalar)\r\n",
                "\r\n",
                "print (\"Vector (3 entries) :\\n %s \\n\" % Vector)\r\n",
                "\r\n",
                "print (\"Matrix (3x3 entries):\\n %s \\n\" % Matrix)\r\n",
                "\r\n",
                "print (\"Tensor (3x3x3 entries) :\\n %s \\n\" % Tensor)"
            ],
            "outputs": [
                {
                    "output_type": "stream",
                    "name": "stdout",
                    "text": [
                        "Scalar (1 entry):\n",
                        " tf.Tensor(2, shape=(), dtype=int32) \n",
                        "\n",
                        "Vector (3 entries) :\n",
                        " tf.Tensor([5 6 2], shape=(3,), dtype=int32) \n",
                        "\n",
                        "Matrix (3x3 entries):\n",
                        " tf.Tensor(\n",
                        "[[1 2 3]\n",
                        " [2 3 4]\n",
                        " [3 4 5]], shape=(3, 3), dtype=int32) \n",
                        "\n",
                        "Tensor (3x3x3 entries) :\n",
                        " tf.Tensor(\n",
                        "[[[ 1  2  3]\n",
                        "  [ 2  3  4]\n",
                        "  [ 3  4  5]]\n",
                        "\n",
                        " [[ 4  5  6]\n",
                        "  [ 5  6  7]\n",
                        "  [ 6  7  8]]\n",
                        "\n",
                        " [[ 7  8  9]\n",
                        "  [ 8  9 10]\n",
                        "  [ 9 10 11]]], shape=(3, 3, 3), dtype=int32) \n",
                        "\n"
                    ]
                }
            ],
            "metadata": {}
        },
        {
            "cell_type": "code",
            "execution_count": 10,
            "source": [
                "Scalar.shape"
            ],
            "outputs": [
                {
                    "output_type": "execute_result",
                    "data": {
                        "text/plain": [
                            "TensorShape([])"
                        ]
                    },
                    "metadata": {},
                    "execution_count": 10
                }
            ],
            "metadata": {}
        },
        {
            "cell_type": "code",
            "execution_count": 11,
            "source": [
                "Tensor.shape"
            ],
            "outputs": [
                {
                    "output_type": "execute_result",
                    "data": {
                        "text/plain": [
                            "TensorShape([3, 3, 3])"
                        ]
                    },
                    "metadata": {},
                    "execution_count": 11
                }
            ],
            "metadata": {}
        },
        {
            "cell_type": "code",
            "execution_count": 12,
            "source": [
                "Matrix_one = tf.constant([[1,2,3], [2,3,4], [3,4,5]])\r\n",
                "Matrix_two = tf.constant([[2,2,2], [2,2,2], [2,2,2]])\r\n",
                "\r\n",
                "@tf.function\r\n",
                "def add():\r\n",
                "    add_1_operation = tf.add(Matrix_one, Matrix_two)\r\n",
                "    return add_1_operation\r\n",
                "\r\n",
                "print (\"Defined using tensorflow function :\")\r\n",
                "add_1_operation = add()\r\n",
                "print(add_1_operation)\r\n",
                "print (\"Defined using normal expressions :\")\r\n",
                "add_2_operation = Matrix_one + Matrix_two\r\n",
                "print(add_2_operation)"
            ],
            "outputs": [
                {
                    "output_type": "stream",
                    "name": "stdout",
                    "text": [
                        "Defined using tensorflow function :\n",
                        "tf.Tensor(\n",
                        "[[3 4 5]\n",
                        " [4 5 6]\n",
                        " [5 6 7]], shape=(3, 3), dtype=int32)\n",
                        "Defined using normal expressions :\n",
                        "tf.Tensor(\n",
                        "[[3 4 5]\n",
                        " [4 5 6]\n",
                        " [5 6 7]], shape=(3, 3), dtype=int32)\n"
                    ]
                }
            ],
            "metadata": {}
        },
        {
            "cell_type": "code",
            "execution_count": 13,
            "source": [
                "# Matrix multiplication\r\n",
                "Matrix_one = tf.constant([[2,3],[3,4]])\r\n",
                "Matrix_two = tf.constant([[2,3],[3,4]])\r\n",
                "\r\n",
                "@tf.function\r\n",
                "def mathmul():\r\n",
                "    return tf.matmul(Matrix_one, Matrix_two)\r\n",
                "\r\n",
                "mul_operation = mathmul\r\n",
                "\r\n",
                "print (\"Defined using tensorflow function :\")\r\n",
                "print(mul_operation)"
            ],
            "outputs": [
                {
                    "output_type": "stream",
                    "name": "stdout",
                    "text": [
                        "Defined using tensorflow function :\n",
                        "<tensorflow.python.eager.def_function.Function object at 0x00000000386B6D00>\n"
                    ]
                }
            ],
            "metadata": {}
        },
        {
            "cell_type": "markdown",
            "source": [
                "# Why Tensors?"
            ],
            "metadata": {}
        },
        {
            "cell_type": "markdown",
            "source": [
                "The Tensor structure helps us by giving the freedom to shape the dataset in the way we want.\r\n",
                "\r\n",
                "And it is particularly helpful when dealing with images, due to the nature of how information in images are encoded,\r\n",
                "\r\n",
                "Thinking about images, its easy to understand that it has a height and width, so it would make sense to represent the information contained in it with a two dimensional structure (a matrix)... until you remember that images have colors, and to add information about the colors, we need another dimension, and thats when Tensors become particularly helpful.\r\n",
                "\r\n",
                "Images are encoded into color channels, the image data is represented into each color intensity in a color channel at a given point, the most common one being RGB, which means Red, Blue and Green. The information contained into an image is the intensity of each channel color into the width and height of the image, just like this:\r\n",
                "\r\n",
                "<img src='https://ibm.box.com/shared/static/xlpv9h5xws248c09k1rlx7cer69y4grh.png'>\r\n",
                "<a href=\"https://msdn.microsoft.com/en-us/library/windows/desktop/dn424131.aspx?utm_medium=Exinfluencer&utm_source=Exinfluencer&utm_content=000026UJ&utm_term=10006555&utm_id=NA-SkillsNetwork-Channel-SkillsNetworkCoursesIBMDeveloperSkillsNetworkDL0120ENSkillsNetwork20629446-2021-01-01\">Image Source</a>\r\n",
                "\r\n",
                "So the intensity of the red channel at each point with width and height can be represented into a matrix, the same goes for the blue and green channels, so we end up having three matrices, and when these are combined they form a tensor.\r\n"
            ],
            "metadata": {}
        },
        {
            "cell_type": "markdown",
            "source": [
                "# Variables"
            ],
            "metadata": {}
        },
        {
            "cell_type": "markdown",
            "source": [
                "Now that we are more familiar with the structure of data, we will take a look at how TensorFlow handles variables. <br> <b>First of all, having tensors, why do we need variables?</b>\\\r\n",
                "TensorFlow variables are used to share and persist some stats that are manipulated by our program. That is, when you define a variable, TensorFlow adds a <b>tf.Operation</b> to your graph. Then, this operation will store a writable tensor value. So, you can update the value of a variable through each run."
            ],
            "metadata": {}
        },
        {
            "cell_type": "code",
            "execution_count": 14,
            "source": [
                "v = tf.Variable(0)"
            ],
            "outputs": [],
            "metadata": {}
        },
        {
            "cell_type": "code",
            "execution_count": 15,
            "source": [
                "@tf.function\r\n",
                "def increment_by_one(v):\r\n",
                "    v = tf.add(v, 1)\r\n",
                "    return v"
            ],
            "outputs": [],
            "metadata": {}
        },
        {
            "cell_type": "code",
            "execution_count": 16,
            "source": [
                "for i in range(3):\r\n",
                "    v = increment_by_one(v)\r\n",
                "    print(v)"
            ],
            "outputs": [
                {
                    "output_type": "stream",
                    "name": "stdout",
                    "text": [
                        "tf.Tensor(1, shape=(), dtype=int32)\n",
                        "tf.Tensor(2, shape=(), dtype=int32)\n",
                        "tf.Tensor(3, shape=(), dtype=int32)\n"
                    ]
                }
            ],
            "metadata": {}
        },
        {
            "cell_type": "markdown",
            "source": [
                "# Operations"
            ],
            "metadata": {}
        },
        {
            "cell_type": "markdown",
            "source": [
                "Operations are nodes that represent the mathematical operations over the tensors on a graph. These operations can be any kind of functions, like add and subtract tensor or maybe an activation function.\r\n",
                "\r\n",
                "<b>tf.constant</b>, <b>tf.matmul</b>, <b>tf.add</b>, <b>tf.nn.sigmoid</b> are some of the operations in TensorFlow. These are like functions in python but operate directly over tensors and each one does a specific thing.\r\n",
                "\r\n",
                "<div class=\"alert alert-success alertsuccess\" style=\"margin-top: 20px\">Other operations can be easily found in: <a href=\"https://www.tensorflow.org/versions/r0.9/api_docs/python/index.html?utm_medium=Exinfluencer&utm_source=Exinfluencer&utm_content=000026UJ&utm_term=10006555&utm_id=NA-SkillsNetwork-Channel-SkillsNetworkCoursesIBMDeveloperSkillsNetworkDL0120ENSkillsNetwork20629446-2021-01-01\">https://www.tensorflow.org/versions/r0.9/api_docs/python/index.html</a></div>"
            ],
            "metadata": {}
        },
        {
            "cell_type": "code",
            "execution_count": 17,
            "source": [
                "a = tf.constant([5])\r\n",
                "b = tf.constant([2])\r\n",
                "c = tf.add(a, b)\r\n",
                "d = tf.subtract(a, b)\r\n",
                "\r\n",
                "print ('c =: %s' % c)\r\n",
                "    \r\n",
                "print ('d =: %s' % d)"
            ],
            "outputs": [
                {
                    "output_type": "stream",
                    "name": "stdout",
                    "text": [
                        "c =: tf.Tensor([7], shape=(1,), dtype=int32)\n",
                        "d =: tf.Tensor([3], shape=(1,), dtype=int32)\n"
                    ]
                }
            ],
            "metadata": {}
        },
        {
            "cell_type": "markdown",
            "source": [
                "<b>tf.nn.sigmoid</b> is an activation function, it's a little more complicated, but this function helps learning models to evaluate what kind of information is good or not."
            ],
            "metadata": {}
        }
    ],
    "metadata": {
        "orig_nbformat": 4,
        "language_info": {
            "name": "python",
            "version": "3.8.8",
            "mimetype": "text/x-python",
            "codemirror_mode": {
                "name": "ipython",
                "version": 3
            },
            "pygments_lexer": "ipython3",
            "nbconvert_exporter": "python",
            "file_extension": ".py"
        },
        "kernelspec": {
            "name": "python3",
            "display_name": "Python 3.8.8 64-bit ('base': conda)"
        },
        "interpreter": {
            "hash": "c0f70214c0dd213f07f54ee5d6e0ea644bdbba35113c9bfe8aaa0d1db03ad5dd"
        }
    },
    "nbformat": 4,
    "nbformat_minor": 2
}