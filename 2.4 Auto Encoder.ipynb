{
 "cells": [
  {
   "cell_type": "markdown",
   "source": [
    "# IBM Developer Skills Network"
   ],
   "metadata": {}
  },
  {
   "cell_type": "markdown",
   "source": [
    "# Auto Encoder"
   ],
   "metadata": {}
  },
  {
   "cell_type": "markdown",
   "source": [
    "<a id=\"ref1\"></a>\r\n",
    "\r\n",
    "<h2>Introduction</h2>\r\n",
    "An autoencoder, also known as autoassociator or Diabolo networks, is an artificial neural network employed to recreate the given input.\r\n",
    "It takes a set of <b>unlabeled</b> inputs, encodes them and then tries to extract the most valuable information from them.\r\n",
    "They are used for feature extraction, learning generative models of data, dimensionality reduction and can be used for compression. \r\n",
    "\r\n",
    "A 2006 paper named <b><a href=\"https://www.cs.toronto.edu/~hinton/science.pdf?utm_medium=Exinfluencer&utm_source=Exinfluencer&utm_content=000026UJ&utm_term=10006555&utm_id=NA-SkillsNetwork-Channel-SkillsNetworkCoursesIBMDeveloperSkillsNetworkDL0120ENSkillsNetwork20629446-2021-01-01\">Reducing the Dimensionality of Data with Neural Networks</a>, done by G. E. Hinton and R. R. Salakhutdinov</b>, showed better results than years of refining other types of network, and was a breakthrough in the field of Neural Networks, a field that was \"stagnant\" for 10 years.\r\n",
    "\r\n",
    "Now, autoencoders, based on Restricted Boltzmann Machines, are employed in some of the largest deep learning applications. They are the building blocks of Deep Belief Networks (DBN).\r\n",
    "\r\n",
    "<center><img src=\"https://ibm.box.com/shared/static/xlkv9v7xzxhjww681dq3h1pydxcm4ktp.png\" style=\"width: 350px;\"></center>\r\n"
   ],
   "metadata": {}
  },
  {
   "cell_type": "markdown",
   "source": [
    "<a id=\"ref2\"></a>\r\n",
    "\r\n",
    "<h2>Feature Extraction and Dimensionality Reduction</h2>\r\n",
    "\r\n",
    "An example given by Nikhil Buduma in KdNuggets (<a href=\"http://www.kdnuggets.com/2015/03/deep-learning-curse-dimensionality-autoencoders.html?utm_medium=Exinfluencer&utm_source=Exinfluencer&utm_content=000026UJ&utm_term=10006555&utm_id=NA-SkillsNetwork-Channel-SkillsNetworkCoursesIBMDeveloperSkillsNetworkDL0120ENSkillsNetwork20629446-2021-01-01\">link</a>) gives an excellent explanation of the utility of this type of Neural Network.\r\n",
    "\r\n",
    "Say that you want to extract the emotion that a person in a photograph is feeling. Take the following 256x256 pixel grayscale picture as an example:\r\n",
    "\r\n",
    "<img src=\"https://ibm.box.com/shared/static/r5knpow4bk2farlvxia71e9jp2f2u126.png\">\r\n",
    "\r\n",
    "If we just use the raw image, we have too many dimensions to analyze.  This image is 256x256 pixels, which corresponds to an input vector of 65536 dimensions! Conventional cell phones can produce images in the  4000 x 3000 pixels range, which gives us 12 million dimensions to analyze.\r\n",
    "\r\n",
    "This is particularly problematic, since the difficulty of a machine learning problem is vastly increased as more dimensions are involved. According to a 1982 study by C.J. Stone (<a href=\"http://www-personal.umich.edu/~jizhu/jizhu/wuke/Stone-AoS82.pdf?utm_medium=Exinfluencer&utm_source=Exinfluencer&utm_content=000026UJ&utm_term=10006555&utm_id=NA-SkillsNetwork-Channel-SkillsNetworkCoursesIBMDeveloperSkillsNetworkDL0120ENSkillsNetwork20629446-2021-01-01\">link</a>), the time to fit a model, is optimal if:\r\n",
    "\r\n",
    "<br><br>\r\n",
    "\r\n",
    "<div class=\"alert alert-block alert-info\" style=\"margin-top: 20px\">\r\n",
    "<h3><strong>$$m^{-p/(2p+d)}$$</strong></h3>\r\n",
    "<br>\r\n",
    "Where:\r\n",
    "<br>\r\n",
    "m: Number of data points\r\n",
    "<br>\r\n",
    "d: Dimensionality of the data\r\n",
    "<br>\r\n",
    "p: Number of Parameters in the model\r\n",
    "</div>\r\n",
    "\r\n",
    "As you can see, it increases exponentially!\r\n",
    "\r\n",
    "Returning to our example, we don't need to use all of the 65,536 dimensions to classify an emotion.\r\n",
    "A human identifies emotions according to specific facial expressions, and some <b>key features</b>, like the shape of the mouth and eyebrows.\r\n",
    "\r\n",
    "<center><img src=\"https://ibm.box.com/shared/static/m8urvuqujkt2vt1ru1fnslzh24pv7hn4.png\" height=\"256\" width=\"256\"></center>\r\n"
   ],
   "metadata": {}
  },
  {
   "cell_type": "markdown",
   "source": [
    "<a id=\"ref3\"></a>\r\n",
    "\r\n",
    "<h2>Autoencoder Structure</h2>\r\n",
    "\r\n",
    "<img src=\"https://ibm.box.com/shared/static/no7omt2jhqvv7uuls7ihnzikyl9ysnfp.png\" style=\"width: 400px;\">\r\n",
    "\r\n",
    "An autoencoder can be divided in two parts, the <b>encoder</b> and the <b>decoder</b>.\r\n",
    "\r\n",
    "The encoder needs to compress the representation of an input. In this case, we are going to reduce the dimensions of the image of the example face from 2000 dimensions to only 30 dimensions.  We will acomplish this by running the data through the layers of our encoder.\r\n",
    "\r\n",
    "The decoder works like encoder network in reverse. It works to recreate the input as closely as possible.  The training procedure produces at the center of the network a compressed, low dimensional representation that can be decoded to obtain the higher dimensional representation with minimal loss of information between the input and the output.\r\n"
   ],
   "metadata": {}
  },
  {
   "cell_type": "markdown",
   "source": [
    "<a id=\"ref4\"></a>\r\n",
    "\r\n",
    "<h2>Performance</h2>\r\n",
    "\r\n",
    "After training has been completed, you can use the encoded data as a reliable low dimensional representation of the data.  This can be applied to many problems where dimensionality reduction seems appropriate.\r\n",
    "\r\n",
    "<img src=\"https://ibm.box.com/shared/static/yt3xyon4g2jyw1w9qup1mvx7cgh28l64.png\">\r\n",
    "\r\n",
    "This image was extracted from the G. E. Hinton and R. R. Salakhutdinovcomparing's <a href=\"https://www.cs.toronto.edu/~hinton/science.pdf?utm_medium=Exinfluencer&utm_source=Exinfluencer&utm_content=000026UJ&utm_term=10006555&utm_id=NA-SkillsNetwork-Channel-SkillsNetworkCoursesIBMDeveloperSkillsNetworkDL0120ENSkillsNetwork20629446-2021-01-01\">paper</a>, on the two-dimensional reduction for 500 digits of the MNIST, with PCA (Principal Component Analysis) on the left and autoencoder on the right. We can see that the autoencoder provided us with a better separation of data.\r\n"
   ],
   "metadata": {}
  },
  {
   "cell_type": "markdown",
   "source": [
    "<a id=\"ref5\"></a>\r\n",
    "\r\n",
    "<h2>Training: Loss function</h2>\r\n",
    "\r\n",
    "An autoencoder uses the <b>Loss</b> function to properly train the network. The Loss function will calculate the differences between our output and the expected results. After that, we can minimize this error with gradient descent. There are many types of Loss functions, and it is important to consider the type of problem (classification, regression, etc.) when choosing this funtion.\r\n"
   ],
   "metadata": {}
  },
  {
   "cell_type": "markdown",
   "source": [
    "<h3>Binary Values:</h3>\r\n",
    "$$L(W) = - \\sum_{k} (x_k log(\\hat{x}_k) + (1 - x_k) \\log (1 - \\hat{x}_k) \\ )$$\r\n"
   ],
   "metadata": {}
  },
  {
   "cell_type": "markdown",
   "source": [
    "For binary values, we can use an equation based on the sum of Bernoulli's cross-entropy.  This loss function is best for binary classification problems.\r\n",
    "\r\n",
    "$x_k$ is one of our inputs and $\\hat{x}\\_k$ is the respective output.  Note that:\r\n",
    "\r\n",
    "$$\\hat{x} = f(x,W)$$\r\n",
    "\r\n",
    "where $W$ is the full parameter set of the neural network.\r\n",
    "\r\n",
    "We use this function so that when $x_k=1$, we want the calculated value of $\\hat{x}\\_k$ to be very close to one, and likewise if $x_k=0$.\r\n",
    "\r\n",
    "If the value is one, we just need to calculate the first part of the formula, that is, $-x_k log(\\hat{x}\\_k)$. Which, turns out to just calculate $- log(\\hat{x}\\_k)$.  We explicitly exclude the second term to avoid numerical difficulties when computing the logarithm of very small numbers.\r\n",
    "\r\n",
    "Likewise, if the value is zero, we need to calculate just the second part, $(1 - x_k) \\log (1 - \\hat{x}\\_k))$ - which turns out to be $log (1 - \\hat{x}\\_k) $.\r\n"
   ],
   "metadata": {}
  },
  {
   "cell_type": "markdown",
   "source": [
    "<h3>Real values:</h3>\r\n",
    "$$L(W) = - \\frac{1}{2}\\sum_{k} (\\hat{x}_k- x_k \\ )^2$$\r\n"
   ],
   "metadata": {}
  },
  {
   "cell_type": "markdown",
   "source": [
    "For data where the value (not category) is important to reproduce, we can use the sum of squared errors (SSE) for our Loss function. This function is usually used in regressions.\r\n",
    "\r\n",
    "As it was with the above example, $x_k$ is one of our inputs and $\\hat{x}\\_k$ is the respective output, and we want to make our output as similar as possible to our input.\r\n"
   ],
   "metadata": {}
  },
  {
   "cell_type": "markdown",
   "source": [
    "<h3>Computing Gradient</h3>\r\n",
    "\r\n",
    "The gradient of the loss function is an important and complex function.  It is defined as:\r\n",
    "$$\\nabla\\_{W} L(W)\\_j = \\frac{\\partial f(x,W)}{\\partial{W_j}}$$\r\n",
    "\r\n",
    "Fortunately for us, TensorFlow computes these complex functions automatically when we define our functions that are used to compute loss!  They automatically manage the backpropagation algorithm, which is an efficient way of computing the gradients in complex neural networks.\r\n"
   ],
   "metadata": {}
  },
  {
   "cell_type": "markdown",
   "source": [
    "# Code"
   ],
   "metadata": {}
  },
  {
   "cell_type": "code",
   "execution_count": 1,
   "source": [
    "import tensorflow as tf\r\n",
    "import numpy as np\r\n",
    "import matplotlib.pyplot as plt\r\n",
    "%matplotlib inline"
   ],
   "outputs": [
    {
     "output_type": "stream",
     "name": "stderr",
     "text": [
      "<frozen importlib._bootstrap>:219: RuntimeWarning: numpy.ndarray size changed, may indicate binary incompatibility. Expected 80 from C header, got 88 from PyObject\n"
     ]
    }
   ],
   "metadata": {}
  },
  {
   "cell_type": "code",
   "execution_count": 2,
   "source": [
    "# Import MINST data\r\n",
    "mnist = tf.keras.datasets.mnist\r\n",
    "(x_train, y_train), (x_test, y_test) = mnist.load_data()"
   ],
   "outputs": [],
   "metadata": {}
  },
  {
   "cell_type": "code",
   "execution_count": 3,
   "source": [
    "x_train = x_train.astype('float32') / 255.\r\n",
    "x_test = x_test.astype('float32') / 255."
   ],
   "outputs": [],
   "metadata": {}
  },
  {
   "cell_type": "code",
   "execution_count": 4,
   "source": [
    "y_train = y_train.astype('float32') / 255.\r\n",
    "y_test = y_test.astype('float32') / 255."
   ],
   "outputs": [],
   "metadata": {}
  },
  {
   "cell_type": "code",
   "execution_count": 5,
   "source": [
    "x_image_train = tf.reshape(x_train, [-1,28,28,1])  \r\n",
    "x_image_train = tf.cast(x_image_train, 'float32') \r\n",
    "\r\n",
    "x_image_test = tf.reshape(x_test, [-1,28,28,1]) \r\n",
    "x_image_test = tf.cast(x_image_test, 'float32') "
   ],
   "outputs": [],
   "metadata": {}
  },
  {
   "cell_type": "markdown",
   "source": [
    "We use the tf.keras.layers.Flatten() function to prepare the training data to be compatible with the encoding and decoding layer\r\n"
   ],
   "metadata": {}
  },
  {
   "cell_type": "code",
   "execution_count": 6,
   "source": [
    "print(x_train.shape)"
   ],
   "outputs": [
    {
     "output_type": "stream",
     "name": "stdout",
     "text": [
      "(60000, 28, 28)\n"
     ]
    }
   ],
   "metadata": {}
  },
  {
   "cell_type": "code",
   "execution_count": 7,
   "source": [
    "flatten_layer = tf.keras.layers.Flatten()\r\n",
    "x_train = flatten_layer(x_train)"
   ],
   "outputs": [],
   "metadata": {}
  },
  {
   "cell_type": "code",
   "execution_count": 8,
   "source": [
    "print(x_train.shape)"
   ],
   "outputs": [
    {
     "output_type": "stream",
     "name": "stdout",
     "text": [
      "(60000, 784)\n"
     ]
    }
   ],
   "metadata": {}
  },
  {
   "cell_type": "code",
   "execution_count": 9,
   "source": [
    "learning_rate = 0.01\r\n",
    "training_epochs = 20\r\n",
    "batch_size = 256\r\n",
    "display_step = 1\r\n",
    "examples_to_show = 10\r\n",
    "global_step = tf.Variable(0)\r\n",
    "total_batch = int(len(x_train) / batch_size)\r\n",
    "\r\n",
    "# Network Parameters\r\n",
    "n_hidden_1 = 256 # 1st layer num features\r\n",
    "n_hidden_2 = 128 # 2nd layer num features\r\n",
    "encoding_layer = 32 # final encoding bottleneck features\r\n",
    "n_input = 784 # MNIST data input (img shape: 28*28)\r\n",
    "\r\n"
   ],
   "outputs": [],
   "metadata": {}
  },
  {
   "cell_type": "markdown",
   "source": [
    "# Encoder"
   ],
   "metadata": {}
  },
  {
   "cell_type": "markdown",
   "source": [
    "Now we need to create our encoder. For this, we are going to use tf.keras.layers.Dense with sigmoidal activation functions. Sigmoidal functions delivers great results with this type of network. This is due to having a good derivative that is well-suited to backpropagation. We can create our encoder using the sigmoidal function like this:\r\n"
   ],
   "metadata": {}
  },
  {
   "cell_type": "code",
   "execution_count": 10,
   "source": [
    "enocoding_1 = tf.keras.layers.Dense(n_hidden_1, activation=tf.nn.sigmoid)\r\n",
    "encoding_2 = tf.keras.layers.Dense(n_hidden_2, activation=tf.nn.sigmoid)\r\n",
    "encoding_final = tf.keras.layers.Dense(encoding_layer, activation=tf.nn.relu)\r\n",
    "\r\n",
    "# Building the encoder\r\n",
    "def encoder(x):\r\n",
    "    x_reshaped = flatten_layer(x)\r\n",
    "    # Encoder first layer with sigmoid activation #1\r\n",
    "    layer_1 = enocoding_1(x_reshaped)\r\n",
    "    # Encoder second layer with sigmoid activation #2\r\n",
    "    layer_2 = encoding_2(layer_1)\r\n",
    "    code = encoding_final(layer_2)\r\n",
    "    return code"
   ],
   "outputs": [],
   "metadata": {}
  },
  {
   "cell_type": "markdown",
   "source": [
    "# Decoder"
   ],
   "metadata": {}
  },
  {
   "cell_type": "code",
   "execution_count": null,
   "source": [
    "decoding_1 = tf.keras.layers.Dense(n_hidden_2, activation=tf.nn.sigmoid)\r\n",
    "decoding_2 = tf.keras.layers.Dense(n_hidden_1, activation=tf.nn.sigmoid)\r\n",
    "decoding_final = tf.keras.layers.Dense(n_input)\r\n",
    "# Building the decoder\r\n",
    "def decoder(x):\r\n",
    "    # Decoder first layer with sigmoid activation #1\r\n",
    "    layer_1 = decoding_1(x)\r\n",
    "    # Decoder second layer with sigmoid activation #2\r\n",
    "    layer_2 = decoding_2(layer_1)\r\n",
    "    decode = self.decoding_final(layer_2)\r\n",
    "    return decode"
   ],
   "outputs": [],
   "metadata": {}
  },
  {
   "cell_type": "markdown",
   "source": [
    "Let's construct our model.\r\n",
    "We  define a <code>cost</code> function to calculate the loss  and a <code>grad</code> function to calculate gradients that will be used in backpropagation.\r\n"
   ],
   "metadata": {}
  },
  {
   "cell_type": "code",
   "execution_count": 11,
   "source": [
    "class AutoEncoder(tf.keras.Model):\r\n",
    "    def __init__(self):\r\n",
    "        super(AutoEncoder, self).__init__()\r\n",
    "\r\n",
    "        self.n_hidden_1 = n_hidden_1 # 1st layer num features\r\n",
    "        self.n_hidden_2 = n_hidden_2 # 2nd layer num features\r\n",
    "        self.encoding_layer = encoding_layer\r\n",
    "        self.n_input = n_input # MNIST data input (img shape: 28*28)\r\n",
    "\r\n",
    "        self.flatten_layer = tf.keras.layers.Flatten()\r\n",
    "        self.enocoding_1 = tf.keras.layers.Dense(self.n_hidden_1, activation=tf.nn.sigmoid)\r\n",
    "        self.encoding_2 = tf.keras.layers.Dense(self.n_hidden_2, activation=tf.nn.sigmoid)\r\n",
    "        self.encoding_final = tf.keras.layers.Dense(self.encoding_layer, activation=tf.nn.relu)\r\n",
    "        self.decoding_1 = tf.keras.layers.Dense(self.n_hidden_2, activation=tf.nn.sigmoid)\r\n",
    "        self.decoding_2 = tf.keras.layers.Dense(self.n_hidden_1, activation=tf.nn.sigmoid)\r\n",
    "        self.decoding_final = tf.keras.layers.Dense(self.n_input)\r\n",
    "\r\n",
    "\r\n",
    "    # Building the encoder\r\n",
    "    def encoder(self,x):\r\n",
    "        #x = self.flatten_layer(x)\r\n",
    "        layer_1 = self.enocoding_1(x)\r\n",
    "        layer_2 = self.encoding_2(layer_1)\r\n",
    "        code = self.encoding_final(layer_2)\r\n",
    "        return code\r\n",
    "        \r\n",
    "\r\n",
    "    # Building the decoder\r\n",
    "    def decoder(self, x):\r\n",
    "        layer_1 = self.decoding_1(x)\r\n",
    "        layer_2 = self.decoding_2(layer_1)\r\n",
    "        decode = self.decoding_final(layer_2)\r\n",
    "        return decode\r\n",
    "\r\n",
    "        \r\n",
    "    def call(self, x):\r\n",
    "        encoder_op  = self.encoder(x)\r\n",
    "        # Reconstructed Images\r\n",
    "        y_pred = self.decoder(encoder_op)\r\n",
    "        return y_pred\r\n",
    "        \r\n",
    "def cost(y_true, y_pred):\r\n",
    "    loss = tf.losses.mean_squared_error(y_true, y_pred)\r\n",
    "    cost = tf.reduce_mean(loss)\r\n",
    "    return cost\r\n",
    "\r\n",
    "def grad(model, inputs, targets):\r\n",
    "    #print('shape of inputs : ',inputs.shape)\r\n",
    "    #targets = flatten_layer(targets)\r\n",
    "    with tf.GradientTape() as tape:    \r\n",
    "        reconstruction = model(inputs)\r\n",
    "        loss_value = cost(targets, reconstruction)\r\n",
    "    return loss_value, tape.gradient(loss_value, model.trainable_variables),reconstruction"
   ],
   "outputs": [],
   "metadata": {}
  },
  {
   "cell_type": "code",
   "execution_count": 12,
   "source": [
    "model = AutoEncoder()\r\n",
    "optimizer = tf.keras.optimizers.RMSprop(learning_rate)\r\n",
    "\r\n",
    "for epoch in range(training_epochs):\r\n",
    "    for i in range(total_batch):\r\n",
    "        x_inp = x_train[i : i + batch_size]\r\n",
    "        loss_value, grads, reconstruction = grad(model, x_inp, x_inp)\r\n",
    "        optimizer.apply_gradients(zip(grads, model.trainable_variables))\r\n",
    "    # Display logs per epoch step\r\n",
    "    if epoch % display_step == 0:\r\n",
    "        print(\"Epoch:\", '%04d' % (epoch+1),\r\n",
    "              \"cost=\", \"{:.9f}\".format(loss_value))\r\n",
    "\r\n",
    "print(\"Optimization Finished!\")"
   ],
   "outputs": [
    {
     "output_type": "stream",
     "name": "stdout",
     "text": [
      "Epoch: 0001 cost= 0.051728047\n",
      "Epoch: 0002 cost= 0.035581015\n",
      "Epoch: 0003 cost= 0.029249392\n",
      "Epoch: 0004 cost= 0.023074884\n",
      "Epoch: 0005 cost= 0.020206470\n",
      "Epoch: 0006 cost= 0.018609604\n",
      "Epoch: 0007 cost= 0.017650750\n",
      "Epoch: 0008 cost= 0.015354660\n",
      "Epoch: 0009 cost= 0.015044013\n",
      "Epoch: 0010 cost= 0.014189422\n",
      "Epoch: 0011 cost= 0.012940431\n",
      "Epoch: 0012 cost= 0.012420253\n",
      "Epoch: 0013 cost= 0.012070041\n",
      "Epoch: 0014 cost= 0.011037234\n",
      "Epoch: 0015 cost= 0.010664018\n",
      "Epoch: 0016 cost= 0.010298423\n",
      "Epoch: 0017 cost= 0.009879855\n",
      "Epoch: 0018 cost= 0.009134454\n",
      "Epoch: 0019 cost= 0.009500168\n",
      "Epoch: 0020 cost= 0.008867007\n",
      "Optimization Finished!\n"
     ]
    }
   ],
   "metadata": {}
  },
  {
   "cell_type": "markdown",
   "source": [
    "Now, let's apply encoder and decoder for our tests."
   ],
   "metadata": {}
  },
  {
   "cell_type": "code",
   "execution_count": 13,
   "source": [
    "# Applying encode and decode over test set\r\n",
    "encode_decode = model(flatten_layer(x_image_test[:examples_to_show]))"
   ],
   "outputs": [],
   "metadata": {}
  },
  {
   "cell_type": "code",
   "execution_count": 14,
   "source": [
    "# Compare original images with their reconstructions\r\n",
    "f, a = plt.subplots(2, 10, figsize=(10, 2))\r\n",
    "for i in range(examples_to_show):\r\n",
    "    a[0][i].imshow(np.reshape(x_image_test[i], (28, 28)))\r\n",
    "    a[1][i].imshow(np.reshape(encode_decode[i], (28, 28)))"
   ],
   "outputs": [
    {
     "output_type": "display_data",
     "data": {
      "text/plain": [
       "<Figure size 720x144 with 20 Axes>"
      ],
      "image/png": "[encoded data removed]"
     },
     "metadata": {
      "needs_background": "light"
     }
    }
   ],
   "metadata": {}
  },
  {
   "cell_type": "markdown",
   "source": [
    "As you can see, the reconstructions were successful. It can be seen that some noise were added to the image.\r\n"
   ],
   "metadata": {}
  }
 ],
 "metadata": {
  "orig_nbformat": 4,
  "language_info": {
   "name": "python",
   "version": "3.8.8",
   "mimetype": "text/x-python",
   "codemirror_mode": {
    "name": "ipython",
    "version": 3
   },
   "pygments_lexer": "ipython3",
   "nbconvert_exporter": "python",
   "file_extension": ".py"
  },
  "kernelspec": {
   "name": "python3",
   "display_name": "Python 3.8.8 64-bit ('base': conda)"
  },
  "interpreter": {
   "hash": "c0f70214c0dd213f07f54ee5d6e0ea644bdbba35113c9bfe8aaa0d1db03ad5dd"
  }
 },
 "nbformat": 4,
 "nbformat_minor": 2
}