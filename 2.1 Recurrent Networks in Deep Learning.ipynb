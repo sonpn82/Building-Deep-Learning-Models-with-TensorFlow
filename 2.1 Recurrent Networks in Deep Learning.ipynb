{
 "cells": [
  {
   "cell_type": "markdown",
   "source": [
    "# IBM Developer Skills Network"
   ],
   "metadata": {}
  },
  {
   "cell_type": "markdown",
   "source": [
    "# Recurrent Networks in Deep Learning"
   ],
   "metadata": {}
  },
  {
   "cell_type": "markdown",
   "source": [
    "tion</h2>\r\n",
    "\r\n",
    "Recurrent Neural Networks are Deep Learning models with simple structures and a feedback mechanism built-in, or in different words, the output of a layer is added to the next input and fed back to the same layer.\r\n",
    "\r\n",
    "The Recurrent Neural Network is a specialized type of Neural Network that solves the issue of **maintaining context for Sequential data** -- such as Weather data, Stocks, Genes, etc. At each iterative step, the processing unit takes in an input and the current state of the network, and produces an output and a new state that is <b>re-fed into the network</b>.\r\n",
    "\r\n",
    "<img src=\"https://ibm.box.com/shared/static/v7p90neiaqghmpwawpiecmz9n7080m59.png\">\r\n",
    "\r\n",
    "<center><i>Representation of a Recurrent Neural Network</i></center>\r\n",
    "<br><br>\r\n",
    "However, <b>this model has some problems</b>. It's very computationally expensive to maintain the state for a large amount of units, even more so over a long amount of time. Additionally, Recurrent Networks are very sensitive to changes in their parameters. As such, they are prone to different problems with their Gradient Descent optimizer -- they either grow exponentially (Exploding Gradient) or drop down to near zero and stabilize (Vanishing Gradient), both problems that greatly harm a model's learning capability.\r\n",
    "\r\n",
    "To solve these problems, Hochreiter and Schmidhuber published a paper in 1997 describing a way to keep information over long periods of time and additionally solve the oversensitivity to parameter changes, i.e., make backpropagating through the Recurrent Networks more viable. This proposed method is called Long Short-Term Memory (LSTM).\r\n",
    "\r\n",
    "(In this notebook, we will cover only LSTM and its implementation using TensorFlow)\r\n",
    "\r\n",
    "<hr>\r\n"
   ],
   "metadata": {}
  },
  {
   "cell_type": "markdown",
   "source": [
    "<a id=\"long_short_term_memory_model\"></a>\r\n",
    "\r\n",
    "<h2>Long Short-Term Memory Model</h2>\r\n",
    "\r\n",
    "The Long Short-Term Memory, as it was called, was an abstraction of how computer memory works. It is \"bundled\" with whatever processing unit is implemented in the Recurrent Network, although outside of its flow, and is responsible for keeping, reading, and outputting information for the model. The way it works is simple: you have a linear unit, which is the information cell itself, surrounded by three logistic gates responsible for maintaining the data. One gate is for inputting data into the information cell, one is for outputting data from the input cell, and the last one is to keep or forget data depending on the needs of the network.\r\n",
    "\r\n",
    "Thanks to that, it not only solves the problem of keeping states, because the network can choose to forget data whenever information is not needed, it also solves the gradient problems, since the Logistic Gates have a very nice derivative.\r\n",
    "\r\n",
    "<h3>Long Short-Term Memory Architecture</h3>\r\n",
    "\r\n",
    "The Long Short-Term Memory is composed of a linear unit surrounded by three logistic gates. The name for these gates vary from place to place, but the most usual names for them are:\r\n",
    "\r\n",
    "<ul>\r\n",
    "    <li>the \"Input\" or \"Write\" Gate, which handles the writing of data into the information cell</li>\r\n",
    "    <li>the \"Output\" or \"Read\" Gate, which handles the sending of data back onto the Recurrent Network</li>\r\n",
    "    <li>the \"Keep\" or \"Forget\" Gate, which handles the maintaining and modification of the data stored in the information cell</li>\r\n",
    "</ul>\r\n",
    "<br>\r\n",
    "<img src=\"https://ibm.box.com/shared/static/zx10duv5egw0baw6gh2hzsgr8ex45gsg.png\" width=\"720\"/>\r\n",
    "<center><i>Diagram of the Long Short-Term Memory Unit</i></center>\r\n",
    "<br><br>\r\n",
    "The three gates are the centerpiece of the LSTM unit. The gates, when activated by the network, perform their respective functions. For example, the Input Gate will write whatever data it is passed into the information cell, the Output Gate will return whatever data is in the information cell, and the Keep Gate will maintain the data in the information cell. These gates are analog and multiplicative, and as such, can modify the data based on the signal they are sent.\r\n",
    "\r\n",
    "<hr>\r\n",
    "\r\n",
    "For example, an usual flow of operations for the LSTM unit is as such: First off, the Keep Gate has to decide whether to keep or forget the data currently stored in memory. It receives both the input and the state of the Recurrent Network, and passes it through its Sigmoid activation. If $K\r\n",
    "*t$ has value of 1 means that the LSTM unit should keep the data stored perfectly and if $K_t$ a value of 0 means that it should forget it entirely. Consider $S*{t-1}$ as the incoming (previous) state, $x_t$ as the incoming input, and $W_k$, $B_k$ as the weight and bias for the Keep Gate. Additionally, consider $Old\\_{t-1}$ as the data previously in memory. What happens can be summarized by this equation:\r\n",
    "\r\n",
    "<br>\r\n",
    "\r\n",
    "<font size=\"4\"><strong>\r\n",
    "$$K_t = \\sigma(W_k \\times \\[S\\_{t-1}, x_t] + B_k)$$\r\n",
    "\r\n",
    "$$Old_t = K_t \\times Old\\_{t-1}$$ </strong></font>\r\n",
    "\r\n",
    "<br>\r\n",
    "\r\n",
    "As you can see, $Old\\_{t-1}$ was multiplied by value was returned by the Keep Gate($K_t$) -- this value is written in the memory cell.\r\n",
    "\r\n",
    "<br>\r\n",
    "Then, the input and state are passed on to the Input Gate, in which there is another Sigmoid activation applied. Concurrently, the input is processed as normal by whatever processing unit is implemented in the network, and then multiplied by the Sigmoid activation's result $I_t$, much like the Keep Gate. Consider $W_i$ and $B_i$ as the weight and bias for the Input Gate, and $C_t$ the result of the processing of the inputs by the Recurrent Network.\r\n",
    "<br><br>\r\n",
    "\r\n",
    "<font size=\"4\"><strong>\r\n",
    "$$I_t = \\sigma (W_i \\times \\[S\\_{t-1},x_t]+B_i)$$\r\n",
    "\r\n",
    "$$New_t = I_t \\times C_t$$ </strong></font>\r\n",
    "\r\n",
    "<br>\r\n",
    "$New_t$ is the new data to be input into the memory cell. This is then <b>added</b> to whatever value is still stored in memory.\r\n",
    "<br><br>\r\n",
    "\r\n",
    "<font size=\"4\"><strong>\r\n",
    "$$Cell_t = Old_t + New_t$$ </strong></font>\r\n",
    "\r\n",
    "<br>\r\n",
    "We now have the <i>candidate data</i> which is to be kept in the memory cell. The conjunction of the Keep and Input gates work in an analog manner, making it so that it is possible to keep part of the old data and add only part of the new data. Consider however, what would happen if the Forget Gate was set to 0 and the Input Gate was set to 1:\r\n",
    "<br><br>\r\n",
    "\r\n",
    "<font size=\"4\"><strong>\r\n",
    "$$Old_t = 0 \\times Old\\_{t-1}$$\r\n",
    "\r\n",
    "$$New_t = 1 \\times C_t$$\r\n",
    "\r\n",
    "$$Cell_t = C_t$$ </strong></font>\r\n",
    "\r\n",
    "<br>\r\n",
    "The old data would be totally forgotten and the new data would overwrite it completely.\r\n",
    "\r\n",
    "The Output Gate functions in a similar manner. To decide what we should output, we take the input data and state and pass it through a Sigmoid function as usual. The contents of our memory cell, however, are pushed onto a <i>Tanh</i> function to bind them between a value of -1 to 1. Consider $W_o$ and $B_o$ as the weight and bias for the Output Gate. <br> <font size=\"4\"><strong>\r\n",
    "$$O_t = \\sigma (W_o \\times \\[S\\_{t-1},x_t] + B_o)$$\r\n",
    "\r\n",
    "$$Output_t = O_t \\times tanh(Cell_t)$$ </strong></font> <br>\r\n",
    "\r\n",
    "And that $Output_t$ is what is output into the Recurrent Network.\r\n",
    "\r\n",
    "<br>\r\n",
    "<img width=\"384\" src=\"https://ibm.box.com/shared/static/rkr60528r3mz2fmtlpah8lqpg7mcsy0g.png\">\r\n",
    "<center><i>The Logistic Function plotted</i></center>\r\n",
    "<br><br>\r\n",
    "As mentioned many times, all three gates are logistic. The reason for this is because it is very easy to backpropagate through them, and as such, it is possible for the model to learn exactly _how_ it is supposed to use this structure. This is one of the reasons for which LSTM is a very strong structure. Additionally, this solves the gradient problems by being able to manipulate values through the gates themselves -- by passing the inputs and outputs through the gates, we have now a easily derivable function modifying our inputs.\r\n",
    "\r\n",
    "In regards to the problem of storing many states over a long period of time, LSTM handles this perfectly by only keeping whatever information is necessary and forgetting it whenever it is not needed anymore. Therefore, LSTMs are a very elegant solution to both problems.\r\n",
    "\r\n",
    "<hr>\r\n"
   ],
   "metadata": {}
  },
  {
   "cell_type": "markdown",
   "source": [
    "# LSTM"
   ],
   "metadata": {}
  },
  {
   "cell_type": "code",
   "execution_count": 1,
   "source": [
    "import numpy as np\r\n",
    "import tensorflow as tf\r\n",
    "print(tf.__version__)"
   ],
   "outputs": [
    {
     "output_type": "stream",
     "name": "stdout",
     "text": [
      "2.3.0\n"
     ]
    }
   ],
   "metadata": {}
  },
  {
   "cell_type": "markdown",
   "source": [
    "We want to create a network that has only one LSTM cell. We have to pass 2 elements to LSTM, the <b>prv_output</b> and <b>prv_state</b>, so called, <b>h</b> and <b>c</b>. Therefore, we initialize a state vector, <b>state</b>.  Here, <b>state</b> is a tuple with 2 elements, each one is of size \\[1 x 4], one for passing prv_output to next time step, and another for passing the prv_state to next time stamp.\r\n"
   ],
   "metadata": {}
  },
  {
   "cell_type": "code",
   "execution_count": 2,
   "source": [
    "LSTM_CELL_SIZE = 4  # output size, which is same as hidden size in the cell\r\n",
    "\r\n",
    "state = (tf.zeros([1, LSTM_CELL_SIZE]),) * 2\r\n",
    "state"
   ],
   "outputs": [
    {
     "output_type": "execute_result",
     "data": {
      "text/plain": [
       "(<tf.Tensor: shape=(1, 4), dtype=float32, numpy=array([[0., 0., 0., 0.]], dtype=float32)>,\n",
       " <tf.Tensor: shape=(1, 4), dtype=float32, numpy=array([[0., 0., 0., 0.]], dtype=float32)>)"
      ]
     },
     "metadata": {},
     "execution_count": 2
    }
   ],
   "metadata": {}
  },
  {
   "cell_type": "code",
   "execution_count": 3,
   "source": [
    "lstm = tf.keras.layers.LSTM(LSTM_CELL_SIZE, return_sequences=True, return_state=True)\r\n",
    "lstm.states = state\r\n",
    "print(lstm.states)"
   ],
   "outputs": [
    {
     "output_type": "stream",
     "name": "stdout",
     "text": [
      "(<tf.Tensor: shape=(1, 4), dtype=float32, numpy=array([[0., 0., 0., 0.]], dtype=float32)>, <tf.Tensor: shape=(1, 4), dtype=float32, numpy=array([[0., 0., 0., 0.]], dtype=float32)>)\n"
     ]
    }
   ],
   "metadata": {}
  },
  {
   "cell_type": "markdown",
   "source": [
    "As we can see, the states has 2 parts, the new state c, and also the output h. Lets check the output again:\r\n"
   ],
   "metadata": {}
  },
  {
   "cell_type": "markdown",
   "source": [
    "Let define a sample input. In this example, batch_size = 1, and  features = 6:\r\n"
   ],
   "metadata": {}
  },
  {
   "cell_type": "code",
   "execution_count": 4,
   "source": [
    "# batch size x time steps x features\r\n",
    "sample_input = tf.constant([[3,2,2,2,2,2]], dtype=tf.float32)\r\n",
    "\r\n",
    "batch_size = 1\r\n",
    "sentence_max_length = 1\r\n",
    "n_features = 6\r\n",
    "\r\n",
    "new_shape = (batch_size, sentence_max_length, n_features)\r\n",
    "\r\n",
    "inputs = tf.constant(np.reshape(sample_input, new_shape), dtype=tf.float32)"
   ],
   "outputs": [],
   "metadata": {}
  },
  {
   "cell_type": "markdown",
   "source": [
    "Now, we can pass the input to lstm_cell, and check the new state:\r\n"
   ],
   "metadata": {}
  },
  {
   "cell_type": "code",
   "execution_count": 5,
   "source": [
    "output, final_memory_state, final_carry_state = lstm(inputs)"
   ],
   "outputs": [],
   "metadata": {}
  },
  {
   "cell_type": "code",
   "execution_count": 6,
   "source": [
    "print('Output : ', tf.shape(output))\r\n",
    "\r\n",
    "print('Memory : ',tf.shape(final_memory_state))\r\n",
    "\r\n",
    "print('Carry state : ',tf.shape(final_carry_state))"
   ],
   "outputs": [
    {
     "output_type": "stream",
     "name": "stdout",
     "text": [
      "Output :  tf.Tensor([1 1 4], shape=(3,), dtype=int32)\n",
      "Memory :  tf.Tensor([1 4], shape=(2,), dtype=int32)\n",
      "Carry state :  tf.Tensor([1 4], shape=(2,), dtype=int32)\n"
     ]
    }
   ],
   "metadata": {}
  },
  {
   "cell_type": "markdown",
   "source": [
    "# Stacked LSTM"
   ],
   "metadata": {}
  },
  {
   "cell_type": "markdown",
   "source": [
    "What about if we want to have a RNN with stacked LSTM? For example, a 2-layer LSTM. In this case, the output of the first layer will become the input of the second."
   ],
   "metadata": {}
  },
  {
   "cell_type": "code",
   "execution_count": 7,
   "source": [
    "cells = []"
   ],
   "outputs": [],
   "metadata": {}
  },
  {
   "cell_type": "code",
   "execution_count": 8,
   "source": [
    "# 1st layer\r\n",
    "LSTM_CELL_SIZE_1 = 4  # 4 hidden nodes\r\n",
    "cell1 = tf.keras.layers.LSTMCell(LSTM_CELL_SIZE_1)\r\n",
    "cells.append(cell1)"
   ],
   "outputs": [],
   "metadata": {}
  },
  {
   "cell_type": "code",
   "execution_count": 9,
   "source": [
    "# 2nd layer\r\n",
    "LSTM_CELL_SIZE_2 = 5  # 5 hidden nodes\r\n",
    "cell2 = tf.keras.layers.LSTMCell(LSTM_CELL_SIZE_2)\r\n",
    "cells.append(cell2)"
   ],
   "outputs": [],
   "metadata": {}
  },
  {
   "cell_type": "markdown",
   "source": [
    "To create a multi-layer LTSM we use the <b>tf.keras.layers.StackedRNNCells</b> function, it takes in multiple single layer LTSM cells to create a multilayer stacked LTSM model."
   ],
   "metadata": {}
  },
  {
   "cell_type": "code",
   "execution_count": 10,
   "source": [
    "stacked_lstm = tf.keras.layers.StackedRNNCells(cells)"
   ],
   "outputs": [],
   "metadata": {}
  },
  {
   "cell_type": "markdown",
   "source": [
    "Now we can create the RNN from <b>stacked_lstm</b>:\r\n"
   ],
   "metadata": {}
  },
  {
   "cell_type": "code",
   "execution_count": 11,
   "source": [
    "lstm_layer = tf.keras.layers.RNN(stacked_lstm, return_sequences=True, return_state=True)"
   ],
   "outputs": [],
   "metadata": {}
  },
  {
   "cell_type": "markdown",
   "source": [
    "Lets say the input sequence length is 3, and the dimensionality of the inputs is 6. The input should be a Tensor of shape: \\[batch_size, max_time, dimension], in our case it would be (2, 3, 6)"
   ],
   "metadata": {}
  },
  {
   "cell_type": "code",
   "execution_count": 12,
   "source": [
    "# batch size 2 x time steps 3 x features 6\r\n",
    "sample_input = [[[1,2,3,4,3,2], [1,2,1,1,1,2],[1,2,2,2,2,2]],[[1,2,3,4,3,2],[3,2,2,1,1,2],[0,0,0,0,3,2]]]\r\n",
    "sample_input\r\n",
    "\r\n",
    "batch_size = 2\r\n",
    "time_steps = 3\r\n",
    "features = 6\r\n",
    "new_shape = (batch_size, time_steps, features)\r\n",
    "\r\n",
    "x = tf.constant(np.reshape(sample_input, new_shape), dtype=tf.float32)"
   ],
   "outputs": [],
   "metadata": {}
  },
  {
   "cell_type": "markdown",
   "source": [
    "we can now send our input to network, and check the output:\r\n"
   ],
   "metadata": {}
  },
  {
   "cell_type": "code",
   "execution_count": 13,
   "source": [
    "output, final_memory_state, final_carry_state = lstm_layer(x)"
   ],
   "outputs": [],
   "metadata": {}
  },
  {
   "cell_type": "code",
   "execution_count": 14,
   "source": [
    "print('Output : ', tf.shape(output))\r\n",
    "\r\n",
    "print('Memory : ',tf.shape(final_memory_state))\r\n",
    "\r\n",
    "print('Carry state : ',tf.shape(final_carry_state))"
   ],
   "outputs": [
    {
     "output_type": "stream",
     "name": "stdout",
     "text": [
      "Output :  tf.Tensor([2 3 5], shape=(3,), dtype=int32)\n",
      "Memory :  tf.Tensor([2 2 4], shape=(3,), dtype=int32)\n",
      "Carry state :  tf.Tensor([2 2 5], shape=(3,), dtype=int32)\n"
     ]
    }
   ],
   "metadata": {}
  },
  {
   "cell_type": "markdown",
   "source": [
    "As you see, the output is of shape (2, 3, 5), which corresponds to our 2 batches, 3 elements in our sequence, and the dimensionality of the output which is 5.\r\n"
   ],
   "metadata": {}
  },
  {
   "cell_type": "code",
   "execution_count": null,
   "source": [],
   "outputs": [],
   "metadata": {}
  }
 ],
 "metadata": {
  "orig_nbformat": 4,
  "language_info": {
   "name": "python",
   "version": "3.8.8",
   "mimetype": "text/x-python",
   "codemirror_mode": {
    "name": "ipython",
    "version": 3
   },
   "pygments_lexer": "ipython3",
   "nbconvert_exporter": "python",
   "file_extension": ".py"
  },
  "kernelspec": {
   "name": "python3",
   "display_name": "Python 3.8.8 64-bit ('base': conda)"
  },
  "interpreter": {
   "hash": "c0f70214c0dd213f07f54ee5d6e0ea644bdbba35113c9bfe8aaa0d1db03ad5dd"
  }
 },
 "nbformat": 4,
 "nbformat_minor": 2
}